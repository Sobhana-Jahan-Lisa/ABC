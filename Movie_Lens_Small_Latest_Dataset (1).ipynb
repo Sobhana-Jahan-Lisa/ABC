{
  "nbformat": 4,
  "nbformat_minor": 0,
  "metadata": {
    "colab": {
      "name": "Movie Lens Small Latest Dataset.ipynb",
      "provenance": [],
      "collapsed_sections": []
    },
    "kernelspec": {
      "name": "python3",
      "display_name": "Python 3"
    }
  },
  "cells": [
    {
      "cell_type": "code",
      "metadata": {
        "colab": {
          "base_uri": "https://localhost:8080/"
        },
        "id": "IDvm2xcWqy8N",
        "outputId": "a27787e0-8cd0-41c3-a6f5-ec2e7e61d2ba"
      },
      "source": [
        "!pip install turicreate"
      ],
      "execution_count": 68,
      "outputs": [
        {
          "output_type": "stream",
          "text": [
            "Requirement already satisfied: turicreate in /usr/local/lib/python3.6/dist-packages (6.4.1)\n",
            "Requirement already satisfied: numba<0.51.0 in /usr/local/lib/python3.6/dist-packages (from turicreate) (0.50.1)\n",
            "Requirement already satisfied: tensorflow<2.1.0,>=2.0.0 in /usr/local/lib/python3.6/dist-packages (from turicreate) (2.0.4)\n",
            "Requirement already satisfied: pandas>=0.23.2 in /usr/local/lib/python3.6/dist-packages (from turicreate) (1.1.5)\n",
            "Requirement already satisfied: resampy==0.2.1 in /usr/local/lib/python3.6/dist-packages (from turicreate) (0.2.1)\n",
            "Requirement already satisfied: numpy in /usr/local/lib/python3.6/dist-packages (from turicreate) (1.19.5)\n",
            "Requirement already satisfied: coremltools==3.3 in /usr/local/lib/python3.6/dist-packages (from turicreate) (3.3)\n",
            "Requirement already satisfied: pillow>=5.2.0 in /usr/local/lib/python3.6/dist-packages (from turicreate) (7.0.0)\n",
            "Requirement already satisfied: six>=1.10.0 in /usr/local/lib/python3.6/dist-packages (from turicreate) (1.15.0)\n",
            "Requirement already satisfied: requests>=2.9.1 in /usr/local/lib/python3.6/dist-packages (from turicreate) (2.23.0)\n",
            "Requirement already satisfied: prettytable==0.7.2 in /usr/local/lib/python3.6/dist-packages (from turicreate) (0.7.2)\n",
            "Requirement already satisfied: scipy>=1.1.0 in /usr/local/lib/python3.6/dist-packages (from turicreate) (1.4.1)\n",
            "Requirement already satisfied: decorator>=4.0.9 in /usr/local/lib/python3.6/dist-packages (from turicreate) (4.4.2)\n",
            "Requirement already satisfied: llvmlite<0.34,>=0.33.0.dev0 in /usr/local/lib/python3.6/dist-packages (from numba<0.51.0->turicreate) (0.33.0)\n",
            "Requirement already satisfied: setuptools in /usr/local/lib/python3.6/dist-packages (from numba<0.51.0->turicreate) (53.0.0)\n",
            "Requirement already satisfied: gast==0.2.2 in /usr/local/lib/python3.6/dist-packages (from tensorflow<2.1.0,>=2.0.0->turicreate) (0.2.2)\n",
            "Requirement already satisfied: absl-py>=0.7.0 in /usr/local/lib/python3.6/dist-packages (from tensorflow<2.1.0,>=2.0.0->turicreate) (0.10.0)\n",
            "Requirement already satisfied: termcolor>=1.1.0 in /usr/local/lib/python3.6/dist-packages (from tensorflow<2.1.0,>=2.0.0->turicreate) (1.1.0)\n",
            "Requirement already satisfied: protobuf>=3.6.1 in /usr/local/lib/python3.6/dist-packages (from tensorflow<2.1.0,>=2.0.0->turicreate) (3.12.4)\n",
            "Requirement already satisfied: opt-einsum>=2.3.2 in /usr/local/lib/python3.6/dist-packages (from tensorflow<2.1.0,>=2.0.0->turicreate) (3.3.0)\n",
            "Requirement already satisfied: tensorboard<2.1.0,>=2.0.0 in /usr/local/lib/python3.6/dist-packages (from tensorflow<2.1.0,>=2.0.0->turicreate) (2.0.2)\n",
            "Requirement already satisfied: wheel>=0.26; python_version >= \"3\" in /usr/local/lib/python3.6/dist-packages (from tensorflow<2.1.0,>=2.0.0->turicreate) (0.36.2)\n",
            "Requirement already satisfied: grpcio>=1.8.6 in /usr/local/lib/python3.6/dist-packages (from tensorflow<2.1.0,>=2.0.0->turicreate) (1.32.0)\n",
            "Requirement already satisfied: astor>=0.6.0 in /usr/local/lib/python3.6/dist-packages (from tensorflow<2.1.0,>=2.0.0->turicreate) (0.8.1)\n",
            "Requirement already satisfied: keras-applications>=1.0.8 in /usr/local/lib/python3.6/dist-packages (from tensorflow<2.1.0,>=2.0.0->turicreate) (1.0.8)\n",
            "Requirement already satisfied: h5py<=2.10.0 in /usr/local/lib/python3.6/dist-packages (from tensorflow<2.1.0,>=2.0.0->turicreate) (2.10.0)\n",
            "Requirement already satisfied: google-pasta>=0.1.6 in /usr/local/lib/python3.6/dist-packages (from tensorflow<2.1.0,>=2.0.0->turicreate) (0.2.0)\n",
            "Requirement already satisfied: tensorflow-estimator<2.1.0,>=2.0.0 in /usr/local/lib/python3.6/dist-packages (from tensorflow<2.1.0,>=2.0.0->turicreate) (2.0.1)\n",
            "Requirement already satisfied: wrapt>=1.11.1 in /usr/local/lib/python3.6/dist-packages (from tensorflow<2.1.0,>=2.0.0->turicreate) (1.12.1)\n",
            "Requirement already satisfied: keras-preprocessing>=1.0.5 in /usr/local/lib/python3.6/dist-packages (from tensorflow<2.1.0,>=2.0.0->turicreate) (1.1.2)\n",
            "Requirement already satisfied: python-dateutil>=2.7.3 in /usr/local/lib/python3.6/dist-packages (from pandas>=0.23.2->turicreate) (2.8.1)\n",
            "Requirement already satisfied: pytz>=2017.2 in /usr/local/lib/python3.6/dist-packages (from pandas>=0.23.2->turicreate) (2018.9)\n",
            "Requirement already satisfied: idna<3,>=2.5 in /usr/local/lib/python3.6/dist-packages (from requests>=2.9.1->turicreate) (2.10)\n",
            "Requirement already satisfied: chardet<4,>=3.0.2 in /usr/local/lib/python3.6/dist-packages (from requests>=2.9.1->turicreate) (3.0.4)\n",
            "Requirement already satisfied: certifi>=2017.4.17 in /usr/local/lib/python3.6/dist-packages (from requests>=2.9.1->turicreate) (2020.12.5)\n",
            "Requirement already satisfied: urllib3!=1.25.0,!=1.25.1,<1.26,>=1.21.1 in /usr/local/lib/python3.6/dist-packages (from requests>=2.9.1->turicreate) (1.24.3)\n",
            "Requirement already satisfied: google-auth<2,>=1.6.3 in /usr/local/lib/python3.6/dist-packages (from tensorboard<2.1.0,>=2.0.0->tensorflow<2.1.0,>=2.0.0->turicreate) (1.25.0)\n",
            "Requirement already satisfied: werkzeug>=0.11.15 in /usr/local/lib/python3.6/dist-packages (from tensorboard<2.1.0,>=2.0.0->tensorflow<2.1.0,>=2.0.0->turicreate) (1.0.1)\n",
            "Requirement already satisfied: google-auth-oauthlib<0.5,>=0.4.1 in /usr/local/lib/python3.6/dist-packages (from tensorboard<2.1.0,>=2.0.0->tensorflow<2.1.0,>=2.0.0->turicreate) (0.4.2)\n",
            "Requirement already satisfied: markdown>=2.6.8 in /usr/local/lib/python3.6/dist-packages (from tensorboard<2.1.0,>=2.0.0->tensorflow<2.1.0,>=2.0.0->turicreate) (3.3.3)\n",
            "Requirement already satisfied: pyasn1-modules>=0.2.1 in /usr/local/lib/python3.6/dist-packages (from google-auth<2,>=1.6.3->tensorboard<2.1.0,>=2.0.0->tensorflow<2.1.0,>=2.0.0->turicreate) (0.2.8)\n",
            "Requirement already satisfied: cachetools<5.0,>=2.0.0 in /usr/local/lib/python3.6/dist-packages (from google-auth<2,>=1.6.3->tensorboard<2.1.0,>=2.0.0->tensorflow<2.1.0,>=2.0.0->turicreate) (4.2.1)\n",
            "Requirement already satisfied: rsa<5,>=3.1.4; python_version >= \"3.6\" in /usr/local/lib/python3.6/dist-packages (from google-auth<2,>=1.6.3->tensorboard<2.1.0,>=2.0.0->tensorflow<2.1.0,>=2.0.0->turicreate) (4.7)\n",
            "Requirement already satisfied: requests-oauthlib>=0.7.0 in /usr/local/lib/python3.6/dist-packages (from google-auth-oauthlib<0.5,>=0.4.1->tensorboard<2.1.0,>=2.0.0->tensorflow<2.1.0,>=2.0.0->turicreate) (1.3.0)\n",
            "Requirement already satisfied: importlib-metadata; python_version < \"3.8\" in /usr/local/lib/python3.6/dist-packages (from markdown>=2.6.8->tensorboard<2.1.0,>=2.0.0->tensorflow<2.1.0,>=2.0.0->turicreate) (3.4.0)\n",
            "Requirement already satisfied: pyasn1<0.5.0,>=0.4.6 in /usr/local/lib/python3.6/dist-packages (from pyasn1-modules>=0.2.1->google-auth<2,>=1.6.3->tensorboard<2.1.0,>=2.0.0->tensorflow<2.1.0,>=2.0.0->turicreate) (0.4.8)\n",
            "Requirement already satisfied: oauthlib>=3.0.0 in /usr/local/lib/python3.6/dist-packages (from requests-oauthlib>=0.7.0->google-auth-oauthlib<0.5,>=0.4.1->tensorboard<2.1.0,>=2.0.0->tensorflow<2.1.0,>=2.0.0->turicreate) (3.1.0)\n",
            "Requirement already satisfied: zipp>=0.5 in /usr/local/lib/python3.6/dist-packages (from importlib-metadata; python_version < \"3.8\"->markdown>=2.6.8->tensorboard<2.1.0,>=2.0.0->tensorflow<2.1.0,>=2.0.0->turicreate) (3.4.0)\n",
            "Requirement already satisfied: typing-extensions>=3.6.4; python_version < \"3.8\" in /usr/local/lib/python3.6/dist-packages (from importlib-metadata; python_version < \"3.8\"->markdown>=2.6.8->tensorboard<2.1.0,>=2.0.0->tensorflow<2.1.0,>=2.0.0->turicreate) (3.7.4.3)\n"
          ],
          "name": "stdout"
        }
      ]
    },
    {
      "cell_type": "code",
      "metadata": {
        "colab": {
          "base_uri": "https://localhost:8080/"
        },
        "id": "WN-IA7iaq_vy",
        "outputId": "3fcf52fe-22d0-4907-aaa6-a8b35cefdda9"
      },
      "source": [
        "!pip freeze"
      ],
      "execution_count": 69,
      "outputs": [
        {
          "output_type": "stream",
          "text": [
            "absl-py==0.10.0\n",
            "alabaster==0.7.12\n",
            "albumentations==0.1.12\n",
            "altair==4.1.0\n",
            "appdirs==1.4.4\n",
            "argon2-cffi==20.1.0\n",
            "asgiref==3.3.1\n",
            "astor==0.8.1\n",
            "astropy==4.1\n",
            "astunparse==1.6.3\n",
            "async-generator==1.10\n",
            "atari-py==0.2.6\n",
            "atomicwrites==1.4.0\n",
            "attrs==20.3.0\n",
            "audioread==2.1.9\n",
            "autograd==1.3\n",
            "Babel==2.9.0\n",
            "backcall==0.2.0\n",
            "beautifulsoup4==4.6.3\n",
            "bleach==3.3.0\n",
            "blis==0.4.1\n",
            "bokeh==2.1.1\n",
            "Bottleneck==1.3.2\n",
            "branca==0.4.2\n",
            "bs4==0.0.1\n",
            "CacheControl==0.12.6\n",
            "cachetools==4.2.1\n",
            "catalogue==1.0.0\n",
            "certifi==2020.12.5\n",
            "cffi==1.14.4\n",
            "chainer==7.4.0\n",
            "chardet==3.0.4\n",
            "click==7.1.2\n",
            "cloudpickle==1.3.0\n",
            "cmake==3.12.0\n",
            "cmdstanpy==0.9.5\n",
            "colorlover==0.3.0\n",
            "community==1.0.0b1\n",
            "contextlib2==0.5.5\n",
            "convertdate==2.3.0\n",
            "coremltools==3.3\n",
            "coverage==3.7.1\n",
            "coveralls==0.5\n",
            "crcmod==1.7\n",
            "cufflinks==0.17.3\n",
            "cvxopt==1.2.5\n",
            "cvxpy==1.0.31\n",
            "cycler==0.10.0\n",
            "cymem==2.0.5\n",
            "Cython==0.29.21\n",
            "daft==0.0.4\n",
            "dask==2.12.0\n",
            "dataclasses==0.8\n",
            "datascience==0.10.6\n",
            "debugpy==1.0.0\n",
            "decorator==4.4.2\n",
            "defusedxml==0.6.0\n",
            "descartes==1.1.0\n",
            "dill==0.3.3\n",
            "distributed==1.25.3\n",
            "Django==3.1.6\n",
            "dlib==19.18.0\n",
            "dm-tree==0.1.5\n",
            "docopt==0.6.2\n",
            "docutils==0.16\n",
            "dopamine-rl==1.0.5\n",
            "earthengine-api==0.1.238\n",
            "easydict==1.9\n",
            "ecos==2.0.7.post1\n",
            "editdistance==0.5.3\n",
            "en-core-web-sm==2.2.5\n",
            "entrypoints==0.3\n",
            "ephem==3.7.7.1\n",
            "et-xmlfile==1.0.1\n",
            "fa2==0.3.5\n",
            "fancyimpute==0.4.3\n",
            "fastai==1.0.61\n",
            "fastdtw==0.3.4\n",
            "fastprogress==1.0.0\n",
            "fastrlock==0.5\n",
            "fbprophet==0.7.1\n",
            "feather-format==0.4.1\n",
            "filelock==3.0.12\n",
            "firebase-admin==4.4.0\n",
            "fix-yahoo-finance==0.0.22\n",
            "Flask==1.1.2\n",
            "flatbuffers==1.12\n",
            "folium==0.8.3\n",
            "future==0.16.0\n",
            "gast==0.2.2\n",
            "GDAL==2.2.2\n",
            "gdown==3.6.4\n",
            "gensim==3.6.0\n",
            "geographiclib==1.50\n",
            "geopy==1.17.0\n",
            "gin-config==0.4.0\n",
            "glob2==0.7\n",
            "google==2.0.3\n",
            "google-api-core==1.16.0\n",
            "google-api-python-client==1.7.12\n",
            "google-auth==1.25.0\n",
            "google-auth-httplib2==0.0.4\n",
            "google-auth-oauthlib==0.4.2\n",
            "google-cloud-bigquery==1.21.0\n",
            "google-cloud-bigquery-storage==1.1.0\n",
            "google-cloud-core==1.0.3\n",
            "google-cloud-datastore==1.8.0\n",
            "google-cloud-firestore==1.7.0\n",
            "google-cloud-language==1.2.0\n",
            "google-cloud-storage==1.18.1\n",
            "google-cloud-translate==1.5.0\n",
            "google-colab==1.0.0\n",
            "google-pasta==0.2.0\n",
            "google-resumable-media==0.4.1\n",
            "googleapis-common-protos==1.52.0\n",
            "googledrivedownloader==0.4\n",
            "graphviz==0.10.1\n",
            "grpcio==1.32.0\n",
            "gspread==3.0.1\n",
            "gspread-dataframe==3.0.8\n",
            "gym==0.17.3\n",
            "h5py==2.10.0\n",
            "HeapDict==1.0.1\n",
            "hijri-converter==2.1.1\n",
            "holidays==0.10.5.2\n",
            "holoviews==1.13.5\n",
            "html5lib==1.0.1\n",
            "httpimport==0.5.18\n",
            "httplib2==0.17.4\n",
            "httplib2shim==0.0.3\n",
            "humanize==0.5.1\n",
            "hyperopt==0.1.2\n",
            "ideep4py==2.0.0.post3\n",
            "idna==2.10\n",
            "image==1.5.33\n",
            "imageio==2.4.1\n",
            "imagesize==1.2.0\n",
            "imbalanced-learn==0.4.3\n",
            "imblearn==0.0\n",
            "imgaug==0.2.9\n",
            "importlib-metadata==3.4.0\n",
            "importlib-resources==5.1.0\n",
            "imutils==0.5.4\n",
            "inflect==2.1.0\n",
            "iniconfig==1.1.1\n",
            "intel-openmp==2021.1.2\n",
            "intervaltree==2.1.0\n",
            "ipykernel==4.10.1\n",
            "ipython==5.5.0\n",
            "ipython-genutils==0.2.0\n",
            "ipython-sql==0.3.9\n",
            "ipywidgets==7.6.3\n",
            "itsdangerous==1.1.0\n",
            "jax==0.2.9\n",
            "jaxlib==0.1.60+cuda101\n",
            "jdcal==1.4.1\n",
            "jedi==0.18.0\n",
            "jieba==0.42.1\n",
            "Jinja2==2.11.3\n",
            "joblib==1.0.0\n",
            "jpeg4py==0.1.4\n",
            "jsonschema==2.6.0\n",
            "jupyter==1.0.0\n",
            "jupyter-client==5.3.5\n",
            "jupyter-console==5.2.0\n",
            "jupyter-core==4.7.1\n",
            "jupyterlab-pygments==0.1.2\n",
            "jupyterlab-widgets==1.0.0\n",
            "kaggle==1.5.10\n",
            "kapre==0.1.3.1\n",
            "Keras==2.4.3\n",
            "Keras-Applications==1.0.8\n",
            "Keras-Preprocessing==1.1.2\n",
            "keras-vis==0.4.1\n",
            "kiwisolver==1.3.1\n",
            "knnimpute==0.1.0\n",
            "korean-lunar-calendar==0.2.1\n",
            "librosa==0.8.0\n",
            "lightgbm==2.2.3\n",
            "llvmlite==0.33.0\n",
            "lmdb==0.99\n",
            "lucid==0.3.8\n",
            "LunarCalendar==0.0.9\n",
            "lxml==4.2.6\n",
            "Markdown==3.3.3\n",
            "MarkupSafe==1.1.1\n",
            "matplotlib==3.2.2\n",
            "matplotlib-venn==0.11.6\n",
            "missingno==0.4.2\n",
            "mistune==0.8.4\n",
            "mizani==0.6.0\n",
            "mkl==2019.0\n",
            "mlxtend==0.14.0\n",
            "more-itertools==8.7.0\n",
            "moviepy==0.2.3.5\n",
            "mpmath==1.1.0\n",
            "msgpack==1.0.2\n",
            "multiprocess==0.70.11.1\n",
            "multitasking==0.0.9\n",
            "murmurhash==1.0.5\n",
            "music21==5.5.0\n",
            "natsort==5.5.0\n",
            "nbclient==0.5.2\n",
            "nbconvert==5.6.1\n",
            "nbformat==5.1.2\n",
            "nest-asyncio==1.5.1\n",
            "networkx==2.5\n",
            "nibabel==3.0.2\n",
            "nltk==3.2.5\n",
            "notebook==5.3.1\n",
            "np-utils==0.5.12.1\n",
            "numba==0.50.1\n",
            "numexpr==2.7.2\n",
            "numpy==1.19.5\n",
            "nvidia-ml-py3==7.352.0\n",
            "oauth2client==4.1.3\n",
            "oauthlib==3.1.0\n",
            "okgrade==0.4.3\n",
            "opencv-contrib-python==4.1.2.30\n",
            "opencv-python==4.1.2.30\n",
            "openpyxl==2.5.9\n",
            "opt-einsum==3.3.0\n",
            "osqp==0.6.2.post0\n",
            "packaging==20.9\n",
            "palettable==3.3.0\n",
            "pandas==1.1.5\n",
            "pandas-datareader==0.9.0\n",
            "pandas-gbq==0.13.3\n",
            "pandas-profiling==1.4.1\n",
            "pandocfilters==1.4.3\n",
            "panel==0.9.7\n",
            "param==1.10.1\n",
            "parso==0.8.1\n",
            "pathlib==1.0.1\n",
            "patsy==0.5.1\n",
            "pexpect==4.8.0\n",
            "pickleshare==0.7.5\n",
            "Pillow==7.0.0\n",
            "pip-tools==4.5.1\n",
            "plac==1.1.3\n",
            "plotly==4.4.1\n",
            "plotnine==0.6.0\n",
            "pluggy==0.7.1\n",
            "pooch==1.3.0\n",
            "portpicker==1.3.1\n",
            "prefetch-generator==1.0.1\n",
            "preshed==3.0.5\n",
            "prettytable==0.7.2\n",
            "progressbar2==3.38.0\n",
            "prometheus-client==0.9.0\n",
            "promise==2.3\n",
            "prompt-toolkit==1.0.18\n",
            "protobuf==3.12.4\n",
            "psutil==5.4.8\n",
            "psycopg2==2.7.6.1\n",
            "ptyprocess==0.7.0\n",
            "py==1.10.0\n",
            "pyarrow==0.14.1\n",
            "pyasn1==0.4.8\n",
            "pyasn1-modules==0.2.8\n",
            "pycocotools==2.0.2\n",
            "pycparser==2.20\n",
            "pyct==0.4.8\n",
            "pydata-google-auth==1.1.0\n",
            "pydot==1.3.0\n",
            "pydot-ng==2.0.0\n",
            "pydotplus==2.0.2\n",
            "PyDrive==1.3.1\n",
            "pyemd==0.5.1\n",
            "pyglet==1.5.0\n",
            "Pygments==2.6.1\n",
            "pygobject==3.26.1\n",
            "pymc3==3.7\n",
            "PyMeeus==0.3.7\n",
            "pymongo==3.11.3\n",
            "pymystem3==0.2.0\n",
            "pynndescent==0.5.1\n",
            "PyOpenGL==3.1.5\n",
            "pyparsing==2.4.7\n",
            "pyrsistent==0.17.3\n",
            "pysndfile==1.3.8\n",
            "PySocks==1.7.1\n",
            "pystan==2.19.1.1\n",
            "pytest==3.6.4\n",
            "python-apt==1.6.5+ubuntu0.5\n",
            "python-chess==0.23.11\n",
            "python-dateutil==2.8.1\n",
            "python-louvain==0.15\n",
            "python-slugify==4.0.1\n",
            "python-utils==2.5.6\n",
            "pytz==2018.9\n",
            "pyviz-comms==2.0.1\n",
            "PyWavelets==1.1.1\n",
            "PyYAML==3.13\n",
            "pyzmq==22.0.2\n",
            "qdldl==0.1.5.post0\n",
            "qtconsole==5.0.2\n",
            "QtPy==1.9.0\n",
            "regex==2019.12.20\n",
            "requests==2.23.0\n",
            "requests-oauthlib==1.3.0\n",
            "resampy==0.2.1\n",
            "retrying==1.3.3\n",
            "rpy2==3.2.7\n",
            "rsa==4.7\n",
            "scikit-image==0.16.2\n",
            "scikit-learn==0.22.2.post1\n",
            "scipy==1.4.1\n",
            "screen-resolution-extra==0.0.0\n",
            "scs==2.1.2\n",
            "seaborn==0.11.1\n",
            "Send2Trash==1.5.0\n",
            "setuptools-git==1.2\n",
            "Shapely==1.7.1\n",
            "simplegeneric==0.8.1\n",
            "six==1.15.0\n",
            "sklearn==0.0\n",
            "sklearn-pandas==1.8.0\n",
            "smart-open==4.1.2\n",
            "snowballstemmer==2.1.0\n",
            "sortedcontainers==2.3.0\n",
            "SoundFile==0.10.3.post1\n",
            "spacy==2.2.4\n",
            "Sphinx==1.8.5\n",
            "sphinxcontrib-serializinghtml==1.1.4\n",
            "sphinxcontrib-websupport==1.2.4\n",
            "SQLAlchemy==1.3.23\n",
            "sqlparse==0.4.1\n",
            "srsly==1.0.5\n",
            "statsmodels==0.10.2\n",
            "sympy==1.1.1\n",
            "tables==3.4.4\n",
            "tabulate==0.8.7\n",
            "tblib==1.7.0\n",
            "tensorboard==2.0.2\n",
            "tensorboard-plugin-wit==1.8.0\n",
            "tensorflow==2.0.4\n",
            "tensorflow-datasets==4.0.1\n",
            "tensorflow-estimator==2.0.1\n",
            "tensorflow-gcs-config==2.4.0\n",
            "tensorflow-hub==0.11.0\n",
            "tensorflow-metadata==0.27.0\n",
            "tensorflow-probability==0.12.1\n",
            "termcolor==1.1.0\n",
            "terminado==0.9.2\n",
            "testpath==0.4.4\n",
            "text-unidecode==1.3\n",
            "textblob==0.15.3\n",
            "textgenrnn==1.4.1\n",
            "Theano==1.0.5\n",
            "thinc==7.4.0\n",
            "tifffile==2020.9.3\n",
            "toml==0.10.2\n",
            "toolz==0.11.1\n",
            "torch==1.7.0+cu101\n",
            "torchsummary==1.5.1\n",
            "torchtext==0.3.1\n",
            "torchvision==0.8.1+cu101\n",
            "tornado==5.1.1\n",
            "tqdm==4.41.1\n",
            "traitlets==4.3.3\n",
            "turicreate==6.4.1\n",
            "tweepy==3.6.0\n",
            "typeguard==2.7.1\n",
            "typing-extensions==3.7.4.3\n",
            "tzlocal==1.5.1\n",
            "umap-learn==0.5.0\n",
            "uritemplate==3.0.1\n",
            "urllib3==1.24.3\n",
            "vega-datasets==0.9.0\n",
            "wasabi==0.8.2\n",
            "wcwidth==0.2.5\n",
            "webencodings==0.5.1\n",
            "Werkzeug==1.0.1\n",
            "widgetsnbextension==3.5.1\n",
            "wordcloud==1.5.0\n",
            "wrapt==1.12.1\n",
            "xarray==0.15.1\n",
            "xgboost==0.90\n",
            "xkit==0.0.0\n",
            "xlrd==1.1.0\n",
            "xlwt==1.3.0\n",
            "yellowbrick==0.9.1\n",
            "zict==2.0.0\n",
            "zipp==3.4.0\n"
          ],
          "name": "stdout"
        }
      ]
    },
    {
      "cell_type": "code",
      "metadata": {
        "colab": {
          "base_uri": "https://localhost:8080/"
        },
        "id": "Ccjx3W80nTX5",
        "outputId": "1068d8d4-c8d3-464a-95b9-ac5ecaf274dc"
      },
      "source": [
        "%load_ext autoreload\r\n",
        "%autoreload 2\r\n",
        "\r\n",
        "import pandas as pd\r\n",
        "import numpy as np\r\n",
        "import time\r\n",
        "import turicreate as tc\r\n",
        "from sklearn.model_selection import train_test_split\r\n",
        "#from sklearn.cross_validation import train_test_split\r\n",
        "\r\n",
        "import sys\r\n",
        "sys.path.append(\"..\")\r\n",
        "\r\n"
      ],
      "execution_count": 70,
      "outputs": [
        {
          "output_type": "stream",
          "text": [
            "The autoreload extension is already loaded. To reload it, use:\n",
            "  %reload_ext autoreload\n"
          ],
          "name": "stdout"
        }
      ]
    },
    {
      "cell_type": "code",
      "metadata": {
        "colab": {
          "base_uri": "https://localhost:8080/",
          "height": 204
        },
        "id": "_l4TcBzSnfeg",
        "outputId": "d3563ef0-f6ed-4bf8-edea-a15e1dd48cb1"
      },
      "source": [
        "#customers = pd.read_csv('../data/recommend_1.csv') \r\n",
        "#transactions = pd.read_csv('../data/trx_data.csv')\r\n",
        "import pandas as pd\r\n",
        "#customers = pd.read_csv(\"/content/per_user_distance_purchase_count.csv\", encoding= 'unicode_escape')\r\n",
        "data = pd.read_csv(\"/content/ratings.csv\", encoding= 'unicode_escape')\r\n",
        "data.head()"
      ],
      "execution_count": 71,
      "outputs": [
        {
          "output_type": "execute_result",
          "data": {
            "text/html": [
              "<div>\n",
              "<style scoped>\n",
              "    .dataframe tbody tr th:only-of-type {\n",
              "        vertical-align: middle;\n",
              "    }\n",
              "\n",
              "    .dataframe tbody tr th {\n",
              "        vertical-align: top;\n",
              "    }\n",
              "\n",
              "    .dataframe thead th {\n",
              "        text-align: right;\n",
              "    }\n",
              "</style>\n",
              "<table border=\"1\" class=\"dataframe\">\n",
              "  <thead>\n",
              "    <tr style=\"text-align: right;\">\n",
              "      <th></th>\n",
              "      <th>user_id</th>\n",
              "      <th>product_number</th>\n",
              "      <th>summation_distance_Purchasecount</th>\n",
              "    </tr>\n",
              "  </thead>\n",
              "  <tbody>\n",
              "    <tr>\n",
              "      <th>0</th>\n",
              "      <td>1</td>\n",
              "      <td>1</td>\n",
              "      <td>4.0</td>\n",
              "    </tr>\n",
              "    <tr>\n",
              "      <th>1</th>\n",
              "      <td>1</td>\n",
              "      <td>3</td>\n",
              "      <td>4.0</td>\n",
              "    </tr>\n",
              "    <tr>\n",
              "      <th>2</th>\n",
              "      <td>1</td>\n",
              "      <td>6</td>\n",
              "      <td>4.0</td>\n",
              "    </tr>\n",
              "    <tr>\n",
              "      <th>3</th>\n",
              "      <td>1</td>\n",
              "      <td>47</td>\n",
              "      <td>5.0</td>\n",
              "    </tr>\n",
              "    <tr>\n",
              "      <th>4</th>\n",
              "      <td>1</td>\n",
              "      <td>50</td>\n",
              "      <td>5.0</td>\n",
              "    </tr>\n",
              "  </tbody>\n",
              "</table>\n",
              "</div>"
            ],
            "text/plain": [
              "   user_id  product_number  summation_distance_Purchasecount\n",
              "0        1               1                               4.0\n",
              "1        1               3                               4.0\n",
              "2        1               6                               4.0\n",
              "3        1              47                               5.0\n",
              "4        1              50                               5.0"
            ]
          },
          "metadata": {
            "tags": []
          },
          "execution_count": 71
        }
      ]
    },
    {
      "cell_type": "code",
      "metadata": {
        "id": "Gz3H_8vT-b7M"
      },
      "source": [
        "#float(customers.user_id)"
      ],
      "execution_count": 72,
      "outputs": []
    },
    {
      "cell_type": "code",
      "metadata": {
        "id": "WcdrTGqannS5",
        "colab": {
          "base_uri": "https://localhost:8080/",
          "height": 69
        },
        "outputId": "14d3028f-3b51-43b2-9f39-5ba9091d5f2d"
      },
      "source": [
        "'''data = pd.melt(customers.set_index('user_id')['product_number'].apply(pd.Series).reset_index(), \r\n",
        "             id_vars=['user_id'],\r\n",
        "             value_name='product_number') \\\r\n",
        "    .dropna().drop(['variable'], axis=1) \\\r\n",
        "    .groupby(['user_id', 'product_number']) \\\r\n",
        "    .agg({'product_number': 'count'}) \\\r\n",
        "    .rename(columns={'product_number': 'purchase_count'}) \\\r\n",
        "    .reset_index() \\\r\n",
        "    .rename(columns={'product_number': 'productId'})\r\n",
        "data['product_number'] = data['product_number'].astype(np.int64)\r\n",
        "'''\r\n"
      ],
      "execution_count": 73,
      "outputs": [
        {
          "output_type": "execute_result",
          "data": {
            "application/vnd.google.colaboratory.intrinsic+json": {
              "type": "string"
            },
            "text/plain": [
              "\"data = pd.melt(customers.set_index('user_id')['product_number'].apply(pd.Series).reset_index(), \\n             id_vars=['user_id'],\\n             value_name='product_number')     .dropna().drop(['variable'], axis=1)     .groupby(['user_id', 'product_number'])     .agg({'product_number': 'count'})     .rename(columns={'product_number': 'purchase_count'})     .reset_index()     .rename(columns={'product_number': 'productId'})\\ndata['product_number'] = data['product_number'].astype(np.int64)\\n\""
            ]
          },
          "metadata": {
            "tags": []
          },
          "execution_count": 73
        }
      ]
    },
    {
      "cell_type": "code",
      "metadata": {
        "colab": {
          "base_uri": "https://localhost:8080/"
        },
        "id": "_m_AQ31Fs4-F",
        "outputId": "0c31bc08-12f0-4d01-dd9c-0f062fedfadb"
      },
      "source": [
        "data.dtypes"
      ],
      "execution_count": 74,
      "outputs": [
        {
          "output_type": "execute_result",
          "data": {
            "text/plain": [
              "user_id                               int64\n",
              "product_number                        int64\n",
              "summation_distance_Purchasecount    float64\n",
              "dtype: object"
            ]
          },
          "metadata": {
            "tags": []
          },
          "execution_count": 74
        }
      ]
    },
    {
      "cell_type": "code",
      "metadata": {
        "id": "_EpmSvIXn0pk"
      },
      "source": [
        "def create_data_dummy(data):\r\n",
        "    data_dummy = data.copy()\r\n",
        "    data_dummy['purchase_dummy'] = 1\r\n",
        "    return data_dummy\r\n",
        "data_dummy = create_data_dummy(data)"
      ],
      "execution_count": 75,
      "outputs": []
    },
    {
      "cell_type": "code",
      "metadata": {
        "id": "Q-XKfV5pn1VS"
      },
      "source": [
        "df_matrix = pd.pivot_table(data, values='summation_distance_Purchasecount', index='user_id', columns='product_number')"
      ],
      "execution_count": 76,
      "outputs": []
    },
    {
      "cell_type": "code",
      "metadata": {
        "colab": {
          "base_uri": "https://localhost:8080/",
          "height": 470
        },
        "id": "xfgra_wNtkZh",
        "outputId": "d4a59ff6-3842-4857-db5d-777fcd296c28"
      },
      "source": [
        "df_matrix "
      ],
      "execution_count": 77,
      "outputs": [
        {
          "output_type": "execute_result",
          "data": {
            "text/html": [
              "<div>\n",
              "<style scoped>\n",
              "    .dataframe tbody tr th:only-of-type {\n",
              "        vertical-align: middle;\n",
              "    }\n",
              "\n",
              "    .dataframe tbody tr th {\n",
              "        vertical-align: top;\n",
              "    }\n",
              "\n",
              "    .dataframe thead th {\n",
              "        text-align: right;\n",
              "    }\n",
              "</style>\n",
              "<table border=\"1\" class=\"dataframe\">\n",
              "  <thead>\n",
              "    <tr style=\"text-align: right;\">\n",
              "      <th>product_number</th>\n",
              "      <th>1</th>\n",
              "      <th>2</th>\n",
              "      <th>3</th>\n",
              "      <th>4</th>\n",
              "      <th>5</th>\n",
              "      <th>6</th>\n",
              "      <th>7</th>\n",
              "      <th>8</th>\n",
              "      <th>9</th>\n",
              "      <th>10</th>\n",
              "      <th>11</th>\n",
              "      <th>12</th>\n",
              "      <th>13</th>\n",
              "      <th>14</th>\n",
              "      <th>15</th>\n",
              "      <th>16</th>\n",
              "      <th>17</th>\n",
              "      <th>18</th>\n",
              "      <th>19</th>\n",
              "      <th>20</th>\n",
              "      <th>21</th>\n",
              "      <th>22</th>\n",
              "      <th>23</th>\n",
              "      <th>24</th>\n",
              "      <th>25</th>\n",
              "      <th>26</th>\n",
              "      <th>27</th>\n",
              "      <th>28</th>\n",
              "      <th>29</th>\n",
              "      <th>30</th>\n",
              "      <th>31</th>\n",
              "      <th>32</th>\n",
              "      <th>34</th>\n",
              "      <th>36</th>\n",
              "      <th>38</th>\n",
              "      <th>39</th>\n",
              "      <th>40</th>\n",
              "      <th>41</th>\n",
              "      <th>42</th>\n",
              "      <th>43</th>\n",
              "      <th>...</th>\n",
              "      <th>185135</th>\n",
              "      <th>185435</th>\n",
              "      <th>185473</th>\n",
              "      <th>185585</th>\n",
              "      <th>186587</th>\n",
              "      <th>187031</th>\n",
              "      <th>187541</th>\n",
              "      <th>187593</th>\n",
              "      <th>187595</th>\n",
              "      <th>187717</th>\n",
              "      <th>188189</th>\n",
              "      <th>188301</th>\n",
              "      <th>188675</th>\n",
              "      <th>188751</th>\n",
              "      <th>188797</th>\n",
              "      <th>188833</th>\n",
              "      <th>189043</th>\n",
              "      <th>189111</th>\n",
              "      <th>189333</th>\n",
              "      <th>189381</th>\n",
              "      <th>189547</th>\n",
              "      <th>189713</th>\n",
              "      <th>190183</th>\n",
              "      <th>190207</th>\n",
              "      <th>190209</th>\n",
              "      <th>190213</th>\n",
              "      <th>190215</th>\n",
              "      <th>190219</th>\n",
              "      <th>190221</th>\n",
              "      <th>191005</th>\n",
              "      <th>193565</th>\n",
              "      <th>193567</th>\n",
              "      <th>193571</th>\n",
              "      <th>193573</th>\n",
              "      <th>193579</th>\n",
              "      <th>193581</th>\n",
              "      <th>193583</th>\n",
              "      <th>193585</th>\n",
              "      <th>193587</th>\n",
              "      <th>193609</th>\n",
              "    </tr>\n",
              "    <tr>\n",
              "      <th>user_id</th>\n",
              "      <th></th>\n",
              "      <th></th>\n",
              "      <th></th>\n",
              "      <th></th>\n",
              "      <th></th>\n",
              "      <th></th>\n",
              "      <th></th>\n",
              "      <th></th>\n",
              "      <th></th>\n",
              "      <th></th>\n",
              "      <th></th>\n",
              "      <th></th>\n",
              "      <th></th>\n",
              "      <th></th>\n",
              "      <th></th>\n",
              "      <th></th>\n",
              "      <th></th>\n",
              "      <th></th>\n",
              "      <th></th>\n",
              "      <th></th>\n",
              "      <th></th>\n",
              "      <th></th>\n",
              "      <th></th>\n",
              "      <th></th>\n",
              "      <th></th>\n",
              "      <th></th>\n",
              "      <th></th>\n",
              "      <th></th>\n",
              "      <th></th>\n",
              "      <th></th>\n",
              "      <th></th>\n",
              "      <th></th>\n",
              "      <th></th>\n",
              "      <th></th>\n",
              "      <th></th>\n",
              "      <th></th>\n",
              "      <th></th>\n",
              "      <th></th>\n",
              "      <th></th>\n",
              "      <th></th>\n",
              "      <th></th>\n",
              "      <th></th>\n",
              "      <th></th>\n",
              "      <th></th>\n",
              "      <th></th>\n",
              "      <th></th>\n",
              "      <th></th>\n",
              "      <th></th>\n",
              "      <th></th>\n",
              "      <th></th>\n",
              "      <th></th>\n",
              "      <th></th>\n",
              "      <th></th>\n",
              "      <th></th>\n",
              "      <th></th>\n",
              "      <th></th>\n",
              "      <th></th>\n",
              "      <th></th>\n",
              "      <th></th>\n",
              "      <th></th>\n",
              "      <th></th>\n",
              "      <th></th>\n",
              "      <th></th>\n",
              "      <th></th>\n",
              "      <th></th>\n",
              "      <th></th>\n",
              "      <th></th>\n",
              "      <th></th>\n",
              "      <th></th>\n",
              "      <th></th>\n",
              "      <th></th>\n",
              "      <th></th>\n",
              "      <th></th>\n",
              "      <th></th>\n",
              "      <th></th>\n",
              "      <th></th>\n",
              "      <th></th>\n",
              "      <th></th>\n",
              "      <th></th>\n",
              "      <th></th>\n",
              "      <th></th>\n",
              "    </tr>\n",
              "  </thead>\n",
              "  <tbody>\n",
              "    <tr>\n",
              "      <th>1</th>\n",
              "      <td>4.0</td>\n",
              "      <td>NaN</td>\n",
              "      <td>4.0</td>\n",
              "      <td>NaN</td>\n",
              "      <td>NaN</td>\n",
              "      <td>4.0</td>\n",
              "      <td>NaN</td>\n",
              "      <td>NaN</td>\n",
              "      <td>NaN</td>\n",
              "      <td>NaN</td>\n",
              "      <td>NaN</td>\n",
              "      <td>NaN</td>\n",
              "      <td>NaN</td>\n",
              "      <td>NaN</td>\n",
              "      <td>NaN</td>\n",
              "      <td>NaN</td>\n",
              "      <td>NaN</td>\n",
              "      <td>NaN</td>\n",
              "      <td>NaN</td>\n",
              "      <td>NaN</td>\n",
              "      <td>NaN</td>\n",
              "      <td>NaN</td>\n",
              "      <td>NaN</td>\n",
              "      <td>NaN</td>\n",
              "      <td>NaN</td>\n",
              "      <td>NaN</td>\n",
              "      <td>NaN</td>\n",
              "      <td>NaN</td>\n",
              "      <td>NaN</td>\n",
              "      <td>NaN</td>\n",
              "      <td>NaN</td>\n",
              "      <td>NaN</td>\n",
              "      <td>NaN</td>\n",
              "      <td>NaN</td>\n",
              "      <td>NaN</td>\n",
              "      <td>NaN</td>\n",
              "      <td>NaN</td>\n",
              "      <td>NaN</td>\n",
              "      <td>NaN</td>\n",
              "      <td>NaN</td>\n",
              "      <td>...</td>\n",
              "      <td>NaN</td>\n",
              "      <td>NaN</td>\n",
              "      <td>NaN</td>\n",
              "      <td>NaN</td>\n",
              "      <td>NaN</td>\n",
              "      <td>NaN</td>\n",
              "      <td>NaN</td>\n",
              "      <td>NaN</td>\n",
              "      <td>NaN</td>\n",
              "      <td>NaN</td>\n",
              "      <td>NaN</td>\n",
              "      <td>NaN</td>\n",
              "      <td>NaN</td>\n",
              "      <td>NaN</td>\n",
              "      <td>NaN</td>\n",
              "      <td>NaN</td>\n",
              "      <td>NaN</td>\n",
              "      <td>NaN</td>\n",
              "      <td>NaN</td>\n",
              "      <td>NaN</td>\n",
              "      <td>NaN</td>\n",
              "      <td>NaN</td>\n",
              "      <td>NaN</td>\n",
              "      <td>NaN</td>\n",
              "      <td>NaN</td>\n",
              "      <td>NaN</td>\n",
              "      <td>NaN</td>\n",
              "      <td>NaN</td>\n",
              "      <td>NaN</td>\n",
              "      <td>NaN</td>\n",
              "      <td>NaN</td>\n",
              "      <td>NaN</td>\n",
              "      <td>NaN</td>\n",
              "      <td>NaN</td>\n",
              "      <td>NaN</td>\n",
              "      <td>NaN</td>\n",
              "      <td>NaN</td>\n",
              "      <td>NaN</td>\n",
              "      <td>NaN</td>\n",
              "      <td>NaN</td>\n",
              "    </tr>\n",
              "    <tr>\n",
              "      <th>2</th>\n",
              "      <td>NaN</td>\n",
              "      <td>NaN</td>\n",
              "      <td>NaN</td>\n",
              "      <td>NaN</td>\n",
              "      <td>NaN</td>\n",
              "      <td>NaN</td>\n",
              "      <td>NaN</td>\n",
              "      <td>NaN</td>\n",
              "      <td>NaN</td>\n",
              "      <td>NaN</td>\n",
              "      <td>NaN</td>\n",
              "      <td>NaN</td>\n",
              "      <td>NaN</td>\n",
              "      <td>NaN</td>\n",
              "      <td>NaN</td>\n",
              "      <td>NaN</td>\n",
              "      <td>NaN</td>\n",
              "      <td>NaN</td>\n",
              "      <td>NaN</td>\n",
              "      <td>NaN</td>\n",
              "      <td>NaN</td>\n",
              "      <td>NaN</td>\n",
              "      <td>NaN</td>\n",
              "      <td>NaN</td>\n",
              "      <td>NaN</td>\n",
              "      <td>NaN</td>\n",
              "      <td>NaN</td>\n",
              "      <td>NaN</td>\n",
              "      <td>NaN</td>\n",
              "      <td>NaN</td>\n",
              "      <td>NaN</td>\n",
              "      <td>NaN</td>\n",
              "      <td>NaN</td>\n",
              "      <td>NaN</td>\n",
              "      <td>NaN</td>\n",
              "      <td>NaN</td>\n",
              "      <td>NaN</td>\n",
              "      <td>NaN</td>\n",
              "      <td>NaN</td>\n",
              "      <td>NaN</td>\n",
              "      <td>...</td>\n",
              "      <td>NaN</td>\n",
              "      <td>NaN</td>\n",
              "      <td>NaN</td>\n",
              "      <td>NaN</td>\n",
              "      <td>NaN</td>\n",
              "      <td>NaN</td>\n",
              "      <td>NaN</td>\n",
              "      <td>NaN</td>\n",
              "      <td>NaN</td>\n",
              "      <td>NaN</td>\n",
              "      <td>NaN</td>\n",
              "      <td>NaN</td>\n",
              "      <td>NaN</td>\n",
              "      <td>NaN</td>\n",
              "      <td>NaN</td>\n",
              "      <td>NaN</td>\n",
              "      <td>NaN</td>\n",
              "      <td>NaN</td>\n",
              "      <td>NaN</td>\n",
              "      <td>NaN</td>\n",
              "      <td>NaN</td>\n",
              "      <td>NaN</td>\n",
              "      <td>NaN</td>\n",
              "      <td>NaN</td>\n",
              "      <td>NaN</td>\n",
              "      <td>NaN</td>\n",
              "      <td>NaN</td>\n",
              "      <td>NaN</td>\n",
              "      <td>NaN</td>\n",
              "      <td>NaN</td>\n",
              "      <td>NaN</td>\n",
              "      <td>NaN</td>\n",
              "      <td>NaN</td>\n",
              "      <td>NaN</td>\n",
              "      <td>NaN</td>\n",
              "      <td>NaN</td>\n",
              "      <td>NaN</td>\n",
              "      <td>NaN</td>\n",
              "      <td>NaN</td>\n",
              "      <td>NaN</td>\n",
              "    </tr>\n",
              "    <tr>\n",
              "      <th>3</th>\n",
              "      <td>NaN</td>\n",
              "      <td>NaN</td>\n",
              "      <td>NaN</td>\n",
              "      <td>NaN</td>\n",
              "      <td>NaN</td>\n",
              "      <td>NaN</td>\n",
              "      <td>NaN</td>\n",
              "      <td>NaN</td>\n",
              "      <td>NaN</td>\n",
              "      <td>NaN</td>\n",
              "      <td>NaN</td>\n",
              "      <td>NaN</td>\n",
              "      <td>NaN</td>\n",
              "      <td>NaN</td>\n",
              "      <td>NaN</td>\n",
              "      <td>NaN</td>\n",
              "      <td>NaN</td>\n",
              "      <td>NaN</td>\n",
              "      <td>NaN</td>\n",
              "      <td>NaN</td>\n",
              "      <td>NaN</td>\n",
              "      <td>NaN</td>\n",
              "      <td>NaN</td>\n",
              "      <td>NaN</td>\n",
              "      <td>NaN</td>\n",
              "      <td>NaN</td>\n",
              "      <td>NaN</td>\n",
              "      <td>NaN</td>\n",
              "      <td>NaN</td>\n",
              "      <td>NaN</td>\n",
              "      <td>0.5</td>\n",
              "      <td>NaN</td>\n",
              "      <td>NaN</td>\n",
              "      <td>NaN</td>\n",
              "      <td>NaN</td>\n",
              "      <td>NaN</td>\n",
              "      <td>NaN</td>\n",
              "      <td>NaN</td>\n",
              "      <td>NaN</td>\n",
              "      <td>NaN</td>\n",
              "      <td>...</td>\n",
              "      <td>NaN</td>\n",
              "      <td>NaN</td>\n",
              "      <td>NaN</td>\n",
              "      <td>NaN</td>\n",
              "      <td>NaN</td>\n",
              "      <td>NaN</td>\n",
              "      <td>NaN</td>\n",
              "      <td>NaN</td>\n",
              "      <td>NaN</td>\n",
              "      <td>NaN</td>\n",
              "      <td>NaN</td>\n",
              "      <td>NaN</td>\n",
              "      <td>NaN</td>\n",
              "      <td>NaN</td>\n",
              "      <td>NaN</td>\n",
              "      <td>NaN</td>\n",
              "      <td>NaN</td>\n",
              "      <td>NaN</td>\n",
              "      <td>NaN</td>\n",
              "      <td>NaN</td>\n",
              "      <td>NaN</td>\n",
              "      <td>NaN</td>\n",
              "      <td>NaN</td>\n",
              "      <td>NaN</td>\n",
              "      <td>NaN</td>\n",
              "      <td>NaN</td>\n",
              "      <td>NaN</td>\n",
              "      <td>NaN</td>\n",
              "      <td>NaN</td>\n",
              "      <td>NaN</td>\n",
              "      <td>NaN</td>\n",
              "      <td>NaN</td>\n",
              "      <td>NaN</td>\n",
              "      <td>NaN</td>\n",
              "      <td>NaN</td>\n",
              "      <td>NaN</td>\n",
              "      <td>NaN</td>\n",
              "      <td>NaN</td>\n",
              "      <td>NaN</td>\n",
              "      <td>NaN</td>\n",
              "    </tr>\n",
              "    <tr>\n",
              "      <th>4</th>\n",
              "      <td>NaN</td>\n",
              "      <td>NaN</td>\n",
              "      <td>NaN</td>\n",
              "      <td>NaN</td>\n",
              "      <td>NaN</td>\n",
              "      <td>NaN</td>\n",
              "      <td>NaN</td>\n",
              "      <td>NaN</td>\n",
              "      <td>NaN</td>\n",
              "      <td>NaN</td>\n",
              "      <td>NaN</td>\n",
              "      <td>NaN</td>\n",
              "      <td>NaN</td>\n",
              "      <td>NaN</td>\n",
              "      <td>NaN</td>\n",
              "      <td>NaN</td>\n",
              "      <td>NaN</td>\n",
              "      <td>NaN</td>\n",
              "      <td>NaN</td>\n",
              "      <td>NaN</td>\n",
              "      <td>3.0</td>\n",
              "      <td>NaN</td>\n",
              "      <td>NaN</td>\n",
              "      <td>NaN</td>\n",
              "      <td>NaN</td>\n",
              "      <td>NaN</td>\n",
              "      <td>NaN</td>\n",
              "      <td>NaN</td>\n",
              "      <td>NaN</td>\n",
              "      <td>NaN</td>\n",
              "      <td>NaN</td>\n",
              "      <td>2.0</td>\n",
              "      <td>NaN</td>\n",
              "      <td>NaN</td>\n",
              "      <td>NaN</td>\n",
              "      <td>NaN</td>\n",
              "      <td>NaN</td>\n",
              "      <td>NaN</td>\n",
              "      <td>NaN</td>\n",
              "      <td>NaN</td>\n",
              "      <td>...</td>\n",
              "      <td>NaN</td>\n",
              "      <td>NaN</td>\n",
              "      <td>NaN</td>\n",
              "      <td>NaN</td>\n",
              "      <td>NaN</td>\n",
              "      <td>NaN</td>\n",
              "      <td>NaN</td>\n",
              "      <td>NaN</td>\n",
              "      <td>NaN</td>\n",
              "      <td>NaN</td>\n",
              "      <td>NaN</td>\n",
              "      <td>NaN</td>\n",
              "      <td>NaN</td>\n",
              "      <td>NaN</td>\n",
              "      <td>NaN</td>\n",
              "      <td>NaN</td>\n",
              "      <td>NaN</td>\n",
              "      <td>NaN</td>\n",
              "      <td>NaN</td>\n",
              "      <td>NaN</td>\n",
              "      <td>NaN</td>\n",
              "      <td>NaN</td>\n",
              "      <td>NaN</td>\n",
              "      <td>NaN</td>\n",
              "      <td>NaN</td>\n",
              "      <td>NaN</td>\n",
              "      <td>NaN</td>\n",
              "      <td>NaN</td>\n",
              "      <td>NaN</td>\n",
              "      <td>NaN</td>\n",
              "      <td>NaN</td>\n",
              "      <td>NaN</td>\n",
              "      <td>NaN</td>\n",
              "      <td>NaN</td>\n",
              "      <td>NaN</td>\n",
              "      <td>NaN</td>\n",
              "      <td>NaN</td>\n",
              "      <td>NaN</td>\n",
              "      <td>NaN</td>\n",
              "      <td>NaN</td>\n",
              "    </tr>\n",
              "    <tr>\n",
              "      <th>5</th>\n",
              "      <td>4.0</td>\n",
              "      <td>NaN</td>\n",
              "      <td>NaN</td>\n",
              "      <td>NaN</td>\n",
              "      <td>NaN</td>\n",
              "      <td>NaN</td>\n",
              "      <td>NaN</td>\n",
              "      <td>NaN</td>\n",
              "      <td>NaN</td>\n",
              "      <td>NaN</td>\n",
              "      <td>NaN</td>\n",
              "      <td>NaN</td>\n",
              "      <td>NaN</td>\n",
              "      <td>NaN</td>\n",
              "      <td>NaN</td>\n",
              "      <td>NaN</td>\n",
              "      <td>NaN</td>\n",
              "      <td>NaN</td>\n",
              "      <td>NaN</td>\n",
              "      <td>NaN</td>\n",
              "      <td>4.0</td>\n",
              "      <td>NaN</td>\n",
              "      <td>NaN</td>\n",
              "      <td>NaN</td>\n",
              "      <td>NaN</td>\n",
              "      <td>NaN</td>\n",
              "      <td>NaN</td>\n",
              "      <td>NaN</td>\n",
              "      <td>NaN</td>\n",
              "      <td>NaN</td>\n",
              "      <td>NaN</td>\n",
              "      <td>NaN</td>\n",
              "      <td>4.0</td>\n",
              "      <td>4.0</td>\n",
              "      <td>NaN</td>\n",
              "      <td>3.0</td>\n",
              "      <td>NaN</td>\n",
              "      <td>NaN</td>\n",
              "      <td>NaN</td>\n",
              "      <td>NaN</td>\n",
              "      <td>...</td>\n",
              "      <td>NaN</td>\n",
              "      <td>NaN</td>\n",
              "      <td>NaN</td>\n",
              "      <td>NaN</td>\n",
              "      <td>NaN</td>\n",
              "      <td>NaN</td>\n",
              "      <td>NaN</td>\n",
              "      <td>NaN</td>\n",
              "      <td>NaN</td>\n",
              "      <td>NaN</td>\n",
              "      <td>NaN</td>\n",
              "      <td>NaN</td>\n",
              "      <td>NaN</td>\n",
              "      <td>NaN</td>\n",
              "      <td>NaN</td>\n",
              "      <td>NaN</td>\n",
              "      <td>NaN</td>\n",
              "      <td>NaN</td>\n",
              "      <td>NaN</td>\n",
              "      <td>NaN</td>\n",
              "      <td>NaN</td>\n",
              "      <td>NaN</td>\n",
              "      <td>NaN</td>\n",
              "      <td>NaN</td>\n",
              "      <td>NaN</td>\n",
              "      <td>NaN</td>\n",
              "      <td>NaN</td>\n",
              "      <td>NaN</td>\n",
              "      <td>NaN</td>\n",
              "      <td>NaN</td>\n",
              "      <td>NaN</td>\n",
              "      <td>NaN</td>\n",
              "      <td>NaN</td>\n",
              "      <td>NaN</td>\n",
              "      <td>NaN</td>\n",
              "      <td>NaN</td>\n",
              "      <td>NaN</td>\n",
              "      <td>NaN</td>\n",
              "      <td>NaN</td>\n",
              "      <td>NaN</td>\n",
              "    </tr>\n",
              "    <tr>\n",
              "      <th>...</th>\n",
              "      <td>...</td>\n",
              "      <td>...</td>\n",
              "      <td>...</td>\n",
              "      <td>...</td>\n",
              "      <td>...</td>\n",
              "      <td>...</td>\n",
              "      <td>...</td>\n",
              "      <td>...</td>\n",
              "      <td>...</td>\n",
              "      <td>...</td>\n",
              "      <td>...</td>\n",
              "      <td>...</td>\n",
              "      <td>...</td>\n",
              "      <td>...</td>\n",
              "      <td>...</td>\n",
              "      <td>...</td>\n",
              "      <td>...</td>\n",
              "      <td>...</td>\n",
              "      <td>...</td>\n",
              "      <td>...</td>\n",
              "      <td>...</td>\n",
              "      <td>...</td>\n",
              "      <td>...</td>\n",
              "      <td>...</td>\n",
              "      <td>...</td>\n",
              "      <td>...</td>\n",
              "      <td>...</td>\n",
              "      <td>...</td>\n",
              "      <td>...</td>\n",
              "      <td>...</td>\n",
              "      <td>...</td>\n",
              "      <td>...</td>\n",
              "      <td>...</td>\n",
              "      <td>...</td>\n",
              "      <td>...</td>\n",
              "      <td>...</td>\n",
              "      <td>...</td>\n",
              "      <td>...</td>\n",
              "      <td>...</td>\n",
              "      <td>...</td>\n",
              "      <td>...</td>\n",
              "      <td>...</td>\n",
              "      <td>...</td>\n",
              "      <td>...</td>\n",
              "      <td>...</td>\n",
              "      <td>...</td>\n",
              "      <td>...</td>\n",
              "      <td>...</td>\n",
              "      <td>...</td>\n",
              "      <td>...</td>\n",
              "      <td>...</td>\n",
              "      <td>...</td>\n",
              "      <td>...</td>\n",
              "      <td>...</td>\n",
              "      <td>...</td>\n",
              "      <td>...</td>\n",
              "      <td>...</td>\n",
              "      <td>...</td>\n",
              "      <td>...</td>\n",
              "      <td>...</td>\n",
              "      <td>...</td>\n",
              "      <td>...</td>\n",
              "      <td>...</td>\n",
              "      <td>...</td>\n",
              "      <td>...</td>\n",
              "      <td>...</td>\n",
              "      <td>...</td>\n",
              "      <td>...</td>\n",
              "      <td>...</td>\n",
              "      <td>...</td>\n",
              "      <td>...</td>\n",
              "      <td>...</td>\n",
              "      <td>...</td>\n",
              "      <td>...</td>\n",
              "      <td>...</td>\n",
              "      <td>...</td>\n",
              "      <td>...</td>\n",
              "      <td>...</td>\n",
              "      <td>...</td>\n",
              "      <td>...</td>\n",
              "      <td>...</td>\n",
              "    </tr>\n",
              "    <tr>\n",
              "      <th>606</th>\n",
              "      <td>2.5</td>\n",
              "      <td>NaN</td>\n",
              "      <td>NaN</td>\n",
              "      <td>NaN</td>\n",
              "      <td>NaN</td>\n",
              "      <td>NaN</td>\n",
              "      <td>2.5</td>\n",
              "      <td>NaN</td>\n",
              "      <td>NaN</td>\n",
              "      <td>NaN</td>\n",
              "      <td>2.5</td>\n",
              "      <td>NaN</td>\n",
              "      <td>NaN</td>\n",
              "      <td>NaN</td>\n",
              "      <td>3.5</td>\n",
              "      <td>NaN</td>\n",
              "      <td>4.0</td>\n",
              "      <td>4.0</td>\n",
              "      <td>2.0</td>\n",
              "      <td>NaN</td>\n",
              "      <td>NaN</td>\n",
              "      <td>NaN</td>\n",
              "      <td>NaN</td>\n",
              "      <td>NaN</td>\n",
              "      <td>NaN</td>\n",
              "      <td>NaN</td>\n",
              "      <td>NaN</td>\n",
              "      <td>3.5</td>\n",
              "      <td>4.5</td>\n",
              "      <td>NaN</td>\n",
              "      <td>NaN</td>\n",
              "      <td>4.0</td>\n",
              "      <td>NaN</td>\n",
              "      <td>3.5</td>\n",
              "      <td>NaN</td>\n",
              "      <td>NaN</td>\n",
              "      <td>NaN</td>\n",
              "      <td>NaN</td>\n",
              "      <td>NaN</td>\n",
              "      <td>NaN</td>\n",
              "      <td>...</td>\n",
              "      <td>NaN</td>\n",
              "      <td>NaN</td>\n",
              "      <td>NaN</td>\n",
              "      <td>NaN</td>\n",
              "      <td>NaN</td>\n",
              "      <td>NaN</td>\n",
              "      <td>NaN</td>\n",
              "      <td>NaN</td>\n",
              "      <td>NaN</td>\n",
              "      <td>NaN</td>\n",
              "      <td>NaN</td>\n",
              "      <td>NaN</td>\n",
              "      <td>NaN</td>\n",
              "      <td>NaN</td>\n",
              "      <td>NaN</td>\n",
              "      <td>NaN</td>\n",
              "      <td>NaN</td>\n",
              "      <td>NaN</td>\n",
              "      <td>NaN</td>\n",
              "      <td>NaN</td>\n",
              "      <td>NaN</td>\n",
              "      <td>NaN</td>\n",
              "      <td>NaN</td>\n",
              "      <td>NaN</td>\n",
              "      <td>NaN</td>\n",
              "      <td>NaN</td>\n",
              "      <td>NaN</td>\n",
              "      <td>NaN</td>\n",
              "      <td>NaN</td>\n",
              "      <td>NaN</td>\n",
              "      <td>NaN</td>\n",
              "      <td>NaN</td>\n",
              "      <td>NaN</td>\n",
              "      <td>NaN</td>\n",
              "      <td>NaN</td>\n",
              "      <td>NaN</td>\n",
              "      <td>NaN</td>\n",
              "      <td>NaN</td>\n",
              "      <td>NaN</td>\n",
              "      <td>NaN</td>\n",
              "    </tr>\n",
              "    <tr>\n",
              "      <th>607</th>\n",
              "      <td>4.0</td>\n",
              "      <td>NaN</td>\n",
              "      <td>NaN</td>\n",
              "      <td>NaN</td>\n",
              "      <td>NaN</td>\n",
              "      <td>NaN</td>\n",
              "      <td>NaN</td>\n",
              "      <td>NaN</td>\n",
              "      <td>NaN</td>\n",
              "      <td>NaN</td>\n",
              "      <td>3.0</td>\n",
              "      <td>NaN</td>\n",
              "      <td>NaN</td>\n",
              "      <td>NaN</td>\n",
              "      <td>NaN</td>\n",
              "      <td>NaN</td>\n",
              "      <td>NaN</td>\n",
              "      <td>NaN</td>\n",
              "      <td>NaN</td>\n",
              "      <td>NaN</td>\n",
              "      <td>NaN</td>\n",
              "      <td>NaN</td>\n",
              "      <td>NaN</td>\n",
              "      <td>NaN</td>\n",
              "      <td>3.0</td>\n",
              "      <td>NaN</td>\n",
              "      <td>NaN</td>\n",
              "      <td>NaN</td>\n",
              "      <td>NaN</td>\n",
              "      <td>NaN</td>\n",
              "      <td>NaN</td>\n",
              "      <td>NaN</td>\n",
              "      <td>3.0</td>\n",
              "      <td>4.0</td>\n",
              "      <td>NaN</td>\n",
              "      <td>NaN</td>\n",
              "      <td>NaN</td>\n",
              "      <td>NaN</td>\n",
              "      <td>NaN</td>\n",
              "      <td>NaN</td>\n",
              "      <td>...</td>\n",
              "      <td>NaN</td>\n",
              "      <td>NaN</td>\n",
              "      <td>NaN</td>\n",
              "      <td>NaN</td>\n",
              "      <td>NaN</td>\n",
              "      <td>NaN</td>\n",
              "      <td>NaN</td>\n",
              "      <td>NaN</td>\n",
              "      <td>NaN</td>\n",
              "      <td>NaN</td>\n",
              "      <td>NaN</td>\n",
              "      <td>NaN</td>\n",
              "      <td>NaN</td>\n",
              "      <td>NaN</td>\n",
              "      <td>NaN</td>\n",
              "      <td>NaN</td>\n",
              "      <td>NaN</td>\n",
              "      <td>NaN</td>\n",
              "      <td>NaN</td>\n",
              "      <td>NaN</td>\n",
              "      <td>NaN</td>\n",
              "      <td>NaN</td>\n",
              "      <td>NaN</td>\n",
              "      <td>NaN</td>\n",
              "      <td>NaN</td>\n",
              "      <td>NaN</td>\n",
              "      <td>NaN</td>\n",
              "      <td>NaN</td>\n",
              "      <td>NaN</td>\n",
              "      <td>NaN</td>\n",
              "      <td>NaN</td>\n",
              "      <td>NaN</td>\n",
              "      <td>NaN</td>\n",
              "      <td>NaN</td>\n",
              "      <td>NaN</td>\n",
              "      <td>NaN</td>\n",
              "      <td>NaN</td>\n",
              "      <td>NaN</td>\n",
              "      <td>NaN</td>\n",
              "      <td>NaN</td>\n",
              "    </tr>\n",
              "    <tr>\n",
              "      <th>608</th>\n",
              "      <td>2.5</td>\n",
              "      <td>2.0</td>\n",
              "      <td>2.0</td>\n",
              "      <td>NaN</td>\n",
              "      <td>NaN</td>\n",
              "      <td>NaN</td>\n",
              "      <td>NaN</td>\n",
              "      <td>NaN</td>\n",
              "      <td>NaN</td>\n",
              "      <td>4.0</td>\n",
              "      <td>NaN</td>\n",
              "      <td>NaN</td>\n",
              "      <td>NaN</td>\n",
              "      <td>NaN</td>\n",
              "      <td>NaN</td>\n",
              "      <td>4.5</td>\n",
              "      <td>NaN</td>\n",
              "      <td>NaN</td>\n",
              "      <td>2.0</td>\n",
              "      <td>NaN</td>\n",
              "      <td>3.5</td>\n",
              "      <td>NaN</td>\n",
              "      <td>NaN</td>\n",
              "      <td>2.0</td>\n",
              "      <td>NaN</td>\n",
              "      <td>NaN</td>\n",
              "      <td>NaN</td>\n",
              "      <td>NaN</td>\n",
              "      <td>NaN</td>\n",
              "      <td>NaN</td>\n",
              "      <td>3.0</td>\n",
              "      <td>3.5</td>\n",
              "      <td>3.5</td>\n",
              "      <td>NaN</td>\n",
              "      <td>NaN</td>\n",
              "      <td>3.0</td>\n",
              "      <td>NaN</td>\n",
              "      <td>NaN</td>\n",
              "      <td>NaN</td>\n",
              "      <td>NaN</td>\n",
              "      <td>...</td>\n",
              "      <td>NaN</td>\n",
              "      <td>NaN</td>\n",
              "      <td>NaN</td>\n",
              "      <td>NaN</td>\n",
              "      <td>NaN</td>\n",
              "      <td>NaN</td>\n",
              "      <td>NaN</td>\n",
              "      <td>NaN</td>\n",
              "      <td>NaN</td>\n",
              "      <td>NaN</td>\n",
              "      <td>NaN</td>\n",
              "      <td>NaN</td>\n",
              "      <td>NaN</td>\n",
              "      <td>NaN</td>\n",
              "      <td>NaN</td>\n",
              "      <td>NaN</td>\n",
              "      <td>NaN</td>\n",
              "      <td>NaN</td>\n",
              "      <td>NaN</td>\n",
              "      <td>NaN</td>\n",
              "      <td>NaN</td>\n",
              "      <td>NaN</td>\n",
              "      <td>NaN</td>\n",
              "      <td>NaN</td>\n",
              "      <td>NaN</td>\n",
              "      <td>NaN</td>\n",
              "      <td>NaN</td>\n",
              "      <td>NaN</td>\n",
              "      <td>NaN</td>\n",
              "      <td>NaN</td>\n",
              "      <td>NaN</td>\n",
              "      <td>NaN</td>\n",
              "      <td>NaN</td>\n",
              "      <td>NaN</td>\n",
              "      <td>NaN</td>\n",
              "      <td>NaN</td>\n",
              "      <td>NaN</td>\n",
              "      <td>NaN</td>\n",
              "      <td>NaN</td>\n",
              "      <td>NaN</td>\n",
              "    </tr>\n",
              "    <tr>\n",
              "      <th>609</th>\n",
              "      <td>3.0</td>\n",
              "      <td>NaN</td>\n",
              "      <td>NaN</td>\n",
              "      <td>NaN</td>\n",
              "      <td>NaN</td>\n",
              "      <td>NaN</td>\n",
              "      <td>NaN</td>\n",
              "      <td>NaN</td>\n",
              "      <td>NaN</td>\n",
              "      <td>4.0</td>\n",
              "      <td>NaN</td>\n",
              "      <td>NaN</td>\n",
              "      <td>NaN</td>\n",
              "      <td>NaN</td>\n",
              "      <td>NaN</td>\n",
              "      <td>NaN</td>\n",
              "      <td>NaN</td>\n",
              "      <td>NaN</td>\n",
              "      <td>NaN</td>\n",
              "      <td>NaN</td>\n",
              "      <td>NaN</td>\n",
              "      <td>NaN</td>\n",
              "      <td>NaN</td>\n",
              "      <td>NaN</td>\n",
              "      <td>NaN</td>\n",
              "      <td>NaN</td>\n",
              "      <td>NaN</td>\n",
              "      <td>NaN</td>\n",
              "      <td>NaN</td>\n",
              "      <td>NaN</td>\n",
              "      <td>NaN</td>\n",
              "      <td>NaN</td>\n",
              "      <td>NaN</td>\n",
              "      <td>NaN</td>\n",
              "      <td>NaN</td>\n",
              "      <td>NaN</td>\n",
              "      <td>NaN</td>\n",
              "      <td>NaN</td>\n",
              "      <td>NaN</td>\n",
              "      <td>NaN</td>\n",
              "      <td>...</td>\n",
              "      <td>NaN</td>\n",
              "      <td>NaN</td>\n",
              "      <td>NaN</td>\n",
              "      <td>NaN</td>\n",
              "      <td>NaN</td>\n",
              "      <td>NaN</td>\n",
              "      <td>NaN</td>\n",
              "      <td>NaN</td>\n",
              "      <td>NaN</td>\n",
              "      <td>NaN</td>\n",
              "      <td>NaN</td>\n",
              "      <td>NaN</td>\n",
              "      <td>NaN</td>\n",
              "      <td>NaN</td>\n",
              "      <td>NaN</td>\n",
              "      <td>NaN</td>\n",
              "      <td>NaN</td>\n",
              "      <td>NaN</td>\n",
              "      <td>NaN</td>\n",
              "      <td>NaN</td>\n",
              "      <td>NaN</td>\n",
              "      <td>NaN</td>\n",
              "      <td>NaN</td>\n",
              "      <td>NaN</td>\n",
              "      <td>NaN</td>\n",
              "      <td>NaN</td>\n",
              "      <td>NaN</td>\n",
              "      <td>NaN</td>\n",
              "      <td>NaN</td>\n",
              "      <td>NaN</td>\n",
              "      <td>NaN</td>\n",
              "      <td>NaN</td>\n",
              "      <td>NaN</td>\n",
              "      <td>NaN</td>\n",
              "      <td>NaN</td>\n",
              "      <td>NaN</td>\n",
              "      <td>NaN</td>\n",
              "      <td>NaN</td>\n",
              "      <td>NaN</td>\n",
              "      <td>NaN</td>\n",
              "    </tr>\n",
              "    <tr>\n",
              "      <th>610</th>\n",
              "      <td>5.0</td>\n",
              "      <td>NaN</td>\n",
              "      <td>NaN</td>\n",
              "      <td>NaN</td>\n",
              "      <td>NaN</td>\n",
              "      <td>5.0</td>\n",
              "      <td>NaN</td>\n",
              "      <td>NaN</td>\n",
              "      <td>NaN</td>\n",
              "      <td>NaN</td>\n",
              "      <td>NaN</td>\n",
              "      <td>NaN</td>\n",
              "      <td>NaN</td>\n",
              "      <td>NaN</td>\n",
              "      <td>NaN</td>\n",
              "      <td>4.5</td>\n",
              "      <td>NaN</td>\n",
              "      <td>NaN</td>\n",
              "      <td>NaN</td>\n",
              "      <td>NaN</td>\n",
              "      <td>NaN</td>\n",
              "      <td>NaN</td>\n",
              "      <td>NaN</td>\n",
              "      <td>NaN</td>\n",
              "      <td>NaN</td>\n",
              "      <td>NaN</td>\n",
              "      <td>NaN</td>\n",
              "      <td>NaN</td>\n",
              "      <td>NaN</td>\n",
              "      <td>NaN</td>\n",
              "      <td>NaN</td>\n",
              "      <td>4.5</td>\n",
              "      <td>NaN</td>\n",
              "      <td>NaN</td>\n",
              "      <td>NaN</td>\n",
              "      <td>NaN</td>\n",
              "      <td>NaN</td>\n",
              "      <td>NaN</td>\n",
              "      <td>NaN</td>\n",
              "      <td>NaN</td>\n",
              "      <td>...</td>\n",
              "      <td>NaN</td>\n",
              "      <td>NaN</td>\n",
              "      <td>NaN</td>\n",
              "      <td>NaN</td>\n",
              "      <td>NaN</td>\n",
              "      <td>NaN</td>\n",
              "      <td>NaN</td>\n",
              "      <td>NaN</td>\n",
              "      <td>NaN</td>\n",
              "      <td>NaN</td>\n",
              "      <td>NaN</td>\n",
              "      <td>NaN</td>\n",
              "      <td>NaN</td>\n",
              "      <td>NaN</td>\n",
              "      <td>NaN</td>\n",
              "      <td>NaN</td>\n",
              "      <td>NaN</td>\n",
              "      <td>NaN</td>\n",
              "      <td>NaN</td>\n",
              "      <td>NaN</td>\n",
              "      <td>NaN</td>\n",
              "      <td>NaN</td>\n",
              "      <td>NaN</td>\n",
              "      <td>NaN</td>\n",
              "      <td>NaN</td>\n",
              "      <td>NaN</td>\n",
              "      <td>NaN</td>\n",
              "      <td>NaN</td>\n",
              "      <td>NaN</td>\n",
              "      <td>NaN</td>\n",
              "      <td>NaN</td>\n",
              "      <td>NaN</td>\n",
              "      <td>NaN</td>\n",
              "      <td>NaN</td>\n",
              "      <td>NaN</td>\n",
              "      <td>NaN</td>\n",
              "      <td>NaN</td>\n",
              "      <td>NaN</td>\n",
              "      <td>NaN</td>\n",
              "      <td>NaN</td>\n",
              "    </tr>\n",
              "  </tbody>\n",
              "</table>\n",
              "<p>610 rows × 9724 columns</p>\n",
              "</div>"
            ],
            "text/plain": [
              "product_number  1       2       3       4       ...  193583  193585  193587  193609\n",
              "user_id                                         ...                                \n",
              "1                  4.0     NaN     4.0     NaN  ...     NaN     NaN     NaN     NaN\n",
              "2                  NaN     NaN     NaN     NaN  ...     NaN     NaN     NaN     NaN\n",
              "3                  NaN     NaN     NaN     NaN  ...     NaN     NaN     NaN     NaN\n",
              "4                  NaN     NaN     NaN     NaN  ...     NaN     NaN     NaN     NaN\n",
              "5                  4.0     NaN     NaN     NaN  ...     NaN     NaN     NaN     NaN\n",
              "...                ...     ...     ...     ...  ...     ...     ...     ...     ...\n",
              "606                2.5     NaN     NaN     NaN  ...     NaN     NaN     NaN     NaN\n",
              "607                4.0     NaN     NaN     NaN  ...     NaN     NaN     NaN     NaN\n",
              "608                2.5     2.0     2.0     NaN  ...     NaN     NaN     NaN     NaN\n",
              "609                3.0     NaN     NaN     NaN  ...     NaN     NaN     NaN     NaN\n",
              "610                5.0     NaN     NaN     NaN  ...     NaN     NaN     NaN     NaN\n",
              "\n",
              "[610 rows x 9724 columns]"
            ]
          },
          "metadata": {
            "tags": []
          },
          "execution_count": 77
        }
      ]
    },
    {
      "cell_type": "code",
      "metadata": {
        "id": "swq1b7Sgn3yC"
      },
      "source": [
        "df_matrix_norm = (df_matrix-df_matrix.min())/(df_matrix.max()-df_matrix.min())"
      ],
      "execution_count": 78,
      "outputs": []
    },
    {
      "cell_type": "code",
      "metadata": {
        "colab": {
          "base_uri": "https://localhost:8080/"
        },
        "id": "Mya-97BTGaDS",
        "outputId": "dda71462-e7aa-40e3-fc28-4a2e879e3998"
      },
      "source": [
        "df_matrix_norm.dtypes"
      ],
      "execution_count": 79,
      "outputs": [
        {
          "output_type": "execute_result",
          "data": {
            "text/plain": [
              "product_number\n",
              "1         float64\n",
              "2         float64\n",
              "3         float64\n",
              "4         float64\n",
              "5         float64\n",
              "           ...   \n",
              "193581    float64\n",
              "193583    float64\n",
              "193585    float64\n",
              "193587    float64\n",
              "193609    float64\n",
              "Length: 9724, dtype: object"
            ]
          },
          "metadata": {
            "tags": []
          },
          "execution_count": 79
        }
      ]
    },
    {
      "cell_type": "code",
      "metadata": {
        "id": "LJpVoc42Gl_E"
      },
      "source": [
        "#df_matrix_norm = df_matrix_norm.astype('category')"
      ],
      "execution_count": 80,
      "outputs": []
    },
    {
      "cell_type": "code",
      "metadata": {
        "colab": {
          "base_uri": "https://localhost:8080/",
          "height": 470
        },
        "id": "Df02v7Mmtn15",
        "outputId": "73af9714-1c7e-4fc4-847d-a70b7a36cfb5"
      },
      "source": [
        "df_matrix_norm"
      ],
      "execution_count": 81,
      "outputs": [
        {
          "output_type": "execute_result",
          "data": {
            "text/html": [
              "<div>\n",
              "<style scoped>\n",
              "    .dataframe tbody tr th:only-of-type {\n",
              "        vertical-align: middle;\n",
              "    }\n",
              "\n",
              "    .dataframe tbody tr th {\n",
              "        vertical-align: top;\n",
              "    }\n",
              "\n",
              "    .dataframe thead th {\n",
              "        text-align: right;\n",
              "    }\n",
              "</style>\n",
              "<table border=\"1\" class=\"dataframe\">\n",
              "  <thead>\n",
              "    <tr style=\"text-align: right;\">\n",
              "      <th>product_number</th>\n",
              "      <th>1</th>\n",
              "      <th>2</th>\n",
              "      <th>3</th>\n",
              "      <th>4</th>\n",
              "      <th>5</th>\n",
              "      <th>6</th>\n",
              "      <th>7</th>\n",
              "      <th>8</th>\n",
              "      <th>9</th>\n",
              "      <th>10</th>\n",
              "      <th>11</th>\n",
              "      <th>12</th>\n",
              "      <th>13</th>\n",
              "      <th>14</th>\n",
              "      <th>15</th>\n",
              "      <th>16</th>\n",
              "      <th>17</th>\n",
              "      <th>18</th>\n",
              "      <th>19</th>\n",
              "      <th>20</th>\n",
              "      <th>21</th>\n",
              "      <th>22</th>\n",
              "      <th>23</th>\n",
              "      <th>24</th>\n",
              "      <th>25</th>\n",
              "      <th>26</th>\n",
              "      <th>27</th>\n",
              "      <th>28</th>\n",
              "      <th>29</th>\n",
              "      <th>30</th>\n",
              "      <th>31</th>\n",
              "      <th>32</th>\n",
              "      <th>34</th>\n",
              "      <th>36</th>\n",
              "      <th>38</th>\n",
              "      <th>39</th>\n",
              "      <th>40</th>\n",
              "      <th>41</th>\n",
              "      <th>42</th>\n",
              "      <th>43</th>\n",
              "      <th>...</th>\n",
              "      <th>185135</th>\n",
              "      <th>185435</th>\n",
              "      <th>185473</th>\n",
              "      <th>185585</th>\n",
              "      <th>186587</th>\n",
              "      <th>187031</th>\n",
              "      <th>187541</th>\n",
              "      <th>187593</th>\n",
              "      <th>187595</th>\n",
              "      <th>187717</th>\n",
              "      <th>188189</th>\n",
              "      <th>188301</th>\n",
              "      <th>188675</th>\n",
              "      <th>188751</th>\n",
              "      <th>188797</th>\n",
              "      <th>188833</th>\n",
              "      <th>189043</th>\n",
              "      <th>189111</th>\n",
              "      <th>189333</th>\n",
              "      <th>189381</th>\n",
              "      <th>189547</th>\n",
              "      <th>189713</th>\n",
              "      <th>190183</th>\n",
              "      <th>190207</th>\n",
              "      <th>190209</th>\n",
              "      <th>190213</th>\n",
              "      <th>190215</th>\n",
              "      <th>190219</th>\n",
              "      <th>190221</th>\n",
              "      <th>191005</th>\n",
              "      <th>193565</th>\n",
              "      <th>193567</th>\n",
              "      <th>193571</th>\n",
              "      <th>193573</th>\n",
              "      <th>193579</th>\n",
              "      <th>193581</th>\n",
              "      <th>193583</th>\n",
              "      <th>193585</th>\n",
              "      <th>193587</th>\n",
              "      <th>193609</th>\n",
              "    </tr>\n",
              "    <tr>\n",
              "      <th>user_id</th>\n",
              "      <th></th>\n",
              "      <th></th>\n",
              "      <th></th>\n",
              "      <th></th>\n",
              "      <th></th>\n",
              "      <th></th>\n",
              "      <th></th>\n",
              "      <th></th>\n",
              "      <th></th>\n",
              "      <th></th>\n",
              "      <th></th>\n",
              "      <th></th>\n",
              "      <th></th>\n",
              "      <th></th>\n",
              "      <th></th>\n",
              "      <th></th>\n",
              "      <th></th>\n",
              "      <th></th>\n",
              "      <th></th>\n",
              "      <th></th>\n",
              "      <th></th>\n",
              "      <th></th>\n",
              "      <th></th>\n",
              "      <th></th>\n",
              "      <th></th>\n",
              "      <th></th>\n",
              "      <th></th>\n",
              "      <th></th>\n",
              "      <th></th>\n",
              "      <th></th>\n",
              "      <th></th>\n",
              "      <th></th>\n",
              "      <th></th>\n",
              "      <th></th>\n",
              "      <th></th>\n",
              "      <th></th>\n",
              "      <th></th>\n",
              "      <th></th>\n",
              "      <th></th>\n",
              "      <th></th>\n",
              "      <th></th>\n",
              "      <th></th>\n",
              "      <th></th>\n",
              "      <th></th>\n",
              "      <th></th>\n",
              "      <th></th>\n",
              "      <th></th>\n",
              "      <th></th>\n",
              "      <th></th>\n",
              "      <th></th>\n",
              "      <th></th>\n",
              "      <th></th>\n",
              "      <th></th>\n",
              "      <th></th>\n",
              "      <th></th>\n",
              "      <th></th>\n",
              "      <th></th>\n",
              "      <th></th>\n",
              "      <th></th>\n",
              "      <th></th>\n",
              "      <th></th>\n",
              "      <th></th>\n",
              "      <th></th>\n",
              "      <th></th>\n",
              "      <th></th>\n",
              "      <th></th>\n",
              "      <th></th>\n",
              "      <th></th>\n",
              "      <th></th>\n",
              "      <th></th>\n",
              "      <th></th>\n",
              "      <th></th>\n",
              "      <th></th>\n",
              "      <th></th>\n",
              "      <th></th>\n",
              "      <th></th>\n",
              "      <th></th>\n",
              "      <th></th>\n",
              "      <th></th>\n",
              "      <th></th>\n",
              "      <th></th>\n",
              "    </tr>\n",
              "  </thead>\n",
              "  <tbody>\n",
              "    <tr>\n",
              "      <th>1</th>\n",
              "      <td>0.777778</td>\n",
              "      <td>NaN</td>\n",
              "      <td>0.777778</td>\n",
              "      <td>NaN</td>\n",
              "      <td>NaN</td>\n",
              "      <td>0.75</td>\n",
              "      <td>NaN</td>\n",
              "      <td>NaN</td>\n",
              "      <td>NaN</td>\n",
              "      <td>NaN</td>\n",
              "      <td>NaN</td>\n",
              "      <td>NaN</td>\n",
              "      <td>NaN</td>\n",
              "      <td>NaN</td>\n",
              "      <td>NaN</td>\n",
              "      <td>NaN</td>\n",
              "      <td>NaN</td>\n",
              "      <td>NaN</td>\n",
              "      <td>NaN</td>\n",
              "      <td>NaN</td>\n",
              "      <td>NaN</td>\n",
              "      <td>NaN</td>\n",
              "      <td>NaN</td>\n",
              "      <td>NaN</td>\n",
              "      <td>NaN</td>\n",
              "      <td>NaN</td>\n",
              "      <td>NaN</td>\n",
              "      <td>NaN</td>\n",
              "      <td>NaN</td>\n",
              "      <td>NaN</td>\n",
              "      <td>NaN</td>\n",
              "      <td>NaN</td>\n",
              "      <td>NaN</td>\n",
              "      <td>NaN</td>\n",
              "      <td>NaN</td>\n",
              "      <td>NaN</td>\n",
              "      <td>NaN</td>\n",
              "      <td>NaN</td>\n",
              "      <td>NaN</td>\n",
              "      <td>NaN</td>\n",
              "      <td>...</td>\n",
              "      <td>NaN</td>\n",
              "      <td>NaN</td>\n",
              "      <td>NaN</td>\n",
              "      <td>NaN</td>\n",
              "      <td>NaN</td>\n",
              "      <td>NaN</td>\n",
              "      <td>NaN</td>\n",
              "      <td>NaN</td>\n",
              "      <td>NaN</td>\n",
              "      <td>NaN</td>\n",
              "      <td>NaN</td>\n",
              "      <td>NaN</td>\n",
              "      <td>NaN</td>\n",
              "      <td>NaN</td>\n",
              "      <td>NaN</td>\n",
              "      <td>NaN</td>\n",
              "      <td>NaN</td>\n",
              "      <td>NaN</td>\n",
              "      <td>NaN</td>\n",
              "      <td>NaN</td>\n",
              "      <td>NaN</td>\n",
              "      <td>NaN</td>\n",
              "      <td>NaN</td>\n",
              "      <td>NaN</td>\n",
              "      <td>NaN</td>\n",
              "      <td>NaN</td>\n",
              "      <td>NaN</td>\n",
              "      <td>NaN</td>\n",
              "      <td>NaN</td>\n",
              "      <td>NaN</td>\n",
              "      <td>NaN</td>\n",
              "      <td>NaN</td>\n",
              "      <td>NaN</td>\n",
              "      <td>NaN</td>\n",
              "      <td>NaN</td>\n",
              "      <td>NaN</td>\n",
              "      <td>NaN</td>\n",
              "      <td>NaN</td>\n",
              "      <td>NaN</td>\n",
              "      <td>NaN</td>\n",
              "    </tr>\n",
              "    <tr>\n",
              "      <th>2</th>\n",
              "      <td>NaN</td>\n",
              "      <td>NaN</td>\n",
              "      <td>NaN</td>\n",
              "      <td>NaN</td>\n",
              "      <td>NaN</td>\n",
              "      <td>NaN</td>\n",
              "      <td>NaN</td>\n",
              "      <td>NaN</td>\n",
              "      <td>NaN</td>\n",
              "      <td>NaN</td>\n",
              "      <td>NaN</td>\n",
              "      <td>NaN</td>\n",
              "      <td>NaN</td>\n",
              "      <td>NaN</td>\n",
              "      <td>NaN</td>\n",
              "      <td>NaN</td>\n",
              "      <td>NaN</td>\n",
              "      <td>NaN</td>\n",
              "      <td>NaN</td>\n",
              "      <td>NaN</td>\n",
              "      <td>NaN</td>\n",
              "      <td>NaN</td>\n",
              "      <td>NaN</td>\n",
              "      <td>NaN</td>\n",
              "      <td>NaN</td>\n",
              "      <td>NaN</td>\n",
              "      <td>NaN</td>\n",
              "      <td>NaN</td>\n",
              "      <td>NaN</td>\n",
              "      <td>NaN</td>\n",
              "      <td>NaN</td>\n",
              "      <td>NaN</td>\n",
              "      <td>NaN</td>\n",
              "      <td>NaN</td>\n",
              "      <td>NaN</td>\n",
              "      <td>NaN</td>\n",
              "      <td>NaN</td>\n",
              "      <td>NaN</td>\n",
              "      <td>NaN</td>\n",
              "      <td>NaN</td>\n",
              "      <td>...</td>\n",
              "      <td>NaN</td>\n",
              "      <td>NaN</td>\n",
              "      <td>NaN</td>\n",
              "      <td>NaN</td>\n",
              "      <td>NaN</td>\n",
              "      <td>NaN</td>\n",
              "      <td>NaN</td>\n",
              "      <td>NaN</td>\n",
              "      <td>NaN</td>\n",
              "      <td>NaN</td>\n",
              "      <td>NaN</td>\n",
              "      <td>NaN</td>\n",
              "      <td>NaN</td>\n",
              "      <td>NaN</td>\n",
              "      <td>NaN</td>\n",
              "      <td>NaN</td>\n",
              "      <td>NaN</td>\n",
              "      <td>NaN</td>\n",
              "      <td>NaN</td>\n",
              "      <td>NaN</td>\n",
              "      <td>NaN</td>\n",
              "      <td>NaN</td>\n",
              "      <td>NaN</td>\n",
              "      <td>NaN</td>\n",
              "      <td>NaN</td>\n",
              "      <td>NaN</td>\n",
              "      <td>NaN</td>\n",
              "      <td>NaN</td>\n",
              "      <td>NaN</td>\n",
              "      <td>NaN</td>\n",
              "      <td>NaN</td>\n",
              "      <td>NaN</td>\n",
              "      <td>NaN</td>\n",
              "      <td>NaN</td>\n",
              "      <td>NaN</td>\n",
              "      <td>NaN</td>\n",
              "      <td>NaN</td>\n",
              "      <td>NaN</td>\n",
              "      <td>NaN</td>\n",
              "      <td>NaN</td>\n",
              "    </tr>\n",
              "    <tr>\n",
              "      <th>3</th>\n",
              "      <td>NaN</td>\n",
              "      <td>NaN</td>\n",
              "      <td>NaN</td>\n",
              "      <td>NaN</td>\n",
              "      <td>NaN</td>\n",
              "      <td>NaN</td>\n",
              "      <td>NaN</td>\n",
              "      <td>NaN</td>\n",
              "      <td>NaN</td>\n",
              "      <td>NaN</td>\n",
              "      <td>NaN</td>\n",
              "      <td>NaN</td>\n",
              "      <td>NaN</td>\n",
              "      <td>NaN</td>\n",
              "      <td>NaN</td>\n",
              "      <td>NaN</td>\n",
              "      <td>NaN</td>\n",
              "      <td>NaN</td>\n",
              "      <td>NaN</td>\n",
              "      <td>NaN</td>\n",
              "      <td>NaN</td>\n",
              "      <td>NaN</td>\n",
              "      <td>NaN</td>\n",
              "      <td>NaN</td>\n",
              "      <td>NaN</td>\n",
              "      <td>NaN</td>\n",
              "      <td>NaN</td>\n",
              "      <td>NaN</td>\n",
              "      <td>NaN</td>\n",
              "      <td>NaN</td>\n",
              "      <td>0.000000</td>\n",
              "      <td>NaN</td>\n",
              "      <td>NaN</td>\n",
              "      <td>NaN</td>\n",
              "      <td>NaN</td>\n",
              "      <td>NaN</td>\n",
              "      <td>NaN</td>\n",
              "      <td>NaN</td>\n",
              "      <td>NaN</td>\n",
              "      <td>NaN</td>\n",
              "      <td>...</td>\n",
              "      <td>NaN</td>\n",
              "      <td>NaN</td>\n",
              "      <td>NaN</td>\n",
              "      <td>NaN</td>\n",
              "      <td>NaN</td>\n",
              "      <td>NaN</td>\n",
              "      <td>NaN</td>\n",
              "      <td>NaN</td>\n",
              "      <td>NaN</td>\n",
              "      <td>NaN</td>\n",
              "      <td>NaN</td>\n",
              "      <td>NaN</td>\n",
              "      <td>NaN</td>\n",
              "      <td>NaN</td>\n",
              "      <td>NaN</td>\n",
              "      <td>NaN</td>\n",
              "      <td>NaN</td>\n",
              "      <td>NaN</td>\n",
              "      <td>NaN</td>\n",
              "      <td>NaN</td>\n",
              "      <td>NaN</td>\n",
              "      <td>NaN</td>\n",
              "      <td>NaN</td>\n",
              "      <td>NaN</td>\n",
              "      <td>NaN</td>\n",
              "      <td>NaN</td>\n",
              "      <td>NaN</td>\n",
              "      <td>NaN</td>\n",
              "      <td>NaN</td>\n",
              "      <td>NaN</td>\n",
              "      <td>NaN</td>\n",
              "      <td>NaN</td>\n",
              "      <td>NaN</td>\n",
              "      <td>NaN</td>\n",
              "      <td>NaN</td>\n",
              "      <td>NaN</td>\n",
              "      <td>NaN</td>\n",
              "      <td>NaN</td>\n",
              "      <td>NaN</td>\n",
              "      <td>NaN</td>\n",
              "    </tr>\n",
              "    <tr>\n",
              "      <th>4</th>\n",
              "      <td>NaN</td>\n",
              "      <td>NaN</td>\n",
              "      <td>NaN</td>\n",
              "      <td>NaN</td>\n",
              "      <td>NaN</td>\n",
              "      <td>NaN</td>\n",
              "      <td>NaN</td>\n",
              "      <td>NaN</td>\n",
              "      <td>NaN</td>\n",
              "      <td>NaN</td>\n",
              "      <td>NaN</td>\n",
              "      <td>NaN</td>\n",
              "      <td>NaN</td>\n",
              "      <td>NaN</td>\n",
              "      <td>NaN</td>\n",
              "      <td>NaN</td>\n",
              "      <td>NaN</td>\n",
              "      <td>NaN</td>\n",
              "      <td>NaN</td>\n",
              "      <td>NaN</td>\n",
              "      <td>0.500</td>\n",
              "      <td>NaN</td>\n",
              "      <td>NaN</td>\n",
              "      <td>NaN</td>\n",
              "      <td>NaN</td>\n",
              "      <td>NaN</td>\n",
              "      <td>NaN</td>\n",
              "      <td>NaN</td>\n",
              "      <td>NaN</td>\n",
              "      <td>NaN</td>\n",
              "      <td>NaN</td>\n",
              "      <td>0.250</td>\n",
              "      <td>NaN</td>\n",
              "      <td>NaN</td>\n",
              "      <td>NaN</td>\n",
              "      <td>NaN</td>\n",
              "      <td>NaN</td>\n",
              "      <td>NaN</td>\n",
              "      <td>NaN</td>\n",
              "      <td>NaN</td>\n",
              "      <td>...</td>\n",
              "      <td>NaN</td>\n",
              "      <td>NaN</td>\n",
              "      <td>NaN</td>\n",
              "      <td>NaN</td>\n",
              "      <td>NaN</td>\n",
              "      <td>NaN</td>\n",
              "      <td>NaN</td>\n",
              "      <td>NaN</td>\n",
              "      <td>NaN</td>\n",
              "      <td>NaN</td>\n",
              "      <td>NaN</td>\n",
              "      <td>NaN</td>\n",
              "      <td>NaN</td>\n",
              "      <td>NaN</td>\n",
              "      <td>NaN</td>\n",
              "      <td>NaN</td>\n",
              "      <td>NaN</td>\n",
              "      <td>NaN</td>\n",
              "      <td>NaN</td>\n",
              "      <td>NaN</td>\n",
              "      <td>NaN</td>\n",
              "      <td>NaN</td>\n",
              "      <td>NaN</td>\n",
              "      <td>NaN</td>\n",
              "      <td>NaN</td>\n",
              "      <td>NaN</td>\n",
              "      <td>NaN</td>\n",
              "      <td>NaN</td>\n",
              "      <td>NaN</td>\n",
              "      <td>NaN</td>\n",
              "      <td>NaN</td>\n",
              "      <td>NaN</td>\n",
              "      <td>NaN</td>\n",
              "      <td>NaN</td>\n",
              "      <td>NaN</td>\n",
              "      <td>NaN</td>\n",
              "      <td>NaN</td>\n",
              "      <td>NaN</td>\n",
              "      <td>NaN</td>\n",
              "      <td>NaN</td>\n",
              "    </tr>\n",
              "    <tr>\n",
              "      <th>5</th>\n",
              "      <td>0.777778</td>\n",
              "      <td>NaN</td>\n",
              "      <td>NaN</td>\n",
              "      <td>NaN</td>\n",
              "      <td>NaN</td>\n",
              "      <td>NaN</td>\n",
              "      <td>NaN</td>\n",
              "      <td>NaN</td>\n",
              "      <td>NaN</td>\n",
              "      <td>NaN</td>\n",
              "      <td>NaN</td>\n",
              "      <td>NaN</td>\n",
              "      <td>NaN</td>\n",
              "      <td>NaN</td>\n",
              "      <td>NaN</td>\n",
              "      <td>NaN</td>\n",
              "      <td>NaN</td>\n",
              "      <td>NaN</td>\n",
              "      <td>NaN</td>\n",
              "      <td>NaN</td>\n",
              "      <td>0.750</td>\n",
              "      <td>NaN</td>\n",
              "      <td>NaN</td>\n",
              "      <td>NaN</td>\n",
              "      <td>NaN</td>\n",
              "      <td>NaN</td>\n",
              "      <td>NaN</td>\n",
              "      <td>NaN</td>\n",
              "      <td>NaN</td>\n",
              "      <td>NaN</td>\n",
              "      <td>NaN</td>\n",
              "      <td>NaN</td>\n",
              "      <td>0.750</td>\n",
              "      <td>0.777778</td>\n",
              "      <td>NaN</td>\n",
              "      <td>0.555556</td>\n",
              "      <td>NaN</td>\n",
              "      <td>NaN</td>\n",
              "      <td>NaN</td>\n",
              "      <td>NaN</td>\n",
              "      <td>...</td>\n",
              "      <td>NaN</td>\n",
              "      <td>NaN</td>\n",
              "      <td>NaN</td>\n",
              "      <td>NaN</td>\n",
              "      <td>NaN</td>\n",
              "      <td>NaN</td>\n",
              "      <td>NaN</td>\n",
              "      <td>NaN</td>\n",
              "      <td>NaN</td>\n",
              "      <td>NaN</td>\n",
              "      <td>NaN</td>\n",
              "      <td>NaN</td>\n",
              "      <td>NaN</td>\n",
              "      <td>NaN</td>\n",
              "      <td>NaN</td>\n",
              "      <td>NaN</td>\n",
              "      <td>NaN</td>\n",
              "      <td>NaN</td>\n",
              "      <td>NaN</td>\n",
              "      <td>NaN</td>\n",
              "      <td>NaN</td>\n",
              "      <td>NaN</td>\n",
              "      <td>NaN</td>\n",
              "      <td>NaN</td>\n",
              "      <td>NaN</td>\n",
              "      <td>NaN</td>\n",
              "      <td>NaN</td>\n",
              "      <td>NaN</td>\n",
              "      <td>NaN</td>\n",
              "      <td>NaN</td>\n",
              "      <td>NaN</td>\n",
              "      <td>NaN</td>\n",
              "      <td>NaN</td>\n",
              "      <td>NaN</td>\n",
              "      <td>NaN</td>\n",
              "      <td>NaN</td>\n",
              "      <td>NaN</td>\n",
              "      <td>NaN</td>\n",
              "      <td>NaN</td>\n",
              "      <td>NaN</td>\n",
              "    </tr>\n",
              "    <tr>\n",
              "      <th>...</th>\n",
              "      <td>...</td>\n",
              "      <td>...</td>\n",
              "      <td>...</td>\n",
              "      <td>...</td>\n",
              "      <td>...</td>\n",
              "      <td>...</td>\n",
              "      <td>...</td>\n",
              "      <td>...</td>\n",
              "      <td>...</td>\n",
              "      <td>...</td>\n",
              "      <td>...</td>\n",
              "      <td>...</td>\n",
              "      <td>...</td>\n",
              "      <td>...</td>\n",
              "      <td>...</td>\n",
              "      <td>...</td>\n",
              "      <td>...</td>\n",
              "      <td>...</td>\n",
              "      <td>...</td>\n",
              "      <td>...</td>\n",
              "      <td>...</td>\n",
              "      <td>...</td>\n",
              "      <td>...</td>\n",
              "      <td>...</td>\n",
              "      <td>...</td>\n",
              "      <td>...</td>\n",
              "      <td>...</td>\n",
              "      <td>...</td>\n",
              "      <td>...</td>\n",
              "      <td>...</td>\n",
              "      <td>...</td>\n",
              "      <td>...</td>\n",
              "      <td>...</td>\n",
              "      <td>...</td>\n",
              "      <td>...</td>\n",
              "      <td>...</td>\n",
              "      <td>...</td>\n",
              "      <td>...</td>\n",
              "      <td>...</td>\n",
              "      <td>...</td>\n",
              "      <td>...</td>\n",
              "      <td>...</td>\n",
              "      <td>...</td>\n",
              "      <td>...</td>\n",
              "      <td>...</td>\n",
              "      <td>...</td>\n",
              "      <td>...</td>\n",
              "      <td>...</td>\n",
              "      <td>...</td>\n",
              "      <td>...</td>\n",
              "      <td>...</td>\n",
              "      <td>...</td>\n",
              "      <td>...</td>\n",
              "      <td>...</td>\n",
              "      <td>...</td>\n",
              "      <td>...</td>\n",
              "      <td>...</td>\n",
              "      <td>...</td>\n",
              "      <td>...</td>\n",
              "      <td>...</td>\n",
              "      <td>...</td>\n",
              "      <td>...</td>\n",
              "      <td>...</td>\n",
              "      <td>...</td>\n",
              "      <td>...</td>\n",
              "      <td>...</td>\n",
              "      <td>...</td>\n",
              "      <td>...</td>\n",
              "      <td>...</td>\n",
              "      <td>...</td>\n",
              "      <td>...</td>\n",
              "      <td>...</td>\n",
              "      <td>...</td>\n",
              "      <td>...</td>\n",
              "      <td>...</td>\n",
              "      <td>...</td>\n",
              "      <td>...</td>\n",
              "      <td>...</td>\n",
              "      <td>...</td>\n",
              "      <td>...</td>\n",
              "      <td>...</td>\n",
              "    </tr>\n",
              "    <tr>\n",
              "      <th>606</th>\n",
              "      <td>0.444444</td>\n",
              "      <td>NaN</td>\n",
              "      <td>NaN</td>\n",
              "      <td>NaN</td>\n",
              "      <td>NaN</td>\n",
              "      <td>NaN</td>\n",
              "      <td>0.375</td>\n",
              "      <td>NaN</td>\n",
              "      <td>NaN</td>\n",
              "      <td>NaN</td>\n",
              "      <td>0.375</td>\n",
              "      <td>NaN</td>\n",
              "      <td>NaN</td>\n",
              "      <td>NaN</td>\n",
              "      <td>0.625</td>\n",
              "      <td>NaN</td>\n",
              "      <td>0.777778</td>\n",
              "      <td>0.666667</td>\n",
              "      <td>0.25</td>\n",
              "      <td>NaN</td>\n",
              "      <td>NaN</td>\n",
              "      <td>NaN</td>\n",
              "      <td>NaN</td>\n",
              "      <td>NaN</td>\n",
              "      <td>NaN</td>\n",
              "      <td>NaN</td>\n",
              "      <td>NaN</td>\n",
              "      <td>0.4</td>\n",
              "      <td>0.833333</td>\n",
              "      <td>NaN</td>\n",
              "      <td>NaN</td>\n",
              "      <td>0.750</td>\n",
              "      <td>NaN</td>\n",
              "      <td>0.666667</td>\n",
              "      <td>NaN</td>\n",
              "      <td>NaN</td>\n",
              "      <td>NaN</td>\n",
              "      <td>NaN</td>\n",
              "      <td>NaN</td>\n",
              "      <td>NaN</td>\n",
              "      <td>...</td>\n",
              "      <td>NaN</td>\n",
              "      <td>NaN</td>\n",
              "      <td>NaN</td>\n",
              "      <td>NaN</td>\n",
              "      <td>NaN</td>\n",
              "      <td>NaN</td>\n",
              "      <td>NaN</td>\n",
              "      <td>NaN</td>\n",
              "      <td>NaN</td>\n",
              "      <td>NaN</td>\n",
              "      <td>NaN</td>\n",
              "      <td>NaN</td>\n",
              "      <td>NaN</td>\n",
              "      <td>NaN</td>\n",
              "      <td>NaN</td>\n",
              "      <td>NaN</td>\n",
              "      <td>NaN</td>\n",
              "      <td>NaN</td>\n",
              "      <td>NaN</td>\n",
              "      <td>NaN</td>\n",
              "      <td>NaN</td>\n",
              "      <td>NaN</td>\n",
              "      <td>NaN</td>\n",
              "      <td>NaN</td>\n",
              "      <td>NaN</td>\n",
              "      <td>NaN</td>\n",
              "      <td>NaN</td>\n",
              "      <td>NaN</td>\n",
              "      <td>NaN</td>\n",
              "      <td>NaN</td>\n",
              "      <td>NaN</td>\n",
              "      <td>NaN</td>\n",
              "      <td>NaN</td>\n",
              "      <td>NaN</td>\n",
              "      <td>NaN</td>\n",
              "      <td>NaN</td>\n",
              "      <td>NaN</td>\n",
              "      <td>NaN</td>\n",
              "      <td>NaN</td>\n",
              "      <td>NaN</td>\n",
              "    </tr>\n",
              "    <tr>\n",
              "      <th>607</th>\n",
              "      <td>0.777778</td>\n",
              "      <td>NaN</td>\n",
              "      <td>NaN</td>\n",
              "      <td>NaN</td>\n",
              "      <td>NaN</td>\n",
              "      <td>NaN</td>\n",
              "      <td>NaN</td>\n",
              "      <td>NaN</td>\n",
              "      <td>NaN</td>\n",
              "      <td>NaN</td>\n",
              "      <td>0.500</td>\n",
              "      <td>NaN</td>\n",
              "      <td>NaN</td>\n",
              "      <td>NaN</td>\n",
              "      <td>NaN</td>\n",
              "      <td>NaN</td>\n",
              "      <td>NaN</td>\n",
              "      <td>NaN</td>\n",
              "      <td>NaN</td>\n",
              "      <td>NaN</td>\n",
              "      <td>NaN</td>\n",
              "      <td>NaN</td>\n",
              "      <td>NaN</td>\n",
              "      <td>NaN</td>\n",
              "      <td>0.5</td>\n",
              "      <td>NaN</td>\n",
              "      <td>NaN</td>\n",
              "      <td>NaN</td>\n",
              "      <td>NaN</td>\n",
              "      <td>NaN</td>\n",
              "      <td>NaN</td>\n",
              "      <td>NaN</td>\n",
              "      <td>0.500</td>\n",
              "      <td>0.777778</td>\n",
              "      <td>NaN</td>\n",
              "      <td>NaN</td>\n",
              "      <td>NaN</td>\n",
              "      <td>NaN</td>\n",
              "      <td>NaN</td>\n",
              "      <td>NaN</td>\n",
              "      <td>...</td>\n",
              "      <td>NaN</td>\n",
              "      <td>NaN</td>\n",
              "      <td>NaN</td>\n",
              "      <td>NaN</td>\n",
              "      <td>NaN</td>\n",
              "      <td>NaN</td>\n",
              "      <td>NaN</td>\n",
              "      <td>NaN</td>\n",
              "      <td>NaN</td>\n",
              "      <td>NaN</td>\n",
              "      <td>NaN</td>\n",
              "      <td>NaN</td>\n",
              "      <td>NaN</td>\n",
              "      <td>NaN</td>\n",
              "      <td>NaN</td>\n",
              "      <td>NaN</td>\n",
              "      <td>NaN</td>\n",
              "      <td>NaN</td>\n",
              "      <td>NaN</td>\n",
              "      <td>NaN</td>\n",
              "      <td>NaN</td>\n",
              "      <td>NaN</td>\n",
              "      <td>NaN</td>\n",
              "      <td>NaN</td>\n",
              "      <td>NaN</td>\n",
              "      <td>NaN</td>\n",
              "      <td>NaN</td>\n",
              "      <td>NaN</td>\n",
              "      <td>NaN</td>\n",
              "      <td>NaN</td>\n",
              "      <td>NaN</td>\n",
              "      <td>NaN</td>\n",
              "      <td>NaN</td>\n",
              "      <td>NaN</td>\n",
              "      <td>NaN</td>\n",
              "      <td>NaN</td>\n",
              "      <td>NaN</td>\n",
              "      <td>NaN</td>\n",
              "      <td>NaN</td>\n",
              "      <td>NaN</td>\n",
              "    </tr>\n",
              "    <tr>\n",
              "      <th>608</th>\n",
              "      <td>0.444444</td>\n",
              "      <td>0.333333</td>\n",
              "      <td>0.333333</td>\n",
              "      <td>NaN</td>\n",
              "      <td>NaN</td>\n",
              "      <td>NaN</td>\n",
              "      <td>NaN</td>\n",
              "      <td>NaN</td>\n",
              "      <td>NaN</td>\n",
              "      <td>0.777778</td>\n",
              "      <td>NaN</td>\n",
              "      <td>NaN</td>\n",
              "      <td>NaN</td>\n",
              "      <td>NaN</td>\n",
              "      <td>NaN</td>\n",
              "      <td>0.875</td>\n",
              "      <td>NaN</td>\n",
              "      <td>NaN</td>\n",
              "      <td>0.25</td>\n",
              "      <td>NaN</td>\n",
              "      <td>0.625</td>\n",
              "      <td>NaN</td>\n",
              "      <td>NaN</td>\n",
              "      <td>0.25</td>\n",
              "      <td>NaN</td>\n",
              "      <td>NaN</td>\n",
              "      <td>NaN</td>\n",
              "      <td>NaN</td>\n",
              "      <td>NaN</td>\n",
              "      <td>NaN</td>\n",
              "      <td>0.555556</td>\n",
              "      <td>0.625</td>\n",
              "      <td>0.625</td>\n",
              "      <td>NaN</td>\n",
              "      <td>NaN</td>\n",
              "      <td>0.555556</td>\n",
              "      <td>NaN</td>\n",
              "      <td>NaN</td>\n",
              "      <td>NaN</td>\n",
              "      <td>NaN</td>\n",
              "      <td>...</td>\n",
              "      <td>NaN</td>\n",
              "      <td>NaN</td>\n",
              "      <td>NaN</td>\n",
              "      <td>NaN</td>\n",
              "      <td>NaN</td>\n",
              "      <td>NaN</td>\n",
              "      <td>NaN</td>\n",
              "      <td>NaN</td>\n",
              "      <td>NaN</td>\n",
              "      <td>NaN</td>\n",
              "      <td>NaN</td>\n",
              "      <td>NaN</td>\n",
              "      <td>NaN</td>\n",
              "      <td>NaN</td>\n",
              "      <td>NaN</td>\n",
              "      <td>NaN</td>\n",
              "      <td>NaN</td>\n",
              "      <td>NaN</td>\n",
              "      <td>NaN</td>\n",
              "      <td>NaN</td>\n",
              "      <td>NaN</td>\n",
              "      <td>NaN</td>\n",
              "      <td>NaN</td>\n",
              "      <td>NaN</td>\n",
              "      <td>NaN</td>\n",
              "      <td>NaN</td>\n",
              "      <td>NaN</td>\n",
              "      <td>NaN</td>\n",
              "      <td>NaN</td>\n",
              "      <td>NaN</td>\n",
              "      <td>NaN</td>\n",
              "      <td>NaN</td>\n",
              "      <td>NaN</td>\n",
              "      <td>NaN</td>\n",
              "      <td>NaN</td>\n",
              "      <td>NaN</td>\n",
              "      <td>NaN</td>\n",
              "      <td>NaN</td>\n",
              "      <td>NaN</td>\n",
              "      <td>NaN</td>\n",
              "    </tr>\n",
              "    <tr>\n",
              "      <th>609</th>\n",
              "      <td>0.555556</td>\n",
              "      <td>NaN</td>\n",
              "      <td>NaN</td>\n",
              "      <td>NaN</td>\n",
              "      <td>NaN</td>\n",
              "      <td>NaN</td>\n",
              "      <td>NaN</td>\n",
              "      <td>NaN</td>\n",
              "      <td>NaN</td>\n",
              "      <td>0.777778</td>\n",
              "      <td>NaN</td>\n",
              "      <td>NaN</td>\n",
              "      <td>NaN</td>\n",
              "      <td>NaN</td>\n",
              "      <td>NaN</td>\n",
              "      <td>NaN</td>\n",
              "      <td>NaN</td>\n",
              "      <td>NaN</td>\n",
              "      <td>NaN</td>\n",
              "      <td>NaN</td>\n",
              "      <td>NaN</td>\n",
              "      <td>NaN</td>\n",
              "      <td>NaN</td>\n",
              "      <td>NaN</td>\n",
              "      <td>NaN</td>\n",
              "      <td>NaN</td>\n",
              "      <td>NaN</td>\n",
              "      <td>NaN</td>\n",
              "      <td>NaN</td>\n",
              "      <td>NaN</td>\n",
              "      <td>NaN</td>\n",
              "      <td>NaN</td>\n",
              "      <td>NaN</td>\n",
              "      <td>NaN</td>\n",
              "      <td>NaN</td>\n",
              "      <td>NaN</td>\n",
              "      <td>NaN</td>\n",
              "      <td>NaN</td>\n",
              "      <td>NaN</td>\n",
              "      <td>NaN</td>\n",
              "      <td>...</td>\n",
              "      <td>NaN</td>\n",
              "      <td>NaN</td>\n",
              "      <td>NaN</td>\n",
              "      <td>NaN</td>\n",
              "      <td>NaN</td>\n",
              "      <td>NaN</td>\n",
              "      <td>NaN</td>\n",
              "      <td>NaN</td>\n",
              "      <td>NaN</td>\n",
              "      <td>NaN</td>\n",
              "      <td>NaN</td>\n",
              "      <td>NaN</td>\n",
              "      <td>NaN</td>\n",
              "      <td>NaN</td>\n",
              "      <td>NaN</td>\n",
              "      <td>NaN</td>\n",
              "      <td>NaN</td>\n",
              "      <td>NaN</td>\n",
              "      <td>NaN</td>\n",
              "      <td>NaN</td>\n",
              "      <td>NaN</td>\n",
              "      <td>NaN</td>\n",
              "      <td>NaN</td>\n",
              "      <td>NaN</td>\n",
              "      <td>NaN</td>\n",
              "      <td>NaN</td>\n",
              "      <td>NaN</td>\n",
              "      <td>NaN</td>\n",
              "      <td>NaN</td>\n",
              "      <td>NaN</td>\n",
              "      <td>NaN</td>\n",
              "      <td>NaN</td>\n",
              "      <td>NaN</td>\n",
              "      <td>NaN</td>\n",
              "      <td>NaN</td>\n",
              "      <td>NaN</td>\n",
              "      <td>NaN</td>\n",
              "      <td>NaN</td>\n",
              "      <td>NaN</td>\n",
              "      <td>NaN</td>\n",
              "    </tr>\n",
              "    <tr>\n",
              "      <th>610</th>\n",
              "      <td>1.000000</td>\n",
              "      <td>NaN</td>\n",
              "      <td>NaN</td>\n",
              "      <td>NaN</td>\n",
              "      <td>NaN</td>\n",
              "      <td>1.00</td>\n",
              "      <td>NaN</td>\n",
              "      <td>NaN</td>\n",
              "      <td>NaN</td>\n",
              "      <td>NaN</td>\n",
              "      <td>NaN</td>\n",
              "      <td>NaN</td>\n",
              "      <td>NaN</td>\n",
              "      <td>NaN</td>\n",
              "      <td>NaN</td>\n",
              "      <td>0.875</td>\n",
              "      <td>NaN</td>\n",
              "      <td>NaN</td>\n",
              "      <td>NaN</td>\n",
              "      <td>NaN</td>\n",
              "      <td>NaN</td>\n",
              "      <td>NaN</td>\n",
              "      <td>NaN</td>\n",
              "      <td>NaN</td>\n",
              "      <td>NaN</td>\n",
              "      <td>NaN</td>\n",
              "      <td>NaN</td>\n",
              "      <td>NaN</td>\n",
              "      <td>NaN</td>\n",
              "      <td>NaN</td>\n",
              "      <td>NaN</td>\n",
              "      <td>0.875</td>\n",
              "      <td>NaN</td>\n",
              "      <td>NaN</td>\n",
              "      <td>NaN</td>\n",
              "      <td>NaN</td>\n",
              "      <td>NaN</td>\n",
              "      <td>NaN</td>\n",
              "      <td>NaN</td>\n",
              "      <td>NaN</td>\n",
              "      <td>...</td>\n",
              "      <td>NaN</td>\n",
              "      <td>NaN</td>\n",
              "      <td>NaN</td>\n",
              "      <td>NaN</td>\n",
              "      <td>NaN</td>\n",
              "      <td>NaN</td>\n",
              "      <td>NaN</td>\n",
              "      <td>NaN</td>\n",
              "      <td>NaN</td>\n",
              "      <td>NaN</td>\n",
              "      <td>NaN</td>\n",
              "      <td>NaN</td>\n",
              "      <td>NaN</td>\n",
              "      <td>NaN</td>\n",
              "      <td>NaN</td>\n",
              "      <td>NaN</td>\n",
              "      <td>NaN</td>\n",
              "      <td>NaN</td>\n",
              "      <td>NaN</td>\n",
              "      <td>NaN</td>\n",
              "      <td>NaN</td>\n",
              "      <td>NaN</td>\n",
              "      <td>NaN</td>\n",
              "      <td>NaN</td>\n",
              "      <td>NaN</td>\n",
              "      <td>NaN</td>\n",
              "      <td>NaN</td>\n",
              "      <td>NaN</td>\n",
              "      <td>NaN</td>\n",
              "      <td>NaN</td>\n",
              "      <td>NaN</td>\n",
              "      <td>NaN</td>\n",
              "      <td>NaN</td>\n",
              "      <td>NaN</td>\n",
              "      <td>NaN</td>\n",
              "      <td>NaN</td>\n",
              "      <td>NaN</td>\n",
              "      <td>NaN</td>\n",
              "      <td>NaN</td>\n",
              "      <td>NaN</td>\n",
              "    </tr>\n",
              "  </tbody>\n",
              "</table>\n",
              "<p>610 rows × 9724 columns</p>\n",
              "</div>"
            ],
            "text/plain": [
              "product_number    1         2         3       ...  193585  193587  193609\n",
              "user_id                                       ...                        \n",
              "1               0.777778       NaN  0.777778  ...     NaN     NaN     NaN\n",
              "2                    NaN       NaN       NaN  ...     NaN     NaN     NaN\n",
              "3                    NaN       NaN       NaN  ...     NaN     NaN     NaN\n",
              "4                    NaN       NaN       NaN  ...     NaN     NaN     NaN\n",
              "5               0.777778       NaN       NaN  ...     NaN     NaN     NaN\n",
              "...                  ...       ...       ...  ...     ...     ...     ...\n",
              "606             0.444444       NaN       NaN  ...     NaN     NaN     NaN\n",
              "607             0.777778       NaN       NaN  ...     NaN     NaN     NaN\n",
              "608             0.444444  0.333333  0.333333  ...     NaN     NaN     NaN\n",
              "609             0.555556       NaN       NaN  ...     NaN     NaN     NaN\n",
              "610             1.000000       NaN       NaN  ...     NaN     NaN     NaN\n",
              "\n",
              "[610 rows x 9724 columns]"
            ]
          },
          "metadata": {
            "tags": []
          },
          "execution_count": 81
        }
      ]
    },
    {
      "cell_type": "code",
      "metadata": {
        "id": "gj5AqTesn6J5",
        "colab": {
          "base_uri": "https://localhost:8080/",
          "height": 436
        },
        "outputId": "c5f2534b-56bb-4793-ec12-7c4f22b87934"
      },
      "source": [
        "# create a table for input to the modeling  \r\n",
        "d = df_matrix_norm.reset_index() \r\n",
        "d.index.names = ['scaled_purchase_freq'] \r\n",
        "data_norm = pd.melt(d, id_vars=['user_id'], value_name='scaled_purchase_freq').dropna()\r\n",
        "print(data_norm.shape)\r\n",
        "data_norm"
      ],
      "execution_count": 82,
      "outputs": [
        {
          "output_type": "stream",
          "text": [
            "(96716, 3)\n"
          ],
          "name": "stdout"
        },
        {
          "output_type": "execute_result",
          "data": {
            "text/html": [
              "<div>\n",
              "<style scoped>\n",
              "    .dataframe tbody tr th:only-of-type {\n",
              "        vertical-align: middle;\n",
              "    }\n",
              "\n",
              "    .dataframe tbody tr th {\n",
              "        vertical-align: top;\n",
              "    }\n",
              "\n",
              "    .dataframe thead th {\n",
              "        text-align: right;\n",
              "    }\n",
              "</style>\n",
              "<table border=\"1\" class=\"dataframe\">\n",
              "  <thead>\n",
              "    <tr style=\"text-align: right;\">\n",
              "      <th></th>\n",
              "      <th>user_id</th>\n",
              "      <th>product_number</th>\n",
              "      <th>scaled_purchase_freq</th>\n",
              "    </tr>\n",
              "  </thead>\n",
              "  <tbody>\n",
              "    <tr>\n",
              "      <th>0</th>\n",
              "      <td>1</td>\n",
              "      <td>1</td>\n",
              "      <td>0.777778</td>\n",
              "    </tr>\n",
              "    <tr>\n",
              "      <th>4</th>\n",
              "      <td>5</td>\n",
              "      <td>1</td>\n",
              "      <td>0.777778</td>\n",
              "    </tr>\n",
              "    <tr>\n",
              "      <th>6</th>\n",
              "      <td>7</td>\n",
              "      <td>1</td>\n",
              "      <td>0.888889</td>\n",
              "    </tr>\n",
              "    <tr>\n",
              "      <th>14</th>\n",
              "      <td>15</td>\n",
              "      <td>1</td>\n",
              "      <td>0.444444</td>\n",
              "    </tr>\n",
              "    <tr>\n",
              "      <th>16</th>\n",
              "      <td>17</td>\n",
              "      <td>1</td>\n",
              "      <td>0.888889</td>\n",
              "    </tr>\n",
              "    <tr>\n",
              "      <th>...</th>\n",
              "      <td>...</td>\n",
              "      <td>...</td>\n",
              "      <td>...</td>\n",
              "    </tr>\n",
              "    <tr>\n",
              "      <th>5913999</th>\n",
              "      <td>50</td>\n",
              "      <td>188301</td>\n",
              "      <td>0.000000</td>\n",
              "    </tr>\n",
              "    <tr>\n",
              "      <th>5914329</th>\n",
              "      <td>380</td>\n",
              "      <td>188301</td>\n",
              "      <td>1.000000</td>\n",
              "    </tr>\n",
              "    <tr>\n",
              "      <th>5914545</th>\n",
              "      <td>596</td>\n",
              "      <td>188301</td>\n",
              "      <td>1.000000</td>\n",
              "    </tr>\n",
              "    <tr>\n",
              "      <th>5918403</th>\n",
              "      <td>184</td>\n",
              "      <td>189333</td>\n",
              "      <td>1.000000</td>\n",
              "    </tr>\n",
              "    <tr>\n",
              "      <th>5918467</th>\n",
              "      <td>248</td>\n",
              "      <td>189333</td>\n",
              "      <td>0.000000</td>\n",
              "    </tr>\n",
              "  </tbody>\n",
              "</table>\n",
              "<p>96716 rows × 3 columns</p>\n",
              "</div>"
            ],
            "text/plain": [
              "         user_id product_number  scaled_purchase_freq\n",
              "0              1              1              0.777778\n",
              "4              5              1              0.777778\n",
              "6              7              1              0.888889\n",
              "14            15              1              0.444444\n",
              "16            17              1              0.888889\n",
              "...          ...            ...                   ...\n",
              "5913999       50         188301              0.000000\n",
              "5914329      380         188301              1.000000\n",
              "5914545      596         188301              1.000000\n",
              "5918403      184         189333              1.000000\n",
              "5918467      248         189333              0.000000\n",
              "\n",
              "[96716 rows x 3 columns]"
            ]
          },
          "metadata": {
            "tags": []
          },
          "execution_count": 82
        }
      ]
    },
    {
      "cell_type": "code",
      "metadata": {
        "id": "AHlWkiwpn8nS",
        "colab": {
          "base_uri": "https://localhost:8080/",
          "height": 69
        },
        "outputId": "1cad6d68-aa22-4c20-8cc7-756e368f16c5"
      },
      "source": [
        "'''def normalize_data(data):\r\n",
        "    df_matrix = pd.pivot_table(data, values='purchase_count', index='customerId', columns='productId')\r\n",
        "    df_matrix_norm = (df_matrix-df_matrix.min())/(df_matrix.max()-df_matrix.min())\r\n",
        "    d = df_matrix_norm.reset_index()\r\n",
        "    d.index.names = ['scaled_purchase_freq']\r\n",
        "    return pd.melt(d, id_vars=['customerId'], value_name='scaled_purchase_freq').dropna()\r\n",
        "    '''"
      ],
      "execution_count": 83,
      "outputs": [
        {
          "output_type": "execute_result",
          "data": {
            "application/vnd.google.colaboratory.intrinsic+json": {
              "type": "string"
            },
            "text/plain": [
              "\"def normalize_data(data):\\n    df_matrix = pd.pivot_table(data, values='purchase_count', index='customerId', columns='productId')\\n    df_matrix_norm = (df_matrix-df_matrix.min())/(df_matrix.max()-df_matrix.min())\\n    d = df_matrix_norm.reset_index()\\n    d.index.names = ['scaled_purchase_freq']\\n    return pd.melt(d, id_vars=['customerId'], value_name='scaled_purchase_freq').dropna()\\n    \""
            ]
          },
          "metadata": {
            "tags": []
          },
          "execution_count": 83
        }
      ]
    },
    {
      "cell_type": "code",
      "metadata": {
        "id": "eRU_U_vcLFBU"
      },
      "source": [
        "data=data.dropna()\r\n",
        "data['user_id']=data['user_id'].astype(np.int64)\r\n",
        "data['product_number']=data['product_number'].astype(np.int64)\r\n",
        "data_dummy=data_dummy.dropna()\r\n",
        "data_dummy['user_id']=data_dummy['user_id'].astype(np.int64)\r\n",
        "data_dummy['product_number']=data_dummy['product_number'].astype(np.int64)\r\n",
        "data_norm=data_norm.dropna()\r\n",
        "data_norm['user_id']=data_norm['user_id'].astype(np.int64)\r\n",
        "data_norm['product_number']=data_norm['product_number'].astype(np.int64)"
      ],
      "execution_count": 84,
      "outputs": []
    },
    {
      "cell_type": "code",
      "metadata": {
        "id": "aWaq1-daoBec"
      },
      "source": [
        "def split_data(data):\r\n",
        "    '''\r\n",
        "    Splits dataset into training and test set.\r\n",
        "    \r\n",
        "    Args:\r\n",
        "        data (pandas.DataFrame)\r\n",
        "        \r\n",
        "    Returns\r\n",
        "        train_data (tc.SFrame)\r\n",
        "        test_data (tc.SFrame)\r\n",
        "    '''\r\n",
        "    train, test = train_test_split(data, test_size = .2)\r\n",
        "    train_data = tc.SFrame(train)\r\n",
        "    test_data = tc.SFrame(test)\r\n",
        "    return train_data, test_data"
      ],
      "execution_count": 85,
      "outputs": []
    },
    {
      "cell_type": "code",
      "metadata": {
        "id": "6aAGZ-djoEdK"
      },
      "source": [
        "train_data, test_data = split_data(data)\r\n",
        "train_data_dummy, test_data_dummy = split_data(data_dummy)\r\n",
        "train_data_norm, test_data_norm = split_data(data_norm)"
      ],
      "execution_count": 86,
      "outputs": []
    },
    {
      "cell_type": "code",
      "metadata": {
        "id": "uQl7Sa_eoHIZ"
      },
      "source": [
        "# constant variables to define field names include:\r\n",
        "user_id = 'user_id'\r\n",
        "item_id = 'product_number'\r\n",
        "users_to_recommend = list(data[user_id])\r\n",
        "n_rec = 10 # number of items to recommend\r\n",
        "n_display = 10 # to display the first few rows in an output dataset"
      ],
      "execution_count": 87,
      "outputs": []
    },
    {
      "cell_type": "code",
      "metadata": {
        "id": "jghmog8-oKHs"
      },
      "source": [
        "def model(train_data, name, user_id, item_id, target, users_to_recommend, n_rec, n_display):\r\n",
        "    if name == 'popularity':\r\n",
        "        model = tc.popularity_recommender.create(train_data, \r\n",
        "                                                    user_id=user_id, \r\n",
        "                                                    item_id=item_id, \r\n",
        "                                                    target=target)\r\n",
        "    elif name == 'cosine':\r\n",
        "        model = tc.item_similarity_recommender.create(train_data, \r\n",
        "                                                    user_id=user_id, \r\n",
        "                                                    item_id=item_id, \r\n",
        "                                                    target=target, \r\n",
        "                                                    similarity_type='cosine')\r\n",
        "    elif name == 'pearson':\r\n",
        "        model = tc.item_similarity_recommender.create(train_data, \r\n",
        "                                                    user_id=user_id, \r\n",
        "                                                    item_id=item_id, \r\n",
        "                                                    target=target, \r\n",
        "                                                    similarity_type='pearson')\r\n",
        "        \r\n",
        "    recom = model.recommend(users=users_to_recommend, k=n_rec)\r\n",
        "    recom.print_rows(n_display)\r\n",
        "    return model"
      ],
      "execution_count": 88,
      "outputs": []
    },
    {
      "cell_type": "code",
      "metadata": {
        "id": "XCN9OCHUD_zx"
      },
      "source": [
        "data = data.astype('category')\r\n",
        "data[\"user_id\"] = data[\"user_id\"].astype(\"category\")"
      ],
      "execution_count": 89,
      "outputs": []
    },
    {
      "cell_type": "code",
      "metadata": {
        "colab": {
          "base_uri": "https://localhost:8080/"
        },
        "id": "fKF-8YmAJt-T",
        "outputId": "bf80f942-1ef9-45b9-ae8e-9851d487503c"
      },
      "source": [
        "data.dtypes"
      ],
      "execution_count": 90,
      "outputs": [
        {
          "output_type": "execute_result",
          "data": {
            "text/plain": [
              "user_id                             category\n",
              "product_number                      category\n",
              "summation_distance_Purchasecount    category\n",
              "dtype: object"
            ]
          },
          "metadata": {
            "tags": []
          },
          "execution_count": 90
        }
      ]
    },
    {
      "cell_type": "code",
      "metadata": {
        "id": "gRn69YNHKUXp"
      },
      "source": [
        "#data=data.dropna()"
      ],
      "execution_count": 91,
      "outputs": []
    },
    {
      "cell_type": "code",
      "metadata": {
        "id": "5LjUbW9xJ5bv"
      },
      "source": [
        "#data['user_id']=data['user_id'].astype(np.int64)"
      ],
      "execution_count": 92,
      "outputs": []
    },
    {
      "cell_type": "code",
      "metadata": {
        "colab": {
          "base_uri": "https://localhost:8080/"
        },
        "id": "jn2ZDCX_KwJB",
        "outputId": "30edaa55-4c02-435c-b2e4-443c7256117d"
      },
      "source": [
        "data.dtypes"
      ],
      "execution_count": 93,
      "outputs": [
        {
          "output_type": "execute_result",
          "data": {
            "text/plain": [
              "user_id                             category\n",
              "product_number                      category\n",
              "summation_distance_Purchasecount    category\n",
              "dtype: object"
            ]
          },
          "metadata": {
            "tags": []
          },
          "execution_count": 93
        }
      ]
    },
    {
      "cell_type": "code",
      "metadata": {
        "id": "5tqVy-HBoNAp",
        "colab": {
          "base_uri": "https://localhost:8080/",
          "height": 1000
        },
        "outputId": "65c24fe4-7840-4255-8a8d-09731b304dea"
      },
      "source": [
        "name = 'popularity'\r\n",
        "target = 'summation_distance_Purchasecount'\r\n",
        "popularity = model(train_data, name, user_id, item_id, target, users_to_recommend, n_rec, n_display)"
      ],
      "execution_count": 94,
      "outputs": [
        {
          "output_type": "display_data",
          "data": {
            "text/html": [
              "<pre>Preparing data set.</pre>"
            ],
            "text/plain": [
              "Preparing data set."
            ]
          },
          "metadata": {
            "tags": []
          }
        },
        {
          "output_type": "display_data",
          "data": {
            "text/html": [
              "<pre>    Data has 80668 observations with 610 users and 8970 items.</pre>"
            ],
            "text/plain": [
              "    Data has 80668 observations with 610 users and 8970 items."
            ]
          },
          "metadata": {
            "tags": []
          }
        },
        {
          "output_type": "display_data",
          "data": {
            "text/html": [
              "<pre>    Data prepared in: 0.104467s</pre>"
            ],
            "text/plain": [
              "    Data prepared in: 0.104467s"
            ]
          },
          "metadata": {
            "tags": []
          }
        },
        {
          "output_type": "display_data",
          "data": {
            "text/html": [
              "<pre>80668 observations to process; with 8970 unique items.</pre>"
            ],
            "text/plain": [
              "80668 observations to process; with 8970 unique items."
            ]
          },
          "metadata": {
            "tags": []
          }
        },
        {
          "output_type": "display_data",
          "data": {
            "text/html": [
              "<pre>recommendations finished on 1000/100836 queries. users per second: 12008.8</pre>"
            ],
            "text/plain": [
              "recommendations finished on 1000/100836 queries. users per second: 12008.8"
            ]
          },
          "metadata": {
            "tags": []
          }
        },
        {
          "output_type": "display_data",
          "data": {
            "text/html": [
              "<pre>recommendations finished on 2000/100836 queries. users per second: 11770.9</pre>"
            ],
            "text/plain": [
              "recommendations finished on 2000/100836 queries. users per second: 11770.9"
            ]
          },
          "metadata": {
            "tags": []
          }
        },
        {
          "output_type": "display_data",
          "data": {
            "text/html": [
              "<pre>recommendations finished on 3000/100836 queries. users per second: 11799.2</pre>"
            ],
            "text/plain": [
              "recommendations finished on 3000/100836 queries. users per second: 11799.2"
            ]
          },
          "metadata": {
            "tags": []
          }
        },
        {
          "output_type": "display_data",
          "data": {
            "text/html": [
              "<pre>recommendations finished on 4000/100836 queries. users per second: 11626</pre>"
            ],
            "text/plain": [
              "recommendations finished on 4000/100836 queries. users per second: 11626"
            ]
          },
          "metadata": {
            "tags": []
          }
        },
        {
          "output_type": "display_data",
          "data": {
            "text/html": [
              "<pre>recommendations finished on 5000/100836 queries. users per second: 11637.2</pre>"
            ],
            "text/plain": [
              "recommendations finished on 5000/100836 queries. users per second: 11637.2"
            ]
          },
          "metadata": {
            "tags": []
          }
        },
        {
          "output_type": "display_data",
          "data": {
            "text/html": [
              "<pre>recommendations finished on 6000/100836 queries. users per second: 11243.4</pre>"
            ],
            "text/plain": [
              "recommendations finished on 6000/100836 queries. users per second: 11243.4"
            ]
          },
          "metadata": {
            "tags": []
          }
        },
        {
          "output_type": "display_data",
          "data": {
            "text/html": [
              "<pre>recommendations finished on 7000/100836 queries. users per second: 11227.9</pre>"
            ],
            "text/plain": [
              "recommendations finished on 7000/100836 queries. users per second: 11227.9"
            ]
          },
          "metadata": {
            "tags": []
          }
        },
        {
          "output_type": "display_data",
          "data": {
            "text/html": [
              "<pre>recommendations finished on 8000/100836 queries. users per second: 11252.3</pre>"
            ],
            "text/plain": [
              "recommendations finished on 8000/100836 queries. users per second: 11252.3"
            ]
          },
          "metadata": {
            "tags": []
          }
        },
        {
          "output_type": "display_data",
          "data": {
            "text/html": [
              "<pre>recommendations finished on 9000/100836 queries. users per second: 11313.5</pre>"
            ],
            "text/plain": [
              "recommendations finished on 9000/100836 queries. users per second: 11313.5"
            ]
          },
          "metadata": {
            "tags": []
          }
        },
        {
          "output_type": "display_data",
          "data": {
            "text/html": [
              "<pre>recommendations finished on 10000/100836 queries. users per second: 11313.6</pre>"
            ],
            "text/plain": [
              "recommendations finished on 10000/100836 queries. users per second: 11313.6"
            ]
          },
          "metadata": {
            "tags": []
          }
        },
        {
          "output_type": "display_data",
          "data": {
            "text/html": [
              "<pre>recommendations finished on 11000/100836 queries. users per second: 11183.1</pre>"
            ],
            "text/plain": [
              "recommendations finished on 11000/100836 queries. users per second: 11183.1"
            ]
          },
          "metadata": {
            "tags": []
          }
        },
        {
          "output_type": "display_data",
          "data": {
            "text/html": [
              "<pre>recommendations finished on 12000/100836 queries. users per second: 11187.3</pre>"
            ],
            "text/plain": [
              "recommendations finished on 12000/100836 queries. users per second: 11187.3"
            ]
          },
          "metadata": {
            "tags": []
          }
        },
        {
          "output_type": "display_data",
          "data": {
            "text/html": [
              "<pre>recommendations finished on 13000/100836 queries. users per second: 11232.3</pre>"
            ],
            "text/plain": [
              "recommendations finished on 13000/100836 queries. users per second: 11232.3"
            ]
          },
          "metadata": {
            "tags": []
          }
        },
        {
          "output_type": "display_data",
          "data": {
            "text/html": [
              "<pre>recommendations finished on 14000/100836 queries. users per second: 11173.6</pre>"
            ],
            "text/plain": [
              "recommendations finished on 14000/100836 queries. users per second: 11173.6"
            ]
          },
          "metadata": {
            "tags": []
          }
        },
        {
          "output_type": "display_data",
          "data": {
            "text/html": [
              "<pre>recommendations finished on 15000/100836 queries. users per second: 10969.2</pre>"
            ],
            "text/plain": [
              "recommendations finished on 15000/100836 queries. users per second: 10969.2"
            ]
          },
          "metadata": {
            "tags": []
          }
        },
        {
          "output_type": "display_data",
          "data": {
            "text/html": [
              "<pre>recommendations finished on 16000/100836 queries. users per second: 10944.1</pre>"
            ],
            "text/plain": [
              "recommendations finished on 16000/100836 queries. users per second: 10944.1"
            ]
          },
          "metadata": {
            "tags": []
          }
        },
        {
          "output_type": "display_data",
          "data": {
            "text/html": [
              "<pre>recommendations finished on 17000/100836 queries. users per second: 10919</pre>"
            ],
            "text/plain": [
              "recommendations finished on 17000/100836 queries. users per second: 10919"
            ]
          },
          "metadata": {
            "tags": []
          }
        },
        {
          "output_type": "display_data",
          "data": {
            "text/html": [
              "<pre>recommendations finished on 18000/100836 queries. users per second: 10915</pre>"
            ],
            "text/plain": [
              "recommendations finished on 18000/100836 queries. users per second: 10915"
            ]
          },
          "metadata": {
            "tags": []
          }
        },
        {
          "output_type": "display_data",
          "data": {
            "text/html": [
              "<pre>recommendations finished on 19000/100836 queries. users per second: 10910.9</pre>"
            ],
            "text/plain": [
              "recommendations finished on 19000/100836 queries. users per second: 10910.9"
            ]
          },
          "metadata": {
            "tags": []
          }
        },
        {
          "output_type": "display_data",
          "data": {
            "text/html": [
              "<pre>recommendations finished on 20000/100836 queries. users per second: 10897.1</pre>"
            ],
            "text/plain": [
              "recommendations finished on 20000/100836 queries. users per second: 10897.1"
            ]
          },
          "metadata": {
            "tags": []
          }
        },
        {
          "output_type": "display_data",
          "data": {
            "text/html": [
              "<pre>recommendations finished on 21000/100836 queries. users per second: 10896.9</pre>"
            ],
            "text/plain": [
              "recommendations finished on 21000/100836 queries. users per second: 10896.9"
            ]
          },
          "metadata": {
            "tags": []
          }
        },
        {
          "output_type": "display_data",
          "data": {
            "text/html": [
              "<pre>recommendations finished on 22000/100836 queries. users per second: 10906.3</pre>"
            ],
            "text/plain": [
              "recommendations finished on 22000/100836 queries. users per second: 10906.3"
            ]
          },
          "metadata": {
            "tags": []
          }
        },
        {
          "output_type": "display_data",
          "data": {
            "text/html": [
              "<pre>recommendations finished on 23000/100836 queries. users per second: 10922.5</pre>"
            ],
            "text/plain": [
              "recommendations finished on 23000/100836 queries. users per second: 10922.5"
            ]
          },
          "metadata": {
            "tags": []
          }
        },
        {
          "output_type": "display_data",
          "data": {
            "text/html": [
              "<pre>recommendations finished on 24000/100836 queries. users per second: 10953.4</pre>"
            ],
            "text/plain": [
              "recommendations finished on 24000/100836 queries. users per second: 10953.4"
            ]
          },
          "metadata": {
            "tags": []
          }
        },
        {
          "output_type": "display_data",
          "data": {
            "text/html": [
              "<pre>recommendations finished on 25000/100836 queries. users per second: 10939.5</pre>"
            ],
            "text/plain": [
              "recommendations finished on 25000/100836 queries. users per second: 10939.5"
            ]
          },
          "metadata": {
            "tags": []
          }
        },
        {
          "output_type": "display_data",
          "data": {
            "text/html": [
              "<pre>recommendations finished on 26000/100836 queries. users per second: 10925.4</pre>"
            ],
            "text/plain": [
              "recommendations finished on 26000/100836 queries. users per second: 10925.4"
            ]
          },
          "metadata": {
            "tags": []
          }
        },
        {
          "output_type": "display_data",
          "data": {
            "text/html": [
              "<pre>recommendations finished on 27000/100836 queries. users per second: 10890.4</pre>"
            ],
            "text/plain": [
              "recommendations finished on 27000/100836 queries. users per second: 10890.4"
            ]
          },
          "metadata": {
            "tags": []
          }
        },
        {
          "output_type": "display_data",
          "data": {
            "text/html": [
              "<pre>recommendations finished on 28000/100836 queries. users per second: 10848.7</pre>"
            ],
            "text/plain": [
              "recommendations finished on 28000/100836 queries. users per second: 10848.7"
            ]
          },
          "metadata": {
            "tags": []
          }
        },
        {
          "output_type": "display_data",
          "data": {
            "text/html": [
              "<pre>recommendations finished on 29000/100836 queries. users per second: 10826.5</pre>"
            ],
            "text/plain": [
              "recommendations finished on 29000/100836 queries. users per second: 10826.5"
            ]
          },
          "metadata": {
            "tags": []
          }
        },
        {
          "output_type": "display_data",
          "data": {
            "text/html": [
              "<pre>recommendations finished on 30000/100836 queries. users per second: 10824.3</pre>"
            ],
            "text/plain": [
              "recommendations finished on 30000/100836 queries. users per second: 10824.3"
            ]
          },
          "metadata": {
            "tags": []
          }
        },
        {
          "output_type": "display_data",
          "data": {
            "text/html": [
              "<pre>recommendations finished on 31000/100836 queries. users per second: 10837</pre>"
            ],
            "text/plain": [
              "recommendations finished on 31000/100836 queries. users per second: 10837"
            ]
          },
          "metadata": {
            "tags": []
          }
        },
        {
          "output_type": "display_data",
          "data": {
            "text/html": [
              "<pre>recommendations finished on 32000/100836 queries. users per second: 10830.4</pre>"
            ],
            "text/plain": [
              "recommendations finished on 32000/100836 queries. users per second: 10830.4"
            ]
          },
          "metadata": {
            "tags": []
          }
        },
        {
          "output_type": "display_data",
          "data": {
            "text/html": [
              "<pre>recommendations finished on 33000/100836 queries. users per second: 10845.1</pre>"
            ],
            "text/plain": [
              "recommendations finished on 33000/100836 queries. users per second: 10845.1"
            ]
          },
          "metadata": {
            "tags": []
          }
        },
        {
          "output_type": "display_data",
          "data": {
            "text/html": [
              "<pre>recommendations finished on 34000/100836 queries. users per second: 10842.5</pre>"
            ],
            "text/plain": [
              "recommendations finished on 34000/100836 queries. users per second: 10842.5"
            ]
          },
          "metadata": {
            "tags": []
          }
        },
        {
          "output_type": "display_data",
          "data": {
            "text/html": [
              "<pre>recommendations finished on 35000/100836 queries. users per second: 10846.2</pre>"
            ],
            "text/plain": [
              "recommendations finished on 35000/100836 queries. users per second: 10846.2"
            ]
          },
          "metadata": {
            "tags": []
          }
        },
        {
          "output_type": "display_data",
          "data": {
            "text/html": [
              "<pre>recommendations finished on 36000/100836 queries. users per second: 10852</pre>"
            ],
            "text/plain": [
              "recommendations finished on 36000/100836 queries. users per second: 10852"
            ]
          },
          "metadata": {
            "tags": []
          }
        },
        {
          "output_type": "display_data",
          "data": {
            "text/html": [
              "<pre>recommendations finished on 37000/100836 queries. users per second: 10880.3</pre>"
            ],
            "text/plain": [
              "recommendations finished on 37000/100836 queries. users per second: 10880.3"
            ]
          },
          "metadata": {
            "tags": []
          }
        },
        {
          "output_type": "display_data",
          "data": {
            "text/html": [
              "<pre>recommendations finished on 38000/100836 queries. users per second: 10878.6</pre>"
            ],
            "text/plain": [
              "recommendations finished on 38000/100836 queries. users per second: 10878.6"
            ]
          },
          "metadata": {
            "tags": []
          }
        },
        {
          "output_type": "display_data",
          "data": {
            "text/html": [
              "<pre>recommendations finished on 39000/100836 queries. users per second: 10848.6</pre>"
            ],
            "text/plain": [
              "recommendations finished on 39000/100836 queries. users per second: 10848.6"
            ]
          },
          "metadata": {
            "tags": []
          }
        },
        {
          "output_type": "display_data",
          "data": {
            "text/html": [
              "<pre>recommendations finished on 40000/100836 queries. users per second: 10851.9</pre>"
            ],
            "text/plain": [
              "recommendations finished on 40000/100836 queries. users per second: 10851.9"
            ]
          },
          "metadata": {
            "tags": []
          }
        },
        {
          "output_type": "display_data",
          "data": {
            "text/html": [
              "<pre>recommendations finished on 41000/100836 queries. users per second: 10846.7</pre>"
            ],
            "text/plain": [
              "recommendations finished on 41000/100836 queries. users per second: 10846.7"
            ]
          },
          "metadata": {
            "tags": []
          }
        },
        {
          "output_type": "display_data",
          "data": {
            "text/html": [
              "<pre>recommendations finished on 42000/100836 queries. users per second: 10859.3</pre>"
            ],
            "text/plain": [
              "recommendations finished on 42000/100836 queries. users per second: 10859.3"
            ]
          },
          "metadata": {
            "tags": []
          }
        },
        {
          "output_type": "display_data",
          "data": {
            "text/html": [
              "<pre>recommendations finished on 43000/100836 queries. users per second: 10874.8</pre>"
            ],
            "text/plain": [
              "recommendations finished on 43000/100836 queries. users per second: 10874.8"
            ]
          },
          "metadata": {
            "tags": []
          }
        },
        {
          "output_type": "display_data",
          "data": {
            "text/html": [
              "<pre>recommendations finished on 44000/100836 queries. users per second: 10879.5</pre>"
            ],
            "text/plain": [
              "recommendations finished on 44000/100836 queries. users per second: 10879.5"
            ]
          },
          "metadata": {
            "tags": []
          }
        },
        {
          "output_type": "display_data",
          "data": {
            "text/html": [
              "<pre>recommendations finished on 45000/100836 queries. users per second: 10895.3</pre>"
            ],
            "text/plain": [
              "recommendations finished on 45000/100836 queries. users per second: 10895.3"
            ]
          },
          "metadata": {
            "tags": []
          }
        },
        {
          "output_type": "display_data",
          "data": {
            "text/html": [
              "<pre>recommendations finished on 46000/100836 queries. users per second: 10880.3</pre>"
            ],
            "text/plain": [
              "recommendations finished on 46000/100836 queries. users per second: 10880.3"
            ]
          },
          "metadata": {
            "tags": []
          }
        },
        {
          "output_type": "display_data",
          "data": {
            "text/html": [
              "<pre>recommendations finished on 47000/100836 queries. users per second: 10880.8</pre>"
            ],
            "text/plain": [
              "recommendations finished on 47000/100836 queries. users per second: 10880.8"
            ]
          },
          "metadata": {
            "tags": []
          }
        },
        {
          "output_type": "display_data",
          "data": {
            "text/html": [
              "<pre>recommendations finished on 48000/100836 queries. users per second: 10880.2</pre>"
            ],
            "text/plain": [
              "recommendations finished on 48000/100836 queries. users per second: 10880.2"
            ]
          },
          "metadata": {
            "tags": []
          }
        },
        {
          "output_type": "display_data",
          "data": {
            "text/html": [
              "<pre>recommendations finished on 49000/100836 queries. users per second: 10851.8</pre>"
            ],
            "text/plain": [
              "recommendations finished on 49000/100836 queries. users per second: 10851.8"
            ]
          },
          "metadata": {
            "tags": []
          }
        },
        {
          "output_type": "display_data",
          "data": {
            "text/html": [
              "<pre>recommendations finished on 50000/100836 queries. users per second: 10822</pre>"
            ],
            "text/plain": [
              "recommendations finished on 50000/100836 queries. users per second: 10822"
            ]
          },
          "metadata": {
            "tags": []
          }
        },
        {
          "output_type": "display_data",
          "data": {
            "text/html": [
              "<pre>recommendations finished on 51000/100836 queries. users per second: 10816.7</pre>"
            ],
            "text/plain": [
              "recommendations finished on 51000/100836 queries. users per second: 10816.7"
            ]
          },
          "metadata": {
            "tags": []
          }
        },
        {
          "output_type": "display_data",
          "data": {
            "text/html": [
              "<pre>recommendations finished on 52000/100836 queries. users per second: 10819.9</pre>"
            ],
            "text/plain": [
              "recommendations finished on 52000/100836 queries. users per second: 10819.9"
            ]
          },
          "metadata": {
            "tags": []
          }
        },
        {
          "output_type": "display_data",
          "data": {
            "text/html": [
              "<pre>recommendations finished on 53000/100836 queries. users per second: 10812.5</pre>"
            ],
            "text/plain": [
              "recommendations finished on 53000/100836 queries. users per second: 10812.5"
            ]
          },
          "metadata": {
            "tags": []
          }
        },
        {
          "output_type": "display_data",
          "data": {
            "text/html": [
              "<pre>recommendations finished on 54000/100836 queries. users per second: 10801.7</pre>"
            ],
            "text/plain": [
              "recommendations finished on 54000/100836 queries. users per second: 10801.7"
            ]
          },
          "metadata": {
            "tags": []
          }
        },
        {
          "output_type": "display_data",
          "data": {
            "text/html": [
              "<pre>recommendations finished on 55000/100836 queries. users per second: 10799.3</pre>"
            ],
            "text/plain": [
              "recommendations finished on 55000/100836 queries. users per second: 10799.3"
            ]
          },
          "metadata": {
            "tags": []
          }
        },
        {
          "output_type": "display_data",
          "data": {
            "text/html": [
              "<pre>recommendations finished on 56000/100836 queries. users per second: 10801.3</pre>"
            ],
            "text/plain": [
              "recommendations finished on 56000/100836 queries. users per second: 10801.3"
            ]
          },
          "metadata": {
            "tags": []
          }
        },
        {
          "output_type": "display_data",
          "data": {
            "text/html": [
              "<pre>recommendations finished on 57000/100836 queries. users per second: 10799.7</pre>"
            ],
            "text/plain": [
              "recommendations finished on 57000/100836 queries. users per second: 10799.7"
            ]
          },
          "metadata": {
            "tags": []
          }
        },
        {
          "output_type": "display_data",
          "data": {
            "text/html": [
              "<pre>recommendations finished on 58000/100836 queries. users per second: 10790.9</pre>"
            ],
            "text/plain": [
              "recommendations finished on 58000/100836 queries. users per second: 10790.9"
            ]
          },
          "metadata": {
            "tags": []
          }
        },
        {
          "output_type": "display_data",
          "data": {
            "text/html": [
              "<pre>recommendations finished on 59000/100836 queries. users per second: 10675.4</pre>"
            ],
            "text/plain": [
              "recommendations finished on 59000/100836 queries. users per second: 10675.4"
            ]
          },
          "metadata": {
            "tags": []
          }
        },
        {
          "output_type": "display_data",
          "data": {
            "text/html": [
              "<pre>recommendations finished on 60000/100836 queries. users per second: 10667.3</pre>"
            ],
            "text/plain": [
              "recommendations finished on 60000/100836 queries. users per second: 10667.3"
            ]
          },
          "metadata": {
            "tags": []
          }
        },
        {
          "output_type": "display_data",
          "data": {
            "text/html": [
              "<pre>recommendations finished on 61000/100836 queries. users per second: 10681</pre>"
            ],
            "text/plain": [
              "recommendations finished on 61000/100836 queries. users per second: 10681"
            ]
          },
          "metadata": {
            "tags": []
          }
        },
        {
          "output_type": "display_data",
          "data": {
            "text/html": [
              "<pre>recommendations finished on 62000/100836 queries. users per second: 10675.9</pre>"
            ],
            "text/plain": [
              "recommendations finished on 62000/100836 queries. users per second: 10675.9"
            ]
          },
          "metadata": {
            "tags": []
          }
        },
        {
          "output_type": "display_data",
          "data": {
            "text/html": [
              "<pre>recommendations finished on 63000/100836 queries. users per second: 10593.1</pre>"
            ],
            "text/plain": [
              "recommendations finished on 63000/100836 queries. users per second: 10593.1"
            ]
          },
          "metadata": {
            "tags": []
          }
        },
        {
          "output_type": "display_data",
          "data": {
            "text/html": [
              "<pre>recommendations finished on 64000/100836 queries. users per second: 10583.2</pre>"
            ],
            "text/plain": [
              "recommendations finished on 64000/100836 queries. users per second: 10583.2"
            ]
          },
          "metadata": {
            "tags": []
          }
        },
        {
          "output_type": "display_data",
          "data": {
            "text/html": [
              "<pre>recommendations finished on 65000/100836 queries. users per second: 10596</pre>"
            ],
            "text/plain": [
              "recommendations finished on 65000/100836 queries. users per second: 10596"
            ]
          },
          "metadata": {
            "tags": []
          }
        },
        {
          "output_type": "display_data",
          "data": {
            "text/html": [
              "<pre>recommendations finished on 66000/100836 queries. users per second: 10597.6</pre>"
            ],
            "text/plain": [
              "recommendations finished on 66000/100836 queries. users per second: 10597.6"
            ]
          },
          "metadata": {
            "tags": []
          }
        },
        {
          "output_type": "display_data",
          "data": {
            "text/html": [
              "<pre>recommendations finished on 67000/100836 queries. users per second: 10610.7</pre>"
            ],
            "text/plain": [
              "recommendations finished on 67000/100836 queries. users per second: 10610.7"
            ]
          },
          "metadata": {
            "tags": []
          }
        },
        {
          "output_type": "display_data",
          "data": {
            "text/html": [
              "<pre>recommendations finished on 68000/100836 queries. users per second: 10599.5</pre>"
            ],
            "text/plain": [
              "recommendations finished on 68000/100836 queries. users per second: 10599.5"
            ]
          },
          "metadata": {
            "tags": []
          }
        },
        {
          "output_type": "display_data",
          "data": {
            "text/html": [
              "<pre>recommendations finished on 69000/100836 queries. users per second: 10604.1</pre>"
            ],
            "text/plain": [
              "recommendations finished on 69000/100836 queries. users per second: 10604.1"
            ]
          },
          "metadata": {
            "tags": []
          }
        },
        {
          "output_type": "display_data",
          "data": {
            "text/html": [
              "<pre>recommendations finished on 70000/100836 queries. users per second: 10602.9</pre>"
            ],
            "text/plain": [
              "recommendations finished on 70000/100836 queries. users per second: 10602.9"
            ]
          },
          "metadata": {
            "tags": []
          }
        },
        {
          "output_type": "display_data",
          "data": {
            "text/html": [
              "<pre>recommendations finished on 71000/100836 queries. users per second: 10607.1</pre>"
            ],
            "text/plain": [
              "recommendations finished on 71000/100836 queries. users per second: 10607.1"
            ]
          },
          "metadata": {
            "tags": []
          }
        },
        {
          "output_type": "display_data",
          "data": {
            "text/html": [
              "<pre>recommendations finished on 72000/100836 queries. users per second: 10610.7</pre>"
            ],
            "text/plain": [
              "recommendations finished on 72000/100836 queries. users per second: 10610.7"
            ]
          },
          "metadata": {
            "tags": []
          }
        },
        {
          "output_type": "display_data",
          "data": {
            "text/html": [
              "<pre>recommendations finished on 73000/100836 queries. users per second: 10617.1</pre>"
            ],
            "text/plain": [
              "recommendations finished on 73000/100836 queries. users per second: 10617.1"
            ]
          },
          "metadata": {
            "tags": []
          }
        },
        {
          "output_type": "display_data",
          "data": {
            "text/html": [
              "<pre>recommendations finished on 74000/100836 queries. users per second: 10616</pre>"
            ],
            "text/plain": [
              "recommendations finished on 74000/100836 queries. users per second: 10616"
            ]
          },
          "metadata": {
            "tags": []
          }
        },
        {
          "output_type": "display_data",
          "data": {
            "text/html": [
              "<pre>recommendations finished on 75000/100836 queries. users per second: 10625.5</pre>"
            ],
            "text/plain": [
              "recommendations finished on 75000/100836 queries. users per second: 10625.5"
            ]
          },
          "metadata": {
            "tags": []
          }
        },
        {
          "output_type": "display_data",
          "data": {
            "text/html": [
              "<pre>recommendations finished on 76000/100836 queries. users per second: 10630.1</pre>"
            ],
            "text/plain": [
              "recommendations finished on 76000/100836 queries. users per second: 10630.1"
            ]
          },
          "metadata": {
            "tags": []
          }
        },
        {
          "output_type": "display_data",
          "data": {
            "text/html": [
              "<pre>recommendations finished on 77000/100836 queries. users per second: 10624.8</pre>"
            ],
            "text/plain": [
              "recommendations finished on 77000/100836 queries. users per second: 10624.8"
            ]
          },
          "metadata": {
            "tags": []
          }
        },
        {
          "output_type": "display_data",
          "data": {
            "text/html": [
              "<pre>recommendations finished on 78000/100836 queries. users per second: 10633.3</pre>"
            ],
            "text/plain": [
              "recommendations finished on 78000/100836 queries. users per second: 10633.3"
            ]
          },
          "metadata": {
            "tags": []
          }
        },
        {
          "output_type": "display_data",
          "data": {
            "text/html": [
              "<pre>recommendations finished on 79000/100836 queries. users per second: 10636.8</pre>"
            ],
            "text/plain": [
              "recommendations finished on 79000/100836 queries. users per second: 10636.8"
            ]
          },
          "metadata": {
            "tags": []
          }
        },
        {
          "output_type": "display_data",
          "data": {
            "text/html": [
              "<pre>recommendations finished on 80000/100836 queries. users per second: 10626.4</pre>"
            ],
            "text/plain": [
              "recommendations finished on 80000/100836 queries. users per second: 10626.4"
            ]
          },
          "metadata": {
            "tags": []
          }
        },
        {
          "output_type": "display_data",
          "data": {
            "text/html": [
              "<pre>recommendations finished on 81000/100836 queries. users per second: 10622.3</pre>"
            ],
            "text/plain": [
              "recommendations finished on 81000/100836 queries. users per second: 10622.3"
            ]
          },
          "metadata": {
            "tags": []
          }
        },
        {
          "output_type": "display_data",
          "data": {
            "text/html": [
              "<pre>recommendations finished on 82000/100836 queries. users per second: 10619.4</pre>"
            ],
            "text/plain": [
              "recommendations finished on 82000/100836 queries. users per second: 10619.4"
            ]
          },
          "metadata": {
            "tags": []
          }
        },
        {
          "output_type": "display_data",
          "data": {
            "text/html": [
              "<pre>recommendations finished on 83000/100836 queries. users per second: 10632.4</pre>"
            ],
            "text/plain": [
              "recommendations finished on 83000/100836 queries. users per second: 10632.4"
            ]
          },
          "metadata": {
            "tags": []
          }
        },
        {
          "output_type": "display_data",
          "data": {
            "text/html": [
              "<pre>recommendations finished on 84000/100836 queries. users per second: 10586.9</pre>"
            ],
            "text/plain": [
              "recommendations finished on 84000/100836 queries. users per second: 10586.9"
            ]
          },
          "metadata": {
            "tags": []
          }
        },
        {
          "output_type": "display_data",
          "data": {
            "text/html": [
              "<pre>recommendations finished on 85000/100836 queries. users per second: 10506.4</pre>"
            ],
            "text/plain": [
              "recommendations finished on 85000/100836 queries. users per second: 10506.4"
            ]
          },
          "metadata": {
            "tags": []
          }
        },
        {
          "output_type": "display_data",
          "data": {
            "text/html": [
              "<pre>recommendations finished on 86000/100836 queries. users per second: 10448.1</pre>"
            ],
            "text/plain": [
              "recommendations finished on 86000/100836 queries. users per second: 10448.1"
            ]
          },
          "metadata": {
            "tags": []
          }
        },
        {
          "output_type": "display_data",
          "data": {
            "text/html": [
              "<pre>recommendations finished on 87000/100836 queries. users per second: 10427</pre>"
            ],
            "text/plain": [
              "recommendations finished on 87000/100836 queries. users per second: 10427"
            ]
          },
          "metadata": {
            "tags": []
          }
        },
        {
          "output_type": "display_data",
          "data": {
            "text/html": [
              "<pre>recommendations finished on 88000/100836 queries. users per second: 10424.8</pre>"
            ],
            "text/plain": [
              "recommendations finished on 88000/100836 queries. users per second: 10424.8"
            ]
          },
          "metadata": {
            "tags": []
          }
        },
        {
          "output_type": "display_data",
          "data": {
            "text/html": [
              "<pre>recommendations finished on 89000/100836 queries. users per second: 10421.2</pre>"
            ],
            "text/plain": [
              "recommendations finished on 89000/100836 queries. users per second: 10421.2"
            ]
          },
          "metadata": {
            "tags": []
          }
        },
        {
          "output_type": "display_data",
          "data": {
            "text/html": [
              "<pre>recommendations finished on 90000/100836 queries. users per second: 10408</pre>"
            ],
            "text/plain": [
              "recommendations finished on 90000/100836 queries. users per second: 10408"
            ]
          },
          "metadata": {
            "tags": []
          }
        },
        {
          "output_type": "display_data",
          "data": {
            "text/html": [
              "<pre>recommendations finished on 91000/100836 queries. users per second: 10410.3</pre>"
            ],
            "text/plain": [
              "recommendations finished on 91000/100836 queries. users per second: 10410.3"
            ]
          },
          "metadata": {
            "tags": []
          }
        },
        {
          "output_type": "display_data",
          "data": {
            "text/html": [
              "<pre>recommendations finished on 92000/100836 queries. users per second: 10412.9</pre>"
            ],
            "text/plain": [
              "recommendations finished on 92000/100836 queries. users per second: 10412.9"
            ]
          },
          "metadata": {
            "tags": []
          }
        },
        {
          "output_type": "display_data",
          "data": {
            "text/html": [
              "<pre>recommendations finished on 93000/100836 queries. users per second: 10412.4</pre>"
            ],
            "text/plain": [
              "recommendations finished on 93000/100836 queries. users per second: 10412.4"
            ]
          },
          "metadata": {
            "tags": []
          }
        },
        {
          "output_type": "display_data",
          "data": {
            "text/html": [
              "<pre>recommendations finished on 94000/100836 queries. users per second: 10416.4</pre>"
            ],
            "text/plain": [
              "recommendations finished on 94000/100836 queries. users per second: 10416.4"
            ]
          },
          "metadata": {
            "tags": []
          }
        },
        {
          "output_type": "display_data",
          "data": {
            "text/html": [
              "<pre>recommendations finished on 95000/100836 queries. users per second: 10413.4</pre>"
            ],
            "text/plain": [
              "recommendations finished on 95000/100836 queries. users per second: 10413.4"
            ]
          },
          "metadata": {
            "tags": []
          }
        },
        {
          "output_type": "display_data",
          "data": {
            "text/html": [
              "<pre>recommendations finished on 96000/100836 queries. users per second: 10417.3</pre>"
            ],
            "text/plain": [
              "recommendations finished on 96000/100836 queries. users per second: 10417.3"
            ]
          },
          "metadata": {
            "tags": []
          }
        },
        {
          "output_type": "display_data",
          "data": {
            "text/html": [
              "<pre>recommendations finished on 97000/100836 queries. users per second: 10416</pre>"
            ],
            "text/plain": [
              "recommendations finished on 97000/100836 queries. users per second: 10416"
            ]
          },
          "metadata": {
            "tags": []
          }
        },
        {
          "output_type": "display_data",
          "data": {
            "text/html": [
              "<pre>recommendations finished on 98000/100836 queries. users per second: 10420.9</pre>"
            ],
            "text/plain": [
              "recommendations finished on 98000/100836 queries. users per second: 10420.9"
            ]
          },
          "metadata": {
            "tags": []
          }
        },
        {
          "output_type": "display_data",
          "data": {
            "text/html": [
              "<pre>recommendations finished on 99000/100836 queries. users per second: 10422.6</pre>"
            ],
            "text/plain": [
              "recommendations finished on 99000/100836 queries. users per second: 10422.6"
            ]
          },
          "metadata": {
            "tags": []
          }
        },
        {
          "output_type": "display_data",
          "data": {
            "text/html": [
              "<pre>recommendations finished on 100000/100836 queries. users per second: 10323.7</pre>"
            ],
            "text/plain": [
              "recommendations finished on 100000/100836 queries. users per second: 10323.7"
            ]
          },
          "metadata": {
            "tags": []
          }
        },
        {
          "output_type": "stream",
          "text": [
            "+---------+----------------+-------+------+\n",
            "| user_id | product_number | score | rank |\n",
            "+---------+----------------+-------+------+\n",
            "|    1    |      3473      |  5.0  |  1   |\n",
            "|    1    |      2196      |  5.0  |  2   |\n",
            "|    1    |     146684     |  5.0  |  3   |\n",
            "|    1    |     136355     |  5.0  |  4   |\n",
            "|    1    |     97866      |  5.0  |  5   |\n",
            "|    1    |      3531      |  5.0  |  6   |\n",
            "|    1    |     31522      |  5.0  |  7   |\n",
            "|    1    |     170597     |  5.0  |  8   |\n",
            "|    1    |     50851      |  5.0  |  9   |\n",
            "|    1    |     27751      |  5.0  |  10  |\n",
            "+---------+----------------+-------+------+\n",
            "[1008360 rows x 4 columns]\n",
            "\n"
          ],
          "name": "stdout"
        }
      ]
    },
    {
      "cell_type": "code",
      "metadata": {
        "id": "PrWFHh6FoPU8",
        "colab": {
          "base_uri": "https://localhost:8080/",
          "height": 1000
        },
        "outputId": "ba7559ef-b5ca-4df4-c1e2-9347c7db0436"
      },
      "source": [
        "name = 'popularity'\r\n",
        "target = 'purchase_dummy'\r\n",
        "pop_dummy = model(train_data_dummy, name, user_id, item_id, target, users_to_recommend, n_rec, n_display)"
      ],
      "execution_count": 95,
      "outputs": [
        {
          "output_type": "display_data",
          "data": {
            "text/html": [
              "<pre>Warning: Ignoring columns summation_distance_Purchasecount;</pre>"
            ],
            "text/plain": [
              "Warning: Ignoring columns summation_distance_Purchasecount;"
            ]
          },
          "metadata": {
            "tags": []
          }
        },
        {
          "output_type": "display_data",
          "data": {
            "text/html": [
              "<pre>    To use these columns in scoring predictions, use a model that allows the use of additional features.</pre>"
            ],
            "text/plain": [
              "    To use these columns in scoring predictions, use a model that allows the use of additional features."
            ]
          },
          "metadata": {
            "tags": []
          }
        },
        {
          "output_type": "display_data",
          "data": {
            "text/html": [
              "<pre>Preparing data set.</pre>"
            ],
            "text/plain": [
              "Preparing data set."
            ]
          },
          "metadata": {
            "tags": []
          }
        },
        {
          "output_type": "display_data",
          "data": {
            "text/html": [
              "<pre>    Data has 80668 observations with 610 users and 9001 items.</pre>"
            ],
            "text/plain": [
              "    Data has 80668 observations with 610 users and 9001 items."
            ]
          },
          "metadata": {
            "tags": []
          }
        },
        {
          "output_type": "display_data",
          "data": {
            "text/html": [
              "<pre>    Data prepared in: 0.111134s</pre>"
            ],
            "text/plain": [
              "    Data prepared in: 0.111134s"
            ]
          },
          "metadata": {
            "tags": []
          }
        },
        {
          "output_type": "display_data",
          "data": {
            "text/html": [
              "<pre>80668 observations to process; with 9001 unique items.</pre>"
            ],
            "text/plain": [
              "80668 observations to process; with 9001 unique items."
            ]
          },
          "metadata": {
            "tags": []
          }
        },
        {
          "output_type": "display_data",
          "data": {
            "text/html": [
              "<pre>recommendations finished on 1000/100836 queries. users per second: 12250.2</pre>"
            ],
            "text/plain": [
              "recommendations finished on 1000/100836 queries. users per second: 12250.2"
            ]
          },
          "metadata": {
            "tags": []
          }
        },
        {
          "output_type": "display_data",
          "data": {
            "text/html": [
              "<pre>recommendations finished on 2000/100836 queries. users per second: 11415.2</pre>"
            ],
            "text/plain": [
              "recommendations finished on 2000/100836 queries. users per second: 11415.2"
            ]
          },
          "metadata": {
            "tags": []
          }
        },
        {
          "output_type": "display_data",
          "data": {
            "text/html": [
              "<pre>recommendations finished on 3000/100836 queries. users per second: 11526</pre>"
            ],
            "text/plain": [
              "recommendations finished on 3000/100836 queries. users per second: 11526"
            ]
          },
          "metadata": {
            "tags": []
          }
        },
        {
          "output_type": "display_data",
          "data": {
            "text/html": [
              "<pre>recommendations finished on 4000/100836 queries. users per second: 11417.9</pre>"
            ],
            "text/plain": [
              "recommendations finished on 4000/100836 queries. users per second: 11417.9"
            ]
          },
          "metadata": {
            "tags": []
          }
        },
        {
          "output_type": "display_data",
          "data": {
            "text/html": [
              "<pre>recommendations finished on 5000/100836 queries. users per second: 11402.9</pre>"
            ],
            "text/plain": [
              "recommendations finished on 5000/100836 queries. users per second: 11402.9"
            ]
          },
          "metadata": {
            "tags": []
          }
        },
        {
          "output_type": "display_data",
          "data": {
            "text/html": [
              "<pre>recommendations finished on 6000/100836 queries. users per second: 11014.1</pre>"
            ],
            "text/plain": [
              "recommendations finished on 6000/100836 queries. users per second: 11014.1"
            ]
          },
          "metadata": {
            "tags": []
          }
        },
        {
          "output_type": "display_data",
          "data": {
            "text/html": [
              "<pre>recommendations finished on 7000/100836 queries. users per second: 11078.6</pre>"
            ],
            "text/plain": [
              "recommendations finished on 7000/100836 queries. users per second: 11078.6"
            ]
          },
          "metadata": {
            "tags": []
          }
        },
        {
          "output_type": "display_data",
          "data": {
            "text/html": [
              "<pre>recommendations finished on 8000/100836 queries. users per second: 11108.3</pre>"
            ],
            "text/plain": [
              "recommendations finished on 8000/100836 queries. users per second: 11108.3"
            ]
          },
          "metadata": {
            "tags": []
          }
        },
        {
          "output_type": "display_data",
          "data": {
            "text/html": [
              "<pre>recommendations finished on 9000/100836 queries. users per second: 11160.8</pre>"
            ],
            "text/plain": [
              "recommendations finished on 9000/100836 queries. users per second: 11160.8"
            ]
          },
          "metadata": {
            "tags": []
          }
        },
        {
          "output_type": "display_data",
          "data": {
            "text/html": [
              "<pre>recommendations finished on 10000/100836 queries. users per second: 11154</pre>"
            ],
            "text/plain": [
              "recommendations finished on 10000/100836 queries. users per second: 11154"
            ]
          },
          "metadata": {
            "tags": []
          }
        },
        {
          "output_type": "display_data",
          "data": {
            "text/html": [
              "<pre>recommendations finished on 11000/100836 queries. users per second: 11148.3</pre>"
            ],
            "text/plain": [
              "recommendations finished on 11000/100836 queries. users per second: 11148.3"
            ]
          },
          "metadata": {
            "tags": []
          }
        },
        {
          "output_type": "display_data",
          "data": {
            "text/html": [
              "<pre>recommendations finished on 12000/100836 queries. users per second: 11154.4</pre>"
            ],
            "text/plain": [
              "recommendations finished on 12000/100836 queries. users per second: 11154.4"
            ]
          },
          "metadata": {
            "tags": []
          }
        },
        {
          "output_type": "display_data",
          "data": {
            "text/html": [
              "<pre>recommendations finished on 13000/100836 queries. users per second: 11184.3</pre>"
            ],
            "text/plain": [
              "recommendations finished on 13000/100836 queries. users per second: 11184.3"
            ]
          },
          "metadata": {
            "tags": []
          }
        },
        {
          "output_type": "display_data",
          "data": {
            "text/html": [
              "<pre>recommendations finished on 14000/100836 queries. users per second: 11172.1</pre>"
            ],
            "text/plain": [
              "recommendations finished on 14000/100836 queries. users per second: 11172.1"
            ]
          },
          "metadata": {
            "tags": []
          }
        },
        {
          "output_type": "display_data",
          "data": {
            "text/html": [
              "<pre>recommendations finished on 15000/100836 queries. users per second: 11112.4</pre>"
            ],
            "text/plain": [
              "recommendations finished on 15000/100836 queries. users per second: 11112.4"
            ]
          },
          "metadata": {
            "tags": []
          }
        },
        {
          "output_type": "display_data",
          "data": {
            "text/html": [
              "<pre>recommendations finished on 16000/100836 queries. users per second: 11122.9</pre>"
            ],
            "text/plain": [
              "recommendations finished on 16000/100836 queries. users per second: 11122.9"
            ]
          },
          "metadata": {
            "tags": []
          }
        },
        {
          "output_type": "display_data",
          "data": {
            "text/html": [
              "<pre>recommendations finished on 17000/100836 queries. users per second: 11051.7</pre>"
            ],
            "text/plain": [
              "recommendations finished on 17000/100836 queries. users per second: 11051.7"
            ]
          },
          "metadata": {
            "tags": []
          }
        },
        {
          "output_type": "display_data",
          "data": {
            "text/html": [
              "<pre>recommendations finished on 18000/100836 queries. users per second: 11037.8</pre>"
            ],
            "text/plain": [
              "recommendations finished on 18000/100836 queries. users per second: 11037.8"
            ]
          },
          "metadata": {
            "tags": []
          }
        },
        {
          "output_type": "display_data",
          "data": {
            "text/html": [
              "<pre>recommendations finished on 19000/100836 queries. users per second: 11015.5</pre>"
            ],
            "text/plain": [
              "recommendations finished on 19000/100836 queries. users per second: 11015.5"
            ]
          },
          "metadata": {
            "tags": []
          }
        },
        {
          "output_type": "display_data",
          "data": {
            "text/html": [
              "<pre>recommendations finished on 20000/100836 queries. users per second: 10956.4</pre>"
            ],
            "text/plain": [
              "recommendations finished on 20000/100836 queries. users per second: 10956.4"
            ]
          },
          "metadata": {
            "tags": []
          }
        },
        {
          "output_type": "display_data",
          "data": {
            "text/html": [
              "<pre>recommendations finished on 21000/100836 queries. users per second: 10964.2</pre>"
            ],
            "text/plain": [
              "recommendations finished on 21000/100836 queries. users per second: 10964.2"
            ]
          },
          "metadata": {
            "tags": []
          }
        },
        {
          "output_type": "display_data",
          "data": {
            "text/html": [
              "<pre>recommendations finished on 22000/100836 queries. users per second: 10971.1</pre>"
            ],
            "text/plain": [
              "recommendations finished on 22000/100836 queries. users per second: 10971.1"
            ]
          },
          "metadata": {
            "tags": []
          }
        },
        {
          "output_type": "display_data",
          "data": {
            "text/html": [
              "<pre>recommendations finished on 23000/100836 queries. users per second: 10946.9</pre>"
            ],
            "text/plain": [
              "recommendations finished on 23000/100836 queries. users per second: 10946.9"
            ]
          },
          "metadata": {
            "tags": []
          }
        },
        {
          "output_type": "display_data",
          "data": {
            "text/html": [
              "<pre>recommendations finished on 24000/100836 queries. users per second: 10955.2</pre>"
            ],
            "text/plain": [
              "recommendations finished on 24000/100836 queries. users per second: 10955.2"
            ]
          },
          "metadata": {
            "tags": []
          }
        },
        {
          "output_type": "display_data",
          "data": {
            "text/html": [
              "<pre>recommendations finished on 25000/100836 queries. users per second: 10931.3</pre>"
            ],
            "text/plain": [
              "recommendations finished on 25000/100836 queries. users per second: 10931.3"
            ]
          },
          "metadata": {
            "tags": []
          }
        },
        {
          "output_type": "display_data",
          "data": {
            "text/html": [
              "<pre>recommendations finished on 26000/100836 queries. users per second: 10925.8</pre>"
            ],
            "text/plain": [
              "recommendations finished on 26000/100836 queries. users per second: 10925.8"
            ]
          },
          "metadata": {
            "tags": []
          }
        },
        {
          "output_type": "display_data",
          "data": {
            "text/html": [
              "<pre>recommendations finished on 27000/100836 queries. users per second: 10858.5</pre>"
            ],
            "text/plain": [
              "recommendations finished on 27000/100836 queries. users per second: 10858.5"
            ]
          },
          "metadata": {
            "tags": []
          }
        },
        {
          "output_type": "display_data",
          "data": {
            "text/html": [
              "<pre>recommendations finished on 28000/100836 queries. users per second: 10796.6</pre>"
            ],
            "text/plain": [
              "recommendations finished on 28000/100836 queries. users per second: 10796.6"
            ]
          },
          "metadata": {
            "tags": []
          }
        },
        {
          "output_type": "display_data",
          "data": {
            "text/html": [
              "<pre>recommendations finished on 29000/100836 queries. users per second: 10640.8</pre>"
            ],
            "text/plain": [
              "recommendations finished on 29000/100836 queries. users per second: 10640.8"
            ]
          },
          "metadata": {
            "tags": []
          }
        },
        {
          "output_type": "display_data",
          "data": {
            "text/html": [
              "<pre>recommendations finished on 30000/100836 queries. users per second: 10537.8</pre>"
            ],
            "text/plain": [
              "recommendations finished on 30000/100836 queries. users per second: 10537.8"
            ]
          },
          "metadata": {
            "tags": []
          }
        },
        {
          "output_type": "display_data",
          "data": {
            "text/html": [
              "<pre>recommendations finished on 31000/100836 queries. users per second: 10566.1</pre>"
            ],
            "text/plain": [
              "recommendations finished on 31000/100836 queries. users per second: 10566.1"
            ]
          },
          "metadata": {
            "tags": []
          }
        },
        {
          "output_type": "display_data",
          "data": {
            "text/html": [
              "<pre>recommendations finished on 32000/100836 queries. users per second: 10589.3</pre>"
            ],
            "text/plain": [
              "recommendations finished on 32000/100836 queries. users per second: 10589.3"
            ]
          },
          "metadata": {
            "tags": []
          }
        },
        {
          "output_type": "display_data",
          "data": {
            "text/html": [
              "<pre>recommendations finished on 33000/100836 queries. users per second: 10594.7</pre>"
            ],
            "text/plain": [
              "recommendations finished on 33000/100836 queries. users per second: 10594.7"
            ]
          },
          "metadata": {
            "tags": []
          }
        },
        {
          "output_type": "display_data",
          "data": {
            "text/html": [
              "<pre>recommendations finished on 34000/100836 queries. users per second: 10614.6</pre>"
            ],
            "text/plain": [
              "recommendations finished on 34000/100836 queries. users per second: 10614.6"
            ]
          },
          "metadata": {
            "tags": []
          }
        },
        {
          "output_type": "display_data",
          "data": {
            "text/html": [
              "<pre>recommendations finished on 35000/100836 queries. users per second: 10627.4</pre>"
            ],
            "text/plain": [
              "recommendations finished on 35000/100836 queries. users per second: 10627.4"
            ]
          },
          "metadata": {
            "tags": []
          }
        },
        {
          "output_type": "display_data",
          "data": {
            "text/html": [
              "<pre>recommendations finished on 36000/100836 queries. users per second: 10645.7</pre>"
            ],
            "text/plain": [
              "recommendations finished on 36000/100836 queries. users per second: 10645.7"
            ]
          },
          "metadata": {
            "tags": []
          }
        },
        {
          "output_type": "display_data",
          "data": {
            "text/html": [
              "<pre>recommendations finished on 37000/100836 queries. users per second: 10641.9</pre>"
            ],
            "text/plain": [
              "recommendations finished on 37000/100836 queries. users per second: 10641.9"
            ]
          },
          "metadata": {
            "tags": []
          }
        },
        {
          "output_type": "display_data",
          "data": {
            "text/html": [
              "<pre>recommendations finished on 38000/100836 queries. users per second: 10619</pre>"
            ],
            "text/plain": [
              "recommendations finished on 38000/100836 queries. users per second: 10619"
            ]
          },
          "metadata": {
            "tags": []
          }
        },
        {
          "output_type": "display_data",
          "data": {
            "text/html": [
              "<pre>recommendations finished on 39000/100836 queries. users per second: 10601.8</pre>"
            ],
            "text/plain": [
              "recommendations finished on 39000/100836 queries. users per second: 10601.8"
            ]
          },
          "metadata": {
            "tags": []
          }
        },
        {
          "output_type": "display_data",
          "data": {
            "text/html": [
              "<pre>recommendations finished on 40000/100836 queries. users per second: 10615.7</pre>"
            ],
            "text/plain": [
              "recommendations finished on 40000/100836 queries. users per second: 10615.7"
            ]
          },
          "metadata": {
            "tags": []
          }
        },
        {
          "output_type": "display_data",
          "data": {
            "text/html": [
              "<pre>recommendations finished on 41000/100836 queries. users per second: 10643.2</pre>"
            ],
            "text/plain": [
              "recommendations finished on 41000/100836 queries. users per second: 10643.2"
            ]
          },
          "metadata": {
            "tags": []
          }
        },
        {
          "output_type": "display_data",
          "data": {
            "text/html": [
              "<pre>recommendations finished on 42000/100836 queries. users per second: 10655</pre>"
            ],
            "text/plain": [
              "recommendations finished on 42000/100836 queries. users per second: 10655"
            ]
          },
          "metadata": {
            "tags": []
          }
        },
        {
          "output_type": "display_data",
          "data": {
            "text/html": [
              "<pre>recommendations finished on 43000/100836 queries. users per second: 10675.8</pre>"
            ],
            "text/plain": [
              "recommendations finished on 43000/100836 queries. users per second: 10675.8"
            ]
          },
          "metadata": {
            "tags": []
          }
        },
        {
          "output_type": "display_data",
          "data": {
            "text/html": [
              "<pre>recommendations finished on 44000/100836 queries. users per second: 10676.5</pre>"
            ],
            "text/plain": [
              "recommendations finished on 44000/100836 queries. users per second: 10676.5"
            ]
          },
          "metadata": {
            "tags": []
          }
        },
        {
          "output_type": "display_data",
          "data": {
            "text/html": [
              "<pre>recommendations finished on 45000/100836 queries. users per second: 10664.8</pre>"
            ],
            "text/plain": [
              "recommendations finished on 45000/100836 queries. users per second: 10664.8"
            ]
          },
          "metadata": {
            "tags": []
          }
        },
        {
          "output_type": "display_data",
          "data": {
            "text/html": [
              "<pre>recommendations finished on 46000/100836 queries. users per second: 10396</pre>"
            ],
            "text/plain": [
              "recommendations finished on 46000/100836 queries. users per second: 10396"
            ]
          },
          "metadata": {
            "tags": []
          }
        },
        {
          "output_type": "display_data",
          "data": {
            "text/html": [
              "<pre>recommendations finished on 47000/100836 queries. users per second: 10223.6</pre>"
            ],
            "text/plain": [
              "recommendations finished on 47000/100836 queries. users per second: 10223.6"
            ]
          },
          "metadata": {
            "tags": []
          }
        },
        {
          "output_type": "display_data",
          "data": {
            "text/html": [
              "<pre>recommendations finished on 48000/100836 queries. users per second: 10108.2</pre>"
            ],
            "text/plain": [
              "recommendations finished on 48000/100836 queries. users per second: 10108.2"
            ]
          },
          "metadata": {
            "tags": []
          }
        },
        {
          "output_type": "display_data",
          "data": {
            "text/html": [
              "<pre>recommendations finished on 49000/100836 queries. users per second: 9967.65</pre>"
            ],
            "text/plain": [
              "recommendations finished on 49000/100836 queries. users per second: 9967.65"
            ]
          },
          "metadata": {
            "tags": []
          }
        },
        {
          "output_type": "display_data",
          "data": {
            "text/html": [
              "<pre>recommendations finished on 50000/100836 queries. users per second: 9805.72</pre>"
            ],
            "text/plain": [
              "recommendations finished on 50000/100836 queries. users per second: 9805.72"
            ]
          },
          "metadata": {
            "tags": []
          }
        },
        {
          "output_type": "display_data",
          "data": {
            "text/html": [
              "<pre>recommendations finished on 51000/100836 queries. users per second: 9709.09</pre>"
            ],
            "text/plain": [
              "recommendations finished on 51000/100836 queries. users per second: 9709.09"
            ]
          },
          "metadata": {
            "tags": []
          }
        },
        {
          "output_type": "display_data",
          "data": {
            "text/html": [
              "<pre>recommendations finished on 52000/100836 queries. users per second: 9618.64</pre>"
            ],
            "text/plain": [
              "recommendations finished on 52000/100836 queries. users per second: 9618.64"
            ]
          },
          "metadata": {
            "tags": []
          }
        },
        {
          "output_type": "display_data",
          "data": {
            "text/html": [
              "<pre>recommendations finished on 53000/100836 queries. users per second: 9314.51</pre>"
            ],
            "text/plain": [
              "recommendations finished on 53000/100836 queries. users per second: 9314.51"
            ]
          },
          "metadata": {
            "tags": []
          }
        },
        {
          "output_type": "display_data",
          "data": {
            "text/html": [
              "<pre>recommendations finished on 54000/100836 queries. users per second: 9238.58</pre>"
            ],
            "text/plain": [
              "recommendations finished on 54000/100836 queries. users per second: 9238.58"
            ]
          },
          "metadata": {
            "tags": []
          }
        },
        {
          "output_type": "display_data",
          "data": {
            "text/html": [
              "<pre>recommendations finished on 55000/100836 queries. users per second: 9058.91</pre>"
            ],
            "text/plain": [
              "recommendations finished on 55000/100836 queries. users per second: 9058.91"
            ]
          },
          "metadata": {
            "tags": []
          }
        },
        {
          "output_type": "display_data",
          "data": {
            "text/html": [
              "<pre>recommendations finished on 56000/100836 queries. users per second: 9005.9</pre>"
            ],
            "text/plain": [
              "recommendations finished on 56000/100836 queries. users per second: 9005.9"
            ]
          },
          "metadata": {
            "tags": []
          }
        },
        {
          "output_type": "display_data",
          "data": {
            "text/html": [
              "<pre>recommendations finished on 57000/100836 queries. users per second: 8900.3</pre>"
            ],
            "text/plain": [
              "recommendations finished on 57000/100836 queries. users per second: 8900.3"
            ]
          },
          "metadata": {
            "tags": []
          }
        },
        {
          "output_type": "display_data",
          "data": {
            "text/html": [
              "<pre>recommendations finished on 58000/100836 queries. users per second: 8785.53</pre>"
            ],
            "text/plain": [
              "recommendations finished on 58000/100836 queries. users per second: 8785.53"
            ]
          },
          "metadata": {
            "tags": []
          }
        },
        {
          "output_type": "display_data",
          "data": {
            "text/html": [
              "<pre>recommendations finished on 59000/100836 queries. users per second: 8801.62</pre>"
            ],
            "text/plain": [
              "recommendations finished on 59000/100836 queries. users per second: 8801.62"
            ]
          },
          "metadata": {
            "tags": []
          }
        },
        {
          "output_type": "display_data",
          "data": {
            "text/html": [
              "<pre>recommendations finished on 60000/100836 queries. users per second: 8818.73</pre>"
            ],
            "text/plain": [
              "recommendations finished on 60000/100836 queries. users per second: 8818.73"
            ]
          },
          "metadata": {
            "tags": []
          }
        },
        {
          "output_type": "display_data",
          "data": {
            "text/html": [
              "<pre>recommendations finished on 61000/100836 queries. users per second: 8832.63</pre>"
            ],
            "text/plain": [
              "recommendations finished on 61000/100836 queries. users per second: 8832.63"
            ]
          },
          "metadata": {
            "tags": []
          }
        },
        {
          "output_type": "display_data",
          "data": {
            "text/html": [
              "<pre>recommendations finished on 62000/100836 queries. users per second: 8860.53</pre>"
            ],
            "text/plain": [
              "recommendations finished on 62000/100836 queries. users per second: 8860.53"
            ]
          },
          "metadata": {
            "tags": []
          }
        },
        {
          "output_type": "display_data",
          "data": {
            "text/html": [
              "<pre>recommendations finished on 63000/100836 queries. users per second: 8888.12</pre>"
            ],
            "text/plain": [
              "recommendations finished on 63000/100836 queries. users per second: 8888.12"
            ]
          },
          "metadata": {
            "tags": []
          }
        },
        {
          "output_type": "display_data",
          "data": {
            "text/html": [
              "<pre>recommendations finished on 64000/100836 queries. users per second: 8913.39</pre>"
            ],
            "text/plain": [
              "recommendations finished on 64000/100836 queries. users per second: 8913.39"
            ]
          },
          "metadata": {
            "tags": []
          }
        },
        {
          "output_type": "display_data",
          "data": {
            "text/html": [
              "<pre>recommendations finished on 65000/100836 queries. users per second: 8936.94</pre>"
            ],
            "text/plain": [
              "recommendations finished on 65000/100836 queries. users per second: 8936.94"
            ]
          },
          "metadata": {
            "tags": []
          }
        },
        {
          "output_type": "display_data",
          "data": {
            "text/html": [
              "<pre>recommendations finished on 66000/100836 queries. users per second: 8963.77</pre>"
            ],
            "text/plain": [
              "recommendations finished on 66000/100836 queries. users per second: 8963.77"
            ]
          },
          "metadata": {
            "tags": []
          }
        },
        {
          "output_type": "display_data",
          "data": {
            "text/html": [
              "<pre>recommendations finished on 67000/100836 queries. users per second: 8988.08</pre>"
            ],
            "text/plain": [
              "recommendations finished on 67000/100836 queries. users per second: 8988.08"
            ]
          },
          "metadata": {
            "tags": []
          }
        },
        {
          "output_type": "display_data",
          "data": {
            "text/html": [
              "<pre>recommendations finished on 68000/100836 queries. users per second: 9016.55</pre>"
            ],
            "text/plain": [
              "recommendations finished on 68000/100836 queries. users per second: 9016.55"
            ]
          },
          "metadata": {
            "tags": []
          }
        },
        {
          "output_type": "display_data",
          "data": {
            "text/html": [
              "<pre>recommendations finished on 69000/100836 queries. users per second: 9035.13</pre>"
            ],
            "text/plain": [
              "recommendations finished on 69000/100836 queries. users per second: 9035.13"
            ]
          },
          "metadata": {
            "tags": []
          }
        },
        {
          "output_type": "display_data",
          "data": {
            "text/html": [
              "<pre>recommendations finished on 70000/100836 queries. users per second: 9053.33</pre>"
            ],
            "text/plain": [
              "recommendations finished on 70000/100836 queries. users per second: 9053.33"
            ]
          },
          "metadata": {
            "tags": []
          }
        },
        {
          "output_type": "display_data",
          "data": {
            "text/html": [
              "<pre>recommendations finished on 71000/100836 queries. users per second: 9072.03</pre>"
            ],
            "text/plain": [
              "recommendations finished on 71000/100836 queries. users per second: 9072.03"
            ]
          },
          "metadata": {
            "tags": []
          }
        },
        {
          "output_type": "display_data",
          "data": {
            "text/html": [
              "<pre>recommendations finished on 72000/100836 queries. users per second: 9066.22</pre>"
            ],
            "text/plain": [
              "recommendations finished on 72000/100836 queries. users per second: 9066.22"
            ]
          },
          "metadata": {
            "tags": []
          }
        },
        {
          "output_type": "display_data",
          "data": {
            "text/html": [
              "<pre>recommendations finished on 73000/100836 queries. users per second: 9084.52</pre>"
            ],
            "text/plain": [
              "recommendations finished on 73000/100836 queries. users per second: 9084.52"
            ]
          },
          "metadata": {
            "tags": []
          }
        },
        {
          "output_type": "display_data",
          "data": {
            "text/html": [
              "<pre>recommendations finished on 74000/100836 queries. users per second: 9107.43</pre>"
            ],
            "text/plain": [
              "recommendations finished on 74000/100836 queries. users per second: 9107.43"
            ]
          },
          "metadata": {
            "tags": []
          }
        },
        {
          "output_type": "display_data",
          "data": {
            "text/html": [
              "<pre>recommendations finished on 75000/100836 queries. users per second: 9108.14</pre>"
            ],
            "text/plain": [
              "recommendations finished on 75000/100836 queries. users per second: 9108.14"
            ]
          },
          "metadata": {
            "tags": []
          }
        },
        {
          "output_type": "display_data",
          "data": {
            "text/html": [
              "<pre>recommendations finished on 76000/100836 queries. users per second: 9119.16</pre>"
            ],
            "text/plain": [
              "recommendations finished on 76000/100836 queries. users per second: 9119.16"
            ]
          },
          "metadata": {
            "tags": []
          }
        },
        {
          "output_type": "display_data",
          "data": {
            "text/html": [
              "<pre>recommendations finished on 77000/100836 queries. users per second: 9145.4</pre>"
            ],
            "text/plain": [
              "recommendations finished on 77000/100836 queries. users per second: 9145.4"
            ]
          },
          "metadata": {
            "tags": []
          }
        },
        {
          "output_type": "display_data",
          "data": {
            "text/html": [
              "<pre>recommendations finished on 78000/100836 queries. users per second: 9162.69</pre>"
            ],
            "text/plain": [
              "recommendations finished on 78000/100836 queries. users per second: 9162.69"
            ]
          },
          "metadata": {
            "tags": []
          }
        },
        {
          "output_type": "display_data",
          "data": {
            "text/html": [
              "<pre>recommendations finished on 79000/100836 queries. users per second: 9183.73</pre>"
            ],
            "text/plain": [
              "recommendations finished on 79000/100836 queries. users per second: 9183.73"
            ]
          },
          "metadata": {
            "tags": []
          }
        },
        {
          "output_type": "display_data",
          "data": {
            "text/html": [
              "<pre>recommendations finished on 80000/100836 queries. users per second: 9192.74</pre>"
            ],
            "text/plain": [
              "recommendations finished on 80000/100836 queries. users per second: 9192.74"
            ]
          },
          "metadata": {
            "tags": []
          }
        },
        {
          "output_type": "display_data",
          "data": {
            "text/html": [
              "<pre>recommendations finished on 81000/100836 queries. users per second: 9212.75</pre>"
            ],
            "text/plain": [
              "recommendations finished on 81000/100836 queries. users per second: 9212.75"
            ]
          },
          "metadata": {
            "tags": []
          }
        },
        {
          "output_type": "display_data",
          "data": {
            "text/html": [
              "<pre>recommendations finished on 82000/100836 queries. users per second: 9231.23</pre>"
            ],
            "text/plain": [
              "recommendations finished on 82000/100836 queries. users per second: 9231.23"
            ]
          },
          "metadata": {
            "tags": []
          }
        },
        {
          "output_type": "display_data",
          "data": {
            "text/html": [
              "<pre>recommendations finished on 83000/100836 queries. users per second: 9248.97</pre>"
            ],
            "text/plain": [
              "recommendations finished on 83000/100836 queries. users per second: 9248.97"
            ]
          },
          "metadata": {
            "tags": []
          }
        },
        {
          "output_type": "display_data",
          "data": {
            "text/html": [
              "<pre>recommendations finished on 84000/100836 queries. users per second: 9267.08</pre>"
            ],
            "text/plain": [
              "recommendations finished on 84000/100836 queries. users per second: 9267.08"
            ]
          },
          "metadata": {
            "tags": []
          }
        },
        {
          "output_type": "display_data",
          "data": {
            "text/html": [
              "<pre>recommendations finished on 85000/100836 queries. users per second: 9234.2</pre>"
            ],
            "text/plain": [
              "recommendations finished on 85000/100836 queries. users per second: 9234.2"
            ]
          },
          "metadata": {
            "tags": []
          }
        },
        {
          "output_type": "display_data",
          "data": {
            "text/html": [
              "<pre>recommendations finished on 86000/100836 queries. users per second: 9253.66</pre>"
            ],
            "text/plain": [
              "recommendations finished on 86000/100836 queries. users per second: 9253.66"
            ]
          },
          "metadata": {
            "tags": []
          }
        },
        {
          "output_type": "display_data",
          "data": {
            "text/html": [
              "<pre>recommendations finished on 87000/100836 queries. users per second: 9265.49</pre>"
            ],
            "text/plain": [
              "recommendations finished on 87000/100836 queries. users per second: 9265.49"
            ]
          },
          "metadata": {
            "tags": []
          }
        },
        {
          "output_type": "display_data",
          "data": {
            "text/html": [
              "<pre>recommendations finished on 88000/100836 queries. users per second: 9281.47</pre>"
            ],
            "text/plain": [
              "recommendations finished on 88000/100836 queries. users per second: 9281.47"
            ]
          },
          "metadata": {
            "tags": []
          }
        },
        {
          "output_type": "display_data",
          "data": {
            "text/html": [
              "<pre>recommendations finished on 89000/100836 queries. users per second: 9293.01</pre>"
            ],
            "text/plain": [
              "recommendations finished on 89000/100836 queries. users per second: 9293.01"
            ]
          },
          "metadata": {
            "tags": []
          }
        },
        {
          "output_type": "display_data",
          "data": {
            "text/html": [
              "<pre>recommendations finished on 90000/100836 queries. users per second: 9312.54</pre>"
            ],
            "text/plain": [
              "recommendations finished on 90000/100836 queries. users per second: 9312.54"
            ]
          },
          "metadata": {
            "tags": []
          }
        },
        {
          "output_type": "display_data",
          "data": {
            "text/html": [
              "<pre>recommendations finished on 91000/100836 queries. users per second: 9318.38</pre>"
            ],
            "text/plain": [
              "recommendations finished on 91000/100836 queries. users per second: 9318.38"
            ]
          },
          "metadata": {
            "tags": []
          }
        },
        {
          "output_type": "display_data",
          "data": {
            "text/html": [
              "<pre>recommendations finished on 92000/100836 queries. users per second: 9330.8</pre>"
            ],
            "text/plain": [
              "recommendations finished on 92000/100836 queries. users per second: 9330.8"
            ]
          },
          "metadata": {
            "tags": []
          }
        },
        {
          "output_type": "display_data",
          "data": {
            "text/html": [
              "<pre>recommendations finished on 93000/100836 queries. users per second: 9339.82</pre>"
            ],
            "text/plain": [
              "recommendations finished on 93000/100836 queries. users per second: 9339.82"
            ]
          },
          "metadata": {
            "tags": []
          }
        },
        {
          "output_type": "display_data",
          "data": {
            "text/html": [
              "<pre>recommendations finished on 94000/100836 queries. users per second: 9339.59</pre>"
            ],
            "text/plain": [
              "recommendations finished on 94000/100836 queries. users per second: 9339.59"
            ]
          },
          "metadata": {
            "tags": []
          }
        },
        {
          "output_type": "display_data",
          "data": {
            "text/html": [
              "<pre>recommendations finished on 95000/100836 queries. users per second: 9320.84</pre>"
            ],
            "text/plain": [
              "recommendations finished on 95000/100836 queries. users per second: 9320.84"
            ]
          },
          "metadata": {
            "tags": []
          }
        },
        {
          "output_type": "display_data",
          "data": {
            "text/html": [
              "<pre>recommendations finished on 96000/100836 queries. users per second: 9319.63</pre>"
            ],
            "text/plain": [
              "recommendations finished on 96000/100836 queries. users per second: 9319.63"
            ]
          },
          "metadata": {
            "tags": []
          }
        },
        {
          "output_type": "display_data",
          "data": {
            "text/html": [
              "<pre>recommendations finished on 97000/100836 queries. users per second: 9326.5</pre>"
            ],
            "text/plain": [
              "recommendations finished on 97000/100836 queries. users per second: 9326.5"
            ]
          },
          "metadata": {
            "tags": []
          }
        },
        {
          "output_type": "display_data",
          "data": {
            "text/html": [
              "<pre>recommendations finished on 98000/100836 queries. users per second: 9334.04</pre>"
            ],
            "text/plain": [
              "recommendations finished on 98000/100836 queries. users per second: 9334.04"
            ]
          },
          "metadata": {
            "tags": []
          }
        },
        {
          "output_type": "display_data",
          "data": {
            "text/html": [
              "<pre>recommendations finished on 99000/100836 queries. users per second: 9337.19</pre>"
            ],
            "text/plain": [
              "recommendations finished on 99000/100836 queries. users per second: 9337.19"
            ]
          },
          "metadata": {
            "tags": []
          }
        },
        {
          "output_type": "display_data",
          "data": {
            "text/html": [
              "<pre>recommendations finished on 100000/100836 queries. users per second: 9340.98</pre>"
            ],
            "text/plain": [
              "recommendations finished on 100000/100836 queries. users per second: 9340.98"
            ]
          },
          "metadata": {
            "tags": []
          }
        },
        {
          "output_type": "stream",
          "text": [
            "+---------+----------------+-------+------+\n",
            "| user_id | product_number | score | rank |\n",
            "+---------+----------------+-------+------+\n",
            "|    1    |      2067      |  1.0  |  1   |\n",
            "|    1    |     39715      |  1.0  |  2   |\n",
            "|    1    |      1203      |  1.0  |  3   |\n",
            "|    1    |     92259      |  1.0  |  4   |\n",
            "|    1    |      292       |  1.0  |  5   |\n",
            "|    1    |      1963      |  1.0  |  6   |\n",
            "|    1    |     112852     |  1.0  |  7   |\n",
            "|    1    |     145150     |  1.0  |  8   |\n",
            "|    1    |      912       |  1.0  |  9   |\n",
            "|    1    |      3246      |  1.0  |  10  |\n",
            "+---------+----------------+-------+------+\n",
            "[1008360 rows x 4 columns]\n",
            "\n"
          ],
          "name": "stdout"
        }
      ]
    },
    {
      "cell_type": "code",
      "metadata": {
        "id": "t1QW0EzGoSOl",
        "colab": {
          "base_uri": "https://localhost:8080/",
          "height": 1000
        },
        "outputId": "9a4eaeaa-7a23-4a9e-bc36-871843a40296"
      },
      "source": [
        "name = 'popularity'\r\n",
        "target = 'scaled_purchase_freq'\r\n",
        "pop_norm = model(train_data_norm, name, user_id, item_id, target, users_to_recommend, n_rec, n_display)"
      ],
      "execution_count": 96,
      "outputs": [
        {
          "output_type": "display_data",
          "data": {
            "text/html": [
              "<pre>Preparing data set.</pre>"
            ],
            "text/plain": [
              "Preparing data set."
            ]
          },
          "metadata": {
            "tags": []
          }
        },
        {
          "output_type": "display_data",
          "data": {
            "text/html": [
              "<pre>    Data has 77372 observations with 610 users and 5924 items.</pre>"
            ],
            "text/plain": [
              "    Data has 77372 observations with 610 users and 5924 items."
            ]
          },
          "metadata": {
            "tags": []
          }
        },
        {
          "output_type": "display_data",
          "data": {
            "text/html": [
              "<pre>    Data prepared in: 0.09572s</pre>"
            ],
            "text/plain": [
              "    Data prepared in: 0.09572s"
            ]
          },
          "metadata": {
            "tags": []
          }
        },
        {
          "output_type": "display_data",
          "data": {
            "text/html": [
              "<pre>77372 observations to process; with 5924 unique items.</pre>"
            ],
            "text/plain": [
              "77372 observations to process; with 5924 unique items."
            ]
          },
          "metadata": {
            "tags": []
          }
        },
        {
          "output_type": "display_data",
          "data": {
            "text/html": [
              "<pre>recommendations finished on 1000/100836 queries. users per second: 17889.4</pre>"
            ],
            "text/plain": [
              "recommendations finished on 1000/100836 queries. users per second: 17889.4"
            ]
          },
          "metadata": {
            "tags": []
          }
        },
        {
          "output_type": "display_data",
          "data": {
            "text/html": [
              "<pre>recommendations finished on 2000/100836 queries. users per second: 16882.8</pre>"
            ],
            "text/plain": [
              "recommendations finished on 2000/100836 queries. users per second: 16882.8"
            ]
          },
          "metadata": {
            "tags": []
          }
        },
        {
          "output_type": "display_data",
          "data": {
            "text/html": [
              "<pre>recommendations finished on 3000/100836 queries. users per second: 17016.4</pre>"
            ],
            "text/plain": [
              "recommendations finished on 3000/100836 queries. users per second: 17016.4"
            ]
          },
          "metadata": {
            "tags": []
          }
        },
        {
          "output_type": "display_data",
          "data": {
            "text/html": [
              "<pre>recommendations finished on 4000/100836 queries. users per second: 16939.9</pre>"
            ],
            "text/plain": [
              "recommendations finished on 4000/100836 queries. users per second: 16939.9"
            ]
          },
          "metadata": {
            "tags": []
          }
        },
        {
          "output_type": "display_data",
          "data": {
            "text/html": [
              "<pre>recommendations finished on 5000/100836 queries. users per second: 16757.8</pre>"
            ],
            "text/plain": [
              "recommendations finished on 5000/100836 queries. users per second: 16757.8"
            ]
          },
          "metadata": {
            "tags": []
          }
        },
        {
          "output_type": "display_data",
          "data": {
            "text/html": [
              "<pre>recommendations finished on 6000/100836 queries. users per second: 16737.7</pre>"
            ],
            "text/plain": [
              "recommendations finished on 6000/100836 queries. users per second: 16737.7"
            ]
          },
          "metadata": {
            "tags": []
          }
        },
        {
          "output_type": "display_data",
          "data": {
            "text/html": [
              "<pre>recommendations finished on 7000/100836 queries. users per second: 16682.7</pre>"
            ],
            "text/plain": [
              "recommendations finished on 7000/100836 queries. users per second: 16682.7"
            ]
          },
          "metadata": {
            "tags": []
          }
        },
        {
          "output_type": "display_data",
          "data": {
            "text/html": [
              "<pre>recommendations finished on 8000/100836 queries. users per second: 16518.8</pre>"
            ],
            "text/plain": [
              "recommendations finished on 8000/100836 queries. users per second: 16518.8"
            ]
          },
          "metadata": {
            "tags": []
          }
        },
        {
          "output_type": "display_data",
          "data": {
            "text/html": [
              "<pre>recommendations finished on 9000/100836 queries. users per second: 16505.2</pre>"
            ],
            "text/plain": [
              "recommendations finished on 9000/100836 queries. users per second: 16505.2"
            ]
          },
          "metadata": {
            "tags": []
          }
        },
        {
          "output_type": "display_data",
          "data": {
            "text/html": [
              "<pre>recommendations finished on 10000/100836 queries. users per second: 16505.5</pre>"
            ],
            "text/plain": [
              "recommendations finished on 10000/100836 queries. users per second: 16505.5"
            ]
          },
          "metadata": {
            "tags": []
          }
        },
        {
          "output_type": "display_data",
          "data": {
            "text/html": [
              "<pre>recommendations finished on 11000/100836 queries. users per second: 16269.8</pre>"
            ],
            "text/plain": [
              "recommendations finished on 11000/100836 queries. users per second: 16269.8"
            ]
          },
          "metadata": {
            "tags": []
          }
        },
        {
          "output_type": "display_data",
          "data": {
            "text/html": [
              "<pre>recommendations finished on 12000/100836 queries. users per second: 15284.1</pre>"
            ],
            "text/plain": [
              "recommendations finished on 12000/100836 queries. users per second: 15284.1"
            ]
          },
          "metadata": {
            "tags": []
          }
        },
        {
          "output_type": "display_data",
          "data": {
            "text/html": [
              "<pre>recommendations finished on 13000/100836 queries. users per second: 14572.2</pre>"
            ],
            "text/plain": [
              "recommendations finished on 13000/100836 queries. users per second: 14572.2"
            ]
          },
          "metadata": {
            "tags": []
          }
        },
        {
          "output_type": "display_data",
          "data": {
            "text/html": [
              "<pre>recommendations finished on 14000/100836 queries. users per second: 14579.2</pre>"
            ],
            "text/plain": [
              "recommendations finished on 14000/100836 queries. users per second: 14579.2"
            ]
          },
          "metadata": {
            "tags": []
          }
        },
        {
          "output_type": "display_data",
          "data": {
            "text/html": [
              "<pre>recommendations finished on 15000/100836 queries. users per second: 14628.4</pre>"
            ],
            "text/plain": [
              "recommendations finished on 15000/100836 queries. users per second: 14628.4"
            ]
          },
          "metadata": {
            "tags": []
          }
        },
        {
          "output_type": "display_data",
          "data": {
            "text/html": [
              "<pre>recommendations finished on 16000/100836 queries. users per second: 14715</pre>"
            ],
            "text/plain": [
              "recommendations finished on 16000/100836 queries. users per second: 14715"
            ]
          },
          "metadata": {
            "tags": []
          }
        },
        {
          "output_type": "display_data",
          "data": {
            "text/html": [
              "<pre>recommendations finished on 17000/100836 queries. users per second: 14802.7</pre>"
            ],
            "text/plain": [
              "recommendations finished on 17000/100836 queries. users per second: 14802.7"
            ]
          },
          "metadata": {
            "tags": []
          }
        },
        {
          "output_type": "display_data",
          "data": {
            "text/html": [
              "<pre>recommendations finished on 18000/100836 queries. users per second: 14871</pre>"
            ],
            "text/plain": [
              "recommendations finished on 18000/100836 queries. users per second: 14871"
            ]
          },
          "metadata": {
            "tags": []
          }
        },
        {
          "output_type": "display_data",
          "data": {
            "text/html": [
              "<pre>recommendations finished on 19000/100836 queries. users per second: 14921.8</pre>"
            ],
            "text/plain": [
              "recommendations finished on 19000/100836 queries. users per second: 14921.8"
            ]
          },
          "metadata": {
            "tags": []
          }
        },
        {
          "output_type": "display_data",
          "data": {
            "text/html": [
              "<pre>recommendations finished on 20000/100836 queries. users per second: 14928.6</pre>"
            ],
            "text/plain": [
              "recommendations finished on 20000/100836 queries. users per second: 14928.6"
            ]
          },
          "metadata": {
            "tags": []
          }
        },
        {
          "output_type": "display_data",
          "data": {
            "text/html": [
              "<pre>recommendations finished on 21000/100836 queries. users per second: 14954</pre>"
            ],
            "text/plain": [
              "recommendations finished on 21000/100836 queries. users per second: 14954"
            ]
          },
          "metadata": {
            "tags": []
          }
        },
        {
          "output_type": "display_data",
          "data": {
            "text/html": [
              "<pre>recommendations finished on 22000/100836 queries. users per second: 15009.1</pre>"
            ],
            "text/plain": [
              "recommendations finished on 22000/100836 queries. users per second: 15009.1"
            ]
          },
          "metadata": {
            "tags": []
          }
        },
        {
          "output_type": "display_data",
          "data": {
            "text/html": [
              "<pre>recommendations finished on 23000/100836 queries. users per second: 15056</pre>"
            ],
            "text/plain": [
              "recommendations finished on 23000/100836 queries. users per second: 15056"
            ]
          },
          "metadata": {
            "tags": []
          }
        },
        {
          "output_type": "display_data",
          "data": {
            "text/html": [
              "<pre>recommendations finished on 24000/100836 queries. users per second: 15024.9</pre>"
            ],
            "text/plain": [
              "recommendations finished on 24000/100836 queries. users per second: 15024.9"
            ]
          },
          "metadata": {
            "tags": []
          }
        },
        {
          "output_type": "display_data",
          "data": {
            "text/html": [
              "<pre>recommendations finished on 25000/100836 queries. users per second: 15017</pre>"
            ],
            "text/plain": [
              "recommendations finished on 25000/100836 queries. users per second: 15017"
            ]
          },
          "metadata": {
            "tags": []
          }
        },
        {
          "output_type": "display_data",
          "data": {
            "text/html": [
              "<pre>recommendations finished on 26000/100836 queries. users per second: 15015.5</pre>"
            ],
            "text/plain": [
              "recommendations finished on 26000/100836 queries. users per second: 15015.5"
            ]
          },
          "metadata": {
            "tags": []
          }
        },
        {
          "output_type": "display_data",
          "data": {
            "text/html": [
              "<pre>recommendations finished on 27000/100836 queries. users per second: 14912.8</pre>"
            ],
            "text/plain": [
              "recommendations finished on 27000/100836 queries. users per second: 14912.8"
            ]
          },
          "metadata": {
            "tags": []
          }
        },
        {
          "output_type": "display_data",
          "data": {
            "text/html": [
              "<pre>recommendations finished on 28000/100836 queries. users per second: 14865</pre>"
            ],
            "text/plain": [
              "recommendations finished on 28000/100836 queries. users per second: 14865"
            ]
          },
          "metadata": {
            "tags": []
          }
        },
        {
          "output_type": "display_data",
          "data": {
            "text/html": [
              "<pre>recommendations finished on 29000/100836 queries. users per second: 14869.7</pre>"
            ],
            "text/plain": [
              "recommendations finished on 29000/100836 queries. users per second: 14869.7"
            ]
          },
          "metadata": {
            "tags": []
          }
        },
        {
          "output_type": "display_data",
          "data": {
            "text/html": [
              "<pre>recommendations finished on 30000/100836 queries. users per second: 14887.2</pre>"
            ],
            "text/plain": [
              "recommendations finished on 30000/100836 queries. users per second: 14887.2"
            ]
          },
          "metadata": {
            "tags": []
          }
        },
        {
          "output_type": "display_data",
          "data": {
            "text/html": [
              "<pre>recommendations finished on 31000/100836 queries. users per second: 14946.3</pre>"
            ],
            "text/plain": [
              "recommendations finished on 31000/100836 queries. users per second: 14946.3"
            ]
          },
          "metadata": {
            "tags": []
          }
        },
        {
          "output_type": "display_data",
          "data": {
            "text/html": [
              "<pre>recommendations finished on 32000/100836 queries. users per second: 15005.3</pre>"
            ],
            "text/plain": [
              "recommendations finished on 32000/100836 queries. users per second: 15005.3"
            ]
          },
          "metadata": {
            "tags": []
          }
        },
        {
          "output_type": "display_data",
          "data": {
            "text/html": [
              "<pre>recommendations finished on 33000/100836 queries. users per second: 15051</pre>"
            ],
            "text/plain": [
              "recommendations finished on 33000/100836 queries. users per second: 15051"
            ]
          },
          "metadata": {
            "tags": []
          }
        },
        {
          "output_type": "display_data",
          "data": {
            "text/html": [
              "<pre>recommendations finished on 34000/100836 queries. users per second: 15062.1</pre>"
            ],
            "text/plain": [
              "recommendations finished on 34000/100836 queries. users per second: 15062.1"
            ]
          },
          "metadata": {
            "tags": []
          }
        },
        {
          "output_type": "display_data",
          "data": {
            "text/html": [
              "<pre>recommendations finished on 35000/100836 queries. users per second: 15094.7</pre>"
            ],
            "text/plain": [
              "recommendations finished on 35000/100836 queries. users per second: 15094.7"
            ]
          },
          "metadata": {
            "tags": []
          }
        },
        {
          "output_type": "display_data",
          "data": {
            "text/html": [
              "<pre>recommendations finished on 36000/100836 queries. users per second: 15116.6</pre>"
            ],
            "text/plain": [
              "recommendations finished on 36000/100836 queries. users per second: 15116.6"
            ]
          },
          "metadata": {
            "tags": []
          }
        },
        {
          "output_type": "display_data",
          "data": {
            "text/html": [
              "<pre>recommendations finished on 37000/100836 queries. users per second: 15079.5</pre>"
            ],
            "text/plain": [
              "recommendations finished on 37000/100836 queries. users per second: 15079.5"
            ]
          },
          "metadata": {
            "tags": []
          }
        },
        {
          "output_type": "display_data",
          "data": {
            "text/html": [
              "<pre>recommendations finished on 38000/100836 queries. users per second: 15094.9</pre>"
            ],
            "text/plain": [
              "recommendations finished on 38000/100836 queries. users per second: 15094.9"
            ]
          },
          "metadata": {
            "tags": []
          }
        },
        {
          "output_type": "display_data",
          "data": {
            "text/html": [
              "<pre>recommendations finished on 39000/100836 queries. users per second: 15092.6</pre>"
            ],
            "text/plain": [
              "recommendations finished on 39000/100836 queries. users per second: 15092.6"
            ]
          },
          "metadata": {
            "tags": []
          }
        },
        {
          "output_type": "display_data",
          "data": {
            "text/html": [
              "<pre>recommendations finished on 40000/100836 queries. users per second: 15127.1</pre>"
            ],
            "text/plain": [
              "recommendations finished on 40000/100836 queries. users per second: 15127.1"
            ]
          },
          "metadata": {
            "tags": []
          }
        },
        {
          "output_type": "display_data",
          "data": {
            "text/html": [
              "<pre>recommendations finished on 41000/100836 queries. users per second: 15169.5</pre>"
            ],
            "text/plain": [
              "recommendations finished on 41000/100836 queries. users per second: 15169.5"
            ]
          },
          "metadata": {
            "tags": []
          }
        },
        {
          "output_type": "display_data",
          "data": {
            "text/html": [
              "<pre>recommendations finished on 42000/100836 queries. users per second: 15177.4</pre>"
            ],
            "text/plain": [
              "recommendations finished on 42000/100836 queries. users per second: 15177.4"
            ]
          },
          "metadata": {
            "tags": []
          }
        },
        {
          "output_type": "display_data",
          "data": {
            "text/html": [
              "<pre>recommendations finished on 43000/100836 queries. users per second: 15089.5</pre>"
            ],
            "text/plain": [
              "recommendations finished on 43000/100836 queries. users per second: 15089.5"
            ]
          },
          "metadata": {
            "tags": []
          }
        },
        {
          "output_type": "display_data",
          "data": {
            "text/html": [
              "<pre>recommendations finished on 44000/100836 queries. users per second: 15102.2</pre>"
            ],
            "text/plain": [
              "recommendations finished on 44000/100836 queries. users per second: 15102.2"
            ]
          },
          "metadata": {
            "tags": []
          }
        },
        {
          "output_type": "display_data",
          "data": {
            "text/html": [
              "<pre>recommendations finished on 45000/100836 queries. users per second: 15066.4</pre>"
            ],
            "text/plain": [
              "recommendations finished on 45000/100836 queries. users per second: 15066.4"
            ]
          },
          "metadata": {
            "tags": []
          }
        },
        {
          "output_type": "display_data",
          "data": {
            "text/html": [
              "<pre>recommendations finished on 46000/100836 queries. users per second: 15062.2</pre>"
            ],
            "text/plain": [
              "recommendations finished on 46000/100836 queries. users per second: 15062.2"
            ]
          },
          "metadata": {
            "tags": []
          }
        },
        {
          "output_type": "display_data",
          "data": {
            "text/html": [
              "<pre>recommendations finished on 47000/100836 queries. users per second: 15045.9</pre>"
            ],
            "text/plain": [
              "recommendations finished on 47000/100836 queries. users per second: 15045.9"
            ]
          },
          "metadata": {
            "tags": []
          }
        },
        {
          "output_type": "display_data",
          "data": {
            "text/html": [
              "<pre>recommendations finished on 48000/100836 queries. users per second: 15048.1</pre>"
            ],
            "text/plain": [
              "recommendations finished on 48000/100836 queries. users per second: 15048.1"
            ]
          },
          "metadata": {
            "tags": []
          }
        },
        {
          "output_type": "display_data",
          "data": {
            "text/html": [
              "<pre>recommendations finished on 49000/100836 queries. users per second: 15070.4</pre>"
            ],
            "text/plain": [
              "recommendations finished on 49000/100836 queries. users per second: 15070.4"
            ]
          },
          "metadata": {
            "tags": []
          }
        },
        {
          "output_type": "display_data",
          "data": {
            "text/html": [
              "<pre>recommendations finished on 50000/100836 queries. users per second: 15099.9</pre>"
            ],
            "text/plain": [
              "recommendations finished on 50000/100836 queries. users per second: 15099.9"
            ]
          },
          "metadata": {
            "tags": []
          }
        },
        {
          "output_type": "display_data",
          "data": {
            "text/html": [
              "<pre>recommendations finished on 51000/100836 queries. users per second: 15027.6</pre>"
            ],
            "text/plain": [
              "recommendations finished on 51000/100836 queries. users per second: 15027.6"
            ]
          },
          "metadata": {
            "tags": []
          }
        },
        {
          "output_type": "display_data",
          "data": {
            "text/html": [
              "<pre>recommendations finished on 52000/100836 queries. users per second: 15028.4</pre>"
            ],
            "text/plain": [
              "recommendations finished on 52000/100836 queries. users per second: 15028.4"
            ]
          },
          "metadata": {
            "tags": []
          }
        },
        {
          "output_type": "display_data",
          "data": {
            "text/html": [
              "<pre>recommendations finished on 53000/100836 queries. users per second: 15026.8</pre>"
            ],
            "text/plain": [
              "recommendations finished on 53000/100836 queries. users per second: 15026.8"
            ]
          },
          "metadata": {
            "tags": []
          }
        },
        {
          "output_type": "display_data",
          "data": {
            "text/html": [
              "<pre>recommendations finished on 54000/100836 queries. users per second: 15045.8</pre>"
            ],
            "text/plain": [
              "recommendations finished on 54000/100836 queries. users per second: 15045.8"
            ]
          },
          "metadata": {
            "tags": []
          }
        },
        {
          "output_type": "display_data",
          "data": {
            "text/html": [
              "<pre>recommendations finished on 55000/100836 queries. users per second: 15034.2</pre>"
            ],
            "text/plain": [
              "recommendations finished on 55000/100836 queries. users per second: 15034.2"
            ]
          },
          "metadata": {
            "tags": []
          }
        },
        {
          "output_type": "display_data",
          "data": {
            "text/html": [
              "<pre>recommendations finished on 56000/100836 queries. users per second: 15036.2</pre>"
            ],
            "text/plain": [
              "recommendations finished on 56000/100836 queries. users per second: 15036.2"
            ]
          },
          "metadata": {
            "tags": []
          }
        },
        {
          "output_type": "display_data",
          "data": {
            "text/html": [
              "<pre>recommendations finished on 57000/100836 queries. users per second: 15057.5</pre>"
            ],
            "text/plain": [
              "recommendations finished on 57000/100836 queries. users per second: 15057.5"
            ]
          },
          "metadata": {
            "tags": []
          }
        },
        {
          "output_type": "display_data",
          "data": {
            "text/html": [
              "<pre>recommendations finished on 58000/100836 queries. users per second: 15051.3</pre>"
            ],
            "text/plain": [
              "recommendations finished on 58000/100836 queries. users per second: 15051.3"
            ]
          },
          "metadata": {
            "tags": []
          }
        },
        {
          "output_type": "display_data",
          "data": {
            "text/html": [
              "<pre>recommendations finished on 59000/100836 queries. users per second: 15048.8</pre>"
            ],
            "text/plain": [
              "recommendations finished on 59000/100836 queries. users per second: 15048.8"
            ]
          },
          "metadata": {
            "tags": []
          }
        },
        {
          "output_type": "display_data",
          "data": {
            "text/html": [
              "<pre>recommendations finished on 60000/100836 queries. users per second: 14992.3</pre>"
            ],
            "text/plain": [
              "recommendations finished on 60000/100836 queries. users per second: 14992.3"
            ]
          },
          "metadata": {
            "tags": []
          }
        },
        {
          "output_type": "display_data",
          "data": {
            "text/html": [
              "<pre>recommendations finished on 61000/100836 queries. users per second: 14881.9</pre>"
            ],
            "text/plain": [
              "recommendations finished on 61000/100836 queries. users per second: 14881.9"
            ]
          },
          "metadata": {
            "tags": []
          }
        },
        {
          "output_type": "display_data",
          "data": {
            "text/html": [
              "<pre>recommendations finished on 62000/100836 queries. users per second: 14843.8</pre>"
            ],
            "text/plain": [
              "recommendations finished on 62000/100836 queries. users per second: 14843.8"
            ]
          },
          "metadata": {
            "tags": []
          }
        },
        {
          "output_type": "display_data",
          "data": {
            "text/html": [
              "<pre>recommendations finished on 63000/100836 queries. users per second: 14789.9</pre>"
            ],
            "text/plain": [
              "recommendations finished on 63000/100836 queries. users per second: 14789.9"
            ]
          },
          "metadata": {
            "tags": []
          }
        },
        {
          "output_type": "display_data",
          "data": {
            "text/html": [
              "<pre>recommendations finished on 64000/100836 queries. users per second: 14806.9</pre>"
            ],
            "text/plain": [
              "recommendations finished on 64000/100836 queries. users per second: 14806.9"
            ]
          },
          "metadata": {
            "tags": []
          }
        },
        {
          "output_type": "display_data",
          "data": {
            "text/html": [
              "<pre>recommendations finished on 65000/100836 queries. users per second: 14825.7</pre>"
            ],
            "text/plain": [
              "recommendations finished on 65000/100836 queries. users per second: 14825.7"
            ]
          },
          "metadata": {
            "tags": []
          }
        },
        {
          "output_type": "display_data",
          "data": {
            "text/html": [
              "<pre>recommendations finished on 66000/100836 queries. users per second: 14835.2</pre>"
            ],
            "text/plain": [
              "recommendations finished on 66000/100836 queries. users per second: 14835.2"
            ]
          },
          "metadata": {
            "tags": []
          }
        },
        {
          "output_type": "display_data",
          "data": {
            "text/html": [
              "<pre>recommendations finished on 67000/100836 queries. users per second: 14857.1</pre>"
            ],
            "text/plain": [
              "recommendations finished on 67000/100836 queries. users per second: 14857.1"
            ]
          },
          "metadata": {
            "tags": []
          }
        },
        {
          "output_type": "display_data",
          "data": {
            "text/html": [
              "<pre>recommendations finished on 68000/100836 queries. users per second: 14881.1</pre>"
            ],
            "text/plain": [
              "recommendations finished on 68000/100836 queries. users per second: 14881.1"
            ]
          },
          "metadata": {
            "tags": []
          }
        },
        {
          "output_type": "display_data",
          "data": {
            "text/html": [
              "<pre>recommendations finished on 69000/100836 queries. users per second: 14882.9</pre>"
            ],
            "text/plain": [
              "recommendations finished on 69000/100836 queries. users per second: 14882.9"
            ]
          },
          "metadata": {
            "tags": []
          }
        },
        {
          "output_type": "display_data",
          "data": {
            "text/html": [
              "<pre>recommendations finished on 70000/100836 queries. users per second: 14822.9</pre>"
            ],
            "text/plain": [
              "recommendations finished on 70000/100836 queries. users per second: 14822.9"
            ]
          },
          "metadata": {
            "tags": []
          }
        },
        {
          "output_type": "display_data",
          "data": {
            "text/html": [
              "<pre>recommendations finished on 71000/100836 queries. users per second: 14698.7</pre>"
            ],
            "text/plain": [
              "recommendations finished on 71000/100836 queries. users per second: 14698.7"
            ]
          },
          "metadata": {
            "tags": []
          }
        },
        {
          "output_type": "display_data",
          "data": {
            "text/html": [
              "<pre>recommendations finished on 72000/100836 queries. users per second: 14434.9</pre>"
            ],
            "text/plain": [
              "recommendations finished on 72000/100836 queries. users per second: 14434.9"
            ]
          },
          "metadata": {
            "tags": []
          }
        },
        {
          "output_type": "display_data",
          "data": {
            "text/html": [
              "<pre>recommendations finished on 73000/100836 queries. users per second: 14268.3</pre>"
            ],
            "text/plain": [
              "recommendations finished on 73000/100836 queries. users per second: 14268.3"
            ]
          },
          "metadata": {
            "tags": []
          }
        },
        {
          "output_type": "display_data",
          "data": {
            "text/html": [
              "<pre>recommendations finished on 74000/100836 queries. users per second: 14197.5</pre>"
            ],
            "text/plain": [
              "recommendations finished on 74000/100836 queries. users per second: 14197.5"
            ]
          },
          "metadata": {
            "tags": []
          }
        },
        {
          "output_type": "display_data",
          "data": {
            "text/html": [
              "<pre>recommendations finished on 75000/100836 queries. users per second: 14221</pre>"
            ],
            "text/plain": [
              "recommendations finished on 75000/100836 queries. users per second: 14221"
            ]
          },
          "metadata": {
            "tags": []
          }
        },
        {
          "output_type": "display_data",
          "data": {
            "text/html": [
              "<pre>recommendations finished on 76000/100836 queries. users per second: 14236.9</pre>"
            ],
            "text/plain": [
              "recommendations finished on 76000/100836 queries. users per second: 14236.9"
            ]
          },
          "metadata": {
            "tags": []
          }
        },
        {
          "output_type": "display_data",
          "data": {
            "text/html": [
              "<pre>recommendations finished on 77000/100836 queries. users per second: 14248.2</pre>"
            ],
            "text/plain": [
              "recommendations finished on 77000/100836 queries. users per second: 14248.2"
            ]
          },
          "metadata": {
            "tags": []
          }
        },
        {
          "output_type": "display_data",
          "data": {
            "text/html": [
              "<pre>recommendations finished on 78000/100836 queries. users per second: 14263</pre>"
            ],
            "text/plain": [
              "recommendations finished on 78000/100836 queries. users per second: 14263"
            ]
          },
          "metadata": {
            "tags": []
          }
        },
        {
          "output_type": "display_data",
          "data": {
            "text/html": [
              "<pre>recommendations finished on 79000/100836 queries. users per second: 14276.2</pre>"
            ],
            "text/plain": [
              "recommendations finished on 79000/100836 queries. users per second: 14276.2"
            ]
          },
          "metadata": {
            "tags": []
          }
        },
        {
          "output_type": "display_data",
          "data": {
            "text/html": [
              "<pre>recommendations finished on 80000/100836 queries. users per second: 14299.8</pre>"
            ],
            "text/plain": [
              "recommendations finished on 80000/100836 queries. users per second: 14299.8"
            ]
          },
          "metadata": {
            "tags": []
          }
        },
        {
          "output_type": "display_data",
          "data": {
            "text/html": [
              "<pre>recommendations finished on 81000/100836 queries. users per second: 14254.8</pre>"
            ],
            "text/plain": [
              "recommendations finished on 81000/100836 queries. users per second: 14254.8"
            ]
          },
          "metadata": {
            "tags": []
          }
        },
        {
          "output_type": "display_data",
          "data": {
            "text/html": [
              "<pre>recommendations finished on 82000/100836 queries. users per second: 14198</pre>"
            ],
            "text/plain": [
              "recommendations finished on 82000/100836 queries. users per second: 14198"
            ]
          },
          "metadata": {
            "tags": []
          }
        },
        {
          "output_type": "display_data",
          "data": {
            "text/html": [
              "<pre>recommendations finished on 83000/100836 queries. users per second: 14185.2</pre>"
            ],
            "text/plain": [
              "recommendations finished on 83000/100836 queries. users per second: 14185.2"
            ]
          },
          "metadata": {
            "tags": []
          }
        },
        {
          "output_type": "display_data",
          "data": {
            "text/html": [
              "<pre>recommendations finished on 84000/100836 queries. users per second: 14174.9</pre>"
            ],
            "text/plain": [
              "recommendations finished on 84000/100836 queries. users per second: 14174.9"
            ]
          },
          "metadata": {
            "tags": []
          }
        },
        {
          "output_type": "display_data",
          "data": {
            "text/html": [
              "<pre>recommendations finished on 85000/100836 queries. users per second: 14174</pre>"
            ],
            "text/plain": [
              "recommendations finished on 85000/100836 queries. users per second: 14174"
            ]
          },
          "metadata": {
            "tags": []
          }
        },
        {
          "output_type": "display_data",
          "data": {
            "text/html": [
              "<pre>recommendations finished on 86000/100836 queries. users per second: 14172</pre>"
            ],
            "text/plain": [
              "recommendations finished on 86000/100836 queries. users per second: 14172"
            ]
          },
          "metadata": {
            "tags": []
          }
        },
        {
          "output_type": "display_data",
          "data": {
            "text/html": [
              "<pre>recommendations finished on 87000/100836 queries. users per second: 14147.3</pre>"
            ],
            "text/plain": [
              "recommendations finished on 87000/100836 queries. users per second: 14147.3"
            ]
          },
          "metadata": {
            "tags": []
          }
        },
        {
          "output_type": "display_data",
          "data": {
            "text/html": [
              "<pre>recommendations finished on 88000/100836 queries. users per second: 14055.6</pre>"
            ],
            "text/plain": [
              "recommendations finished on 88000/100836 queries. users per second: 14055.6"
            ]
          },
          "metadata": {
            "tags": []
          }
        },
        {
          "output_type": "display_data",
          "data": {
            "text/html": [
              "<pre>recommendations finished on 89000/100836 queries. users per second: 13976.7</pre>"
            ],
            "text/plain": [
              "recommendations finished on 89000/100836 queries. users per second: 13976.7"
            ]
          },
          "metadata": {
            "tags": []
          }
        },
        {
          "output_type": "display_data",
          "data": {
            "text/html": [
              "<pre>recommendations finished on 90000/100836 queries. users per second: 13894.1</pre>"
            ],
            "text/plain": [
              "recommendations finished on 90000/100836 queries. users per second: 13894.1"
            ]
          },
          "metadata": {
            "tags": []
          }
        },
        {
          "output_type": "display_data",
          "data": {
            "text/html": [
              "<pre>recommendations finished on 91000/100836 queries. users per second: 13608</pre>"
            ],
            "text/plain": [
              "recommendations finished on 91000/100836 queries. users per second: 13608"
            ]
          },
          "metadata": {
            "tags": []
          }
        },
        {
          "output_type": "display_data",
          "data": {
            "text/html": [
              "<pre>recommendations finished on 92000/100836 queries. users per second: 13534.8</pre>"
            ],
            "text/plain": [
              "recommendations finished on 92000/100836 queries. users per second: 13534.8"
            ]
          },
          "metadata": {
            "tags": []
          }
        },
        {
          "output_type": "display_data",
          "data": {
            "text/html": [
              "<pre>recommendations finished on 93000/100836 queries. users per second: 13469.6</pre>"
            ],
            "text/plain": [
              "recommendations finished on 93000/100836 queries. users per second: 13469.6"
            ]
          },
          "metadata": {
            "tags": []
          }
        },
        {
          "output_type": "display_data",
          "data": {
            "text/html": [
              "<pre>recommendations finished on 94000/100836 queries. users per second: 13481.9</pre>"
            ],
            "text/plain": [
              "recommendations finished on 94000/100836 queries. users per second: 13481.9"
            ]
          },
          "metadata": {
            "tags": []
          }
        },
        {
          "output_type": "display_data",
          "data": {
            "text/html": [
              "<pre>recommendations finished on 95000/100836 queries. users per second: 13494.6</pre>"
            ],
            "text/plain": [
              "recommendations finished on 95000/100836 queries. users per second: 13494.6"
            ]
          },
          "metadata": {
            "tags": []
          }
        },
        {
          "output_type": "display_data",
          "data": {
            "text/html": [
              "<pre>recommendations finished on 96000/100836 queries. users per second: 13511.2</pre>"
            ],
            "text/plain": [
              "recommendations finished on 96000/100836 queries. users per second: 13511.2"
            ]
          },
          "metadata": {
            "tags": []
          }
        },
        {
          "output_type": "display_data",
          "data": {
            "text/html": [
              "<pre>recommendations finished on 97000/100836 queries. users per second: 13525.2</pre>"
            ],
            "text/plain": [
              "recommendations finished on 97000/100836 queries. users per second: 13525.2"
            ]
          },
          "metadata": {
            "tags": []
          }
        },
        {
          "output_type": "display_data",
          "data": {
            "text/html": [
              "<pre>recommendations finished on 98000/100836 queries. users per second: 13514.8</pre>"
            ],
            "text/plain": [
              "recommendations finished on 98000/100836 queries. users per second: 13514.8"
            ]
          },
          "metadata": {
            "tags": []
          }
        },
        {
          "output_type": "display_data",
          "data": {
            "text/html": [
              "<pre>recommendations finished on 99000/100836 queries. users per second: 13526.2</pre>"
            ],
            "text/plain": [
              "recommendations finished on 99000/100836 queries. users per second: 13526.2"
            ]
          },
          "metadata": {
            "tags": []
          }
        },
        {
          "output_type": "display_data",
          "data": {
            "text/html": [
              "<pre>recommendations finished on 100000/100836 queries. users per second: 13542.6</pre>"
            ],
            "text/plain": [
              "recommendations finished on 100000/100836 queries. users per second: 13542.6"
            ]
          },
          "metadata": {
            "tags": []
          }
        },
        {
          "output_type": "stream",
          "text": [
            "+---------+----------------+-------+------+\n",
            "| user_id | product_number | score | rank |\n",
            "+---------+----------------+-------+------+\n",
            "|    1    |      1105      |  1.0  |  1   |\n",
            "|    1    |     115122     |  1.0  |  2   |\n",
            "|    1    |      6970      |  1.0  |  3   |\n",
            "|    1    |     64249      |  1.0  |  4   |\n",
            "|    1    |      3728      |  1.0  |  5   |\n",
            "|    1    |      4141      |  1.0  |  6   |\n",
            "|    1    |     86548      |  1.0  |  7   |\n",
            "|    1    |     117109     |  1.0  |  8   |\n",
            "|    1    |      8012      |  1.0  |  9   |\n",
            "|    1    |      697       |  1.0  |  10  |\n",
            "+---------+----------------+-------+------+\n",
            "[1008360 rows x 4 columns]\n",
            "\n"
          ],
          "name": "stdout"
        }
      ]
    },
    {
      "cell_type": "code",
      "metadata": {
        "id": "U2TC011M6idB"
      },
      "source": [
        "#train_data_norm.groupby(by=item_id)['distance_Productcount'].mean().sort_values(ascending=False).head(20)\r\n"
      ],
      "execution_count": 97,
      "outputs": []
    },
    {
      "cell_type": "code",
      "metadata": {
        "id": "ppRqlZwEotnz",
        "colab": {
          "base_uri": "https://localhost:8080/",
          "height": 1000
        },
        "outputId": "8f7838ff-15ec-4ce4-81fe-ea4285960b9e"
      },
      "source": [
        "name = 'cosine'\r\n",
        "target = 'summation_distance_Purchasecount'\r\n",
        "cos = model(train_data, name, user_id, item_id, target, users_to_recommend, n_rec, n_display)"
      ],
      "execution_count": 98,
      "outputs": [
        {
          "output_type": "display_data",
          "data": {
            "text/html": [
              "<pre>Preparing data set.</pre>"
            ],
            "text/plain": [
              "Preparing data set."
            ]
          },
          "metadata": {
            "tags": []
          }
        },
        {
          "output_type": "display_data",
          "data": {
            "text/html": [
              "<pre>    Data has 80668 observations with 610 users and 8970 items.</pre>"
            ],
            "text/plain": [
              "    Data has 80668 observations with 610 users and 8970 items."
            ]
          },
          "metadata": {
            "tags": []
          }
        },
        {
          "output_type": "display_data",
          "data": {
            "text/html": [
              "<pre>    Data prepared in: 0.112392s</pre>"
            ],
            "text/plain": [
              "    Data prepared in: 0.112392s"
            ]
          },
          "metadata": {
            "tags": []
          }
        },
        {
          "output_type": "display_data",
          "data": {
            "text/html": [
              "<pre>Training model from provided data.</pre>"
            ],
            "text/plain": [
              "Training model from provided data."
            ]
          },
          "metadata": {
            "tags": []
          }
        },
        {
          "output_type": "display_data",
          "data": {
            "text/html": [
              "<pre>Gathering per-item and per-user statistics.</pre>"
            ],
            "text/plain": [
              "Gathering per-item and per-user statistics."
            ]
          },
          "metadata": {
            "tags": []
          }
        },
        {
          "output_type": "display_data",
          "data": {
            "text/html": [
              "<pre>+--------------------------------+------------+</pre>"
            ],
            "text/plain": [
              "+--------------------------------+------------+"
            ]
          },
          "metadata": {
            "tags": []
          }
        },
        {
          "output_type": "display_data",
          "data": {
            "text/html": [
              "<pre>| Elapsed Time (Item Statistics) | % Complete |</pre>"
            ],
            "text/plain": [
              "| Elapsed Time (Item Statistics) | % Complete |"
            ]
          },
          "metadata": {
            "tags": []
          }
        },
        {
          "output_type": "display_data",
          "data": {
            "text/html": [
              "<pre>+--------------------------------+------------+</pre>"
            ],
            "text/plain": [
              "+--------------------------------+------------+"
            ]
          },
          "metadata": {
            "tags": []
          }
        },
        {
          "output_type": "display_data",
          "data": {
            "text/html": [
              "<pre>| 9.002ms                        | 100        |</pre>"
            ],
            "text/plain": [
              "| 9.002ms                        | 100        |"
            ]
          },
          "metadata": {
            "tags": []
          }
        },
        {
          "output_type": "display_data",
          "data": {
            "text/html": [
              "<pre>+--------------------------------+------------+</pre>"
            ],
            "text/plain": [
              "+--------------------------------+------------+"
            ]
          },
          "metadata": {
            "tags": []
          }
        },
        {
          "output_type": "display_data",
          "data": {
            "text/html": [
              "<pre>Setting up lookup tables.</pre>"
            ],
            "text/plain": [
              "Setting up lookup tables."
            ]
          },
          "metadata": {
            "tags": []
          }
        },
        {
          "output_type": "display_data",
          "data": {
            "text/html": [
              "<pre>Processing data in one pass using dense lookup tables.</pre>"
            ],
            "text/plain": [
              "Processing data in one pass using dense lookup tables."
            ]
          },
          "metadata": {
            "tags": []
          }
        },
        {
          "output_type": "display_data",
          "data": {
            "text/html": [
              "<pre>+-------------------------------------+------------------+-----------------+</pre>"
            ],
            "text/plain": [
              "+-------------------------------------+------------------+-----------------+"
            ]
          },
          "metadata": {
            "tags": []
          }
        },
        {
          "output_type": "display_data",
          "data": {
            "text/html": [
              "<pre>| Elapsed Time (Constructing Lookups) | Total % Complete | Items Processed |</pre>"
            ],
            "text/plain": [
              "| Elapsed Time (Constructing Lookups) | Total % Complete | Items Processed |"
            ]
          },
          "metadata": {
            "tags": []
          }
        },
        {
          "output_type": "display_data",
          "data": {
            "text/html": [
              "<pre>+-------------------------------------+------------------+-----------------+</pre>"
            ],
            "text/plain": [
              "+-------------------------------------+------------------+-----------------+"
            ]
          },
          "metadata": {
            "tags": []
          }
        },
        {
          "output_type": "display_data",
          "data": {
            "text/html": [
              "<pre>| 211.3ms                             | 2.75             | 248             |</pre>"
            ],
            "text/plain": [
              "| 211.3ms                             | 2.75             | 248             |"
            ]
          },
          "metadata": {
            "tags": []
          }
        },
        {
          "output_type": "display_data",
          "data": {
            "text/html": [
              "<pre>| 2.10s                               | 100              | 8970            |</pre>"
            ],
            "text/plain": [
              "| 2.10s                               | 100              | 8970            |"
            ]
          },
          "metadata": {
            "tags": []
          }
        },
        {
          "output_type": "display_data",
          "data": {
            "text/html": [
              "<pre>+-------------------------------------+------------------+-----------------+</pre>"
            ],
            "text/plain": [
              "+-------------------------------------+------------------+-----------------+"
            ]
          },
          "metadata": {
            "tags": []
          }
        },
        {
          "output_type": "display_data",
          "data": {
            "text/html": [
              "<pre>Finalizing lookup tables.</pre>"
            ],
            "text/plain": [
              "Finalizing lookup tables."
            ]
          },
          "metadata": {
            "tags": []
          }
        },
        {
          "output_type": "display_data",
          "data": {
            "text/html": [
              "<pre>Generating candidate set for working with new users.</pre>"
            ],
            "text/plain": [
              "Generating candidate set for working with new users."
            ]
          },
          "metadata": {
            "tags": []
          }
        },
        {
          "output_type": "display_data",
          "data": {
            "text/html": [
              "<pre>Finished training in 2.14227s</pre>"
            ],
            "text/plain": [
              "Finished training in 2.14227s"
            ]
          },
          "metadata": {
            "tags": []
          }
        },
        {
          "output_type": "display_data",
          "data": {
            "text/html": [
              "<pre>recommendations finished on 1000/100836 queries. users per second: 5710.44</pre>"
            ],
            "text/plain": [
              "recommendations finished on 1000/100836 queries. users per second: 5710.44"
            ]
          },
          "metadata": {
            "tags": []
          }
        },
        {
          "output_type": "display_data",
          "data": {
            "text/html": [
              "<pre>recommendations finished on 2000/100836 queries. users per second: 5586.89</pre>"
            ],
            "text/plain": [
              "recommendations finished on 2000/100836 queries. users per second: 5586.89"
            ]
          },
          "metadata": {
            "tags": []
          }
        },
        {
          "output_type": "display_data",
          "data": {
            "text/html": [
              "<pre>recommendations finished on 3000/100836 queries. users per second: 5964.72</pre>"
            ],
            "text/plain": [
              "recommendations finished on 3000/100836 queries. users per second: 5964.72"
            ]
          },
          "metadata": {
            "tags": []
          }
        },
        {
          "output_type": "display_data",
          "data": {
            "text/html": [
              "<pre>recommendations finished on 4000/100836 queries. users per second: 5649.21</pre>"
            ],
            "text/plain": [
              "recommendations finished on 4000/100836 queries. users per second: 5649.21"
            ]
          },
          "metadata": {
            "tags": []
          }
        },
        {
          "output_type": "display_data",
          "data": {
            "text/html": [
              "<pre>recommendations finished on 5000/100836 queries. users per second: 5629.45</pre>"
            ],
            "text/plain": [
              "recommendations finished on 5000/100836 queries. users per second: 5629.45"
            ]
          },
          "metadata": {
            "tags": []
          }
        },
        {
          "output_type": "display_data",
          "data": {
            "text/html": [
              "<pre>recommendations finished on 6000/100836 queries. users per second: 5288.81</pre>"
            ],
            "text/plain": [
              "recommendations finished on 6000/100836 queries. users per second: 5288.81"
            ]
          },
          "metadata": {
            "tags": []
          }
        },
        {
          "output_type": "display_data",
          "data": {
            "text/html": [
              "<pre>recommendations finished on 7000/100836 queries. users per second: 4989.14</pre>"
            ],
            "text/plain": [
              "recommendations finished on 7000/100836 queries. users per second: 4989.14"
            ]
          },
          "metadata": {
            "tags": []
          }
        },
        {
          "output_type": "display_data",
          "data": {
            "text/html": [
              "<pre>recommendations finished on 8000/100836 queries. users per second: 5011.44</pre>"
            ],
            "text/plain": [
              "recommendations finished on 8000/100836 queries. users per second: 5011.44"
            ]
          },
          "metadata": {
            "tags": []
          }
        },
        {
          "output_type": "display_data",
          "data": {
            "text/html": [
              "<pre>recommendations finished on 9000/100836 queries. users per second: 5066.08</pre>"
            ],
            "text/plain": [
              "recommendations finished on 9000/100836 queries. users per second: 5066.08"
            ]
          },
          "metadata": {
            "tags": []
          }
        },
        {
          "output_type": "display_data",
          "data": {
            "text/html": [
              "<pre>recommendations finished on 10000/100836 queries. users per second: 4884.69</pre>"
            ],
            "text/plain": [
              "recommendations finished on 10000/100836 queries. users per second: 4884.69"
            ]
          },
          "metadata": {
            "tags": []
          }
        },
        {
          "output_type": "display_data",
          "data": {
            "text/html": [
              "<pre>recommendations finished on 11000/100836 queries. users per second: 4914.16</pre>"
            ],
            "text/plain": [
              "recommendations finished on 11000/100836 queries. users per second: 4914.16"
            ]
          },
          "metadata": {
            "tags": []
          }
        },
        {
          "output_type": "display_data",
          "data": {
            "text/html": [
              "<pre>recommendations finished on 12000/100836 queries. users per second: 5023.37</pre>"
            ],
            "text/plain": [
              "recommendations finished on 12000/100836 queries. users per second: 5023.37"
            ]
          },
          "metadata": {
            "tags": []
          }
        },
        {
          "output_type": "display_data",
          "data": {
            "text/html": [
              "<pre>recommendations finished on 13000/100836 queries. users per second: 4820.4</pre>"
            ],
            "text/plain": [
              "recommendations finished on 13000/100836 queries. users per second: 4820.4"
            ]
          },
          "metadata": {
            "tags": []
          }
        },
        {
          "output_type": "display_data",
          "data": {
            "text/html": [
              "<pre>recommendations finished on 14000/100836 queries. users per second: 4621.44</pre>"
            ],
            "text/plain": [
              "recommendations finished on 14000/100836 queries. users per second: 4621.44"
            ]
          },
          "metadata": {
            "tags": []
          }
        },
        {
          "output_type": "display_data",
          "data": {
            "text/html": [
              "<pre>recommendations finished on 15000/100836 queries. users per second: 4451.9</pre>"
            ],
            "text/plain": [
              "recommendations finished on 15000/100836 queries. users per second: 4451.9"
            ]
          },
          "metadata": {
            "tags": []
          }
        },
        {
          "output_type": "display_data",
          "data": {
            "text/html": [
              "<pre>recommendations finished on 16000/100836 queries. users per second: 4323.88</pre>"
            ],
            "text/plain": [
              "recommendations finished on 16000/100836 queries. users per second: 4323.88"
            ]
          },
          "metadata": {
            "tags": []
          }
        },
        {
          "output_type": "display_data",
          "data": {
            "text/html": [
              "<pre>recommendations finished on 17000/100836 queries. users per second: 4307.8</pre>"
            ],
            "text/plain": [
              "recommendations finished on 17000/100836 queries. users per second: 4307.8"
            ]
          },
          "metadata": {
            "tags": []
          }
        },
        {
          "output_type": "display_data",
          "data": {
            "text/html": [
              "<pre>recommendations finished on 18000/100836 queries. users per second: 4352.45</pre>"
            ],
            "text/plain": [
              "recommendations finished on 18000/100836 queries. users per second: 4352.45"
            ]
          },
          "metadata": {
            "tags": []
          }
        },
        {
          "output_type": "display_data",
          "data": {
            "text/html": [
              "<pre>recommendations finished on 19000/100836 queries. users per second: 4232.94</pre>"
            ],
            "text/plain": [
              "recommendations finished on 19000/100836 queries. users per second: 4232.94"
            ]
          },
          "metadata": {
            "tags": []
          }
        },
        {
          "output_type": "display_data",
          "data": {
            "text/html": [
              "<pre>recommendations finished on 20000/100836 queries. users per second: 4121.11</pre>"
            ],
            "text/plain": [
              "recommendations finished on 20000/100836 queries. users per second: 4121.11"
            ]
          },
          "metadata": {
            "tags": []
          }
        },
        {
          "output_type": "display_data",
          "data": {
            "text/html": [
              "<pre>recommendations finished on 21000/100836 queries. users per second: 3955.41</pre>"
            ],
            "text/plain": [
              "recommendations finished on 21000/100836 queries. users per second: 3955.41"
            ]
          },
          "metadata": {
            "tags": []
          }
        },
        {
          "output_type": "display_data",
          "data": {
            "text/html": [
              "<pre>recommendations finished on 22000/100836 queries. users per second: 3955.39</pre>"
            ],
            "text/plain": [
              "recommendations finished on 22000/100836 queries. users per second: 3955.39"
            ]
          },
          "metadata": {
            "tags": []
          }
        },
        {
          "output_type": "display_data",
          "data": {
            "text/html": [
              "<pre>recommendations finished on 23000/100836 queries. users per second: 3973.26</pre>"
            ],
            "text/plain": [
              "recommendations finished on 23000/100836 queries. users per second: 3973.26"
            ]
          },
          "metadata": {
            "tags": []
          }
        },
        {
          "output_type": "display_data",
          "data": {
            "text/html": [
              "<pre>recommendations finished on 24000/100836 queries. users per second: 3811.87</pre>"
            ],
            "text/plain": [
              "recommendations finished on 24000/100836 queries. users per second: 3811.87"
            ]
          },
          "metadata": {
            "tags": []
          }
        },
        {
          "output_type": "display_data",
          "data": {
            "text/html": [
              "<pre>recommendations finished on 25000/100836 queries. users per second: 3811.14</pre>"
            ],
            "text/plain": [
              "recommendations finished on 25000/100836 queries. users per second: 3811.14"
            ]
          },
          "metadata": {
            "tags": []
          }
        },
        {
          "output_type": "display_data",
          "data": {
            "text/html": [
              "<pre>recommendations finished on 26000/100836 queries. users per second: 3769.17</pre>"
            ],
            "text/plain": [
              "recommendations finished on 26000/100836 queries. users per second: 3769.17"
            ]
          },
          "metadata": {
            "tags": []
          }
        },
        {
          "output_type": "display_data",
          "data": {
            "text/html": [
              "<pre>recommendations finished on 27000/100836 queries. users per second: 3654.94</pre>"
            ],
            "text/plain": [
              "recommendations finished on 27000/100836 queries. users per second: 3654.94"
            ]
          },
          "metadata": {
            "tags": []
          }
        },
        {
          "output_type": "display_data",
          "data": {
            "text/html": [
              "<pre>recommendations finished on 28000/100836 queries. users per second: 3632.39</pre>"
            ],
            "text/plain": [
              "recommendations finished on 28000/100836 queries. users per second: 3632.39"
            ]
          },
          "metadata": {
            "tags": []
          }
        },
        {
          "output_type": "display_data",
          "data": {
            "text/html": [
              "<pre>recommendations finished on 29000/100836 queries. users per second: 3600.95</pre>"
            ],
            "text/plain": [
              "recommendations finished on 29000/100836 queries. users per second: 3600.95"
            ]
          },
          "metadata": {
            "tags": []
          }
        },
        {
          "output_type": "display_data",
          "data": {
            "text/html": [
              "<pre>recommendations finished on 30000/100836 queries. users per second: 3467.2</pre>"
            ],
            "text/plain": [
              "recommendations finished on 30000/100836 queries. users per second: 3467.2"
            ]
          },
          "metadata": {
            "tags": []
          }
        },
        {
          "output_type": "display_data",
          "data": {
            "text/html": [
              "<pre>recommendations finished on 31000/100836 queries. users per second: 3407.02</pre>"
            ],
            "text/plain": [
              "recommendations finished on 31000/100836 queries. users per second: 3407.02"
            ]
          },
          "metadata": {
            "tags": []
          }
        },
        {
          "output_type": "display_data",
          "data": {
            "text/html": [
              "<pre>recommendations finished on 32000/100836 queries. users per second: 3396.76</pre>"
            ],
            "text/plain": [
              "recommendations finished on 32000/100836 queries. users per second: 3396.76"
            ]
          },
          "metadata": {
            "tags": []
          }
        },
        {
          "output_type": "display_data",
          "data": {
            "text/html": [
              "<pre>recommendations finished on 33000/100836 queries. users per second: 3376.54</pre>"
            ],
            "text/plain": [
              "recommendations finished on 33000/100836 queries. users per second: 3376.54"
            ]
          },
          "metadata": {
            "tags": []
          }
        },
        {
          "output_type": "display_data",
          "data": {
            "text/html": [
              "<pre>recommendations finished on 34000/100836 queries. users per second: 3369.21</pre>"
            ],
            "text/plain": [
              "recommendations finished on 34000/100836 queries. users per second: 3369.21"
            ]
          },
          "metadata": {
            "tags": []
          }
        },
        {
          "output_type": "display_data",
          "data": {
            "text/html": [
              "<pre>recommendations finished on 35000/100836 queries. users per second: 3354.29</pre>"
            ],
            "text/plain": [
              "recommendations finished on 35000/100836 queries. users per second: 3354.29"
            ]
          },
          "metadata": {
            "tags": []
          }
        },
        {
          "output_type": "display_data",
          "data": {
            "text/html": [
              "<pre>recommendations finished on 36000/100836 queries. users per second: 3308.97</pre>"
            ],
            "text/plain": [
              "recommendations finished on 36000/100836 queries. users per second: 3308.97"
            ]
          },
          "metadata": {
            "tags": []
          }
        },
        {
          "output_type": "display_data",
          "data": {
            "text/html": [
              "<pre>recommendations finished on 37000/100836 queries. users per second: 3317.44</pre>"
            ],
            "text/plain": [
              "recommendations finished on 37000/100836 queries. users per second: 3317.44"
            ]
          },
          "metadata": {
            "tags": []
          }
        },
        {
          "output_type": "display_data",
          "data": {
            "text/html": [
              "<pre>recommendations finished on 38000/100836 queries. users per second: 3289.23</pre>"
            ],
            "text/plain": [
              "recommendations finished on 38000/100836 queries. users per second: 3289.23"
            ]
          },
          "metadata": {
            "tags": []
          }
        },
        {
          "output_type": "display_data",
          "data": {
            "text/html": [
              "<pre>recommendations finished on 39000/100836 queries. users per second: 3293.43</pre>"
            ],
            "text/plain": [
              "recommendations finished on 39000/100836 queries. users per second: 3293.43"
            ]
          },
          "metadata": {
            "tags": []
          }
        },
        {
          "output_type": "display_data",
          "data": {
            "text/html": [
              "<pre>recommendations finished on 40000/100836 queries. users per second: 3272.93</pre>"
            ],
            "text/plain": [
              "recommendations finished on 40000/100836 queries. users per second: 3272.93"
            ]
          },
          "metadata": {
            "tags": []
          }
        },
        {
          "output_type": "display_data",
          "data": {
            "text/html": [
              "<pre>recommendations finished on 41000/100836 queries. users per second: 3295.38</pre>"
            ],
            "text/plain": [
              "recommendations finished on 41000/100836 queries. users per second: 3295.38"
            ]
          },
          "metadata": {
            "tags": []
          }
        },
        {
          "output_type": "display_data",
          "data": {
            "text/html": [
              "<pre>recommendations finished on 42000/100836 queries. users per second: 3303.6</pre>"
            ],
            "text/plain": [
              "recommendations finished on 42000/100836 queries. users per second: 3303.6"
            ]
          },
          "metadata": {
            "tags": []
          }
        },
        {
          "output_type": "display_data",
          "data": {
            "text/html": [
              "<pre>recommendations finished on 43000/100836 queries. users per second: 3320.65</pre>"
            ],
            "text/plain": [
              "recommendations finished on 43000/100836 queries. users per second: 3320.65"
            ]
          },
          "metadata": {
            "tags": []
          }
        },
        {
          "output_type": "display_data",
          "data": {
            "text/html": [
              "<pre>recommendations finished on 44000/100836 queries. users per second: 3320.1</pre>"
            ],
            "text/plain": [
              "recommendations finished on 44000/100836 queries. users per second: 3320.1"
            ]
          },
          "metadata": {
            "tags": []
          }
        },
        {
          "output_type": "display_data",
          "data": {
            "text/html": [
              "<pre>recommendations finished on 45000/100836 queries. users per second: 3306.88</pre>"
            ],
            "text/plain": [
              "recommendations finished on 45000/100836 queries. users per second: 3306.88"
            ]
          },
          "metadata": {
            "tags": []
          }
        },
        {
          "output_type": "display_data",
          "data": {
            "text/html": [
              "<pre>recommendations finished on 46000/100836 queries. users per second: 3318.31</pre>"
            ],
            "text/plain": [
              "recommendations finished on 46000/100836 queries. users per second: 3318.31"
            ]
          },
          "metadata": {
            "tags": []
          }
        },
        {
          "output_type": "display_data",
          "data": {
            "text/html": [
              "<pre>recommendations finished on 47000/100836 queries. users per second: 3327.48</pre>"
            ],
            "text/plain": [
              "recommendations finished on 47000/100836 queries. users per second: 3327.48"
            ]
          },
          "metadata": {
            "tags": []
          }
        },
        {
          "output_type": "display_data",
          "data": {
            "text/html": [
              "<pre>recommendations finished on 48000/100836 queries. users per second: 3312.97</pre>"
            ],
            "text/plain": [
              "recommendations finished on 48000/100836 queries. users per second: 3312.97"
            ]
          },
          "metadata": {
            "tags": []
          }
        },
        {
          "output_type": "display_data",
          "data": {
            "text/html": [
              "<pre>recommendations finished on 49000/100836 queries. users per second: 3311.11</pre>"
            ],
            "text/plain": [
              "recommendations finished on 49000/100836 queries. users per second: 3311.11"
            ]
          },
          "metadata": {
            "tags": []
          }
        },
        {
          "output_type": "display_data",
          "data": {
            "text/html": [
              "<pre>recommendations finished on 50000/100836 queries. users per second: 3309.81</pre>"
            ],
            "text/plain": [
              "recommendations finished on 50000/100836 queries. users per second: 3309.81"
            ]
          },
          "metadata": {
            "tags": []
          }
        },
        {
          "output_type": "display_data",
          "data": {
            "text/html": [
              "<pre>recommendations finished on 51000/100836 queries. users per second: 3268.2</pre>"
            ],
            "text/plain": [
              "recommendations finished on 51000/100836 queries. users per second: 3268.2"
            ]
          },
          "metadata": {
            "tags": []
          }
        },
        {
          "output_type": "display_data",
          "data": {
            "text/html": [
              "<pre>recommendations finished on 52000/100836 queries. users per second: 3235.45</pre>"
            ],
            "text/plain": [
              "recommendations finished on 52000/100836 queries. users per second: 3235.45"
            ]
          },
          "metadata": {
            "tags": []
          }
        },
        {
          "output_type": "display_data",
          "data": {
            "text/html": [
              "<pre>recommendations finished on 53000/100836 queries. users per second: 3234.15</pre>"
            ],
            "text/plain": [
              "recommendations finished on 53000/100836 queries. users per second: 3234.15"
            ]
          },
          "metadata": {
            "tags": []
          }
        },
        {
          "output_type": "display_data",
          "data": {
            "text/html": [
              "<pre>recommendations finished on 54000/100836 queries. users per second: 3222.15</pre>"
            ],
            "text/plain": [
              "recommendations finished on 54000/100836 queries. users per second: 3222.15"
            ]
          },
          "metadata": {
            "tags": []
          }
        },
        {
          "output_type": "display_data",
          "data": {
            "text/html": [
              "<pre>recommendations finished on 55000/100836 queries. users per second: 3228.01</pre>"
            ],
            "text/plain": [
              "recommendations finished on 55000/100836 queries. users per second: 3228.01"
            ]
          },
          "metadata": {
            "tags": []
          }
        },
        {
          "output_type": "display_data",
          "data": {
            "text/html": [
              "<pre>recommendations finished on 56000/100836 queries. users per second: 3237.83</pre>"
            ],
            "text/plain": [
              "recommendations finished on 56000/100836 queries. users per second: 3237.83"
            ]
          },
          "metadata": {
            "tags": []
          }
        },
        {
          "output_type": "display_data",
          "data": {
            "text/html": [
              "<pre>recommendations finished on 57000/100836 queries. users per second: 3254.27</pre>"
            ],
            "text/plain": [
              "recommendations finished on 57000/100836 queries. users per second: 3254.27"
            ]
          },
          "metadata": {
            "tags": []
          }
        },
        {
          "output_type": "display_data",
          "data": {
            "text/html": [
              "<pre>recommendations finished on 58000/100836 queries. users per second: 3267.58</pre>"
            ],
            "text/plain": [
              "recommendations finished on 58000/100836 queries. users per second: 3267.58"
            ]
          },
          "metadata": {
            "tags": []
          }
        },
        {
          "output_type": "display_data",
          "data": {
            "text/html": [
              "<pre>recommendations finished on 59000/100836 queries. users per second: 3278.48</pre>"
            ],
            "text/plain": [
              "recommendations finished on 59000/100836 queries. users per second: 3278.48"
            ]
          },
          "metadata": {
            "tags": []
          }
        },
        {
          "output_type": "display_data",
          "data": {
            "text/html": [
              "<pre>recommendations finished on 60000/100836 queries. users per second: 3225.81</pre>"
            ],
            "text/plain": [
              "recommendations finished on 60000/100836 queries. users per second: 3225.81"
            ]
          },
          "metadata": {
            "tags": []
          }
        },
        {
          "output_type": "display_data",
          "data": {
            "text/html": [
              "<pre>recommendations finished on 61000/100836 queries. users per second: 3175.99</pre>"
            ],
            "text/plain": [
              "recommendations finished on 61000/100836 queries. users per second: 3175.99"
            ]
          },
          "metadata": {
            "tags": []
          }
        },
        {
          "output_type": "display_data",
          "data": {
            "text/html": [
              "<pre>recommendations finished on 62000/100836 queries. users per second: 3181.81</pre>"
            ],
            "text/plain": [
              "recommendations finished on 62000/100836 queries. users per second: 3181.81"
            ]
          },
          "metadata": {
            "tags": []
          }
        },
        {
          "output_type": "display_data",
          "data": {
            "text/html": [
              "<pre>recommendations finished on 63000/100836 queries. users per second: 3188.62</pre>"
            ],
            "text/plain": [
              "recommendations finished on 63000/100836 queries. users per second: 3188.62"
            ]
          },
          "metadata": {
            "tags": []
          }
        },
        {
          "output_type": "display_data",
          "data": {
            "text/html": [
              "<pre>recommendations finished on 64000/100836 queries. users per second: 3116.4</pre>"
            ],
            "text/plain": [
              "recommendations finished on 64000/100836 queries. users per second: 3116.4"
            ]
          },
          "metadata": {
            "tags": []
          }
        },
        {
          "output_type": "display_data",
          "data": {
            "text/html": [
              "<pre>recommendations finished on 65000/100836 queries. users per second: 3048.93</pre>"
            ],
            "text/plain": [
              "recommendations finished on 65000/100836 queries. users per second: 3048.93"
            ]
          },
          "metadata": {
            "tags": []
          }
        },
        {
          "output_type": "display_data",
          "data": {
            "text/html": [
              "<pre>recommendations finished on 66000/100836 queries. users per second: 3033.29</pre>"
            ],
            "text/plain": [
              "recommendations finished on 66000/100836 queries. users per second: 3033.29"
            ]
          },
          "metadata": {
            "tags": []
          }
        },
        {
          "output_type": "display_data",
          "data": {
            "text/html": [
              "<pre>recommendations finished on 67000/100836 queries. users per second: 3050.59</pre>"
            ],
            "text/plain": [
              "recommendations finished on 67000/100836 queries. users per second: 3050.59"
            ]
          },
          "metadata": {
            "tags": []
          }
        },
        {
          "output_type": "display_data",
          "data": {
            "text/html": [
              "<pre>recommendations finished on 68000/100836 queries. users per second: 3057.35</pre>"
            ],
            "text/plain": [
              "recommendations finished on 68000/100836 queries. users per second: 3057.35"
            ]
          },
          "metadata": {
            "tags": []
          }
        },
        {
          "output_type": "display_data",
          "data": {
            "text/html": [
              "<pre>recommendations finished on 69000/100836 queries. users per second: 3039.56</pre>"
            ],
            "text/plain": [
              "recommendations finished on 69000/100836 queries. users per second: 3039.56"
            ]
          },
          "metadata": {
            "tags": []
          }
        },
        {
          "output_type": "display_data",
          "data": {
            "text/html": [
              "<pre>recommendations finished on 70000/100836 queries. users per second: 3027.83</pre>"
            ],
            "text/plain": [
              "recommendations finished on 70000/100836 queries. users per second: 3027.83"
            ]
          },
          "metadata": {
            "tags": []
          }
        },
        {
          "output_type": "display_data",
          "data": {
            "text/html": [
              "<pre>recommendations finished on 71000/100836 queries. users per second: 3032.9</pre>"
            ],
            "text/plain": [
              "recommendations finished on 71000/100836 queries. users per second: 3032.9"
            ]
          },
          "metadata": {
            "tags": []
          }
        },
        {
          "output_type": "display_data",
          "data": {
            "text/html": [
              "<pre>recommendations finished on 72000/100836 queries. users per second: 3037.49</pre>"
            ],
            "text/plain": [
              "recommendations finished on 72000/100836 queries. users per second: 3037.49"
            ]
          },
          "metadata": {
            "tags": []
          }
        },
        {
          "output_type": "display_data",
          "data": {
            "text/html": [
              "<pre>recommendations finished on 73000/100836 queries. users per second: 3045.86</pre>"
            ],
            "text/plain": [
              "recommendations finished on 73000/100836 queries. users per second: 3045.86"
            ]
          },
          "metadata": {
            "tags": []
          }
        },
        {
          "output_type": "display_data",
          "data": {
            "text/html": [
              "<pre>recommendations finished on 74000/100836 queries. users per second: 3043.48</pre>"
            ],
            "text/plain": [
              "recommendations finished on 74000/100836 queries. users per second: 3043.48"
            ]
          },
          "metadata": {
            "tags": []
          }
        },
        {
          "output_type": "display_data",
          "data": {
            "text/html": [
              "<pre>recommendations finished on 75000/100836 queries. users per second: 3055.8</pre>"
            ],
            "text/plain": [
              "recommendations finished on 75000/100836 queries. users per second: 3055.8"
            ]
          },
          "metadata": {
            "tags": []
          }
        },
        {
          "output_type": "display_data",
          "data": {
            "text/html": [
              "<pre>recommendations finished on 76000/100836 queries. users per second: 3069.11</pre>"
            ],
            "text/plain": [
              "recommendations finished on 76000/100836 queries. users per second: 3069.11"
            ]
          },
          "metadata": {
            "tags": []
          }
        },
        {
          "output_type": "display_data",
          "data": {
            "text/html": [
              "<pre>recommendations finished on 77000/100836 queries. users per second: 3080.77</pre>"
            ],
            "text/plain": [
              "recommendations finished on 77000/100836 queries. users per second: 3080.77"
            ]
          },
          "metadata": {
            "tags": []
          }
        },
        {
          "output_type": "display_data",
          "data": {
            "text/html": [
              "<pre>recommendations finished on 78000/100836 queries. users per second: 3084.83</pre>"
            ],
            "text/plain": [
              "recommendations finished on 78000/100836 queries. users per second: 3084.83"
            ]
          },
          "metadata": {
            "tags": []
          }
        },
        {
          "output_type": "display_data",
          "data": {
            "text/html": [
              "<pre>recommendations finished on 79000/100836 queries. users per second: 3097.11</pre>"
            ],
            "text/plain": [
              "recommendations finished on 79000/100836 queries. users per second: 3097.11"
            ]
          },
          "metadata": {
            "tags": []
          }
        },
        {
          "output_type": "display_data",
          "data": {
            "text/html": [
              "<pre>recommendations finished on 80000/100836 queries. users per second: 3094.59</pre>"
            ],
            "text/plain": [
              "recommendations finished on 80000/100836 queries. users per second: 3094.59"
            ]
          },
          "metadata": {
            "tags": []
          }
        },
        {
          "output_type": "display_data",
          "data": {
            "text/html": [
              "<pre>recommendations finished on 81000/100836 queries. users per second: 3100.84</pre>"
            ],
            "text/plain": [
              "recommendations finished on 81000/100836 queries. users per second: 3100.84"
            ]
          },
          "metadata": {
            "tags": []
          }
        },
        {
          "output_type": "display_data",
          "data": {
            "text/html": [
              "<pre>recommendations finished on 82000/100836 queries. users per second: 3113.15</pre>"
            ],
            "text/plain": [
              "recommendations finished on 82000/100836 queries. users per second: 3113.15"
            ]
          },
          "metadata": {
            "tags": []
          }
        },
        {
          "output_type": "display_data",
          "data": {
            "text/html": [
              "<pre>recommendations finished on 83000/100836 queries. users per second: 3132.68</pre>"
            ],
            "text/plain": [
              "recommendations finished on 83000/100836 queries. users per second: 3132.68"
            ]
          },
          "metadata": {
            "tags": []
          }
        },
        {
          "output_type": "display_data",
          "data": {
            "text/html": [
              "<pre>recommendations finished on 84000/100836 queries. users per second: 3148.4</pre>"
            ],
            "text/plain": [
              "recommendations finished on 84000/100836 queries. users per second: 3148.4"
            ]
          },
          "metadata": {
            "tags": []
          }
        },
        {
          "output_type": "display_data",
          "data": {
            "text/html": [
              "<pre>recommendations finished on 85000/100836 queries. users per second: 3146.81</pre>"
            ],
            "text/plain": [
              "recommendations finished on 85000/100836 queries. users per second: 3146.81"
            ]
          },
          "metadata": {
            "tags": []
          }
        },
        {
          "output_type": "display_data",
          "data": {
            "text/html": [
              "<pre>recommendations finished on 86000/100836 queries. users per second: 3143.98</pre>"
            ],
            "text/plain": [
              "recommendations finished on 86000/100836 queries. users per second: 3143.98"
            ]
          },
          "metadata": {
            "tags": []
          }
        },
        {
          "output_type": "display_data",
          "data": {
            "text/html": [
              "<pre>recommendations finished on 87000/100836 queries. users per second: 3153.14</pre>"
            ],
            "text/plain": [
              "recommendations finished on 87000/100836 queries. users per second: 3153.14"
            ]
          },
          "metadata": {
            "tags": []
          }
        },
        {
          "output_type": "display_data",
          "data": {
            "text/html": [
              "<pre>recommendations finished on 88000/100836 queries. users per second: 3163.45</pre>"
            ],
            "text/plain": [
              "recommendations finished on 88000/100836 queries. users per second: 3163.45"
            ]
          },
          "metadata": {
            "tags": []
          }
        },
        {
          "output_type": "display_data",
          "data": {
            "text/html": [
              "<pre>recommendations finished on 89000/100836 queries. users per second: 3173.98</pre>"
            ],
            "text/plain": [
              "recommendations finished on 89000/100836 queries. users per second: 3173.98"
            ]
          },
          "metadata": {
            "tags": []
          }
        },
        {
          "output_type": "display_data",
          "data": {
            "text/html": [
              "<pre>recommendations finished on 90000/100836 queries. users per second: 3183.51</pre>"
            ],
            "text/plain": [
              "recommendations finished on 90000/100836 queries. users per second: 3183.51"
            ]
          },
          "metadata": {
            "tags": []
          }
        },
        {
          "output_type": "display_data",
          "data": {
            "text/html": [
              "<pre>recommendations finished on 91000/100836 queries. users per second: 3180.84</pre>"
            ],
            "text/plain": [
              "recommendations finished on 91000/100836 queries. users per second: 3180.84"
            ]
          },
          "metadata": {
            "tags": []
          }
        },
        {
          "output_type": "display_data",
          "data": {
            "text/html": [
              "<pre>recommendations finished on 92000/100836 queries. users per second: 3182.87</pre>"
            ],
            "text/plain": [
              "recommendations finished on 92000/100836 queries. users per second: 3182.87"
            ]
          },
          "metadata": {
            "tags": []
          }
        },
        {
          "output_type": "display_data",
          "data": {
            "text/html": [
              "<pre>recommendations finished on 93000/100836 queries. users per second: 3136.54</pre>"
            ],
            "text/plain": [
              "recommendations finished on 93000/100836 queries. users per second: 3136.54"
            ]
          },
          "metadata": {
            "tags": []
          }
        },
        {
          "output_type": "display_data",
          "data": {
            "text/html": [
              "<pre>recommendations finished on 94000/100836 queries. users per second: 3026.54</pre>"
            ],
            "text/plain": [
              "recommendations finished on 94000/100836 queries. users per second: 3026.54"
            ]
          },
          "metadata": {
            "tags": []
          }
        },
        {
          "output_type": "display_data",
          "data": {
            "text/html": [
              "<pre>recommendations finished on 95000/100836 queries. users per second: 2926.21</pre>"
            ],
            "text/plain": [
              "recommendations finished on 95000/100836 queries. users per second: 2926.21"
            ]
          },
          "metadata": {
            "tags": []
          }
        },
        {
          "output_type": "display_data",
          "data": {
            "text/html": [
              "<pre>recommendations finished on 96000/100836 queries. users per second: 2908.08</pre>"
            ],
            "text/plain": [
              "recommendations finished on 96000/100836 queries. users per second: 2908.08"
            ]
          },
          "metadata": {
            "tags": []
          }
        },
        {
          "output_type": "display_data",
          "data": {
            "text/html": [
              "<pre>recommendations finished on 97000/100836 queries. users per second: 2889.38</pre>"
            ],
            "text/plain": [
              "recommendations finished on 97000/100836 queries. users per second: 2889.38"
            ]
          },
          "metadata": {
            "tags": []
          }
        },
        {
          "output_type": "display_data",
          "data": {
            "text/html": [
              "<pre>recommendations finished on 98000/100836 queries. users per second: 2874.11</pre>"
            ],
            "text/plain": [
              "recommendations finished on 98000/100836 queries. users per second: 2874.11"
            ]
          },
          "metadata": {
            "tags": []
          }
        },
        {
          "output_type": "display_data",
          "data": {
            "text/html": [
              "<pre>recommendations finished on 99000/100836 queries. users per second: 2857.76</pre>"
            ],
            "text/plain": [
              "recommendations finished on 99000/100836 queries. users per second: 2857.76"
            ]
          },
          "metadata": {
            "tags": []
          }
        },
        {
          "output_type": "display_data",
          "data": {
            "text/html": [
              "<pre>recommendations finished on 100000/100836 queries. users per second: 2827.1</pre>"
            ],
            "text/plain": [
              "recommendations finished on 100000/100836 queries. users per second: 2827.1"
            ]
          },
          "metadata": {
            "tags": []
          }
        },
        {
          "output_type": "stream",
          "text": [
            "+---------+----------------+---------------------+------+\n",
            "| user_id | product_number |        score        | rank |\n",
            "+---------+----------------+---------------------+------+\n",
            "|    1    |      1240      |  0.5919824658878265 |  1   |\n",
            "|    1    |      1089      |  0.5426407166258999 |  2   |\n",
            "|    1    |      1968      |  0.4644849615753012 |  3   |\n",
            "|    1    |      2918      | 0.46148567855673495 |  4   |\n",
            "|    1    |      1036      |  0.4393117102996382 |  5   |\n",
            "|    1    |      1291      |  0.4039863909363116 |  6   |\n",
            "|    1    |      1200      |  0.4005932606086529 |  7   |\n",
            "|    1    |      2762      |  0.3768132839884077 |  8   |\n",
            "|    1    |      1527      |  0.3644522841645296 |  9   |\n",
            "|    1    |      1270      |  0.3613960660954632 |  10  |\n",
            "+---------+----------------+---------------------+------+\n",
            "[1008360 rows x 4 columns]\n",
            "\n"
          ],
          "name": "stdout"
        }
      ]
    },
    {
      "cell_type": "code",
      "metadata": {
        "id": "m5-vCOwXox8Z",
        "colab": {
          "base_uri": "https://localhost:8080/",
          "height": 1000
        },
        "outputId": "10ec28b9-baa2-49d2-af17-25c9ec149d55"
      },
      "source": [
        "name = 'cosine'\r\n",
        "target = 'purchase_dummy'\r\n",
        "cos_dummy = model(train_data_dummy, name, user_id, item_id, target, users_to_recommend, n_rec, n_display)"
      ],
      "execution_count": 99,
      "outputs": [
        {
          "output_type": "display_data",
          "data": {
            "text/html": [
              "<pre>Warning: Ignoring columns summation_distance_Purchasecount;</pre>"
            ],
            "text/plain": [
              "Warning: Ignoring columns summation_distance_Purchasecount;"
            ]
          },
          "metadata": {
            "tags": []
          }
        },
        {
          "output_type": "display_data",
          "data": {
            "text/html": [
              "<pre>    To use these columns in scoring predictions, use a model that allows the use of additional features.</pre>"
            ],
            "text/plain": [
              "    To use these columns in scoring predictions, use a model that allows the use of additional features."
            ]
          },
          "metadata": {
            "tags": []
          }
        },
        {
          "output_type": "display_data",
          "data": {
            "text/html": [
              "<pre>Preparing data set.</pre>"
            ],
            "text/plain": [
              "Preparing data set."
            ]
          },
          "metadata": {
            "tags": []
          }
        },
        {
          "output_type": "display_data",
          "data": {
            "text/html": [
              "<pre>    Data has 80668 observations with 610 users and 9001 items.</pre>"
            ],
            "text/plain": [
              "    Data has 80668 observations with 610 users and 9001 items."
            ]
          },
          "metadata": {
            "tags": []
          }
        },
        {
          "output_type": "display_data",
          "data": {
            "text/html": [
              "<pre>    Data prepared in: 0.1069s</pre>"
            ],
            "text/plain": [
              "    Data prepared in: 0.1069s"
            ]
          },
          "metadata": {
            "tags": []
          }
        },
        {
          "output_type": "display_data",
          "data": {
            "text/html": [
              "<pre>Training model from provided data.</pre>"
            ],
            "text/plain": [
              "Training model from provided data."
            ]
          },
          "metadata": {
            "tags": []
          }
        },
        {
          "output_type": "display_data",
          "data": {
            "text/html": [
              "<pre>Gathering per-item and per-user statistics.</pre>"
            ],
            "text/plain": [
              "Gathering per-item and per-user statistics."
            ]
          },
          "metadata": {
            "tags": []
          }
        },
        {
          "output_type": "display_data",
          "data": {
            "text/html": [
              "<pre>+--------------------------------+------------+</pre>"
            ],
            "text/plain": [
              "+--------------------------------+------------+"
            ]
          },
          "metadata": {
            "tags": []
          }
        },
        {
          "output_type": "display_data",
          "data": {
            "text/html": [
              "<pre>| Elapsed Time (Item Statistics) | % Complete |</pre>"
            ],
            "text/plain": [
              "| Elapsed Time (Item Statistics) | % Complete |"
            ]
          },
          "metadata": {
            "tags": []
          }
        },
        {
          "output_type": "display_data",
          "data": {
            "text/html": [
              "<pre>+--------------------------------+------------+</pre>"
            ],
            "text/plain": [
              "+--------------------------------+------------+"
            ]
          },
          "metadata": {
            "tags": []
          }
        },
        {
          "output_type": "display_data",
          "data": {
            "text/html": [
              "<pre>| 6.828ms                        | 100        |</pre>"
            ],
            "text/plain": [
              "| 6.828ms                        | 100        |"
            ]
          },
          "metadata": {
            "tags": []
          }
        },
        {
          "output_type": "display_data",
          "data": {
            "text/html": [
              "<pre>+--------------------------------+------------+</pre>"
            ],
            "text/plain": [
              "+--------------------------------+------------+"
            ]
          },
          "metadata": {
            "tags": []
          }
        },
        {
          "output_type": "display_data",
          "data": {
            "text/html": [
              "<pre>Setting up lookup tables.</pre>"
            ],
            "text/plain": [
              "Setting up lookup tables."
            ]
          },
          "metadata": {
            "tags": []
          }
        },
        {
          "output_type": "display_data",
          "data": {
            "text/html": [
              "<pre>Processing data in one pass using dense lookup tables.</pre>"
            ],
            "text/plain": [
              "Processing data in one pass using dense lookup tables."
            ]
          },
          "metadata": {
            "tags": []
          }
        },
        {
          "output_type": "display_data",
          "data": {
            "text/html": [
              "<pre>+-------------------------------------+------------------+-----------------+</pre>"
            ],
            "text/plain": [
              "+-------------------------------------+------------------+-----------------+"
            ]
          },
          "metadata": {
            "tags": []
          }
        },
        {
          "output_type": "display_data",
          "data": {
            "text/html": [
              "<pre>| Elapsed Time (Constructing Lookups) | Total % Complete | Items Processed |</pre>"
            ],
            "text/plain": [
              "| Elapsed Time (Constructing Lookups) | Total % Complete | Items Processed |"
            ]
          },
          "metadata": {
            "tags": []
          }
        },
        {
          "output_type": "display_data",
          "data": {
            "text/html": [
              "<pre>+-------------------------------------+------------------+-----------------+</pre>"
            ],
            "text/plain": [
              "+-------------------------------------+------------------+-----------------+"
            ]
          },
          "metadata": {
            "tags": []
          }
        },
        {
          "output_type": "display_data",
          "data": {
            "text/html": [
              "<pre>| 88.218ms                            | 0                | 6               |</pre>"
            ],
            "text/plain": [
              "| 88.218ms                            | 0                | 6               |"
            ]
          },
          "metadata": {
            "tags": []
          }
        },
        {
          "output_type": "display_data",
          "data": {
            "text/html": [
              "<pre>| 1.94s                               | 100              | 9001            |</pre>"
            ],
            "text/plain": [
              "| 1.94s                               | 100              | 9001            |"
            ]
          },
          "metadata": {
            "tags": []
          }
        },
        {
          "output_type": "display_data",
          "data": {
            "text/html": [
              "<pre>+-------------------------------------+------------------+-----------------+</pre>"
            ],
            "text/plain": [
              "+-------------------------------------+------------------+-----------------+"
            ]
          },
          "metadata": {
            "tags": []
          }
        },
        {
          "output_type": "display_data",
          "data": {
            "text/html": [
              "<pre>Finalizing lookup tables.</pre>"
            ],
            "text/plain": [
              "Finalizing lookup tables."
            ]
          },
          "metadata": {
            "tags": []
          }
        },
        {
          "output_type": "display_data",
          "data": {
            "text/html": [
              "<pre>Generating candidate set for working with new users.</pre>"
            ],
            "text/plain": [
              "Generating candidate set for working with new users."
            ]
          },
          "metadata": {
            "tags": []
          }
        },
        {
          "output_type": "display_data",
          "data": {
            "text/html": [
              "<pre>Finished training in 1.97758s</pre>"
            ],
            "text/plain": [
              "Finished training in 1.97758s"
            ]
          },
          "metadata": {
            "tags": []
          }
        },
        {
          "output_type": "display_data",
          "data": {
            "text/html": [
              "<pre>recommendations finished on 1000/100836 queries. users per second: 6066.08</pre>"
            ],
            "text/plain": [
              "recommendations finished on 1000/100836 queries. users per second: 6066.08"
            ]
          },
          "metadata": {
            "tags": []
          }
        },
        {
          "output_type": "display_data",
          "data": {
            "text/html": [
              "<pre>recommendations finished on 2000/100836 queries. users per second: 5752.3</pre>"
            ],
            "text/plain": [
              "recommendations finished on 2000/100836 queries. users per second: 5752.3"
            ]
          },
          "metadata": {
            "tags": []
          }
        },
        {
          "output_type": "display_data",
          "data": {
            "text/html": [
              "<pre>recommendations finished on 3000/100836 queries. users per second: 6083.74</pre>"
            ],
            "text/plain": [
              "recommendations finished on 3000/100836 queries. users per second: 6083.74"
            ]
          },
          "metadata": {
            "tags": []
          }
        },
        {
          "output_type": "display_data",
          "data": {
            "text/html": [
              "<pre>recommendations finished on 4000/100836 queries. users per second: 5645.01</pre>"
            ],
            "text/plain": [
              "recommendations finished on 4000/100836 queries. users per second: 5645.01"
            ]
          },
          "metadata": {
            "tags": []
          }
        },
        {
          "output_type": "display_data",
          "data": {
            "text/html": [
              "<pre>recommendations finished on 5000/100836 queries. users per second: 5649.46</pre>"
            ],
            "text/plain": [
              "recommendations finished on 5000/100836 queries. users per second: 5649.46"
            ]
          },
          "metadata": {
            "tags": []
          }
        },
        {
          "output_type": "display_data",
          "data": {
            "text/html": [
              "<pre>recommendations finished on 6000/100836 queries. users per second: 5283.26</pre>"
            ],
            "text/plain": [
              "recommendations finished on 6000/100836 queries. users per second: 5283.26"
            ]
          },
          "metadata": {
            "tags": []
          }
        },
        {
          "output_type": "display_data",
          "data": {
            "text/html": [
              "<pre>recommendations finished on 7000/100836 queries. users per second: 5023.7</pre>"
            ],
            "text/plain": [
              "recommendations finished on 7000/100836 queries. users per second: 5023.7"
            ]
          },
          "metadata": {
            "tags": []
          }
        },
        {
          "output_type": "display_data",
          "data": {
            "text/html": [
              "<pre>recommendations finished on 8000/100836 queries. users per second: 4981.81</pre>"
            ],
            "text/plain": [
              "recommendations finished on 8000/100836 queries. users per second: 4981.81"
            ]
          },
          "metadata": {
            "tags": []
          }
        },
        {
          "output_type": "display_data",
          "data": {
            "text/html": [
              "<pre>recommendations finished on 9000/100836 queries. users per second: 5031.63</pre>"
            ],
            "text/plain": [
              "recommendations finished on 9000/100836 queries. users per second: 5031.63"
            ]
          },
          "metadata": {
            "tags": []
          }
        },
        {
          "output_type": "display_data",
          "data": {
            "text/html": [
              "<pre>recommendations finished on 10000/100836 queries. users per second: 4882.16</pre>"
            ],
            "text/plain": [
              "recommendations finished on 10000/100836 queries. users per second: 4882.16"
            ]
          },
          "metadata": {
            "tags": []
          }
        },
        {
          "output_type": "display_data",
          "data": {
            "text/html": [
              "<pre>recommendations finished on 11000/100836 queries. users per second: 4909.17</pre>"
            ],
            "text/plain": [
              "recommendations finished on 11000/100836 queries. users per second: 4909.17"
            ]
          },
          "metadata": {
            "tags": []
          }
        },
        {
          "output_type": "display_data",
          "data": {
            "text/html": [
              "<pre>recommendations finished on 12000/100836 queries. users per second: 4995.57</pre>"
            ],
            "text/plain": [
              "recommendations finished on 12000/100836 queries. users per second: 4995.57"
            ]
          },
          "metadata": {
            "tags": []
          }
        },
        {
          "output_type": "display_data",
          "data": {
            "text/html": [
              "<pre>recommendations finished on 13000/100836 queries. users per second: 4781.77</pre>"
            ],
            "text/plain": [
              "recommendations finished on 13000/100836 queries. users per second: 4781.77"
            ]
          },
          "metadata": {
            "tags": []
          }
        },
        {
          "output_type": "display_data",
          "data": {
            "text/html": [
              "<pre>recommendations finished on 14000/100836 queries. users per second: 4601.64</pre>"
            ],
            "text/plain": [
              "recommendations finished on 14000/100836 queries. users per second: 4601.64"
            ]
          },
          "metadata": {
            "tags": []
          }
        },
        {
          "output_type": "display_data",
          "data": {
            "text/html": [
              "<pre>recommendations finished on 15000/100836 queries. users per second: 4484.25</pre>"
            ],
            "text/plain": [
              "recommendations finished on 15000/100836 queries. users per second: 4484.25"
            ]
          },
          "metadata": {
            "tags": []
          }
        },
        {
          "output_type": "display_data",
          "data": {
            "text/html": [
              "<pre>recommendations finished on 16000/100836 queries. users per second: 4338.09</pre>"
            ],
            "text/plain": [
              "recommendations finished on 16000/100836 queries. users per second: 4338.09"
            ]
          },
          "metadata": {
            "tags": []
          }
        },
        {
          "output_type": "display_data",
          "data": {
            "text/html": [
              "<pre>recommendations finished on 17000/100836 queries. users per second: 4320.23</pre>"
            ],
            "text/plain": [
              "recommendations finished on 17000/100836 queries. users per second: 4320.23"
            ]
          },
          "metadata": {
            "tags": []
          }
        },
        {
          "output_type": "display_data",
          "data": {
            "text/html": [
              "<pre>recommendations finished on 18000/100836 queries. users per second: 4345.92</pre>"
            ],
            "text/plain": [
              "recommendations finished on 18000/100836 queries. users per second: 4345.92"
            ]
          },
          "metadata": {
            "tags": []
          }
        },
        {
          "output_type": "display_data",
          "data": {
            "text/html": [
              "<pre>recommendations finished on 19000/100836 queries. users per second: 4272.55</pre>"
            ],
            "text/plain": [
              "recommendations finished on 19000/100836 queries. users per second: 4272.55"
            ]
          },
          "metadata": {
            "tags": []
          }
        },
        {
          "output_type": "display_data",
          "data": {
            "text/html": [
              "<pre>recommendations finished on 20000/100836 queries. users per second: 4097.04</pre>"
            ],
            "text/plain": [
              "recommendations finished on 20000/100836 queries. users per second: 4097.04"
            ]
          },
          "metadata": {
            "tags": []
          }
        },
        {
          "output_type": "display_data",
          "data": {
            "text/html": [
              "<pre>recommendations finished on 21000/100836 queries. users per second: 3910.26</pre>"
            ],
            "text/plain": [
              "recommendations finished on 21000/100836 queries. users per second: 3910.26"
            ]
          },
          "metadata": {
            "tags": []
          }
        },
        {
          "output_type": "display_data",
          "data": {
            "text/html": [
              "<pre>recommendations finished on 22000/100836 queries. users per second: 3890.57</pre>"
            ],
            "text/plain": [
              "recommendations finished on 22000/100836 queries. users per second: 3890.57"
            ]
          },
          "metadata": {
            "tags": []
          }
        },
        {
          "output_type": "display_data",
          "data": {
            "text/html": [
              "<pre>recommendations finished on 23000/100836 queries. users per second: 3912.51</pre>"
            ],
            "text/plain": [
              "recommendations finished on 23000/100836 queries. users per second: 3912.51"
            ]
          },
          "metadata": {
            "tags": []
          }
        },
        {
          "output_type": "display_data",
          "data": {
            "text/html": [
              "<pre>recommendations finished on 24000/100836 queries. users per second: 3850.33</pre>"
            ],
            "text/plain": [
              "recommendations finished on 24000/100836 queries. users per second: 3850.33"
            ]
          },
          "metadata": {
            "tags": []
          }
        },
        {
          "output_type": "display_data",
          "data": {
            "text/html": [
              "<pre>recommendations finished on 25000/100836 queries. users per second: 3845.23</pre>"
            ],
            "text/plain": [
              "recommendations finished on 25000/100836 queries. users per second: 3845.23"
            ]
          },
          "metadata": {
            "tags": []
          }
        },
        {
          "output_type": "display_data",
          "data": {
            "text/html": [
              "<pre>recommendations finished on 26000/100836 queries. users per second: 3788.2</pre>"
            ],
            "text/plain": [
              "recommendations finished on 26000/100836 queries. users per second: 3788.2"
            ]
          },
          "metadata": {
            "tags": []
          }
        },
        {
          "output_type": "display_data",
          "data": {
            "text/html": [
              "<pre>recommendations finished on 27000/100836 queries. users per second: 3643.82</pre>"
            ],
            "text/plain": [
              "recommendations finished on 27000/100836 queries. users per second: 3643.82"
            ]
          },
          "metadata": {
            "tags": []
          }
        },
        {
          "output_type": "display_data",
          "data": {
            "text/html": [
              "<pre>recommendations finished on 28000/100836 queries. users per second: 3596.56</pre>"
            ],
            "text/plain": [
              "recommendations finished on 28000/100836 queries. users per second: 3596.56"
            ]
          },
          "metadata": {
            "tags": []
          }
        },
        {
          "output_type": "display_data",
          "data": {
            "text/html": [
              "<pre>recommendations finished on 29000/100836 queries. users per second: 3566.28</pre>"
            ],
            "text/plain": [
              "recommendations finished on 29000/100836 queries. users per second: 3566.28"
            ]
          },
          "metadata": {
            "tags": []
          }
        },
        {
          "output_type": "display_data",
          "data": {
            "text/html": [
              "<pre>recommendations finished on 30000/100836 queries. users per second: 3452.07</pre>"
            ],
            "text/plain": [
              "recommendations finished on 30000/100836 queries. users per second: 3452.07"
            ]
          },
          "metadata": {
            "tags": []
          }
        },
        {
          "output_type": "display_data",
          "data": {
            "text/html": [
              "<pre>recommendations finished on 31000/100836 queries. users per second: 3393.43</pre>"
            ],
            "text/plain": [
              "recommendations finished on 31000/100836 queries. users per second: 3393.43"
            ]
          },
          "metadata": {
            "tags": []
          }
        },
        {
          "output_type": "display_data",
          "data": {
            "text/html": [
              "<pre>recommendations finished on 32000/100836 queries. users per second: 3377.35</pre>"
            ],
            "text/plain": [
              "recommendations finished on 32000/100836 queries. users per second: 3377.35"
            ]
          },
          "metadata": {
            "tags": []
          }
        },
        {
          "output_type": "display_data",
          "data": {
            "text/html": [
              "<pre>recommendations finished on 33000/100836 queries. users per second: 3363.04</pre>"
            ],
            "text/plain": [
              "recommendations finished on 33000/100836 queries. users per second: 3363.04"
            ]
          },
          "metadata": {
            "tags": []
          }
        },
        {
          "output_type": "display_data",
          "data": {
            "text/html": [
              "<pre>recommendations finished on 34000/100836 queries. users per second: 3350.83</pre>"
            ],
            "text/plain": [
              "recommendations finished on 34000/100836 queries. users per second: 3350.83"
            ]
          },
          "metadata": {
            "tags": []
          }
        },
        {
          "output_type": "display_data",
          "data": {
            "text/html": [
              "<pre>recommendations finished on 35000/100836 queries. users per second: 3345.81</pre>"
            ],
            "text/plain": [
              "recommendations finished on 35000/100836 queries. users per second: 3345.81"
            ]
          },
          "metadata": {
            "tags": []
          }
        },
        {
          "output_type": "display_data",
          "data": {
            "text/html": [
              "<pre>recommendations finished on 36000/100836 queries. users per second: 3293.08</pre>"
            ],
            "text/plain": [
              "recommendations finished on 36000/100836 queries. users per second: 3293.08"
            ]
          },
          "metadata": {
            "tags": []
          }
        },
        {
          "output_type": "display_data",
          "data": {
            "text/html": [
              "<pre>recommendations finished on 37000/100836 queries. users per second: 3300.75</pre>"
            ],
            "text/plain": [
              "recommendations finished on 37000/100836 queries. users per second: 3300.75"
            ]
          },
          "metadata": {
            "tags": []
          }
        },
        {
          "output_type": "display_data",
          "data": {
            "text/html": [
              "<pre>recommendations finished on 38000/100836 queries. users per second: 3273.38</pre>"
            ],
            "text/plain": [
              "recommendations finished on 38000/100836 queries. users per second: 3273.38"
            ]
          },
          "metadata": {
            "tags": []
          }
        },
        {
          "output_type": "display_data",
          "data": {
            "text/html": [
              "<pre>recommendations finished on 39000/100836 queries. users per second: 3275.63</pre>"
            ],
            "text/plain": [
              "recommendations finished on 39000/100836 queries. users per second: 3275.63"
            ]
          },
          "metadata": {
            "tags": []
          }
        },
        {
          "output_type": "display_data",
          "data": {
            "text/html": [
              "<pre>recommendations finished on 40000/100836 queries. users per second: 3292.21</pre>"
            ],
            "text/plain": [
              "recommendations finished on 40000/100836 queries. users per second: 3292.21"
            ]
          },
          "metadata": {
            "tags": []
          }
        },
        {
          "output_type": "display_data",
          "data": {
            "text/html": [
              "<pre>recommendations finished on 41000/100836 queries. users per second: 3309.08</pre>"
            ],
            "text/plain": [
              "recommendations finished on 41000/100836 queries. users per second: 3309.08"
            ]
          },
          "metadata": {
            "tags": []
          }
        },
        {
          "output_type": "display_data",
          "data": {
            "text/html": [
              "<pre>recommendations finished on 42000/100836 queries. users per second: 3316.52</pre>"
            ],
            "text/plain": [
              "recommendations finished on 42000/100836 queries. users per second: 3316.52"
            ]
          },
          "metadata": {
            "tags": []
          }
        },
        {
          "output_type": "display_data",
          "data": {
            "text/html": [
              "<pre>recommendations finished on 43000/100836 queries. users per second: 3336.64</pre>"
            ],
            "text/plain": [
              "recommendations finished on 43000/100836 queries. users per second: 3336.64"
            ]
          },
          "metadata": {
            "tags": []
          }
        },
        {
          "output_type": "display_data",
          "data": {
            "text/html": [
              "<pre>recommendations finished on 44000/100836 queries. users per second: 3325.58</pre>"
            ],
            "text/plain": [
              "recommendations finished on 44000/100836 queries. users per second: 3325.58"
            ]
          },
          "metadata": {
            "tags": []
          }
        },
        {
          "output_type": "display_data",
          "data": {
            "text/html": [
              "<pre>recommendations finished on 45000/100836 queries. users per second: 3328.97</pre>"
            ],
            "text/plain": [
              "recommendations finished on 45000/100836 queries. users per second: 3328.97"
            ]
          },
          "metadata": {
            "tags": []
          }
        },
        {
          "output_type": "display_data",
          "data": {
            "text/html": [
              "<pre>recommendations finished on 46000/100836 queries. users per second: 3291.46</pre>"
            ],
            "text/plain": [
              "recommendations finished on 46000/100836 queries. users per second: 3291.46"
            ]
          },
          "metadata": {
            "tags": []
          }
        },
        {
          "output_type": "display_data",
          "data": {
            "text/html": [
              "<pre>recommendations finished on 47000/100836 queries. users per second: 3300.14</pre>"
            ],
            "text/plain": [
              "recommendations finished on 47000/100836 queries. users per second: 3300.14"
            ]
          },
          "metadata": {
            "tags": []
          }
        },
        {
          "output_type": "display_data",
          "data": {
            "text/html": [
              "<pre>recommendations finished on 48000/100836 queries. users per second: 3288.15</pre>"
            ],
            "text/plain": [
              "recommendations finished on 48000/100836 queries. users per second: 3288.15"
            ]
          },
          "metadata": {
            "tags": []
          }
        },
        {
          "output_type": "display_data",
          "data": {
            "text/html": [
              "<pre>recommendations finished on 49000/100836 queries. users per second: 3275.51</pre>"
            ],
            "text/plain": [
              "recommendations finished on 49000/100836 queries. users per second: 3275.51"
            ]
          },
          "metadata": {
            "tags": []
          }
        },
        {
          "output_type": "display_data",
          "data": {
            "text/html": [
              "<pre>recommendations finished on 50000/100836 queries. users per second: 3287.37</pre>"
            ],
            "text/plain": [
              "recommendations finished on 50000/100836 queries. users per second: 3287.37"
            ]
          },
          "metadata": {
            "tags": []
          }
        },
        {
          "output_type": "display_data",
          "data": {
            "text/html": [
              "<pre>recommendations finished on 51000/100836 queries. users per second: 3259.4</pre>"
            ],
            "text/plain": [
              "recommendations finished on 51000/100836 queries. users per second: 3259.4"
            ]
          },
          "metadata": {
            "tags": []
          }
        },
        {
          "output_type": "display_data",
          "data": {
            "text/html": [
              "<pre>recommendations finished on 52000/100836 queries. users per second: 3235.32</pre>"
            ],
            "text/plain": [
              "recommendations finished on 52000/100836 queries. users per second: 3235.32"
            ]
          },
          "metadata": {
            "tags": []
          }
        },
        {
          "output_type": "display_data",
          "data": {
            "text/html": [
              "<pre>recommendations finished on 53000/100836 queries. users per second: 3230.28</pre>"
            ],
            "text/plain": [
              "recommendations finished on 53000/100836 queries. users per second: 3230.28"
            ]
          },
          "metadata": {
            "tags": []
          }
        },
        {
          "output_type": "display_data",
          "data": {
            "text/html": [
              "<pre>recommendations finished on 54000/100836 queries. users per second: 3241.88</pre>"
            ],
            "text/plain": [
              "recommendations finished on 54000/100836 queries. users per second: 3241.88"
            ]
          },
          "metadata": {
            "tags": []
          }
        },
        {
          "output_type": "display_data",
          "data": {
            "text/html": [
              "<pre>recommendations finished on 55000/100836 queries. users per second: 3266.37</pre>"
            ],
            "text/plain": [
              "recommendations finished on 55000/100836 queries. users per second: 3266.37"
            ]
          },
          "metadata": {
            "tags": []
          }
        },
        {
          "output_type": "display_data",
          "data": {
            "text/html": [
              "<pre>recommendations finished on 56000/100836 queries. users per second: 3268.85</pre>"
            ],
            "text/plain": [
              "recommendations finished on 56000/100836 queries. users per second: 3268.85"
            ]
          },
          "metadata": {
            "tags": []
          }
        },
        {
          "output_type": "display_data",
          "data": {
            "text/html": [
              "<pre>recommendations finished on 57000/100836 queries. users per second: 3270.53</pre>"
            ],
            "text/plain": [
              "recommendations finished on 57000/100836 queries. users per second: 3270.53"
            ]
          },
          "metadata": {
            "tags": []
          }
        },
        {
          "output_type": "display_data",
          "data": {
            "text/html": [
              "<pre>recommendations finished on 58000/100836 queries. users per second: 3260.36</pre>"
            ],
            "text/plain": [
              "recommendations finished on 58000/100836 queries. users per second: 3260.36"
            ]
          },
          "metadata": {
            "tags": []
          }
        },
        {
          "output_type": "display_data",
          "data": {
            "text/html": [
              "<pre>recommendations finished on 59000/100836 queries. users per second: 3262.32</pre>"
            ],
            "text/plain": [
              "recommendations finished on 59000/100836 queries. users per second: 3262.32"
            ]
          },
          "metadata": {
            "tags": []
          }
        },
        {
          "output_type": "display_data",
          "data": {
            "text/html": [
              "<pre>recommendations finished on 60000/100836 queries. users per second: 3183.19</pre>"
            ],
            "text/plain": [
              "recommendations finished on 60000/100836 queries. users per second: 3183.19"
            ]
          },
          "metadata": {
            "tags": []
          }
        },
        {
          "output_type": "display_data",
          "data": {
            "text/html": [
              "<pre>recommendations finished on 61000/100836 queries. users per second: 3094.46</pre>"
            ],
            "text/plain": [
              "recommendations finished on 61000/100836 queries. users per second: 3094.46"
            ]
          },
          "metadata": {
            "tags": []
          }
        },
        {
          "output_type": "display_data",
          "data": {
            "text/html": [
              "<pre>recommendations finished on 62000/100836 queries. users per second: 3094.71</pre>"
            ],
            "text/plain": [
              "recommendations finished on 62000/100836 queries. users per second: 3094.71"
            ]
          },
          "metadata": {
            "tags": []
          }
        },
        {
          "output_type": "display_data",
          "data": {
            "text/html": [
              "<pre>recommendations finished on 63000/100836 queries. users per second: 3088.96</pre>"
            ],
            "text/plain": [
              "recommendations finished on 63000/100836 queries. users per second: 3088.96"
            ]
          },
          "metadata": {
            "tags": []
          }
        },
        {
          "output_type": "display_data",
          "data": {
            "text/html": [
              "<pre>recommendations finished on 64000/100836 queries. users per second: 2992.84</pre>"
            ],
            "text/plain": [
              "recommendations finished on 64000/100836 queries. users per second: 2992.84"
            ]
          },
          "metadata": {
            "tags": []
          }
        },
        {
          "output_type": "display_data",
          "data": {
            "text/html": [
              "<pre>recommendations finished on 65000/100836 queries. users per second: 2912.17</pre>"
            ],
            "text/plain": [
              "recommendations finished on 65000/100836 queries. users per second: 2912.17"
            ]
          },
          "metadata": {
            "tags": []
          }
        },
        {
          "output_type": "display_data",
          "data": {
            "text/html": [
              "<pre>recommendations finished on 66000/100836 queries. users per second: 2913.64</pre>"
            ],
            "text/plain": [
              "recommendations finished on 66000/100836 queries. users per second: 2913.64"
            ]
          },
          "metadata": {
            "tags": []
          }
        },
        {
          "output_type": "display_data",
          "data": {
            "text/html": [
              "<pre>recommendations finished on 67000/100836 queries. users per second: 2896.83</pre>"
            ],
            "text/plain": [
              "recommendations finished on 67000/100836 queries. users per second: 2896.83"
            ]
          },
          "metadata": {
            "tags": []
          }
        },
        {
          "output_type": "display_data",
          "data": {
            "text/html": [
              "<pre>recommendations finished on 68000/100836 queries. users per second: 2871.75</pre>"
            ],
            "text/plain": [
              "recommendations finished on 68000/100836 queries. users per second: 2871.75"
            ]
          },
          "metadata": {
            "tags": []
          }
        },
        {
          "output_type": "display_data",
          "data": {
            "text/html": [
              "<pre>recommendations finished on 69000/100836 queries. users per second: 2873.4</pre>"
            ],
            "text/plain": [
              "recommendations finished on 69000/100836 queries. users per second: 2873.4"
            ]
          },
          "metadata": {
            "tags": []
          }
        },
        {
          "output_type": "display_data",
          "data": {
            "text/html": [
              "<pre>recommendations finished on 70000/100836 queries. users per second: 2881.61</pre>"
            ],
            "text/plain": [
              "recommendations finished on 70000/100836 queries. users per second: 2881.61"
            ]
          },
          "metadata": {
            "tags": []
          }
        },
        {
          "output_type": "display_data",
          "data": {
            "text/html": [
              "<pre>recommendations finished on 71000/100836 queries. users per second: 2883.97</pre>"
            ],
            "text/plain": [
              "recommendations finished on 71000/100836 queries. users per second: 2883.97"
            ]
          },
          "metadata": {
            "tags": []
          }
        },
        {
          "output_type": "display_data",
          "data": {
            "text/html": [
              "<pre>recommendations finished on 72000/100836 queries. users per second: 2877.94</pre>"
            ],
            "text/plain": [
              "recommendations finished on 72000/100836 queries. users per second: 2877.94"
            ]
          },
          "metadata": {
            "tags": []
          }
        },
        {
          "output_type": "display_data",
          "data": {
            "text/html": [
              "<pre>recommendations finished on 73000/100836 queries. users per second: 2866.64</pre>"
            ],
            "text/plain": [
              "recommendations finished on 73000/100836 queries. users per second: 2866.64"
            ]
          },
          "metadata": {
            "tags": []
          }
        },
        {
          "output_type": "display_data",
          "data": {
            "text/html": [
              "<pre>recommendations finished on 74000/100836 queries. users per second: 2885.34</pre>"
            ],
            "text/plain": [
              "recommendations finished on 74000/100836 queries. users per second: 2885.34"
            ]
          },
          "metadata": {
            "tags": []
          }
        },
        {
          "output_type": "display_data",
          "data": {
            "text/html": [
              "<pre>recommendations finished on 75000/100836 queries. users per second: 2885.45</pre>"
            ],
            "text/plain": [
              "recommendations finished on 75000/100836 queries. users per second: 2885.45"
            ]
          },
          "metadata": {
            "tags": []
          }
        },
        {
          "output_type": "display_data",
          "data": {
            "text/html": [
              "<pre>recommendations finished on 76000/100836 queries. users per second: 2894.95</pre>"
            ],
            "text/plain": [
              "recommendations finished on 76000/100836 queries. users per second: 2894.95"
            ]
          },
          "metadata": {
            "tags": []
          }
        },
        {
          "output_type": "display_data",
          "data": {
            "text/html": [
              "<pre>recommendations finished on 77000/100836 queries. users per second: 2909.17</pre>"
            ],
            "text/plain": [
              "recommendations finished on 77000/100836 queries. users per second: 2909.17"
            ]
          },
          "metadata": {
            "tags": []
          }
        },
        {
          "output_type": "display_data",
          "data": {
            "text/html": [
              "<pre>recommendations finished on 78000/100836 queries. users per second: 2911.3</pre>"
            ],
            "text/plain": [
              "recommendations finished on 78000/100836 queries. users per second: 2911.3"
            ]
          },
          "metadata": {
            "tags": []
          }
        },
        {
          "output_type": "display_data",
          "data": {
            "text/html": [
              "<pre>recommendations finished on 79000/100836 queries. users per second: 2921.83</pre>"
            ],
            "text/plain": [
              "recommendations finished on 79000/100836 queries. users per second: 2921.83"
            ]
          },
          "metadata": {
            "tags": []
          }
        },
        {
          "output_type": "display_data",
          "data": {
            "text/html": [
              "<pre>recommendations finished on 80000/100836 queries. users per second: 2933.88</pre>"
            ],
            "text/plain": [
              "recommendations finished on 80000/100836 queries. users per second: 2933.88"
            ]
          },
          "metadata": {
            "tags": []
          }
        },
        {
          "output_type": "display_data",
          "data": {
            "text/html": [
              "<pre>recommendations finished on 81000/100836 queries. users per second: 2949.29</pre>"
            ],
            "text/plain": [
              "recommendations finished on 81000/100836 queries. users per second: 2949.29"
            ]
          },
          "metadata": {
            "tags": []
          }
        },
        {
          "output_type": "display_data",
          "data": {
            "text/html": [
              "<pre>recommendations finished on 82000/100836 queries. users per second: 2950.19</pre>"
            ],
            "text/plain": [
              "recommendations finished on 82000/100836 queries. users per second: 2950.19"
            ]
          },
          "metadata": {
            "tags": []
          }
        },
        {
          "output_type": "display_data",
          "data": {
            "text/html": [
              "<pre>recommendations finished on 83000/100836 queries. users per second: 2958.33</pre>"
            ],
            "text/plain": [
              "recommendations finished on 83000/100836 queries. users per second: 2958.33"
            ]
          },
          "metadata": {
            "tags": []
          }
        },
        {
          "output_type": "display_data",
          "data": {
            "text/html": [
              "<pre>recommendations finished on 84000/100836 queries. users per second: 2966.79</pre>"
            ],
            "text/plain": [
              "recommendations finished on 84000/100836 queries. users per second: 2966.79"
            ]
          },
          "metadata": {
            "tags": []
          }
        },
        {
          "output_type": "display_data",
          "data": {
            "text/html": [
              "<pre>recommendations finished on 85000/100836 queries. users per second: 2985.82</pre>"
            ],
            "text/plain": [
              "recommendations finished on 85000/100836 queries. users per second: 2985.82"
            ]
          },
          "metadata": {
            "tags": []
          }
        },
        {
          "output_type": "display_data",
          "data": {
            "text/html": [
              "<pre>recommendations finished on 86000/100836 queries. users per second: 2988.31</pre>"
            ],
            "text/plain": [
              "recommendations finished on 86000/100836 queries. users per second: 2988.31"
            ]
          },
          "metadata": {
            "tags": []
          }
        },
        {
          "output_type": "display_data",
          "data": {
            "text/html": [
              "<pre>recommendations finished on 87000/100836 queries. users per second: 2987.53</pre>"
            ],
            "text/plain": [
              "recommendations finished on 87000/100836 queries. users per second: 2987.53"
            ]
          },
          "metadata": {
            "tags": []
          }
        },
        {
          "output_type": "display_data",
          "data": {
            "text/html": [
              "<pre>recommendations finished on 88000/100836 queries. users per second: 2996.22</pre>"
            ],
            "text/plain": [
              "recommendations finished on 88000/100836 queries. users per second: 2996.22"
            ]
          },
          "metadata": {
            "tags": []
          }
        },
        {
          "output_type": "display_data",
          "data": {
            "text/html": [
              "<pre>recommendations finished on 89000/100836 queries. users per second: 3006.27</pre>"
            ],
            "text/plain": [
              "recommendations finished on 89000/100836 queries. users per second: 3006.27"
            ]
          },
          "metadata": {
            "tags": []
          }
        },
        {
          "output_type": "display_data",
          "data": {
            "text/html": [
              "<pre>recommendations finished on 90000/100836 queries. users per second: 3011.48</pre>"
            ],
            "text/plain": [
              "recommendations finished on 90000/100836 queries. users per second: 3011.48"
            ]
          },
          "metadata": {
            "tags": []
          }
        },
        {
          "output_type": "display_data",
          "data": {
            "text/html": [
              "<pre>recommendations finished on 91000/100836 queries. users per second: 3009.67</pre>"
            ],
            "text/plain": [
              "recommendations finished on 91000/100836 queries. users per second: 3009.67"
            ]
          },
          "metadata": {
            "tags": []
          }
        },
        {
          "output_type": "display_data",
          "data": {
            "text/html": [
              "<pre>recommendations finished on 92000/100836 queries. users per second: 3012.51</pre>"
            ],
            "text/plain": [
              "recommendations finished on 92000/100836 queries. users per second: 3012.51"
            ]
          },
          "metadata": {
            "tags": []
          }
        },
        {
          "output_type": "display_data",
          "data": {
            "text/html": [
              "<pre>recommendations finished on 93000/100836 queries. users per second: 2967.38</pre>"
            ],
            "text/plain": [
              "recommendations finished on 93000/100836 queries. users per second: 2967.38"
            ]
          },
          "metadata": {
            "tags": []
          }
        },
        {
          "output_type": "display_data",
          "data": {
            "text/html": [
              "<pre>recommendations finished on 94000/100836 queries. users per second: 2864.32</pre>"
            ],
            "text/plain": [
              "recommendations finished on 94000/100836 queries. users per second: 2864.32"
            ]
          },
          "metadata": {
            "tags": []
          }
        },
        {
          "output_type": "display_data",
          "data": {
            "text/html": [
              "<pre>recommendations finished on 95000/100836 queries. users per second: 2767.91</pre>"
            ],
            "text/plain": [
              "recommendations finished on 95000/100836 queries. users per second: 2767.91"
            ]
          },
          "metadata": {
            "tags": []
          }
        },
        {
          "output_type": "display_data",
          "data": {
            "text/html": [
              "<pre>recommendations finished on 96000/100836 queries. users per second: 2752.27</pre>"
            ],
            "text/plain": [
              "recommendations finished on 96000/100836 queries. users per second: 2752.27"
            ]
          },
          "metadata": {
            "tags": []
          }
        },
        {
          "output_type": "display_data",
          "data": {
            "text/html": [
              "<pre>recommendations finished on 97000/100836 queries. users per second: 2736.47</pre>"
            ],
            "text/plain": [
              "recommendations finished on 97000/100836 queries. users per second: 2736.47"
            ]
          },
          "metadata": {
            "tags": []
          }
        },
        {
          "output_type": "display_data",
          "data": {
            "text/html": [
              "<pre>recommendations finished on 98000/100836 queries. users per second: 2723.44</pre>"
            ],
            "text/plain": [
              "recommendations finished on 98000/100836 queries. users per second: 2723.44"
            ]
          },
          "metadata": {
            "tags": []
          }
        },
        {
          "output_type": "display_data",
          "data": {
            "text/html": [
              "<pre>recommendations finished on 99000/100836 queries. users per second: 2709.9</pre>"
            ],
            "text/plain": [
              "recommendations finished on 99000/100836 queries. users per second: 2709.9"
            ]
          },
          "metadata": {
            "tags": []
          }
        },
        {
          "output_type": "display_data",
          "data": {
            "text/html": [
              "<pre>recommendations finished on 100000/100836 queries. users per second: 2690.43</pre>"
            ],
            "text/plain": [
              "recommendations finished on 100000/100836 queries. users per second: 2690.43"
            ]
          },
          "metadata": {
            "tags": []
          }
        },
        {
          "output_type": "stream",
          "text": [
            "+---------+----------------+---------------------+------+\n",
            "| user_id | product_number |        score        | rank |\n",
            "+---------+----------------+---------------------+------+\n",
            "|    1    |      1196      | 0.11845514568358816 |  1   |\n",
            "|    1    |      2115      | 0.10912407131095207 |  2   |\n",
            "|    1    |      1968      | 0.10595061485679987 |  3   |\n",
            "|    1    |      2918      | 0.10582190658409558 |  4   |\n",
            "|    1    |      1265      | 0.10472694117361338 |  5   |\n",
            "|    1    |      1377      | 0.10453885200760127 |  6   |\n",
            "|    1    |      2683      | 0.09684532631130119 |  7   |\n",
            "|    1    |      1391      | 0.09054090714579477 |  8   |\n",
            "|    1    |      1610      | 0.08966903723971383 |  9   |\n",
            "|    1    |      924       |   0.08533421330427  |  10  |\n",
            "+---------+----------------+---------------------+------+\n",
            "[1008360 rows x 4 columns]\n",
            "\n"
          ],
          "name": "stdout"
        }
      ]
    },
    {
      "cell_type": "code",
      "metadata": {
        "id": "QRu1W1pzo3R5",
        "colab": {
          "base_uri": "https://localhost:8080/",
          "height": 1000
        },
        "outputId": "e02f4370-6361-49d8-f096-f1abf10d0f38"
      },
      "source": [
        "name = 'cosine' \r\n",
        "target = 'scaled_purchase_freq' \r\n",
        "cos_norm = model(train_data_norm, name, user_id, item_id, target, users_to_recommend, n_rec, n_display)"
      ],
      "execution_count": 100,
      "outputs": [
        {
          "output_type": "display_data",
          "data": {
            "text/html": [
              "<pre>Preparing data set.</pre>"
            ],
            "text/plain": [
              "Preparing data set."
            ]
          },
          "metadata": {
            "tags": []
          }
        },
        {
          "output_type": "display_data",
          "data": {
            "text/html": [
              "<pre>    Data has 77372 observations with 610 users and 5924 items.</pre>"
            ],
            "text/plain": [
              "    Data has 77372 observations with 610 users and 5924 items."
            ]
          },
          "metadata": {
            "tags": []
          }
        },
        {
          "output_type": "display_data",
          "data": {
            "text/html": [
              "<pre>    Data prepared in: 0.091979s</pre>"
            ],
            "text/plain": [
              "    Data prepared in: 0.091979s"
            ]
          },
          "metadata": {
            "tags": []
          }
        },
        {
          "output_type": "display_data",
          "data": {
            "text/html": [
              "<pre>Training model from provided data.</pre>"
            ],
            "text/plain": [
              "Training model from provided data."
            ]
          },
          "metadata": {
            "tags": []
          }
        },
        {
          "output_type": "display_data",
          "data": {
            "text/html": [
              "<pre>Gathering per-item and per-user statistics.</pre>"
            ],
            "text/plain": [
              "Gathering per-item and per-user statistics."
            ]
          },
          "metadata": {
            "tags": []
          }
        },
        {
          "output_type": "display_data",
          "data": {
            "text/html": [
              "<pre>+--------------------------------+------------+</pre>"
            ],
            "text/plain": [
              "+--------------------------------+------------+"
            ]
          },
          "metadata": {
            "tags": []
          }
        },
        {
          "output_type": "display_data",
          "data": {
            "text/html": [
              "<pre>| Elapsed Time (Item Statistics) | % Complete |</pre>"
            ],
            "text/plain": [
              "| Elapsed Time (Item Statistics) | % Complete |"
            ]
          },
          "metadata": {
            "tags": []
          }
        },
        {
          "output_type": "display_data",
          "data": {
            "text/html": [
              "<pre>+--------------------------------+------------+</pre>"
            ],
            "text/plain": [
              "+--------------------------------+------------+"
            ]
          },
          "metadata": {
            "tags": []
          }
        },
        {
          "output_type": "display_data",
          "data": {
            "text/html": [
              "<pre>| 7.143ms                        | 100        |</pre>"
            ],
            "text/plain": [
              "| 7.143ms                        | 100        |"
            ]
          },
          "metadata": {
            "tags": []
          }
        },
        {
          "output_type": "display_data",
          "data": {
            "text/html": [
              "<pre>+--------------------------------+------------+</pre>"
            ],
            "text/plain": [
              "+--------------------------------+------------+"
            ]
          },
          "metadata": {
            "tags": []
          }
        },
        {
          "output_type": "display_data",
          "data": {
            "text/html": [
              "<pre>Setting up lookup tables.</pre>"
            ],
            "text/plain": [
              "Setting up lookup tables."
            ]
          },
          "metadata": {
            "tags": []
          }
        },
        {
          "output_type": "display_data",
          "data": {
            "text/html": [
              "<pre>Processing data in one pass using dense lookup tables.</pre>"
            ],
            "text/plain": [
              "Processing data in one pass using dense lookup tables."
            ]
          },
          "metadata": {
            "tags": []
          }
        },
        {
          "output_type": "display_data",
          "data": {
            "text/html": [
              "<pre>+-------------------------------------+------------------+-----------------+</pre>"
            ],
            "text/plain": [
              "+-------------------------------------+------------------+-----------------+"
            ]
          },
          "metadata": {
            "tags": []
          }
        },
        {
          "output_type": "display_data",
          "data": {
            "text/html": [
              "<pre>| Elapsed Time (Constructing Lookups) | Total % Complete | Items Processed |</pre>"
            ],
            "text/plain": [
              "| Elapsed Time (Constructing Lookups) | Total % Complete | Items Processed |"
            ]
          },
          "metadata": {
            "tags": []
          }
        },
        {
          "output_type": "display_data",
          "data": {
            "text/html": [
              "<pre>+-------------------------------------+------------------+-----------------+</pre>"
            ],
            "text/plain": [
              "+-------------------------------------+------------------+-----------------+"
            ]
          },
          "metadata": {
            "tags": []
          }
        },
        {
          "output_type": "display_data",
          "data": {
            "text/html": [
              "<pre>| 55.67ms                             | 0                | 14              |</pre>"
            ],
            "text/plain": [
              "| 55.67ms                             | 0                | 14              |"
            ]
          },
          "metadata": {
            "tags": []
          }
        },
        {
          "output_type": "display_data",
          "data": {
            "text/html": [
              "<pre>| 1.01s                               | 100              | 5924            |</pre>"
            ],
            "text/plain": [
              "| 1.01s                               | 100              | 5924            |"
            ]
          },
          "metadata": {
            "tags": []
          }
        },
        {
          "output_type": "display_data",
          "data": {
            "text/html": [
              "<pre>+-------------------------------------+------------------+-----------------+</pre>"
            ],
            "text/plain": [
              "+-------------------------------------+------------------+-----------------+"
            ]
          },
          "metadata": {
            "tags": []
          }
        },
        {
          "output_type": "display_data",
          "data": {
            "text/html": [
              "<pre>Finalizing lookup tables.</pre>"
            ],
            "text/plain": [
              "Finalizing lookup tables."
            ]
          },
          "metadata": {
            "tags": []
          }
        },
        {
          "output_type": "display_data",
          "data": {
            "text/html": [
              "<pre>Generating candidate set for working with new users.</pre>"
            ],
            "text/plain": [
              "Generating candidate set for working with new users."
            ]
          },
          "metadata": {
            "tags": []
          }
        },
        {
          "output_type": "display_data",
          "data": {
            "text/html": [
              "<pre>Finished training in 1.04592s</pre>"
            ],
            "text/plain": [
              "Finished training in 1.04592s"
            ]
          },
          "metadata": {
            "tags": []
          }
        },
        {
          "output_type": "display_data",
          "data": {
            "text/html": [
              "<pre>recommendations finished on 1000/100836 queries. users per second: 7482.45</pre>"
            ],
            "text/plain": [
              "recommendations finished on 1000/100836 queries. users per second: 7482.45"
            ]
          },
          "metadata": {
            "tags": []
          }
        },
        {
          "output_type": "display_data",
          "data": {
            "text/html": [
              "<pre>recommendations finished on 2000/100836 queries. users per second: 6916.3</pre>"
            ],
            "text/plain": [
              "recommendations finished on 2000/100836 queries. users per second: 6916.3"
            ]
          },
          "metadata": {
            "tags": []
          }
        },
        {
          "output_type": "display_data",
          "data": {
            "text/html": [
              "<pre>recommendations finished on 3000/100836 queries. users per second: 7513.62</pre>"
            ],
            "text/plain": [
              "recommendations finished on 3000/100836 queries. users per second: 7513.62"
            ]
          },
          "metadata": {
            "tags": []
          }
        },
        {
          "output_type": "display_data",
          "data": {
            "text/html": [
              "<pre>recommendations finished on 4000/100836 queries. users per second: 6928.78</pre>"
            ],
            "text/plain": [
              "recommendations finished on 4000/100836 queries. users per second: 6928.78"
            ]
          },
          "metadata": {
            "tags": []
          }
        },
        {
          "output_type": "display_data",
          "data": {
            "text/html": [
              "<pre>recommendations finished on 5000/100836 queries. users per second: 6968.73</pre>"
            ],
            "text/plain": [
              "recommendations finished on 5000/100836 queries. users per second: 6968.73"
            ]
          },
          "metadata": {
            "tags": []
          }
        },
        {
          "output_type": "display_data",
          "data": {
            "text/html": [
              "<pre>recommendations finished on 6000/100836 queries. users per second: 6504.52</pre>"
            ],
            "text/plain": [
              "recommendations finished on 6000/100836 queries. users per second: 6504.52"
            ]
          },
          "metadata": {
            "tags": []
          }
        },
        {
          "output_type": "display_data",
          "data": {
            "text/html": [
              "<pre>recommendations finished on 7000/100836 queries. users per second: 6065.21</pre>"
            ],
            "text/plain": [
              "recommendations finished on 7000/100836 queries. users per second: 6065.21"
            ]
          },
          "metadata": {
            "tags": []
          }
        },
        {
          "output_type": "display_data",
          "data": {
            "text/html": [
              "<pre>recommendations finished on 8000/100836 queries. users per second: 6084.24</pre>"
            ],
            "text/plain": [
              "recommendations finished on 8000/100836 queries. users per second: 6084.24"
            ]
          },
          "metadata": {
            "tags": []
          }
        },
        {
          "output_type": "display_data",
          "data": {
            "text/html": [
              "<pre>recommendations finished on 9000/100836 queries. users per second: 6108.5</pre>"
            ],
            "text/plain": [
              "recommendations finished on 9000/100836 queries. users per second: 6108.5"
            ]
          },
          "metadata": {
            "tags": []
          }
        },
        {
          "output_type": "display_data",
          "data": {
            "text/html": [
              "<pre>recommendations finished on 10000/100836 queries. users per second: 5879.38</pre>"
            ],
            "text/plain": [
              "recommendations finished on 10000/100836 queries. users per second: 5879.38"
            ]
          },
          "metadata": {
            "tags": []
          }
        },
        {
          "output_type": "display_data",
          "data": {
            "text/html": [
              "<pre>recommendations finished on 11000/100836 queries. users per second: 5921.92</pre>"
            ],
            "text/plain": [
              "recommendations finished on 11000/100836 queries. users per second: 5921.92"
            ]
          },
          "metadata": {
            "tags": []
          }
        },
        {
          "output_type": "display_data",
          "data": {
            "text/html": [
              "<pre>recommendations finished on 12000/100836 queries. users per second: 6030.17</pre>"
            ],
            "text/plain": [
              "recommendations finished on 12000/100836 queries. users per second: 6030.17"
            ]
          },
          "metadata": {
            "tags": []
          }
        },
        {
          "output_type": "display_data",
          "data": {
            "text/html": [
              "<pre>recommendations finished on 13000/100836 queries. users per second: 5613.85</pre>"
            ],
            "text/plain": [
              "recommendations finished on 13000/100836 queries. users per second: 5613.85"
            ]
          },
          "metadata": {
            "tags": []
          }
        },
        {
          "output_type": "display_data",
          "data": {
            "text/html": [
              "<pre>recommendations finished on 14000/100836 queries. users per second: 5295.25</pre>"
            ],
            "text/plain": [
              "recommendations finished on 14000/100836 queries. users per second: 5295.25"
            ]
          },
          "metadata": {
            "tags": []
          }
        },
        {
          "output_type": "display_data",
          "data": {
            "text/html": [
              "<pre>recommendations finished on 15000/100836 queries. users per second: 5178.02</pre>"
            ],
            "text/plain": [
              "recommendations finished on 15000/100836 queries. users per second: 5178.02"
            ]
          },
          "metadata": {
            "tags": []
          }
        },
        {
          "output_type": "display_data",
          "data": {
            "text/html": [
              "<pre>recommendations finished on 16000/100836 queries. users per second: 5077.6</pre>"
            ],
            "text/plain": [
              "recommendations finished on 16000/100836 queries. users per second: 5077.6"
            ]
          },
          "metadata": {
            "tags": []
          }
        },
        {
          "output_type": "display_data",
          "data": {
            "text/html": [
              "<pre>recommendations finished on 17000/100836 queries. users per second: 5053.4</pre>"
            ],
            "text/plain": [
              "recommendations finished on 17000/100836 queries. users per second: 5053.4"
            ]
          },
          "metadata": {
            "tags": []
          }
        },
        {
          "output_type": "display_data",
          "data": {
            "text/html": [
              "<pre>recommendations finished on 18000/100836 queries. users per second: 5105.48</pre>"
            ],
            "text/plain": [
              "recommendations finished on 18000/100836 queries. users per second: 5105.48"
            ]
          },
          "metadata": {
            "tags": []
          }
        },
        {
          "output_type": "display_data",
          "data": {
            "text/html": [
              "<pre>recommendations finished on 19000/100836 queries. users per second: 4949.83</pre>"
            ],
            "text/plain": [
              "recommendations finished on 19000/100836 queries. users per second: 4949.83"
            ]
          },
          "metadata": {
            "tags": []
          }
        },
        {
          "output_type": "display_data",
          "data": {
            "text/html": [
              "<pre>recommendations finished on 20000/100836 queries. users per second: 4807.63</pre>"
            ],
            "text/plain": [
              "recommendations finished on 20000/100836 queries. users per second: 4807.63"
            ]
          },
          "metadata": {
            "tags": []
          }
        },
        {
          "output_type": "display_data",
          "data": {
            "text/html": [
              "<pre>recommendations finished on 21000/100836 queries. users per second: 4616.05</pre>"
            ],
            "text/plain": [
              "recommendations finished on 21000/100836 queries. users per second: 4616.05"
            ]
          },
          "metadata": {
            "tags": []
          }
        },
        {
          "output_type": "display_data",
          "data": {
            "text/html": [
              "<pre>recommendations finished on 22000/100836 queries. users per second: 4647.98</pre>"
            ],
            "text/plain": [
              "recommendations finished on 22000/100836 queries. users per second: 4647.98"
            ]
          },
          "metadata": {
            "tags": []
          }
        },
        {
          "output_type": "display_data",
          "data": {
            "text/html": [
              "<pre>recommendations finished on 23000/100836 queries. users per second: 4666.9</pre>"
            ],
            "text/plain": [
              "recommendations finished on 23000/100836 queries. users per second: 4666.9"
            ]
          },
          "metadata": {
            "tags": []
          }
        },
        {
          "output_type": "display_data",
          "data": {
            "text/html": [
              "<pre>recommendations finished on 24000/100836 queries. users per second: 4325.97</pre>"
            ],
            "text/plain": [
              "recommendations finished on 24000/100836 queries. users per second: 4325.97"
            ]
          },
          "metadata": {
            "tags": []
          }
        },
        {
          "output_type": "display_data",
          "data": {
            "text/html": [
              "<pre>recommendations finished on 25000/100836 queries. users per second: 4336.38</pre>"
            ],
            "text/plain": [
              "recommendations finished on 25000/100836 queries. users per second: 4336.38"
            ]
          },
          "metadata": {
            "tags": []
          }
        },
        {
          "output_type": "display_data",
          "data": {
            "text/html": [
              "<pre>recommendations finished on 26000/100836 queries. users per second: 4310.15</pre>"
            ],
            "text/plain": [
              "recommendations finished on 26000/100836 queries. users per second: 4310.15"
            ]
          },
          "metadata": {
            "tags": []
          }
        },
        {
          "output_type": "display_data",
          "data": {
            "text/html": [
              "<pre>recommendations finished on 27000/100836 queries. users per second: 4209.46</pre>"
            ],
            "text/plain": [
              "recommendations finished on 27000/100836 queries. users per second: 4209.46"
            ]
          },
          "metadata": {
            "tags": []
          }
        },
        {
          "output_type": "display_data",
          "data": {
            "text/html": [
              "<pre>recommendations finished on 28000/100836 queries. users per second: 4170.33</pre>"
            ],
            "text/plain": [
              "recommendations finished on 28000/100836 queries. users per second: 4170.33"
            ]
          },
          "metadata": {
            "tags": []
          }
        },
        {
          "output_type": "display_data",
          "data": {
            "text/html": [
              "<pre>recommendations finished on 29000/100836 queries. users per second: 4133.21</pre>"
            ],
            "text/plain": [
              "recommendations finished on 29000/100836 queries. users per second: 4133.21"
            ]
          },
          "metadata": {
            "tags": []
          }
        },
        {
          "output_type": "display_data",
          "data": {
            "text/html": [
              "<pre>recommendations finished on 30000/100836 queries. users per second: 4006.15</pre>"
            ],
            "text/plain": [
              "recommendations finished on 30000/100836 queries. users per second: 4006.15"
            ]
          },
          "metadata": {
            "tags": []
          }
        },
        {
          "output_type": "display_data",
          "data": {
            "text/html": [
              "<pre>recommendations finished on 31000/100836 queries. users per second: 3944.51</pre>"
            ],
            "text/plain": [
              "recommendations finished on 31000/100836 queries. users per second: 3944.51"
            ]
          },
          "metadata": {
            "tags": []
          }
        },
        {
          "output_type": "display_data",
          "data": {
            "text/html": [
              "<pre>recommendations finished on 32000/100836 queries. users per second: 3941.79</pre>"
            ],
            "text/plain": [
              "recommendations finished on 32000/100836 queries. users per second: 3941.79"
            ]
          },
          "metadata": {
            "tags": []
          }
        },
        {
          "output_type": "display_data",
          "data": {
            "text/html": [
              "<pre>recommendations finished on 33000/100836 queries. users per second: 3930.97</pre>"
            ],
            "text/plain": [
              "recommendations finished on 33000/100836 queries. users per second: 3930.97"
            ]
          },
          "metadata": {
            "tags": []
          }
        },
        {
          "output_type": "display_data",
          "data": {
            "text/html": [
              "<pre>recommendations finished on 34000/100836 queries. users per second: 3922.26</pre>"
            ],
            "text/plain": [
              "recommendations finished on 34000/100836 queries. users per second: 3922.26"
            ]
          },
          "metadata": {
            "tags": []
          }
        },
        {
          "output_type": "display_data",
          "data": {
            "text/html": [
              "<pre>recommendations finished on 35000/100836 queries. users per second: 3909.17</pre>"
            ],
            "text/plain": [
              "recommendations finished on 35000/100836 queries. users per second: 3909.17"
            ]
          },
          "metadata": {
            "tags": []
          }
        },
        {
          "output_type": "display_data",
          "data": {
            "text/html": [
              "<pre>recommendations finished on 36000/100836 queries. users per second: 3864.32</pre>"
            ],
            "text/plain": [
              "recommendations finished on 36000/100836 queries. users per second: 3864.32"
            ]
          },
          "metadata": {
            "tags": []
          }
        },
        {
          "output_type": "display_data",
          "data": {
            "text/html": [
              "<pre>recommendations finished on 37000/100836 queries. users per second: 3870.78</pre>"
            ],
            "text/plain": [
              "recommendations finished on 37000/100836 queries. users per second: 3870.78"
            ]
          },
          "metadata": {
            "tags": []
          }
        },
        {
          "output_type": "display_data",
          "data": {
            "text/html": [
              "<pre>recommendations finished on 38000/100836 queries. users per second: 3846.52</pre>"
            ],
            "text/plain": [
              "recommendations finished on 38000/100836 queries. users per second: 3846.52"
            ]
          },
          "metadata": {
            "tags": []
          }
        },
        {
          "output_type": "display_data",
          "data": {
            "text/html": [
              "<pre>recommendations finished on 39000/100836 queries. users per second: 3848.68</pre>"
            ],
            "text/plain": [
              "recommendations finished on 39000/100836 queries. users per second: 3848.68"
            ]
          },
          "metadata": {
            "tags": []
          }
        },
        {
          "output_type": "display_data",
          "data": {
            "text/html": [
              "<pre>recommendations finished on 40000/100836 queries. users per second: 3759.87</pre>"
            ],
            "text/plain": [
              "recommendations finished on 40000/100836 queries. users per second: 3759.87"
            ]
          },
          "metadata": {
            "tags": []
          }
        },
        {
          "output_type": "display_data",
          "data": {
            "text/html": [
              "<pre>recommendations finished on 41000/100836 queries. users per second: 3789.56</pre>"
            ],
            "text/plain": [
              "recommendations finished on 41000/100836 queries. users per second: 3789.56"
            ]
          },
          "metadata": {
            "tags": []
          }
        },
        {
          "output_type": "display_data",
          "data": {
            "text/html": [
              "<pre>recommendations finished on 42000/100836 queries. users per second: 3821.08</pre>"
            ],
            "text/plain": [
              "recommendations finished on 42000/100836 queries. users per second: 3821.08"
            ]
          },
          "metadata": {
            "tags": []
          }
        },
        {
          "output_type": "display_data",
          "data": {
            "text/html": [
              "<pre>recommendations finished on 43000/100836 queries. users per second: 3831.91</pre>"
            ],
            "text/plain": [
              "recommendations finished on 43000/100836 queries. users per second: 3831.91"
            ]
          },
          "metadata": {
            "tags": []
          }
        },
        {
          "output_type": "display_data",
          "data": {
            "text/html": [
              "<pre>recommendations finished on 44000/100836 queries. users per second: 3836.11</pre>"
            ],
            "text/plain": [
              "recommendations finished on 44000/100836 queries. users per second: 3836.11"
            ]
          },
          "metadata": {
            "tags": []
          }
        },
        {
          "output_type": "display_data",
          "data": {
            "text/html": [
              "<pre>recommendations finished on 45000/100836 queries. users per second: 3809.12</pre>"
            ],
            "text/plain": [
              "recommendations finished on 45000/100836 queries. users per second: 3809.12"
            ]
          },
          "metadata": {
            "tags": []
          }
        },
        {
          "output_type": "display_data",
          "data": {
            "text/html": [
              "<pre>recommendations finished on 46000/100836 queries. users per second: 3844.24</pre>"
            ],
            "text/plain": [
              "recommendations finished on 46000/100836 queries. users per second: 3844.24"
            ]
          },
          "metadata": {
            "tags": []
          }
        },
        {
          "output_type": "display_data",
          "data": {
            "text/html": [
              "<pre>recommendations finished on 47000/100836 queries. users per second: 3862</pre>"
            ],
            "text/plain": [
              "recommendations finished on 47000/100836 queries. users per second: 3862"
            ]
          },
          "metadata": {
            "tags": []
          }
        },
        {
          "output_type": "display_data",
          "data": {
            "text/html": [
              "<pre>recommendations finished on 48000/100836 queries. users per second: 3847.32</pre>"
            ],
            "text/plain": [
              "recommendations finished on 48000/100836 queries. users per second: 3847.32"
            ]
          },
          "metadata": {
            "tags": []
          }
        },
        {
          "output_type": "display_data",
          "data": {
            "text/html": [
              "<pre>recommendations finished on 49000/100836 queries. users per second: 3847.31</pre>"
            ],
            "text/plain": [
              "recommendations finished on 49000/100836 queries. users per second: 3847.31"
            ]
          },
          "metadata": {
            "tags": []
          }
        },
        {
          "output_type": "display_data",
          "data": {
            "text/html": [
              "<pre>recommendations finished on 50000/100836 queries. users per second: 3851.57</pre>"
            ],
            "text/plain": [
              "recommendations finished on 50000/100836 queries. users per second: 3851.57"
            ]
          },
          "metadata": {
            "tags": []
          }
        },
        {
          "output_type": "display_data",
          "data": {
            "text/html": [
              "<pre>recommendations finished on 51000/100836 queries. users per second: 3808.42</pre>"
            ],
            "text/plain": [
              "recommendations finished on 51000/100836 queries. users per second: 3808.42"
            ]
          },
          "metadata": {
            "tags": []
          }
        },
        {
          "output_type": "display_data",
          "data": {
            "text/html": [
              "<pre>recommendations finished on 52000/100836 queries. users per second: 3786.31</pre>"
            ],
            "text/plain": [
              "recommendations finished on 52000/100836 queries. users per second: 3786.31"
            ]
          },
          "metadata": {
            "tags": []
          }
        },
        {
          "output_type": "display_data",
          "data": {
            "text/html": [
              "<pre>recommendations finished on 53000/100836 queries. users per second: 3782.48</pre>"
            ],
            "text/plain": [
              "recommendations finished on 53000/100836 queries. users per second: 3782.48"
            ]
          },
          "metadata": {
            "tags": []
          }
        },
        {
          "output_type": "display_data",
          "data": {
            "text/html": [
              "<pre>recommendations finished on 54000/100836 queries. users per second: 3761.3</pre>"
            ],
            "text/plain": [
              "recommendations finished on 54000/100836 queries. users per second: 3761.3"
            ]
          },
          "metadata": {
            "tags": []
          }
        },
        {
          "output_type": "display_data",
          "data": {
            "text/html": [
              "<pre>recommendations finished on 55000/100836 queries. users per second: 3757.8</pre>"
            ],
            "text/plain": [
              "recommendations finished on 55000/100836 queries. users per second: 3757.8"
            ]
          },
          "metadata": {
            "tags": []
          }
        },
        {
          "output_type": "display_data",
          "data": {
            "text/html": [
              "<pre>recommendations finished on 56000/100836 queries. users per second: 3757.57</pre>"
            ],
            "text/plain": [
              "recommendations finished on 56000/100836 queries. users per second: 3757.57"
            ]
          },
          "metadata": {
            "tags": []
          }
        },
        {
          "output_type": "display_data",
          "data": {
            "text/html": [
              "<pre>recommendations finished on 57000/100836 queries. users per second: 3759.23</pre>"
            ],
            "text/plain": [
              "recommendations finished on 57000/100836 queries. users per second: 3759.23"
            ]
          },
          "metadata": {
            "tags": []
          }
        },
        {
          "output_type": "display_data",
          "data": {
            "text/html": [
              "<pre>recommendations finished on 58000/100836 queries. users per second: 3746.11</pre>"
            ],
            "text/plain": [
              "recommendations finished on 58000/100836 queries. users per second: 3746.11"
            ]
          },
          "metadata": {
            "tags": []
          }
        },
        {
          "output_type": "display_data",
          "data": {
            "text/html": [
              "<pre>recommendations finished on 59000/100836 queries. users per second: 3755.56</pre>"
            ],
            "text/plain": [
              "recommendations finished on 59000/100836 queries. users per second: 3755.56"
            ]
          },
          "metadata": {
            "tags": []
          }
        },
        {
          "output_type": "display_data",
          "data": {
            "text/html": [
              "<pre>recommendations finished on 60000/100836 queries. users per second: 3716.6</pre>"
            ],
            "text/plain": [
              "recommendations finished on 60000/100836 queries. users per second: 3716.6"
            ]
          },
          "metadata": {
            "tags": []
          }
        },
        {
          "output_type": "display_data",
          "data": {
            "text/html": [
              "<pre>recommendations finished on 61000/100836 queries. users per second: 3640.19</pre>"
            ],
            "text/plain": [
              "recommendations finished on 61000/100836 queries. users per second: 3640.19"
            ]
          },
          "metadata": {
            "tags": []
          }
        },
        {
          "output_type": "display_data",
          "data": {
            "text/html": [
              "<pre>recommendations finished on 62000/100836 queries. users per second: 3646.41</pre>"
            ],
            "text/plain": [
              "recommendations finished on 62000/100836 queries. users per second: 3646.41"
            ]
          },
          "metadata": {
            "tags": []
          }
        },
        {
          "output_type": "display_data",
          "data": {
            "text/html": [
              "<pre>recommendations finished on 63000/100836 queries. users per second: 3645.08</pre>"
            ],
            "text/plain": [
              "recommendations finished on 63000/100836 queries. users per second: 3645.08"
            ]
          },
          "metadata": {
            "tags": []
          }
        },
        {
          "output_type": "display_data",
          "data": {
            "text/html": [
              "<pre>recommendations finished on 64000/100836 queries. users per second: 3589.89</pre>"
            ],
            "text/plain": [
              "recommendations finished on 64000/100836 queries. users per second: 3589.89"
            ]
          },
          "metadata": {
            "tags": []
          }
        },
        {
          "output_type": "display_data",
          "data": {
            "text/html": [
              "<pre>recommendations finished on 65000/100836 queries. users per second: 3513.88</pre>"
            ],
            "text/plain": [
              "recommendations finished on 65000/100836 queries. users per second: 3513.88"
            ]
          },
          "metadata": {
            "tags": []
          }
        },
        {
          "output_type": "display_data",
          "data": {
            "text/html": [
              "<pre>recommendations finished on 66000/100836 queries. users per second: 3499.8</pre>"
            ],
            "text/plain": [
              "recommendations finished on 66000/100836 queries. users per second: 3499.8"
            ]
          },
          "metadata": {
            "tags": []
          }
        },
        {
          "output_type": "display_data",
          "data": {
            "text/html": [
              "<pre>recommendations finished on 67000/100836 queries. users per second: 3498.55</pre>"
            ],
            "text/plain": [
              "recommendations finished on 67000/100836 queries. users per second: 3498.55"
            ]
          },
          "metadata": {
            "tags": []
          }
        },
        {
          "output_type": "display_data",
          "data": {
            "text/html": [
              "<pre>recommendations finished on 68000/100836 queries. users per second: 3508.44</pre>"
            ],
            "text/plain": [
              "recommendations finished on 68000/100836 queries. users per second: 3508.44"
            ]
          },
          "metadata": {
            "tags": []
          }
        },
        {
          "output_type": "display_data",
          "data": {
            "text/html": [
              "<pre>recommendations finished on 69000/100836 queries. users per second: 3515.89</pre>"
            ],
            "text/plain": [
              "recommendations finished on 69000/100836 queries. users per second: 3515.89"
            ]
          },
          "metadata": {
            "tags": []
          }
        },
        {
          "output_type": "display_data",
          "data": {
            "text/html": [
              "<pre>recommendations finished on 70000/100836 queries. users per second: 3493.62</pre>"
            ],
            "text/plain": [
              "recommendations finished on 70000/100836 queries. users per second: 3493.62"
            ]
          },
          "metadata": {
            "tags": []
          }
        },
        {
          "output_type": "display_data",
          "data": {
            "text/html": [
              "<pre>recommendations finished on 71000/100836 queries. users per second: 3490.74</pre>"
            ],
            "text/plain": [
              "recommendations finished on 71000/100836 queries. users per second: 3490.74"
            ]
          },
          "metadata": {
            "tags": []
          }
        },
        {
          "output_type": "display_data",
          "data": {
            "text/html": [
              "<pre>recommendations finished on 72000/100836 queries. users per second: 3495.84</pre>"
            ],
            "text/plain": [
              "recommendations finished on 72000/100836 queries. users per second: 3495.84"
            ]
          },
          "metadata": {
            "tags": []
          }
        },
        {
          "output_type": "display_data",
          "data": {
            "text/html": [
              "<pre>recommendations finished on 73000/100836 queries. users per second: 3505.83</pre>"
            ],
            "text/plain": [
              "recommendations finished on 73000/100836 queries. users per second: 3505.83"
            ]
          },
          "metadata": {
            "tags": []
          }
        },
        {
          "output_type": "display_data",
          "data": {
            "text/html": [
              "<pre>recommendations finished on 74000/100836 queries. users per second: 3525.96</pre>"
            ],
            "text/plain": [
              "recommendations finished on 74000/100836 queries. users per second: 3525.96"
            ]
          },
          "metadata": {
            "tags": []
          }
        },
        {
          "output_type": "display_data",
          "data": {
            "text/html": [
              "<pre>recommendations finished on 75000/100836 queries. users per second: 3537.62</pre>"
            ],
            "text/plain": [
              "recommendations finished on 75000/100836 queries. users per second: 3537.62"
            ]
          },
          "metadata": {
            "tags": []
          }
        },
        {
          "output_type": "display_data",
          "data": {
            "text/html": [
              "<pre>recommendations finished on 76000/100836 queries. users per second: 3537.35</pre>"
            ],
            "text/plain": [
              "recommendations finished on 76000/100836 queries. users per second: 3537.35"
            ]
          },
          "metadata": {
            "tags": []
          }
        },
        {
          "output_type": "display_data",
          "data": {
            "text/html": [
              "<pre>recommendations finished on 77000/100836 queries. users per second: 3536.26</pre>"
            ],
            "text/plain": [
              "recommendations finished on 77000/100836 queries. users per second: 3536.26"
            ]
          },
          "metadata": {
            "tags": []
          }
        },
        {
          "output_type": "display_data",
          "data": {
            "text/html": [
              "<pre>recommendations finished on 78000/100836 queries. users per second: 3557.2</pre>"
            ],
            "text/plain": [
              "recommendations finished on 78000/100836 queries. users per second: 3557.2"
            ]
          },
          "metadata": {
            "tags": []
          }
        },
        {
          "output_type": "display_data",
          "data": {
            "text/html": [
              "<pre>recommendations finished on 79000/100836 queries. users per second: 3561.53</pre>"
            ],
            "text/plain": [
              "recommendations finished on 79000/100836 queries. users per second: 3561.53"
            ]
          },
          "metadata": {
            "tags": []
          }
        },
        {
          "output_type": "display_data",
          "data": {
            "text/html": [
              "<pre>recommendations finished on 80000/100836 queries. users per second: 3575.89</pre>"
            ],
            "text/plain": [
              "recommendations finished on 80000/100836 queries. users per second: 3575.89"
            ]
          },
          "metadata": {
            "tags": []
          }
        },
        {
          "output_type": "display_data",
          "data": {
            "text/html": [
              "<pre>recommendations finished on 81000/100836 queries. users per second: 3575.3</pre>"
            ],
            "text/plain": [
              "recommendations finished on 81000/100836 queries. users per second: 3575.3"
            ]
          },
          "metadata": {
            "tags": []
          }
        },
        {
          "output_type": "display_data",
          "data": {
            "text/html": [
              "<pre>recommendations finished on 82000/100836 queries. users per second: 3593.04</pre>"
            ],
            "text/plain": [
              "recommendations finished on 82000/100836 queries. users per second: 3593.04"
            ]
          },
          "metadata": {
            "tags": []
          }
        },
        {
          "output_type": "display_data",
          "data": {
            "text/html": [
              "<pre>recommendations finished on 83000/100836 queries. users per second: 3587.71</pre>"
            ],
            "text/plain": [
              "recommendations finished on 83000/100836 queries. users per second: 3587.71"
            ]
          },
          "metadata": {
            "tags": []
          }
        },
        {
          "output_type": "display_data",
          "data": {
            "text/html": [
              "<pre>recommendations finished on 84000/100836 queries. users per second: 3606.53</pre>"
            ],
            "text/plain": [
              "recommendations finished on 84000/100836 queries. users per second: 3606.53"
            ]
          },
          "metadata": {
            "tags": []
          }
        },
        {
          "output_type": "display_data",
          "data": {
            "text/html": [
              "<pre>recommendations finished on 85000/100836 queries. users per second: 3615.19</pre>"
            ],
            "text/plain": [
              "recommendations finished on 85000/100836 queries. users per second: 3615.19"
            ]
          },
          "metadata": {
            "tags": []
          }
        },
        {
          "output_type": "display_data",
          "data": {
            "text/html": [
              "<pre>recommendations finished on 86000/100836 queries. users per second: 3620.77</pre>"
            ],
            "text/plain": [
              "recommendations finished on 86000/100836 queries. users per second: 3620.77"
            ]
          },
          "metadata": {
            "tags": []
          }
        },
        {
          "output_type": "display_data",
          "data": {
            "text/html": [
              "<pre>recommendations finished on 87000/100836 queries. users per second: 3631.33</pre>"
            ],
            "text/plain": [
              "recommendations finished on 87000/100836 queries. users per second: 3631.33"
            ]
          },
          "metadata": {
            "tags": []
          }
        },
        {
          "output_type": "display_data",
          "data": {
            "text/html": [
              "<pre>recommendations finished on 88000/100836 queries. users per second: 3641.01</pre>"
            ],
            "text/plain": [
              "recommendations finished on 88000/100836 queries. users per second: 3641.01"
            ]
          },
          "metadata": {
            "tags": []
          }
        },
        {
          "output_type": "display_data",
          "data": {
            "text/html": [
              "<pre>recommendations finished on 89000/100836 queries. users per second: 3659.85</pre>"
            ],
            "text/plain": [
              "recommendations finished on 89000/100836 queries. users per second: 3659.85"
            ]
          },
          "metadata": {
            "tags": []
          }
        },
        {
          "output_type": "display_data",
          "data": {
            "text/html": [
              "<pre>recommendations finished on 90000/100836 queries. users per second: 3670.79</pre>"
            ],
            "text/plain": [
              "recommendations finished on 90000/100836 queries. users per second: 3670.79"
            ]
          },
          "metadata": {
            "tags": []
          }
        },
        {
          "output_type": "display_data",
          "data": {
            "text/html": [
              "<pre>recommendations finished on 91000/100836 queries. users per second: 3665.95</pre>"
            ],
            "text/plain": [
              "recommendations finished on 91000/100836 queries. users per second: 3665.95"
            ]
          },
          "metadata": {
            "tags": []
          }
        },
        {
          "output_type": "display_data",
          "data": {
            "text/html": [
              "<pre>recommendations finished on 92000/100836 queries. users per second: 3669.12</pre>"
            ],
            "text/plain": [
              "recommendations finished on 92000/100836 queries. users per second: 3669.12"
            ]
          },
          "metadata": {
            "tags": []
          }
        },
        {
          "output_type": "display_data",
          "data": {
            "text/html": [
              "<pre>recommendations finished on 93000/100836 queries. users per second: 3617.66</pre>"
            ],
            "text/plain": [
              "recommendations finished on 93000/100836 queries. users per second: 3617.66"
            ]
          },
          "metadata": {
            "tags": []
          }
        },
        {
          "output_type": "display_data",
          "data": {
            "text/html": [
              "<pre>recommendations finished on 94000/100836 queries. users per second: 3496.64</pre>"
            ],
            "text/plain": [
              "recommendations finished on 94000/100836 queries. users per second: 3496.64"
            ]
          },
          "metadata": {
            "tags": []
          }
        },
        {
          "output_type": "display_data",
          "data": {
            "text/html": [
              "<pre>recommendations finished on 95000/100836 queries. users per second: 3383.99</pre>"
            ],
            "text/plain": [
              "recommendations finished on 95000/100836 queries. users per second: 3383.99"
            ]
          },
          "metadata": {
            "tags": []
          }
        },
        {
          "output_type": "display_data",
          "data": {
            "text/html": [
              "<pre>recommendations finished on 96000/100836 queries. users per second: 3361.67</pre>"
            ],
            "text/plain": [
              "recommendations finished on 96000/100836 queries. users per second: 3361.67"
            ]
          },
          "metadata": {
            "tags": []
          }
        },
        {
          "output_type": "display_data",
          "data": {
            "text/html": [
              "<pre>recommendations finished on 97000/100836 queries. users per second: 3302.11</pre>"
            ],
            "text/plain": [
              "recommendations finished on 97000/100836 queries. users per second: 3302.11"
            ]
          },
          "metadata": {
            "tags": []
          }
        },
        {
          "output_type": "display_data",
          "data": {
            "text/html": [
              "<pre>recommendations finished on 98000/100836 queries. users per second: 3284.97</pre>"
            ],
            "text/plain": [
              "recommendations finished on 98000/100836 queries. users per second: 3284.97"
            ]
          },
          "metadata": {
            "tags": []
          }
        },
        {
          "output_type": "display_data",
          "data": {
            "text/html": [
              "<pre>recommendations finished on 99000/100836 queries. users per second: 3267.01</pre>"
            ],
            "text/plain": [
              "recommendations finished on 99000/100836 queries. users per second: 3267.01"
            ]
          },
          "metadata": {
            "tags": []
          }
        },
        {
          "output_type": "display_data",
          "data": {
            "text/html": [
              "<pre>recommendations finished on 100000/100836 queries. users per second: 3240.17</pre>"
            ],
            "text/plain": [
              "recommendations finished on 100000/100836 queries. users per second: 3240.17"
            ]
          },
          "metadata": {
            "tags": []
          }
        },
        {
          "output_type": "stream",
          "text": [
            "+---------+----------------+----------------------+------+\n",
            "| user_id | product_number |        score         | rank |\n",
            "+---------+----------------+----------------------+------+\n",
            "|    1    |      1580      | 0.10815036392466908  |  1   |\n",
            "|    1    |      1089      | 0.09216510357066272  |  2   |\n",
            "|    1    |      1291      | 0.08683964626036864  |  3   |\n",
            "|    1    |      1682      |  0.079601658856805   |  4   |\n",
            "|    1    |      1196      |  0.0795139523750958  |  5   |\n",
            "|    1    |      1036      |  0.0758779313475053  |  6   |\n",
            "|    1    |      1527      | 0.07452901671914493  |  7   |\n",
            "|    1    |      2762      | 0.07225314117370442  |  8   |\n",
            "|    1    |      2918      | 0.07213117732083733  |  9   |\n",
            "|    1    |      1265      | 0.059398401867259636 |  10  |\n",
            "+---------+----------------+----------------------+------+\n",
            "[1008360 rows x 4 columns]\n",
            "\n"
          ],
          "name": "stdout"
        }
      ]
    },
    {
      "cell_type": "code",
      "metadata": {
        "id": "5bYkzo5Do9fq",
        "colab": {
          "base_uri": "https://localhost:8080/",
          "height": 1000
        },
        "outputId": "58e193c4-bbd2-4212-da51-3bfc941c8d8b"
      },
      "source": [
        "name = 'pearson'\r\n",
        "target = 'summation_distance_Purchasecount'\r\n",
        "pear = model(train_data, name, user_id, item_id, target, users_to_recommend, n_rec, n_display)"
      ],
      "execution_count": 101,
      "outputs": [
        {
          "output_type": "display_data",
          "data": {
            "text/html": [
              "<pre>Preparing data set.</pre>"
            ],
            "text/plain": [
              "Preparing data set."
            ]
          },
          "metadata": {
            "tags": []
          }
        },
        {
          "output_type": "display_data",
          "data": {
            "text/html": [
              "<pre>    Data has 80668 observations with 610 users and 8970 items.</pre>"
            ],
            "text/plain": [
              "    Data has 80668 observations with 610 users and 8970 items."
            ]
          },
          "metadata": {
            "tags": []
          }
        },
        {
          "output_type": "display_data",
          "data": {
            "text/html": [
              "<pre>    Data prepared in: 0.103352s</pre>"
            ],
            "text/plain": [
              "    Data prepared in: 0.103352s"
            ]
          },
          "metadata": {
            "tags": []
          }
        },
        {
          "output_type": "display_data",
          "data": {
            "text/html": [
              "<pre>Training model from provided data.</pre>"
            ],
            "text/plain": [
              "Training model from provided data."
            ]
          },
          "metadata": {
            "tags": []
          }
        },
        {
          "output_type": "display_data",
          "data": {
            "text/html": [
              "<pre>Gathering per-item and per-user statistics.</pre>"
            ],
            "text/plain": [
              "Gathering per-item and per-user statistics."
            ]
          },
          "metadata": {
            "tags": []
          }
        },
        {
          "output_type": "display_data",
          "data": {
            "text/html": [
              "<pre>+--------------------------------+------------+</pre>"
            ],
            "text/plain": [
              "+--------------------------------+------------+"
            ]
          },
          "metadata": {
            "tags": []
          }
        },
        {
          "output_type": "display_data",
          "data": {
            "text/html": [
              "<pre>| Elapsed Time (Item Statistics) | % Complete |</pre>"
            ],
            "text/plain": [
              "| Elapsed Time (Item Statistics) | % Complete |"
            ]
          },
          "metadata": {
            "tags": []
          }
        },
        {
          "output_type": "display_data",
          "data": {
            "text/html": [
              "<pre>+--------------------------------+------------+</pre>"
            ],
            "text/plain": [
              "+--------------------------------+------------+"
            ]
          },
          "metadata": {
            "tags": []
          }
        },
        {
          "output_type": "display_data",
          "data": {
            "text/html": [
              "<pre>| 9.278ms                        | 100        |</pre>"
            ],
            "text/plain": [
              "| 9.278ms                        | 100        |"
            ]
          },
          "metadata": {
            "tags": []
          }
        },
        {
          "output_type": "display_data",
          "data": {
            "text/html": [
              "<pre>+--------------------------------+------------+</pre>"
            ],
            "text/plain": [
              "+--------------------------------+------------+"
            ]
          },
          "metadata": {
            "tags": []
          }
        },
        {
          "output_type": "display_data",
          "data": {
            "text/html": [
              "<pre>Setting up lookup tables.</pre>"
            ],
            "text/plain": [
              "Setting up lookup tables."
            ]
          },
          "metadata": {
            "tags": []
          }
        },
        {
          "output_type": "display_data",
          "data": {
            "text/html": [
              "<pre>Processing data in one pass using dense lookup tables.</pre>"
            ],
            "text/plain": [
              "Processing data in one pass using dense lookup tables."
            ]
          },
          "metadata": {
            "tags": []
          }
        },
        {
          "output_type": "display_data",
          "data": {
            "text/html": [
              "<pre>+-------------------------------------+------------------+-----------------+</pre>"
            ],
            "text/plain": [
              "+-------------------------------------+------------------+-----------------+"
            ]
          },
          "metadata": {
            "tags": []
          }
        },
        {
          "output_type": "display_data",
          "data": {
            "text/html": [
              "<pre>| Elapsed Time (Constructing Lookups) | Total % Complete | Items Processed |</pre>"
            ],
            "text/plain": [
              "| Elapsed Time (Constructing Lookups) | Total % Complete | Items Processed |"
            ]
          },
          "metadata": {
            "tags": []
          }
        },
        {
          "output_type": "display_data",
          "data": {
            "text/html": [
              "<pre>+-------------------------------------+------------------+-----------------+</pre>"
            ],
            "text/plain": [
              "+-------------------------------------+------------------+-----------------+"
            ]
          },
          "metadata": {
            "tags": []
          }
        },
        {
          "output_type": "display_data",
          "data": {
            "text/html": [
              "<pre>| 92.715ms                            | 2.75             | 248             |</pre>"
            ],
            "text/plain": [
              "| 92.715ms                            | 2.75             | 248             |"
            ]
          },
          "metadata": {
            "tags": []
          }
        },
        {
          "output_type": "display_data",
          "data": {
            "text/html": [
              "<pre>| 2.07s                               | 100              | 8970            |</pre>"
            ],
            "text/plain": [
              "| 2.07s                               | 100              | 8970            |"
            ]
          },
          "metadata": {
            "tags": []
          }
        },
        {
          "output_type": "display_data",
          "data": {
            "text/html": [
              "<pre>+-------------------------------------+------------------+-----------------+</pre>"
            ],
            "text/plain": [
              "+-------------------------------------+------------------+-----------------+"
            ]
          },
          "metadata": {
            "tags": []
          }
        },
        {
          "output_type": "display_data",
          "data": {
            "text/html": [
              "<pre>Finalizing lookup tables.</pre>"
            ],
            "text/plain": [
              "Finalizing lookup tables."
            ]
          },
          "metadata": {
            "tags": []
          }
        },
        {
          "output_type": "display_data",
          "data": {
            "text/html": [
              "<pre>Generating candidate set for working with new users.</pre>"
            ],
            "text/plain": [
              "Generating candidate set for working with new users."
            ]
          },
          "metadata": {
            "tags": []
          }
        },
        {
          "output_type": "display_data",
          "data": {
            "text/html": [
              "<pre>Finished training in 2.11344s</pre>"
            ],
            "text/plain": [
              "Finished training in 2.11344s"
            ]
          },
          "metadata": {
            "tags": []
          }
        },
        {
          "output_type": "display_data",
          "data": {
            "text/html": [
              "<pre>recommendations finished on 1000/100836 queries. users per second: 5303.32</pre>"
            ],
            "text/plain": [
              "recommendations finished on 1000/100836 queries. users per second: 5303.32"
            ]
          },
          "metadata": {
            "tags": []
          }
        },
        {
          "output_type": "display_data",
          "data": {
            "text/html": [
              "<pre>recommendations finished on 2000/100836 queries. users per second: 4931.56</pre>"
            ],
            "text/plain": [
              "recommendations finished on 2000/100836 queries. users per second: 4931.56"
            ]
          },
          "metadata": {
            "tags": []
          }
        },
        {
          "output_type": "display_data",
          "data": {
            "text/html": [
              "<pre>recommendations finished on 3000/100836 queries. users per second: 5275.23</pre>"
            ],
            "text/plain": [
              "recommendations finished on 3000/100836 queries. users per second: 5275.23"
            ]
          },
          "metadata": {
            "tags": []
          }
        },
        {
          "output_type": "display_data",
          "data": {
            "text/html": [
              "<pre>recommendations finished on 4000/100836 queries. users per second: 4950.94</pre>"
            ],
            "text/plain": [
              "recommendations finished on 4000/100836 queries. users per second: 4950.94"
            ]
          },
          "metadata": {
            "tags": []
          }
        },
        {
          "output_type": "display_data",
          "data": {
            "text/html": [
              "<pre>recommendations finished on 5000/100836 queries. users per second: 4974.94</pre>"
            ],
            "text/plain": [
              "recommendations finished on 5000/100836 queries. users per second: 4974.94"
            ]
          },
          "metadata": {
            "tags": []
          }
        },
        {
          "output_type": "display_data",
          "data": {
            "text/html": [
              "<pre>recommendations finished on 6000/100836 queries. users per second: 4678.92</pre>"
            ],
            "text/plain": [
              "recommendations finished on 6000/100836 queries. users per second: 4678.92"
            ]
          },
          "metadata": {
            "tags": []
          }
        },
        {
          "output_type": "display_data",
          "data": {
            "text/html": [
              "<pre>recommendations finished on 7000/100836 queries. users per second: 4405.91</pre>"
            ],
            "text/plain": [
              "recommendations finished on 7000/100836 queries. users per second: 4405.91"
            ]
          },
          "metadata": {
            "tags": []
          }
        },
        {
          "output_type": "display_data",
          "data": {
            "text/html": [
              "<pre>recommendations finished on 8000/100836 queries. users per second: 4442.84</pre>"
            ],
            "text/plain": [
              "recommendations finished on 8000/100836 queries. users per second: 4442.84"
            ]
          },
          "metadata": {
            "tags": []
          }
        },
        {
          "output_type": "display_data",
          "data": {
            "text/html": [
              "<pre>recommendations finished on 9000/100836 queries. users per second: 4435.41</pre>"
            ],
            "text/plain": [
              "recommendations finished on 9000/100836 queries. users per second: 4435.41"
            ]
          },
          "metadata": {
            "tags": []
          }
        },
        {
          "output_type": "display_data",
          "data": {
            "text/html": [
              "<pre>recommendations finished on 10000/100836 queries. users per second: 4359.24</pre>"
            ],
            "text/plain": [
              "recommendations finished on 10000/100836 queries. users per second: 4359.24"
            ]
          },
          "metadata": {
            "tags": []
          }
        },
        {
          "output_type": "display_data",
          "data": {
            "text/html": [
              "<pre>recommendations finished on 11000/100836 queries. users per second: 4363.67</pre>"
            ],
            "text/plain": [
              "recommendations finished on 11000/100836 queries. users per second: 4363.67"
            ]
          },
          "metadata": {
            "tags": []
          }
        },
        {
          "output_type": "display_data",
          "data": {
            "text/html": [
              "<pre>recommendations finished on 12000/100836 queries. users per second: 4397.99</pre>"
            ],
            "text/plain": [
              "recommendations finished on 12000/100836 queries. users per second: 4397.99"
            ]
          },
          "metadata": {
            "tags": []
          }
        },
        {
          "output_type": "display_data",
          "data": {
            "text/html": [
              "<pre>recommendations finished on 13000/100836 queries. users per second: 4245.57</pre>"
            ],
            "text/plain": [
              "recommendations finished on 13000/100836 queries. users per second: 4245.57"
            ]
          },
          "metadata": {
            "tags": []
          }
        },
        {
          "output_type": "display_data",
          "data": {
            "text/html": [
              "<pre>recommendations finished on 14000/100836 queries. users per second: 4073.42</pre>"
            ],
            "text/plain": [
              "recommendations finished on 14000/100836 queries. users per second: 4073.42"
            ]
          },
          "metadata": {
            "tags": []
          }
        },
        {
          "output_type": "display_data",
          "data": {
            "text/html": [
              "<pre>recommendations finished on 15000/100836 queries. users per second: 3952.16</pre>"
            ],
            "text/plain": [
              "recommendations finished on 15000/100836 queries. users per second: 3952.16"
            ]
          },
          "metadata": {
            "tags": []
          }
        },
        {
          "output_type": "display_data",
          "data": {
            "text/html": [
              "<pre>recommendations finished on 16000/100836 queries. users per second: 3826.09</pre>"
            ],
            "text/plain": [
              "recommendations finished on 16000/100836 queries. users per second: 3826.09"
            ]
          },
          "metadata": {
            "tags": []
          }
        },
        {
          "output_type": "display_data",
          "data": {
            "text/html": [
              "<pre>recommendations finished on 17000/100836 queries. users per second: 3805.38</pre>"
            ],
            "text/plain": [
              "recommendations finished on 17000/100836 queries. users per second: 3805.38"
            ]
          },
          "metadata": {
            "tags": []
          }
        },
        {
          "output_type": "display_data",
          "data": {
            "text/html": [
              "<pre>recommendations finished on 18000/100836 queries. users per second: 3835.87</pre>"
            ],
            "text/plain": [
              "recommendations finished on 18000/100836 queries. users per second: 3835.87"
            ]
          },
          "metadata": {
            "tags": []
          }
        },
        {
          "output_type": "display_data",
          "data": {
            "text/html": [
              "<pre>recommendations finished on 19000/100836 queries. users per second: 3748.91</pre>"
            ],
            "text/plain": [
              "recommendations finished on 19000/100836 queries. users per second: 3748.91"
            ]
          },
          "metadata": {
            "tags": []
          }
        },
        {
          "output_type": "display_data",
          "data": {
            "text/html": [
              "<pre>recommendations finished on 20000/100836 queries. users per second: 3656.31</pre>"
            ],
            "text/plain": [
              "recommendations finished on 20000/100836 queries. users per second: 3656.31"
            ]
          },
          "metadata": {
            "tags": []
          }
        },
        {
          "output_type": "display_data",
          "data": {
            "text/html": [
              "<pre>recommendations finished on 21000/100836 queries. users per second: 3542.36</pre>"
            ],
            "text/plain": [
              "recommendations finished on 21000/100836 queries. users per second: 3542.36"
            ]
          },
          "metadata": {
            "tags": []
          }
        },
        {
          "output_type": "display_data",
          "data": {
            "text/html": [
              "<pre>recommendations finished on 22000/100836 queries. users per second: 3555.33</pre>"
            ],
            "text/plain": [
              "recommendations finished on 22000/100836 queries. users per second: 3555.33"
            ]
          },
          "metadata": {
            "tags": []
          }
        },
        {
          "output_type": "display_data",
          "data": {
            "text/html": [
              "<pre>recommendations finished on 23000/100836 queries. users per second: 3556.44</pre>"
            ],
            "text/plain": [
              "recommendations finished on 23000/100836 queries. users per second: 3556.44"
            ]
          },
          "metadata": {
            "tags": []
          }
        },
        {
          "output_type": "display_data",
          "data": {
            "text/html": [
              "<pre>recommendations finished on 24000/100836 queries. users per second: 3381.57</pre>"
            ],
            "text/plain": [
              "recommendations finished on 24000/100836 queries. users per second: 3381.57"
            ]
          },
          "metadata": {
            "tags": []
          }
        },
        {
          "output_type": "display_data",
          "data": {
            "text/html": [
              "<pre>recommendations finished on 25000/100836 queries. users per second: 3385.99</pre>"
            ],
            "text/plain": [
              "recommendations finished on 25000/100836 queries. users per second: 3385.99"
            ]
          },
          "metadata": {
            "tags": []
          }
        },
        {
          "output_type": "display_data",
          "data": {
            "text/html": [
              "<pre>recommendations finished on 26000/100836 queries. users per second: 3357.66</pre>"
            ],
            "text/plain": [
              "recommendations finished on 26000/100836 queries. users per second: 3357.66"
            ]
          },
          "metadata": {
            "tags": []
          }
        },
        {
          "output_type": "display_data",
          "data": {
            "text/html": [
              "<pre>recommendations finished on 27000/100836 queries. users per second: 3284.18</pre>"
            ],
            "text/plain": [
              "recommendations finished on 27000/100836 queries. users per second: 3284.18"
            ]
          },
          "metadata": {
            "tags": []
          }
        },
        {
          "output_type": "display_data",
          "data": {
            "text/html": [
              "<pre>recommendations finished on 28000/100836 queries. users per second: 3259.26</pre>"
            ],
            "text/plain": [
              "recommendations finished on 28000/100836 queries. users per second: 3259.26"
            ]
          },
          "metadata": {
            "tags": []
          }
        },
        {
          "output_type": "display_data",
          "data": {
            "text/html": [
              "<pre>recommendations finished on 29000/100836 queries. users per second: 3236.24</pre>"
            ],
            "text/plain": [
              "recommendations finished on 29000/100836 queries. users per second: 3236.24"
            ]
          },
          "metadata": {
            "tags": []
          }
        },
        {
          "output_type": "display_data",
          "data": {
            "text/html": [
              "<pre>recommendations finished on 30000/100836 queries. users per second: 3142.85</pre>"
            ],
            "text/plain": [
              "recommendations finished on 30000/100836 queries. users per second: 3142.85"
            ]
          },
          "metadata": {
            "tags": []
          }
        },
        {
          "output_type": "display_data",
          "data": {
            "text/html": [
              "<pre>recommendations finished on 31000/100836 queries. users per second: 3095.16</pre>"
            ],
            "text/plain": [
              "recommendations finished on 31000/100836 queries. users per second: 3095.16"
            ]
          },
          "metadata": {
            "tags": []
          }
        },
        {
          "output_type": "display_data",
          "data": {
            "text/html": [
              "<pre>recommendations finished on 32000/100836 queries. users per second: 3083.35</pre>"
            ],
            "text/plain": [
              "recommendations finished on 32000/100836 queries. users per second: 3083.35"
            ]
          },
          "metadata": {
            "tags": []
          }
        },
        {
          "output_type": "display_data",
          "data": {
            "text/html": [
              "<pre>recommendations finished on 33000/100836 queries. users per second: 3069.35</pre>"
            ],
            "text/plain": [
              "recommendations finished on 33000/100836 queries. users per second: 3069.35"
            ]
          },
          "metadata": {
            "tags": []
          }
        },
        {
          "output_type": "display_data",
          "data": {
            "text/html": [
              "<pre>recommendations finished on 34000/100836 queries. users per second: 3054.56</pre>"
            ],
            "text/plain": [
              "recommendations finished on 34000/100836 queries. users per second: 3054.56"
            ]
          },
          "metadata": {
            "tags": []
          }
        },
        {
          "output_type": "display_data",
          "data": {
            "text/html": [
              "<pre>recommendations finished on 35000/100836 queries. users per second: 3047.18</pre>"
            ],
            "text/plain": [
              "recommendations finished on 35000/100836 queries. users per second: 3047.18"
            ]
          },
          "metadata": {
            "tags": []
          }
        },
        {
          "output_type": "display_data",
          "data": {
            "text/html": [
              "<pre>recommendations finished on 36000/100836 queries. users per second: 3000.48</pre>"
            ],
            "text/plain": [
              "recommendations finished on 36000/100836 queries. users per second: 3000.48"
            ]
          },
          "metadata": {
            "tags": []
          }
        },
        {
          "output_type": "display_data",
          "data": {
            "text/html": [
              "<pre>recommendations finished on 37000/100836 queries. users per second: 3007.79</pre>"
            ],
            "text/plain": [
              "recommendations finished on 37000/100836 queries. users per second: 3007.79"
            ]
          },
          "metadata": {
            "tags": []
          }
        },
        {
          "output_type": "display_data",
          "data": {
            "text/html": [
              "<pre>recommendations finished on 38000/100836 queries. users per second: 2980.63</pre>"
            ],
            "text/plain": [
              "recommendations finished on 38000/100836 queries. users per second: 2980.63"
            ]
          },
          "metadata": {
            "tags": []
          }
        },
        {
          "output_type": "display_data",
          "data": {
            "text/html": [
              "<pre>recommendations finished on 39000/100836 queries. users per second: 2982.1</pre>"
            ],
            "text/plain": [
              "recommendations finished on 39000/100836 queries. users per second: 2982.1"
            ]
          },
          "metadata": {
            "tags": []
          }
        },
        {
          "output_type": "display_data",
          "data": {
            "text/html": [
              "<pre>recommendations finished on 40000/100836 queries. users per second: 2983.32</pre>"
            ],
            "text/plain": [
              "recommendations finished on 40000/100836 queries. users per second: 2983.32"
            ]
          },
          "metadata": {
            "tags": []
          }
        },
        {
          "output_type": "display_data",
          "data": {
            "text/html": [
              "<pre>recommendations finished on 41000/100836 queries. users per second: 2997.35</pre>"
            ],
            "text/plain": [
              "recommendations finished on 41000/100836 queries. users per second: 2997.35"
            ]
          },
          "metadata": {
            "tags": []
          }
        },
        {
          "output_type": "display_data",
          "data": {
            "text/html": [
              "<pre>recommendations finished on 42000/100836 queries. users per second: 3002.41</pre>"
            ],
            "text/plain": [
              "recommendations finished on 42000/100836 queries. users per second: 3002.41"
            ]
          },
          "metadata": {
            "tags": []
          }
        },
        {
          "output_type": "display_data",
          "data": {
            "text/html": [
              "<pre>recommendations finished on 43000/100836 queries. users per second: 3022.82</pre>"
            ],
            "text/plain": [
              "recommendations finished on 43000/100836 queries. users per second: 3022.82"
            ]
          },
          "metadata": {
            "tags": []
          }
        },
        {
          "output_type": "display_data",
          "data": {
            "text/html": [
              "<pre>recommendations finished on 44000/100836 queries. users per second: 3010.46</pre>"
            ],
            "text/plain": [
              "recommendations finished on 44000/100836 queries. users per second: 3010.46"
            ]
          },
          "metadata": {
            "tags": []
          }
        },
        {
          "output_type": "display_data",
          "data": {
            "text/html": [
              "<pre>recommendations finished on 45000/100836 queries. users per second: 3012.8</pre>"
            ],
            "text/plain": [
              "recommendations finished on 45000/100836 queries. users per second: 3012.8"
            ]
          },
          "metadata": {
            "tags": []
          }
        },
        {
          "output_type": "display_data",
          "data": {
            "text/html": [
              "<pre>recommendations finished on 46000/100836 queries. users per second: 2982.82</pre>"
            ],
            "text/plain": [
              "recommendations finished on 46000/100836 queries. users per second: 2982.82"
            ]
          },
          "metadata": {
            "tags": []
          }
        },
        {
          "output_type": "display_data",
          "data": {
            "text/html": [
              "<pre>recommendations finished on 47000/100836 queries. users per second: 2988.41</pre>"
            ],
            "text/plain": [
              "recommendations finished on 47000/100836 queries. users per second: 2988.41"
            ]
          },
          "metadata": {
            "tags": []
          }
        },
        {
          "output_type": "display_data",
          "data": {
            "text/html": [
              "<pre>recommendations finished on 48000/100836 queries. users per second: 2980.52</pre>"
            ],
            "text/plain": [
              "recommendations finished on 48000/100836 queries. users per second: 2980.52"
            ]
          },
          "metadata": {
            "tags": []
          }
        },
        {
          "output_type": "display_data",
          "data": {
            "text/html": [
              "<pre>recommendations finished on 49000/100836 queries. users per second: 2967.66</pre>"
            ],
            "text/plain": [
              "recommendations finished on 49000/100836 queries. users per second: 2967.66"
            ]
          },
          "metadata": {
            "tags": []
          }
        },
        {
          "output_type": "display_data",
          "data": {
            "text/html": [
              "<pre>recommendations finished on 50000/100836 queries. users per second: 2977.29</pre>"
            ],
            "text/plain": [
              "recommendations finished on 50000/100836 queries. users per second: 2977.29"
            ]
          },
          "metadata": {
            "tags": []
          }
        },
        {
          "output_type": "display_data",
          "data": {
            "text/html": [
              "<pre>recommendations finished on 51000/100836 queries. users per second: 2950.91</pre>"
            ],
            "text/plain": [
              "recommendations finished on 51000/100836 queries. users per second: 2950.91"
            ]
          },
          "metadata": {
            "tags": []
          }
        },
        {
          "output_type": "display_data",
          "data": {
            "text/html": [
              "<pre>recommendations finished on 52000/100836 queries. users per second: 2914.6</pre>"
            ],
            "text/plain": [
              "recommendations finished on 52000/100836 queries. users per second: 2914.6"
            ]
          },
          "metadata": {
            "tags": []
          }
        },
        {
          "output_type": "display_data",
          "data": {
            "text/html": [
              "<pre>recommendations finished on 53000/100836 queries. users per second: 2926.27</pre>"
            ],
            "text/plain": [
              "recommendations finished on 53000/100836 queries. users per second: 2926.27"
            ]
          },
          "metadata": {
            "tags": []
          }
        },
        {
          "output_type": "display_data",
          "data": {
            "text/html": [
              "<pre>recommendations finished on 54000/100836 queries. users per second: 2950.98</pre>"
            ],
            "text/plain": [
              "recommendations finished on 54000/100836 queries. users per second: 2950.98"
            ]
          },
          "metadata": {
            "tags": []
          }
        },
        {
          "output_type": "display_data",
          "data": {
            "text/html": [
              "<pre>recommendations finished on 55000/100836 queries. users per second: 2960.53</pre>"
            ],
            "text/plain": [
              "recommendations finished on 55000/100836 queries. users per second: 2960.53"
            ]
          },
          "metadata": {
            "tags": []
          }
        },
        {
          "output_type": "display_data",
          "data": {
            "text/html": [
              "<pre>recommendations finished on 56000/100836 queries. users per second: 2983.26</pre>"
            ],
            "text/plain": [
              "recommendations finished on 56000/100836 queries. users per second: 2983.26"
            ]
          },
          "metadata": {
            "tags": []
          }
        },
        {
          "output_type": "display_data",
          "data": {
            "text/html": [
              "<pre>recommendations finished on 57000/100836 queries. users per second: 2977.73</pre>"
            ],
            "text/plain": [
              "recommendations finished on 57000/100836 queries. users per second: 2977.73"
            ]
          },
          "metadata": {
            "tags": []
          }
        },
        {
          "output_type": "display_data",
          "data": {
            "text/html": [
              "<pre>recommendations finished on 58000/100836 queries. users per second: 2946.4</pre>"
            ],
            "text/plain": [
              "recommendations finished on 58000/100836 queries. users per second: 2946.4"
            ]
          },
          "metadata": {
            "tags": []
          }
        },
        {
          "output_type": "display_data",
          "data": {
            "text/html": [
              "<pre>recommendations finished on 59000/100836 queries. users per second: 2899.23</pre>"
            ],
            "text/plain": [
              "recommendations finished on 59000/100836 queries. users per second: 2899.23"
            ]
          },
          "metadata": {
            "tags": []
          }
        },
        {
          "output_type": "display_data",
          "data": {
            "text/html": [
              "<pre>recommendations finished on 60000/100836 queries. users per second: 2817.72</pre>"
            ],
            "text/plain": [
              "recommendations finished on 60000/100836 queries. users per second: 2817.72"
            ]
          },
          "metadata": {
            "tags": []
          }
        },
        {
          "output_type": "display_data",
          "data": {
            "text/html": [
              "<pre>recommendations finished on 61000/100836 queries. users per second: 2690.8</pre>"
            ],
            "text/plain": [
              "recommendations finished on 61000/100836 queries. users per second: 2690.8"
            ]
          },
          "metadata": {
            "tags": []
          }
        },
        {
          "output_type": "display_data",
          "data": {
            "text/html": [
              "<pre>recommendations finished on 62000/100836 queries. users per second: 2640.03</pre>"
            ],
            "text/plain": [
              "recommendations finished on 62000/100836 queries. users per second: 2640.03"
            ]
          },
          "metadata": {
            "tags": []
          }
        },
        {
          "output_type": "display_data",
          "data": {
            "text/html": [
              "<pre>recommendations finished on 63000/100836 queries. users per second: 2607.63</pre>"
            ],
            "text/plain": [
              "recommendations finished on 63000/100836 queries. users per second: 2607.63"
            ]
          },
          "metadata": {
            "tags": []
          }
        },
        {
          "output_type": "display_data",
          "data": {
            "text/html": [
              "<pre>recommendations finished on 64000/100836 queries. users per second: 2536.98</pre>"
            ],
            "text/plain": [
              "recommendations finished on 64000/100836 queries. users per second: 2536.98"
            ]
          },
          "metadata": {
            "tags": []
          }
        },
        {
          "output_type": "display_data",
          "data": {
            "text/html": [
              "<pre>recommendations finished on 65000/100836 queries. users per second: 2443.21</pre>"
            ],
            "text/plain": [
              "recommendations finished on 65000/100836 queries. users per second: 2443.21"
            ]
          },
          "metadata": {
            "tags": []
          }
        },
        {
          "output_type": "display_data",
          "data": {
            "text/html": [
              "<pre>recommendations finished on 66000/100836 queries. users per second: 2405.51</pre>"
            ],
            "text/plain": [
              "recommendations finished on 66000/100836 queries. users per second: 2405.51"
            ]
          },
          "metadata": {
            "tags": []
          }
        },
        {
          "output_type": "display_data",
          "data": {
            "text/html": [
              "<pre>recommendations finished on 67000/100836 queries. users per second: 2357.19</pre>"
            ],
            "text/plain": [
              "recommendations finished on 67000/100836 queries. users per second: 2357.19"
            ]
          },
          "metadata": {
            "tags": []
          }
        },
        {
          "output_type": "display_data",
          "data": {
            "text/html": [
              "<pre>recommendations finished on 68000/100836 queries. users per second: 2346.23</pre>"
            ],
            "text/plain": [
              "recommendations finished on 68000/100836 queries. users per second: 2346.23"
            ]
          },
          "metadata": {
            "tags": []
          }
        },
        {
          "output_type": "display_data",
          "data": {
            "text/html": [
              "<pre>recommendations finished on 69000/100836 queries. users per second: 2344.82</pre>"
            ],
            "text/plain": [
              "recommendations finished on 69000/100836 queries. users per second: 2344.82"
            ]
          },
          "metadata": {
            "tags": []
          }
        },
        {
          "output_type": "display_data",
          "data": {
            "text/html": [
              "<pre>recommendations finished on 70000/100836 queries. users per second: 2303.32</pre>"
            ],
            "text/plain": [
              "recommendations finished on 70000/100836 queries. users per second: 2303.32"
            ]
          },
          "metadata": {
            "tags": []
          }
        },
        {
          "output_type": "display_data",
          "data": {
            "text/html": [
              "<pre>recommendations finished on 71000/100836 queries. users per second: 2283.58</pre>"
            ],
            "text/plain": [
              "recommendations finished on 71000/100836 queries. users per second: 2283.58"
            ]
          },
          "metadata": {
            "tags": []
          }
        },
        {
          "output_type": "display_data",
          "data": {
            "text/html": [
              "<pre>recommendations finished on 72000/100836 queries. users per second: 2254.65</pre>"
            ],
            "text/plain": [
              "recommendations finished on 72000/100836 queries. users per second: 2254.65"
            ]
          },
          "metadata": {
            "tags": []
          }
        },
        {
          "output_type": "display_data",
          "data": {
            "text/html": [
              "<pre>recommendations finished on 73000/100836 queries. users per second: 2256.82</pre>"
            ],
            "text/plain": [
              "recommendations finished on 73000/100836 queries. users per second: 2256.82"
            ]
          },
          "metadata": {
            "tags": []
          }
        },
        {
          "output_type": "display_data",
          "data": {
            "text/html": [
              "<pre>recommendations finished on 74000/100836 queries. users per second: 2254.9</pre>"
            ],
            "text/plain": [
              "recommendations finished on 74000/100836 queries. users per second: 2254.9"
            ]
          },
          "metadata": {
            "tags": []
          }
        },
        {
          "output_type": "display_data",
          "data": {
            "text/html": [
              "<pre>recommendations finished on 75000/100836 queries. users per second: 2247.31</pre>"
            ],
            "text/plain": [
              "recommendations finished on 75000/100836 queries. users per second: 2247.31"
            ]
          },
          "metadata": {
            "tags": []
          }
        },
        {
          "output_type": "display_data",
          "data": {
            "text/html": [
              "<pre>recommendations finished on 76000/100836 queries. users per second: 2239.82</pre>"
            ],
            "text/plain": [
              "recommendations finished on 76000/100836 queries. users per second: 2239.82"
            ]
          },
          "metadata": {
            "tags": []
          }
        },
        {
          "output_type": "display_data",
          "data": {
            "text/html": [
              "<pre>recommendations finished on 77000/100836 queries. users per second: 2232.2</pre>"
            ],
            "text/plain": [
              "recommendations finished on 77000/100836 queries. users per second: 2232.2"
            ]
          },
          "metadata": {
            "tags": []
          }
        },
        {
          "output_type": "display_data",
          "data": {
            "text/html": [
              "<pre>recommendations finished on 78000/100836 queries. users per second: 2216.29</pre>"
            ],
            "text/plain": [
              "recommendations finished on 78000/100836 queries. users per second: 2216.29"
            ]
          },
          "metadata": {
            "tags": []
          }
        },
        {
          "output_type": "display_data",
          "data": {
            "text/html": [
              "<pre>recommendations finished on 79000/100836 queries. users per second: 2223.2</pre>"
            ],
            "text/plain": [
              "recommendations finished on 79000/100836 queries. users per second: 2223.2"
            ]
          },
          "metadata": {
            "tags": []
          }
        },
        {
          "output_type": "display_data",
          "data": {
            "text/html": [
              "<pre>recommendations finished on 80000/100836 queries. users per second: 2237.71</pre>"
            ],
            "text/plain": [
              "recommendations finished on 80000/100836 queries. users per second: 2237.71"
            ]
          },
          "metadata": {
            "tags": []
          }
        },
        {
          "output_type": "display_data",
          "data": {
            "text/html": [
              "<pre>recommendations finished on 81000/100836 queries. users per second: 2252.21</pre>"
            ],
            "text/plain": [
              "recommendations finished on 81000/100836 queries. users per second: 2252.21"
            ]
          },
          "metadata": {
            "tags": []
          }
        },
        {
          "output_type": "display_data",
          "data": {
            "text/html": [
              "<pre>recommendations finished on 82000/100836 queries. users per second: 2260.02</pre>"
            ],
            "text/plain": [
              "recommendations finished on 82000/100836 queries. users per second: 2260.02"
            ]
          },
          "metadata": {
            "tags": []
          }
        },
        {
          "output_type": "display_data",
          "data": {
            "text/html": [
              "<pre>recommendations finished on 83000/100836 queries. users per second: 2265.46</pre>"
            ],
            "text/plain": [
              "recommendations finished on 83000/100836 queries. users per second: 2265.46"
            ]
          },
          "metadata": {
            "tags": []
          }
        },
        {
          "output_type": "display_data",
          "data": {
            "text/html": [
              "<pre>recommendations finished on 84000/100836 queries. users per second: 2268.17</pre>"
            ],
            "text/plain": [
              "recommendations finished on 84000/100836 queries. users per second: 2268.17"
            ]
          },
          "metadata": {
            "tags": []
          }
        },
        {
          "output_type": "display_data",
          "data": {
            "text/html": [
              "<pre>recommendations finished on 85000/100836 queries. users per second: 2277.43</pre>"
            ],
            "text/plain": [
              "recommendations finished on 85000/100836 queries. users per second: 2277.43"
            ]
          },
          "metadata": {
            "tags": []
          }
        },
        {
          "output_type": "display_data",
          "data": {
            "text/html": [
              "<pre>recommendations finished on 86000/100836 queries. users per second: 2290.16</pre>"
            ],
            "text/plain": [
              "recommendations finished on 86000/100836 queries. users per second: 2290.16"
            ]
          },
          "metadata": {
            "tags": []
          }
        },
        {
          "output_type": "display_data",
          "data": {
            "text/html": [
              "<pre>recommendations finished on 87000/100836 queries. users per second: 2303.94</pre>"
            ],
            "text/plain": [
              "recommendations finished on 87000/100836 queries. users per second: 2303.94"
            ]
          },
          "metadata": {
            "tags": []
          }
        },
        {
          "output_type": "display_data",
          "data": {
            "text/html": [
              "<pre>recommendations finished on 88000/100836 queries. users per second: 2317.5</pre>"
            ],
            "text/plain": [
              "recommendations finished on 88000/100836 queries. users per second: 2317.5"
            ]
          },
          "metadata": {
            "tags": []
          }
        },
        {
          "output_type": "display_data",
          "data": {
            "text/html": [
              "<pre>recommendations finished on 89000/100836 queries. users per second: 2324.7</pre>"
            ],
            "text/plain": [
              "recommendations finished on 89000/100836 queries. users per second: 2324.7"
            ]
          },
          "metadata": {
            "tags": []
          }
        },
        {
          "output_type": "display_data",
          "data": {
            "text/html": [
              "<pre>recommendations finished on 90000/100836 queries. users per second: 2332.08</pre>"
            ],
            "text/plain": [
              "recommendations finished on 90000/100836 queries. users per second: 2332.08"
            ]
          },
          "metadata": {
            "tags": []
          }
        },
        {
          "output_type": "display_data",
          "data": {
            "text/html": [
              "<pre>recommendations finished on 91000/100836 queries. users per second: 2338.65</pre>"
            ],
            "text/plain": [
              "recommendations finished on 91000/100836 queries. users per second: 2338.65"
            ]
          },
          "metadata": {
            "tags": []
          }
        },
        {
          "output_type": "display_data",
          "data": {
            "text/html": [
              "<pre>recommendations finished on 92000/100836 queries. users per second: 2342.28</pre>"
            ],
            "text/plain": [
              "recommendations finished on 92000/100836 queries. users per second: 2342.28"
            ]
          },
          "metadata": {
            "tags": []
          }
        },
        {
          "output_type": "display_data",
          "data": {
            "text/html": [
              "<pre>recommendations finished on 93000/100836 queries. users per second: 2314.06</pre>"
            ],
            "text/plain": [
              "recommendations finished on 93000/100836 queries. users per second: 2314.06"
            ]
          },
          "metadata": {
            "tags": []
          }
        },
        {
          "output_type": "display_data",
          "data": {
            "text/html": [
              "<pre>recommendations finished on 94000/100836 queries. users per second: 2243.98</pre>"
            ],
            "text/plain": [
              "recommendations finished on 94000/100836 queries. users per second: 2243.98"
            ]
          },
          "metadata": {
            "tags": []
          }
        },
        {
          "output_type": "display_data",
          "data": {
            "text/html": [
              "<pre>recommendations finished on 95000/100836 queries. users per second: 2178.17</pre>"
            ],
            "text/plain": [
              "recommendations finished on 95000/100836 queries. users per second: 2178.17"
            ]
          },
          "metadata": {
            "tags": []
          }
        },
        {
          "output_type": "display_data",
          "data": {
            "text/html": [
              "<pre>recommendations finished on 96000/100836 queries. users per second: 2165.59</pre>"
            ],
            "text/plain": [
              "recommendations finished on 96000/100836 queries. users per second: 2165.59"
            ]
          },
          "metadata": {
            "tags": []
          }
        },
        {
          "output_type": "display_data",
          "data": {
            "text/html": [
              "<pre>recommendations finished on 97000/100836 queries. users per second: 2153.31</pre>"
            ],
            "text/plain": [
              "recommendations finished on 97000/100836 queries. users per second: 2153.31"
            ]
          },
          "metadata": {
            "tags": []
          }
        },
        {
          "output_type": "display_data",
          "data": {
            "text/html": [
              "<pre>recommendations finished on 98000/100836 queries. users per second: 2145.2</pre>"
            ],
            "text/plain": [
              "recommendations finished on 98000/100836 queries. users per second: 2145.2"
            ]
          },
          "metadata": {
            "tags": []
          }
        },
        {
          "output_type": "display_data",
          "data": {
            "text/html": [
              "<pre>recommendations finished on 99000/100836 queries. users per second: 2135.28</pre>"
            ],
            "text/plain": [
              "recommendations finished on 99000/100836 queries. users per second: 2135.28"
            ]
          },
          "metadata": {
            "tags": []
          }
        },
        {
          "output_type": "display_data",
          "data": {
            "text/html": [
              "<pre>recommendations finished on 100000/100836 queries. users per second: 2115.15</pre>"
            ],
            "text/plain": [
              "recommendations finished on 100000/100836 queries. users per second: 2115.15"
            ]
          },
          "metadata": {
            "tags": []
          }
        },
        {
          "output_type": "stream",
          "text": [
            "+---------+----------------+-------+------+\n",
            "| user_id | product_number | score | rank |\n",
            "+---------+----------------+-------+------+\n",
            "|    1    |      3473      |  5.0  |  1   |\n",
            "|    1    |      2196      |  5.0  |  2   |\n",
            "|    1    |     146684     |  5.0  |  3   |\n",
            "|    1    |     136355     |  5.0  |  4   |\n",
            "|    1    |     97866      |  5.0  |  5   |\n",
            "|    1    |      3531      |  5.0  |  6   |\n",
            "|    1    |     31522      |  5.0  |  7   |\n",
            "|    1    |     170597     |  5.0  |  8   |\n",
            "|    1    |     50851      |  5.0  |  9   |\n",
            "|    1    |     27751      |  5.0  |  10  |\n",
            "+---------+----------------+-------+------+\n",
            "[1008360 rows x 4 columns]\n",
            "\n"
          ],
          "name": "stdout"
        }
      ]
    },
    {
      "cell_type": "code",
      "metadata": {
        "id": "H3dfuv8io_vi",
        "colab": {
          "base_uri": "https://localhost:8080/",
          "height": 1000
        },
        "outputId": "91f34737-1824-44d2-af65-1f1471886ebd"
      },
      "source": [
        "name = 'pearson'\r\n",
        "target = 'purchase_dummy'\r\n",
        "pear_dummy = model(train_data_dummy, name, user_id, item_id, target, users_to_recommend, n_rec, n_display)"
      ],
      "execution_count": 102,
      "outputs": [
        {
          "output_type": "display_data",
          "data": {
            "text/html": [
              "<pre>Warning: Ignoring columns summation_distance_Purchasecount;</pre>"
            ],
            "text/plain": [
              "Warning: Ignoring columns summation_distance_Purchasecount;"
            ]
          },
          "metadata": {
            "tags": []
          }
        },
        {
          "output_type": "display_data",
          "data": {
            "text/html": [
              "<pre>    To use these columns in scoring predictions, use a model that allows the use of additional features.</pre>"
            ],
            "text/plain": [
              "    To use these columns in scoring predictions, use a model that allows the use of additional features."
            ]
          },
          "metadata": {
            "tags": []
          }
        },
        {
          "output_type": "display_data",
          "data": {
            "text/html": [
              "<pre>Preparing data set.</pre>"
            ],
            "text/plain": [
              "Preparing data set."
            ]
          },
          "metadata": {
            "tags": []
          }
        },
        {
          "output_type": "display_data",
          "data": {
            "text/html": [
              "<pre>    Data has 80668 observations with 610 users and 9001 items.</pre>"
            ],
            "text/plain": [
              "    Data has 80668 observations with 610 users and 9001 items."
            ]
          },
          "metadata": {
            "tags": []
          }
        },
        {
          "output_type": "display_data",
          "data": {
            "text/html": [
              "<pre>    Data prepared in: 0.129998s</pre>"
            ],
            "text/plain": [
              "    Data prepared in: 0.129998s"
            ]
          },
          "metadata": {
            "tags": []
          }
        },
        {
          "output_type": "display_data",
          "data": {
            "text/html": [
              "<pre>Training model from provided data.</pre>"
            ],
            "text/plain": [
              "Training model from provided data."
            ]
          },
          "metadata": {
            "tags": []
          }
        },
        {
          "output_type": "display_data",
          "data": {
            "text/html": [
              "<pre>Gathering per-item and per-user statistics.</pre>"
            ],
            "text/plain": [
              "Gathering per-item and per-user statistics."
            ]
          },
          "metadata": {
            "tags": []
          }
        },
        {
          "output_type": "display_data",
          "data": {
            "text/html": [
              "<pre>+--------------------------------+------------+</pre>"
            ],
            "text/plain": [
              "+--------------------------------+------------+"
            ]
          },
          "metadata": {
            "tags": []
          }
        },
        {
          "output_type": "display_data",
          "data": {
            "text/html": [
              "<pre>| Elapsed Time (Item Statistics) | % Complete |</pre>"
            ],
            "text/plain": [
              "| Elapsed Time (Item Statistics) | % Complete |"
            ]
          },
          "metadata": {
            "tags": []
          }
        },
        {
          "output_type": "display_data",
          "data": {
            "text/html": [
              "<pre>+--------------------------------+------------+</pre>"
            ],
            "text/plain": [
              "+--------------------------------+------------+"
            ]
          },
          "metadata": {
            "tags": []
          }
        },
        {
          "output_type": "display_data",
          "data": {
            "text/html": [
              "<pre>| 8.94ms                         | 100        |</pre>"
            ],
            "text/plain": [
              "| 8.94ms                         | 100        |"
            ]
          },
          "metadata": {
            "tags": []
          }
        },
        {
          "output_type": "display_data",
          "data": {
            "text/html": [
              "<pre>+--------------------------------+------------+</pre>"
            ],
            "text/plain": [
              "+--------------------------------+------------+"
            ]
          },
          "metadata": {
            "tags": []
          }
        },
        {
          "output_type": "display_data",
          "data": {
            "text/html": [
              "<pre>Setting up lookup tables.</pre>"
            ],
            "text/plain": [
              "Setting up lookup tables."
            ]
          },
          "metadata": {
            "tags": []
          }
        },
        {
          "output_type": "display_data",
          "data": {
            "text/html": [
              "<pre>Processing data in one pass using dense lookup tables.</pre>"
            ],
            "text/plain": [
              "Processing data in one pass using dense lookup tables."
            ]
          },
          "metadata": {
            "tags": []
          }
        },
        {
          "output_type": "display_data",
          "data": {
            "text/html": [
              "<pre>+-------------------------------------+------------------+-----------------+</pre>"
            ],
            "text/plain": [
              "+-------------------------------------+------------------+-----------------+"
            ]
          },
          "metadata": {
            "tags": []
          }
        },
        {
          "output_type": "display_data",
          "data": {
            "text/html": [
              "<pre>| Elapsed Time (Constructing Lookups) | Total % Complete | Items Processed |</pre>"
            ],
            "text/plain": [
              "| Elapsed Time (Constructing Lookups) | Total % Complete | Items Processed |"
            ]
          },
          "metadata": {
            "tags": []
          }
        },
        {
          "output_type": "display_data",
          "data": {
            "text/html": [
              "<pre>+-------------------------------------+------------------+-----------------+</pre>"
            ],
            "text/plain": [
              "+-------------------------------------+------------------+-----------------+"
            ]
          },
          "metadata": {
            "tags": []
          }
        },
        {
          "output_type": "display_data",
          "data": {
            "text/html": [
              "<pre>| 105.969ms                           | 0                | 6               |</pre>"
            ],
            "text/plain": [
              "| 105.969ms                           | 0                | 6               |"
            ]
          },
          "metadata": {
            "tags": []
          }
        },
        {
          "output_type": "display_data",
          "data": {
            "text/html": [
              "<pre>| 1.71s                               | 100              | 9001            |</pre>"
            ],
            "text/plain": [
              "| 1.71s                               | 100              | 9001            |"
            ]
          },
          "metadata": {
            "tags": []
          }
        },
        {
          "output_type": "display_data",
          "data": {
            "text/html": [
              "<pre>+-------------------------------------+------------------+-----------------+</pre>"
            ],
            "text/plain": [
              "+-------------------------------------+------------------+-----------------+"
            ]
          },
          "metadata": {
            "tags": []
          }
        },
        {
          "output_type": "display_data",
          "data": {
            "text/html": [
              "<pre>Finalizing lookup tables.</pre>"
            ],
            "text/plain": [
              "Finalizing lookup tables."
            ]
          },
          "metadata": {
            "tags": []
          }
        },
        {
          "output_type": "display_data",
          "data": {
            "text/html": [
              "<pre>Generating candidate set for working with new users.</pre>"
            ],
            "text/plain": [
              "Generating candidate set for working with new users."
            ]
          },
          "metadata": {
            "tags": []
          }
        },
        {
          "output_type": "display_data",
          "data": {
            "text/html": [
              "<pre>Finished training in 1.74569s</pre>"
            ],
            "text/plain": [
              "Finished training in 1.74569s"
            ]
          },
          "metadata": {
            "tags": []
          }
        },
        {
          "output_type": "display_data",
          "data": {
            "text/html": [
              "<pre>recommendations finished on 1000/100836 queries. users per second: 6885.25</pre>"
            ],
            "text/plain": [
              "recommendations finished on 1000/100836 queries. users per second: 6885.25"
            ]
          },
          "metadata": {
            "tags": []
          }
        },
        {
          "output_type": "display_data",
          "data": {
            "text/html": [
              "<pre>recommendations finished on 2000/100836 queries. users per second: 6791.93</pre>"
            ],
            "text/plain": [
              "recommendations finished on 2000/100836 queries. users per second: 6791.93"
            ]
          },
          "metadata": {
            "tags": []
          }
        },
        {
          "output_type": "display_data",
          "data": {
            "text/html": [
              "<pre>recommendations finished on 3000/100836 queries. users per second: 6586.63</pre>"
            ],
            "text/plain": [
              "recommendations finished on 3000/100836 queries. users per second: 6586.63"
            ]
          },
          "metadata": {
            "tags": []
          }
        },
        {
          "output_type": "display_data",
          "data": {
            "text/html": [
              "<pre>recommendations finished on 4000/100836 queries. users per second: 6459.21</pre>"
            ],
            "text/plain": [
              "recommendations finished on 4000/100836 queries. users per second: 6459.21"
            ]
          },
          "metadata": {
            "tags": []
          }
        },
        {
          "output_type": "display_data",
          "data": {
            "text/html": [
              "<pre>recommendations finished on 5000/100836 queries. users per second: 6454.73</pre>"
            ],
            "text/plain": [
              "recommendations finished on 5000/100836 queries. users per second: 6454.73"
            ]
          },
          "metadata": {
            "tags": []
          }
        },
        {
          "output_type": "display_data",
          "data": {
            "text/html": [
              "<pre>recommendations finished on 6000/100836 queries. users per second: 6453.38</pre>"
            ],
            "text/plain": [
              "recommendations finished on 6000/100836 queries. users per second: 6453.38"
            ]
          },
          "metadata": {
            "tags": []
          }
        },
        {
          "output_type": "display_data",
          "data": {
            "text/html": [
              "<pre>recommendations finished on 7000/100836 queries. users per second: 6455.8</pre>"
            ],
            "text/plain": [
              "recommendations finished on 7000/100836 queries. users per second: 6455.8"
            ]
          },
          "metadata": {
            "tags": []
          }
        },
        {
          "output_type": "display_data",
          "data": {
            "text/html": [
              "<pre>recommendations finished on 8000/100836 queries. users per second: 6425.39</pre>"
            ],
            "text/plain": [
              "recommendations finished on 8000/100836 queries. users per second: 6425.39"
            ]
          },
          "metadata": {
            "tags": []
          }
        },
        {
          "output_type": "display_data",
          "data": {
            "text/html": [
              "<pre>recommendations finished on 9000/100836 queries. users per second: 6390.01</pre>"
            ],
            "text/plain": [
              "recommendations finished on 9000/100836 queries. users per second: 6390.01"
            ]
          },
          "metadata": {
            "tags": []
          }
        },
        {
          "output_type": "display_data",
          "data": {
            "text/html": [
              "<pre>recommendations finished on 10000/100836 queries. users per second: 6427.04</pre>"
            ],
            "text/plain": [
              "recommendations finished on 10000/100836 queries. users per second: 6427.04"
            ]
          },
          "metadata": {
            "tags": []
          }
        },
        {
          "output_type": "display_data",
          "data": {
            "text/html": [
              "<pre>recommendations finished on 11000/100836 queries. users per second: 6430.64</pre>"
            ],
            "text/plain": [
              "recommendations finished on 11000/100836 queries. users per second: 6430.64"
            ]
          },
          "metadata": {
            "tags": []
          }
        },
        {
          "output_type": "display_data",
          "data": {
            "text/html": [
              "<pre>recommendations finished on 12000/100836 queries. users per second: 6436.26</pre>"
            ],
            "text/plain": [
              "recommendations finished on 12000/100836 queries. users per second: 6436.26"
            ]
          },
          "metadata": {
            "tags": []
          }
        },
        {
          "output_type": "display_data",
          "data": {
            "text/html": [
              "<pre>recommendations finished on 13000/100836 queries. users per second: 6440.67</pre>"
            ],
            "text/plain": [
              "recommendations finished on 13000/100836 queries. users per second: 6440.67"
            ]
          },
          "metadata": {
            "tags": []
          }
        },
        {
          "output_type": "display_data",
          "data": {
            "text/html": [
              "<pre>recommendations finished on 14000/100836 queries. users per second: 6446.68</pre>"
            ],
            "text/plain": [
              "recommendations finished on 14000/100836 queries. users per second: 6446.68"
            ]
          },
          "metadata": {
            "tags": []
          }
        },
        {
          "output_type": "display_data",
          "data": {
            "text/html": [
              "<pre>recommendations finished on 15000/100836 queries. users per second: 6434.56</pre>"
            ],
            "text/plain": [
              "recommendations finished on 15000/100836 queries. users per second: 6434.56"
            ]
          },
          "metadata": {
            "tags": []
          }
        },
        {
          "output_type": "display_data",
          "data": {
            "text/html": [
              "<pre>recommendations finished on 16000/100836 queries. users per second: 6414.42</pre>"
            ],
            "text/plain": [
              "recommendations finished on 16000/100836 queries. users per second: 6414.42"
            ]
          },
          "metadata": {
            "tags": []
          }
        },
        {
          "output_type": "display_data",
          "data": {
            "text/html": [
              "<pre>recommendations finished on 17000/100836 queries. users per second: 6411.83</pre>"
            ],
            "text/plain": [
              "recommendations finished on 17000/100836 queries. users per second: 6411.83"
            ]
          },
          "metadata": {
            "tags": []
          }
        },
        {
          "output_type": "display_data",
          "data": {
            "text/html": [
              "<pre>recommendations finished on 18000/100836 queries. users per second: 6411.07</pre>"
            ],
            "text/plain": [
              "recommendations finished on 18000/100836 queries. users per second: 6411.07"
            ]
          },
          "metadata": {
            "tags": []
          }
        },
        {
          "output_type": "display_data",
          "data": {
            "text/html": [
              "<pre>recommendations finished on 19000/100836 queries. users per second: 6406.67</pre>"
            ],
            "text/plain": [
              "recommendations finished on 19000/100836 queries. users per second: 6406.67"
            ]
          },
          "metadata": {
            "tags": []
          }
        },
        {
          "output_type": "display_data",
          "data": {
            "text/html": [
              "<pre>recommendations finished on 20000/100836 queries. users per second: 6403.12</pre>"
            ],
            "text/plain": [
              "recommendations finished on 20000/100836 queries. users per second: 6403.12"
            ]
          },
          "metadata": {
            "tags": []
          }
        },
        {
          "output_type": "display_data",
          "data": {
            "text/html": [
              "<pre>recommendations finished on 21000/100836 queries. users per second: 6400.54</pre>"
            ],
            "text/plain": [
              "recommendations finished on 21000/100836 queries. users per second: 6400.54"
            ]
          },
          "metadata": {
            "tags": []
          }
        },
        {
          "output_type": "display_data",
          "data": {
            "text/html": [
              "<pre>recommendations finished on 22000/100836 queries. users per second: 6379.5</pre>"
            ],
            "text/plain": [
              "recommendations finished on 22000/100836 queries. users per second: 6379.5"
            ]
          },
          "metadata": {
            "tags": []
          }
        },
        {
          "output_type": "display_data",
          "data": {
            "text/html": [
              "<pre>recommendations finished on 23000/100836 queries. users per second: 6390.69</pre>"
            ],
            "text/plain": [
              "recommendations finished on 23000/100836 queries. users per second: 6390.69"
            ]
          },
          "metadata": {
            "tags": []
          }
        },
        {
          "output_type": "display_data",
          "data": {
            "text/html": [
              "<pre>recommendations finished on 24000/100836 queries. users per second: 6396.71</pre>"
            ],
            "text/plain": [
              "recommendations finished on 24000/100836 queries. users per second: 6396.71"
            ]
          },
          "metadata": {
            "tags": []
          }
        },
        {
          "output_type": "display_data",
          "data": {
            "text/html": [
              "<pre>recommendations finished on 25000/100836 queries. users per second: 6396.71</pre>"
            ],
            "text/plain": [
              "recommendations finished on 25000/100836 queries. users per second: 6396.71"
            ]
          },
          "metadata": {
            "tags": []
          }
        },
        {
          "output_type": "display_data",
          "data": {
            "text/html": [
              "<pre>recommendations finished on 26000/100836 queries. users per second: 6396.06</pre>"
            ],
            "text/plain": [
              "recommendations finished on 26000/100836 queries. users per second: 6396.06"
            ]
          },
          "metadata": {
            "tags": []
          }
        },
        {
          "output_type": "display_data",
          "data": {
            "text/html": [
              "<pre>recommendations finished on 27000/100836 queries. users per second: 6397.6</pre>"
            ],
            "text/plain": [
              "recommendations finished on 27000/100836 queries. users per second: 6397.6"
            ]
          },
          "metadata": {
            "tags": []
          }
        },
        {
          "output_type": "display_data",
          "data": {
            "text/html": [
              "<pre>recommendations finished on 28000/100836 queries. users per second: 6376.67</pre>"
            ],
            "text/plain": [
              "recommendations finished on 28000/100836 queries. users per second: 6376.67"
            ]
          },
          "metadata": {
            "tags": []
          }
        },
        {
          "output_type": "display_data",
          "data": {
            "text/html": [
              "<pre>recommendations finished on 29000/100836 queries. users per second: 6297</pre>"
            ],
            "text/plain": [
              "recommendations finished on 29000/100836 queries. users per second: 6297"
            ]
          },
          "metadata": {
            "tags": []
          }
        },
        {
          "output_type": "display_data",
          "data": {
            "text/html": [
              "<pre>recommendations finished on 30000/100836 queries. users per second: 6267.79</pre>"
            ],
            "text/plain": [
              "recommendations finished on 30000/100836 queries. users per second: 6267.79"
            ]
          },
          "metadata": {
            "tags": []
          }
        },
        {
          "output_type": "display_data",
          "data": {
            "text/html": [
              "<pre>recommendations finished on 31000/100836 queries. users per second: 6274.22</pre>"
            ],
            "text/plain": [
              "recommendations finished on 31000/100836 queries. users per second: 6274.22"
            ]
          },
          "metadata": {
            "tags": []
          }
        },
        {
          "output_type": "display_data",
          "data": {
            "text/html": [
              "<pre>recommendations finished on 32000/100836 queries. users per second: 6279.72</pre>"
            ],
            "text/plain": [
              "recommendations finished on 32000/100836 queries. users per second: 6279.72"
            ]
          },
          "metadata": {
            "tags": []
          }
        },
        {
          "output_type": "display_data",
          "data": {
            "text/html": [
              "<pre>recommendations finished on 33000/100836 queries. users per second: 6282.58</pre>"
            ],
            "text/plain": [
              "recommendations finished on 33000/100836 queries. users per second: 6282.58"
            ]
          },
          "metadata": {
            "tags": []
          }
        },
        {
          "output_type": "display_data",
          "data": {
            "text/html": [
              "<pre>recommendations finished on 34000/100836 queries. users per second: 6288.5</pre>"
            ],
            "text/plain": [
              "recommendations finished on 34000/100836 queries. users per second: 6288.5"
            ]
          },
          "metadata": {
            "tags": []
          }
        },
        {
          "output_type": "display_data",
          "data": {
            "text/html": [
              "<pre>recommendations finished on 35000/100836 queries. users per second: 6279.82</pre>"
            ],
            "text/plain": [
              "recommendations finished on 35000/100836 queries. users per second: 6279.82"
            ]
          },
          "metadata": {
            "tags": []
          }
        },
        {
          "output_type": "display_data",
          "data": {
            "text/html": [
              "<pre>recommendations finished on 36000/100836 queries. users per second: 6290.08</pre>"
            ],
            "text/plain": [
              "recommendations finished on 36000/100836 queries. users per second: 6290.08"
            ]
          },
          "metadata": {
            "tags": []
          }
        },
        {
          "output_type": "display_data",
          "data": {
            "text/html": [
              "<pre>recommendations finished on 37000/100836 queries. users per second: 6288.38</pre>"
            ],
            "text/plain": [
              "recommendations finished on 37000/100836 queries. users per second: 6288.38"
            ]
          },
          "metadata": {
            "tags": []
          }
        },
        {
          "output_type": "display_data",
          "data": {
            "text/html": [
              "<pre>recommendations finished on 38000/100836 queries. users per second: 6296.38</pre>"
            ],
            "text/plain": [
              "recommendations finished on 38000/100836 queries. users per second: 6296.38"
            ]
          },
          "metadata": {
            "tags": []
          }
        },
        {
          "output_type": "display_data",
          "data": {
            "text/html": [
              "<pre>recommendations finished on 39000/100836 queries. users per second: 6301.4</pre>"
            ],
            "text/plain": [
              "recommendations finished on 39000/100836 queries. users per second: 6301.4"
            ]
          },
          "metadata": {
            "tags": []
          }
        },
        {
          "output_type": "display_data",
          "data": {
            "text/html": [
              "<pre>recommendations finished on 40000/100836 queries. users per second: 6305.22</pre>"
            ],
            "text/plain": [
              "recommendations finished on 40000/100836 queries. users per second: 6305.22"
            ]
          },
          "metadata": {
            "tags": []
          }
        },
        {
          "output_type": "display_data",
          "data": {
            "text/html": [
              "<pre>recommendations finished on 41000/100836 queries. users per second: 6303.2</pre>"
            ],
            "text/plain": [
              "recommendations finished on 41000/100836 queries. users per second: 6303.2"
            ]
          },
          "metadata": {
            "tags": []
          }
        },
        {
          "output_type": "display_data",
          "data": {
            "text/html": [
              "<pre>recommendations finished on 42000/100836 queries. users per second: 6306.05</pre>"
            ],
            "text/plain": [
              "recommendations finished on 42000/100836 queries. users per second: 6306.05"
            ]
          },
          "metadata": {
            "tags": []
          }
        },
        {
          "output_type": "display_data",
          "data": {
            "text/html": [
              "<pre>recommendations finished on 43000/100836 queries. users per second: 6311.34</pre>"
            ],
            "text/plain": [
              "recommendations finished on 43000/100836 queries. users per second: 6311.34"
            ]
          },
          "metadata": {
            "tags": []
          }
        },
        {
          "output_type": "display_data",
          "data": {
            "text/html": [
              "<pre>recommendations finished on 44000/100836 queries. users per second: 6313.44</pre>"
            ],
            "text/plain": [
              "recommendations finished on 44000/100836 queries. users per second: 6313.44"
            ]
          },
          "metadata": {
            "tags": []
          }
        },
        {
          "output_type": "display_data",
          "data": {
            "text/html": [
              "<pre>recommendations finished on 45000/100836 queries. users per second: 6317.57</pre>"
            ],
            "text/plain": [
              "recommendations finished on 45000/100836 queries. users per second: 6317.57"
            ]
          },
          "metadata": {
            "tags": []
          }
        },
        {
          "output_type": "display_data",
          "data": {
            "text/html": [
              "<pre>recommendations finished on 46000/100836 queries. users per second: 6197.82</pre>"
            ],
            "text/plain": [
              "recommendations finished on 46000/100836 queries. users per second: 6197.82"
            ]
          },
          "metadata": {
            "tags": []
          }
        },
        {
          "output_type": "display_data",
          "data": {
            "text/html": [
              "<pre>recommendations finished on 47000/100836 queries. users per second: 6105.86</pre>"
            ],
            "text/plain": [
              "recommendations finished on 47000/100836 queries. users per second: 6105.86"
            ]
          },
          "metadata": {
            "tags": []
          }
        },
        {
          "output_type": "display_data",
          "data": {
            "text/html": [
              "<pre>recommendations finished on 48000/100836 queries. users per second: 6031.11</pre>"
            ],
            "text/plain": [
              "recommendations finished on 48000/100836 queries. users per second: 6031.11"
            ]
          },
          "metadata": {
            "tags": []
          }
        },
        {
          "output_type": "display_data",
          "data": {
            "text/html": [
              "<pre>recommendations finished on 49000/100836 queries. users per second: 5971.36</pre>"
            ],
            "text/plain": [
              "recommendations finished on 49000/100836 queries. users per second: 5971.36"
            ]
          },
          "metadata": {
            "tags": []
          }
        },
        {
          "output_type": "display_data",
          "data": {
            "text/html": [
              "<pre>recommendations finished on 50000/100836 queries. users per second: 5890.45</pre>"
            ],
            "text/plain": [
              "recommendations finished on 50000/100836 queries. users per second: 5890.45"
            ]
          },
          "metadata": {
            "tags": []
          }
        },
        {
          "output_type": "display_data",
          "data": {
            "text/html": [
              "<pre>recommendations finished on 51000/100836 queries. users per second: 5827.11</pre>"
            ],
            "text/plain": [
              "recommendations finished on 51000/100836 queries. users per second: 5827.11"
            ]
          },
          "metadata": {
            "tags": []
          }
        },
        {
          "output_type": "display_data",
          "data": {
            "text/html": [
              "<pre>recommendations finished on 52000/100836 queries. users per second: 5774.05</pre>"
            ],
            "text/plain": [
              "recommendations finished on 52000/100836 queries. users per second: 5774.05"
            ]
          },
          "metadata": {
            "tags": []
          }
        },
        {
          "output_type": "display_data",
          "data": {
            "text/html": [
              "<pre>recommendations finished on 53000/100836 queries. users per second: 5687.9</pre>"
            ],
            "text/plain": [
              "recommendations finished on 53000/100836 queries. users per second: 5687.9"
            ]
          },
          "metadata": {
            "tags": []
          }
        },
        {
          "output_type": "display_data",
          "data": {
            "text/html": [
              "<pre>recommendations finished on 54000/100836 queries. users per second: 5568.67</pre>"
            ],
            "text/plain": [
              "recommendations finished on 54000/100836 queries. users per second: 5568.67"
            ]
          },
          "metadata": {
            "tags": []
          }
        },
        {
          "output_type": "display_data",
          "data": {
            "text/html": [
              "<pre>recommendations finished on 55000/100836 queries. users per second: 5536.39</pre>"
            ],
            "text/plain": [
              "recommendations finished on 55000/100836 queries. users per second: 5536.39"
            ]
          },
          "metadata": {
            "tags": []
          }
        },
        {
          "output_type": "display_data",
          "data": {
            "text/html": [
              "<pre>recommendations finished on 56000/100836 queries. users per second: 5547.47</pre>"
            ],
            "text/plain": [
              "recommendations finished on 56000/100836 queries. users per second: 5547.47"
            ]
          },
          "metadata": {
            "tags": []
          }
        },
        {
          "output_type": "display_data",
          "data": {
            "text/html": [
              "<pre>recommendations finished on 57000/100836 queries. users per second: 5559.91</pre>"
            ],
            "text/plain": [
              "recommendations finished on 57000/100836 queries. users per second: 5559.91"
            ]
          },
          "metadata": {
            "tags": []
          }
        },
        {
          "output_type": "display_data",
          "data": {
            "text/html": [
              "<pre>recommendations finished on 58000/100836 queries. users per second: 5569.84</pre>"
            ],
            "text/plain": [
              "recommendations finished on 58000/100836 queries. users per second: 5569.84"
            ]
          },
          "metadata": {
            "tags": []
          }
        },
        {
          "output_type": "display_data",
          "data": {
            "text/html": [
              "<pre>recommendations finished on 59000/100836 queries. users per second: 5574.85</pre>"
            ],
            "text/plain": [
              "recommendations finished on 59000/100836 queries. users per second: 5574.85"
            ]
          },
          "metadata": {
            "tags": []
          }
        },
        {
          "output_type": "display_data",
          "data": {
            "text/html": [
              "<pre>recommendations finished on 60000/100836 queries. users per second: 5587.03</pre>"
            ],
            "text/plain": [
              "recommendations finished on 60000/100836 queries. users per second: 5587.03"
            ]
          },
          "metadata": {
            "tags": []
          }
        },
        {
          "output_type": "display_data",
          "data": {
            "text/html": [
              "<pre>recommendations finished on 61000/100836 queries. users per second: 5596.15</pre>"
            ],
            "text/plain": [
              "recommendations finished on 61000/100836 queries. users per second: 5596.15"
            ]
          },
          "metadata": {
            "tags": []
          }
        },
        {
          "output_type": "display_data",
          "data": {
            "text/html": [
              "<pre>recommendations finished on 62000/100836 queries. users per second: 5605.75</pre>"
            ],
            "text/plain": [
              "recommendations finished on 62000/100836 queries. users per second: 5605.75"
            ]
          },
          "metadata": {
            "tags": []
          }
        },
        {
          "output_type": "display_data",
          "data": {
            "text/html": [
              "<pre>recommendations finished on 63000/100836 queries. users per second: 5612.01</pre>"
            ],
            "text/plain": [
              "recommendations finished on 63000/100836 queries. users per second: 5612.01"
            ]
          },
          "metadata": {
            "tags": []
          }
        },
        {
          "output_type": "display_data",
          "data": {
            "text/html": [
              "<pre>recommendations finished on 64000/100836 queries. users per second: 5622.99</pre>"
            ],
            "text/plain": [
              "recommendations finished on 64000/100836 queries. users per second: 5622.99"
            ]
          },
          "metadata": {
            "tags": []
          }
        },
        {
          "output_type": "display_data",
          "data": {
            "text/html": [
              "<pre>recommendations finished on 65000/100836 queries. users per second: 5634.57</pre>"
            ],
            "text/plain": [
              "recommendations finished on 65000/100836 queries. users per second: 5634.57"
            ]
          },
          "metadata": {
            "tags": []
          }
        },
        {
          "output_type": "display_data",
          "data": {
            "text/html": [
              "<pre>recommendations finished on 66000/100836 queries. users per second: 5639.61</pre>"
            ],
            "text/plain": [
              "recommendations finished on 66000/100836 queries. users per second: 5639.61"
            ]
          },
          "metadata": {
            "tags": []
          }
        },
        {
          "output_type": "display_data",
          "data": {
            "text/html": [
              "<pre>recommendations finished on 67000/100836 queries. users per second: 5649.41</pre>"
            ],
            "text/plain": [
              "recommendations finished on 67000/100836 queries. users per second: 5649.41"
            ]
          },
          "metadata": {
            "tags": []
          }
        },
        {
          "output_type": "display_data",
          "data": {
            "text/html": [
              "<pre>recommendations finished on 68000/100836 queries. users per second: 5658.36</pre>"
            ],
            "text/plain": [
              "recommendations finished on 68000/100836 queries. users per second: 5658.36"
            ]
          },
          "metadata": {
            "tags": []
          }
        },
        {
          "output_type": "display_data",
          "data": {
            "text/html": [
              "<pre>recommendations finished on 69000/100836 queries. users per second: 5647.58</pre>"
            ],
            "text/plain": [
              "recommendations finished on 69000/100836 queries. users per second: 5647.58"
            ]
          },
          "metadata": {
            "tags": []
          }
        },
        {
          "output_type": "display_data",
          "data": {
            "text/html": [
              "<pre>recommendations finished on 70000/100836 queries. users per second: 5654.6</pre>"
            ],
            "text/plain": [
              "recommendations finished on 70000/100836 queries. users per second: 5654.6"
            ]
          },
          "metadata": {
            "tags": []
          }
        },
        {
          "output_type": "display_data",
          "data": {
            "text/html": [
              "<pre>recommendations finished on 71000/100836 queries. users per second: 5663.33</pre>"
            ],
            "text/plain": [
              "recommendations finished on 71000/100836 queries. users per second: 5663.33"
            ]
          },
          "metadata": {
            "tags": []
          }
        },
        {
          "output_type": "display_data",
          "data": {
            "text/html": [
              "<pre>recommendations finished on 72000/100836 queries. users per second: 5669.68</pre>"
            ],
            "text/plain": [
              "recommendations finished on 72000/100836 queries. users per second: 5669.68"
            ]
          },
          "metadata": {
            "tags": []
          }
        },
        {
          "output_type": "display_data",
          "data": {
            "text/html": [
              "<pre>recommendations finished on 73000/100836 queries. users per second: 5676.8</pre>"
            ],
            "text/plain": [
              "recommendations finished on 73000/100836 queries. users per second: 5676.8"
            ]
          },
          "metadata": {
            "tags": []
          }
        },
        {
          "output_type": "display_data",
          "data": {
            "text/html": [
              "<pre>recommendations finished on 74000/100836 queries. users per second: 5686.69</pre>"
            ],
            "text/plain": [
              "recommendations finished on 74000/100836 queries. users per second: 5686.69"
            ]
          },
          "metadata": {
            "tags": []
          }
        },
        {
          "output_type": "display_data",
          "data": {
            "text/html": [
              "<pre>recommendations finished on 75000/100836 queries. users per second: 5694.68</pre>"
            ],
            "text/plain": [
              "recommendations finished on 75000/100836 queries. users per second: 5694.68"
            ]
          },
          "metadata": {
            "tags": []
          }
        },
        {
          "output_type": "display_data",
          "data": {
            "text/html": [
              "<pre>recommendations finished on 76000/100836 queries. users per second: 5701.66</pre>"
            ],
            "text/plain": [
              "recommendations finished on 76000/100836 queries. users per second: 5701.66"
            ]
          },
          "metadata": {
            "tags": []
          }
        },
        {
          "output_type": "display_data",
          "data": {
            "text/html": [
              "<pre>recommendations finished on 77000/100836 queries. users per second: 5709.61</pre>"
            ],
            "text/plain": [
              "recommendations finished on 77000/100836 queries. users per second: 5709.61"
            ]
          },
          "metadata": {
            "tags": []
          }
        },
        {
          "output_type": "display_data",
          "data": {
            "text/html": [
              "<pre>recommendations finished on 78000/100836 queries. users per second: 5714.44</pre>"
            ],
            "text/plain": [
              "recommendations finished on 78000/100836 queries. users per second: 5714.44"
            ]
          },
          "metadata": {
            "tags": []
          }
        },
        {
          "output_type": "display_data",
          "data": {
            "text/html": [
              "<pre>recommendations finished on 79000/100836 queries. users per second: 5723.13</pre>"
            ],
            "text/plain": [
              "recommendations finished on 79000/100836 queries. users per second: 5723.13"
            ]
          },
          "metadata": {
            "tags": []
          }
        },
        {
          "output_type": "display_data",
          "data": {
            "text/html": [
              "<pre>recommendations finished on 80000/100836 queries. users per second: 5730.53</pre>"
            ],
            "text/plain": [
              "recommendations finished on 80000/100836 queries. users per second: 5730.53"
            ]
          },
          "metadata": {
            "tags": []
          }
        },
        {
          "output_type": "display_data",
          "data": {
            "text/html": [
              "<pre>recommendations finished on 81000/100836 queries. users per second: 5738.75</pre>"
            ],
            "text/plain": [
              "recommendations finished on 81000/100836 queries. users per second: 5738.75"
            ]
          },
          "metadata": {
            "tags": []
          }
        },
        {
          "output_type": "display_data",
          "data": {
            "text/html": [
              "<pre>recommendations finished on 82000/100836 queries. users per second: 5743.77</pre>"
            ],
            "text/plain": [
              "recommendations finished on 82000/100836 queries. users per second: 5743.77"
            ]
          },
          "metadata": {
            "tags": []
          }
        },
        {
          "output_type": "display_data",
          "data": {
            "text/html": [
              "<pre>recommendations finished on 83000/100836 queries. users per second: 5738.86</pre>"
            ],
            "text/plain": [
              "recommendations finished on 83000/100836 queries. users per second: 5738.86"
            ]
          },
          "metadata": {
            "tags": []
          }
        },
        {
          "output_type": "display_data",
          "data": {
            "text/html": [
              "<pre>recommendations finished on 84000/100836 queries. users per second: 5746.47</pre>"
            ],
            "text/plain": [
              "recommendations finished on 84000/100836 queries. users per second: 5746.47"
            ]
          },
          "metadata": {
            "tags": []
          }
        },
        {
          "output_type": "display_data",
          "data": {
            "text/html": [
              "<pre>recommendations finished on 85000/100836 queries. users per second: 5749.8</pre>"
            ],
            "text/plain": [
              "recommendations finished on 85000/100836 queries. users per second: 5749.8"
            ]
          },
          "metadata": {
            "tags": []
          }
        },
        {
          "output_type": "display_data",
          "data": {
            "text/html": [
              "<pre>recommendations finished on 86000/100836 queries. users per second: 5756.55</pre>"
            ],
            "text/plain": [
              "recommendations finished on 86000/100836 queries. users per second: 5756.55"
            ]
          },
          "metadata": {
            "tags": []
          }
        },
        {
          "output_type": "display_data",
          "data": {
            "text/html": [
              "<pre>recommendations finished on 87000/100836 queries. users per second: 5764.75</pre>"
            ],
            "text/plain": [
              "recommendations finished on 87000/100836 queries. users per second: 5764.75"
            ]
          },
          "metadata": {
            "tags": []
          }
        },
        {
          "output_type": "display_data",
          "data": {
            "text/html": [
              "<pre>recommendations finished on 88000/100836 queries. users per second: 5770.68</pre>"
            ],
            "text/plain": [
              "recommendations finished on 88000/100836 queries. users per second: 5770.68"
            ]
          },
          "metadata": {
            "tags": []
          }
        },
        {
          "output_type": "display_data",
          "data": {
            "text/html": [
              "<pre>recommendations finished on 89000/100836 queries. users per second: 5773.47</pre>"
            ],
            "text/plain": [
              "recommendations finished on 89000/100836 queries. users per second: 5773.47"
            ]
          },
          "metadata": {
            "tags": []
          }
        },
        {
          "output_type": "display_data",
          "data": {
            "text/html": [
              "<pre>recommendations finished on 90000/100836 queries. users per second: 5777.79</pre>"
            ],
            "text/plain": [
              "recommendations finished on 90000/100836 queries. users per second: 5777.79"
            ]
          },
          "metadata": {
            "tags": []
          }
        },
        {
          "output_type": "display_data",
          "data": {
            "text/html": [
              "<pre>recommendations finished on 91000/100836 queries. users per second: 5780.62</pre>"
            ],
            "text/plain": [
              "recommendations finished on 91000/100836 queries. users per second: 5780.62"
            ]
          },
          "metadata": {
            "tags": []
          }
        },
        {
          "output_type": "display_data",
          "data": {
            "text/html": [
              "<pre>recommendations finished on 92000/100836 queries. users per second: 5787.84</pre>"
            ],
            "text/plain": [
              "recommendations finished on 92000/100836 queries. users per second: 5787.84"
            ]
          },
          "metadata": {
            "tags": []
          }
        },
        {
          "output_type": "display_data",
          "data": {
            "text/html": [
              "<pre>recommendations finished on 93000/100836 queries. users per second: 5794.01</pre>"
            ],
            "text/plain": [
              "recommendations finished on 93000/100836 queries. users per second: 5794.01"
            ]
          },
          "metadata": {
            "tags": []
          }
        },
        {
          "output_type": "display_data",
          "data": {
            "text/html": [
              "<pre>recommendations finished on 94000/100836 queries. users per second: 5799.49</pre>"
            ],
            "text/plain": [
              "recommendations finished on 94000/100836 queries. users per second: 5799.49"
            ]
          },
          "metadata": {
            "tags": []
          }
        },
        {
          "output_type": "display_data",
          "data": {
            "text/html": [
              "<pre>recommendations finished on 95000/100836 queries. users per second: 5800.71</pre>"
            ],
            "text/plain": [
              "recommendations finished on 95000/100836 queries. users per second: 5800.71"
            ]
          },
          "metadata": {
            "tags": []
          }
        },
        {
          "output_type": "display_data",
          "data": {
            "text/html": [
              "<pre>recommendations finished on 96000/100836 queries. users per second: 5807.36</pre>"
            ],
            "text/plain": [
              "recommendations finished on 96000/100836 queries. users per second: 5807.36"
            ]
          },
          "metadata": {
            "tags": []
          }
        },
        {
          "output_type": "display_data",
          "data": {
            "text/html": [
              "<pre>recommendations finished on 97000/100836 queries. users per second: 5805.12</pre>"
            ],
            "text/plain": [
              "recommendations finished on 97000/100836 queries. users per second: 5805.12"
            ]
          },
          "metadata": {
            "tags": []
          }
        },
        {
          "output_type": "display_data",
          "data": {
            "text/html": [
              "<pre>recommendations finished on 98000/100836 queries. users per second: 5802.79</pre>"
            ],
            "text/plain": [
              "recommendations finished on 98000/100836 queries. users per second: 5802.79"
            ]
          },
          "metadata": {
            "tags": []
          }
        },
        {
          "output_type": "display_data",
          "data": {
            "text/html": [
              "<pre>recommendations finished on 99000/100836 queries. users per second: 5801.87</pre>"
            ],
            "text/plain": [
              "recommendations finished on 99000/100836 queries. users per second: 5801.87"
            ]
          },
          "metadata": {
            "tags": []
          }
        },
        {
          "output_type": "display_data",
          "data": {
            "text/html": [
              "<pre>recommendations finished on 100000/100836 queries. users per second: 5801.2</pre>"
            ],
            "text/plain": [
              "recommendations finished on 100000/100836 queries. users per second: 5801.2"
            ]
          },
          "metadata": {
            "tags": []
          }
        },
        {
          "output_type": "stream",
          "text": [
            "+---------+----------------+-------+------+\n",
            "| user_id | product_number | score | rank |\n",
            "+---------+----------------+-------+------+\n",
            "|    1    |      2067      |  0.0  |  1   |\n",
            "|    1    |     39715      |  0.0  |  2   |\n",
            "|    1    |      1203      |  0.0  |  3   |\n",
            "|    1    |     92259      |  0.0  |  4   |\n",
            "|    1    |      292       |  0.0  |  5   |\n",
            "|    1    |      1963      |  0.0  |  6   |\n",
            "|    1    |     112852     |  0.0  |  7   |\n",
            "|    1    |     145150     |  0.0  |  8   |\n",
            "|    1    |      912       |  0.0  |  9   |\n",
            "|    1    |      3246      |  0.0  |  10  |\n",
            "+---------+----------------+-------+------+\n",
            "[1008360 rows x 4 columns]\n",
            "\n"
          ],
          "name": "stdout"
        }
      ]
    },
    {
      "cell_type": "code",
      "metadata": {
        "id": "pvhycW7YpB87",
        "colab": {
          "base_uri": "https://localhost:8080/",
          "height": 1000
        },
        "outputId": "b4e05456-31e0-47a9-94cb-be0e5d01f960"
      },
      "source": [
        "name = 'pearson'\r\n",
        "target = 'scaled_purchase_freq'\r\n",
        "pear_norm = model(train_data_norm, name, user_id, item_id, target, users_to_recommend, n_rec, n_display)"
      ],
      "execution_count": 103,
      "outputs": [
        {
          "output_type": "display_data",
          "data": {
            "text/html": [
              "<pre>Preparing data set.</pre>"
            ],
            "text/plain": [
              "Preparing data set."
            ]
          },
          "metadata": {
            "tags": []
          }
        },
        {
          "output_type": "display_data",
          "data": {
            "text/html": [
              "<pre>    Data has 77372 observations with 610 users and 5924 items.</pre>"
            ],
            "text/plain": [
              "    Data has 77372 observations with 610 users and 5924 items."
            ]
          },
          "metadata": {
            "tags": []
          }
        },
        {
          "output_type": "display_data",
          "data": {
            "text/html": [
              "<pre>    Data prepared in: 0.109083s</pre>"
            ],
            "text/plain": [
              "    Data prepared in: 0.109083s"
            ]
          },
          "metadata": {
            "tags": []
          }
        },
        {
          "output_type": "display_data",
          "data": {
            "text/html": [
              "<pre>Training model from provided data.</pre>"
            ],
            "text/plain": [
              "Training model from provided data."
            ]
          },
          "metadata": {
            "tags": []
          }
        },
        {
          "output_type": "display_data",
          "data": {
            "text/html": [
              "<pre>Gathering per-item and per-user statistics.</pre>"
            ],
            "text/plain": [
              "Gathering per-item and per-user statistics."
            ]
          },
          "metadata": {
            "tags": []
          }
        },
        {
          "output_type": "display_data",
          "data": {
            "text/html": [
              "<pre>+--------------------------------+------------+</pre>"
            ],
            "text/plain": [
              "+--------------------------------+------------+"
            ]
          },
          "metadata": {
            "tags": []
          }
        },
        {
          "output_type": "display_data",
          "data": {
            "text/html": [
              "<pre>| Elapsed Time (Item Statistics) | % Complete |</pre>"
            ],
            "text/plain": [
              "| Elapsed Time (Item Statistics) | % Complete |"
            ]
          },
          "metadata": {
            "tags": []
          }
        },
        {
          "output_type": "display_data",
          "data": {
            "text/html": [
              "<pre>+--------------------------------+------------+</pre>"
            ],
            "text/plain": [
              "+--------------------------------+------------+"
            ]
          },
          "metadata": {
            "tags": []
          }
        },
        {
          "output_type": "display_data",
          "data": {
            "text/html": [
              "<pre>| 20.003ms                       | 100        |</pre>"
            ],
            "text/plain": [
              "| 20.003ms                       | 100        |"
            ]
          },
          "metadata": {
            "tags": []
          }
        },
        {
          "output_type": "display_data",
          "data": {
            "text/html": [
              "<pre>+--------------------------------+------------+</pre>"
            ],
            "text/plain": [
              "+--------------------------------+------------+"
            ]
          },
          "metadata": {
            "tags": []
          }
        },
        {
          "output_type": "display_data",
          "data": {
            "text/html": [
              "<pre>Setting up lookup tables.</pre>"
            ],
            "text/plain": [
              "Setting up lookup tables."
            ]
          },
          "metadata": {
            "tags": []
          }
        },
        {
          "output_type": "display_data",
          "data": {
            "text/html": [
              "<pre>Processing data in one pass using dense lookup tables.</pre>"
            ],
            "text/plain": [
              "Processing data in one pass using dense lookup tables."
            ]
          },
          "metadata": {
            "tags": []
          }
        },
        {
          "output_type": "display_data",
          "data": {
            "text/html": [
              "<pre>+-------------------------------------+------------------+-----------------+</pre>"
            ],
            "text/plain": [
              "+-------------------------------------+------------------+-----------------+"
            ]
          },
          "metadata": {
            "tags": []
          }
        },
        {
          "output_type": "display_data",
          "data": {
            "text/html": [
              "<pre>| Elapsed Time (Constructing Lookups) | Total % Complete | Items Processed |</pre>"
            ],
            "text/plain": [
              "| Elapsed Time (Constructing Lookups) | Total % Complete | Items Processed |"
            ]
          },
          "metadata": {
            "tags": []
          }
        },
        {
          "output_type": "display_data",
          "data": {
            "text/html": [
              "<pre>+-------------------------------------+------------------+-----------------+</pre>"
            ],
            "text/plain": [
              "+-------------------------------------+------------------+-----------------+"
            ]
          },
          "metadata": {
            "tags": []
          }
        },
        {
          "output_type": "display_data",
          "data": {
            "text/html": [
              "<pre>| 79.725ms                            | 0                | 14              |</pre>"
            ],
            "text/plain": [
              "| 79.725ms                            | 0                | 14              |"
            ]
          },
          "metadata": {
            "tags": []
          }
        },
        {
          "output_type": "display_data",
          "data": {
            "text/html": [
              "<pre>| 1.42s                               | 100              | 5924            |</pre>"
            ],
            "text/plain": [
              "| 1.42s                               | 100              | 5924            |"
            ]
          },
          "metadata": {
            "tags": []
          }
        },
        {
          "output_type": "display_data",
          "data": {
            "text/html": [
              "<pre>+-------------------------------------+------------------+-----------------+</pre>"
            ],
            "text/plain": [
              "+-------------------------------------+------------------+-----------------+"
            ]
          },
          "metadata": {
            "tags": []
          }
        },
        {
          "output_type": "display_data",
          "data": {
            "text/html": [
              "<pre>Finalizing lookup tables.</pre>"
            ],
            "text/plain": [
              "Finalizing lookup tables."
            ]
          },
          "metadata": {
            "tags": []
          }
        },
        {
          "output_type": "display_data",
          "data": {
            "text/html": [
              "<pre>Generating candidate set for working with new users.</pre>"
            ],
            "text/plain": [
              "Generating candidate set for working with new users."
            ]
          },
          "metadata": {
            "tags": []
          }
        },
        {
          "output_type": "display_data",
          "data": {
            "text/html": [
              "<pre>Finished training in 1.46647s</pre>"
            ],
            "text/plain": [
              "Finished training in 1.46647s"
            ]
          },
          "metadata": {
            "tags": []
          }
        },
        {
          "output_type": "display_data",
          "data": {
            "text/html": [
              "<pre>recommendations finished on 1000/100836 queries. users per second: 6413.26</pre>"
            ],
            "text/plain": [
              "recommendations finished on 1000/100836 queries. users per second: 6413.26"
            ]
          },
          "metadata": {
            "tags": []
          }
        },
        {
          "output_type": "display_data",
          "data": {
            "text/html": [
              "<pre>recommendations finished on 2000/100836 queries. users per second: 6102.45</pre>"
            ],
            "text/plain": [
              "recommendations finished on 2000/100836 queries. users per second: 6102.45"
            ]
          },
          "metadata": {
            "tags": []
          }
        },
        {
          "output_type": "display_data",
          "data": {
            "text/html": [
              "<pre>recommendations finished on 3000/100836 queries. users per second: 6566.61</pre>"
            ],
            "text/plain": [
              "recommendations finished on 3000/100836 queries. users per second: 6566.61"
            ]
          },
          "metadata": {
            "tags": []
          }
        },
        {
          "output_type": "display_data",
          "data": {
            "text/html": [
              "<pre>recommendations finished on 4000/100836 queries. users per second: 6020.59</pre>"
            ],
            "text/plain": [
              "recommendations finished on 4000/100836 queries. users per second: 6020.59"
            ]
          },
          "metadata": {
            "tags": []
          }
        },
        {
          "output_type": "display_data",
          "data": {
            "text/html": [
              "<pre>recommendations finished on 5000/100836 queries. users per second: 6000.1</pre>"
            ],
            "text/plain": [
              "recommendations finished on 5000/100836 queries. users per second: 6000.1"
            ]
          },
          "metadata": {
            "tags": []
          }
        },
        {
          "output_type": "display_data",
          "data": {
            "text/html": [
              "<pre>recommendations finished on 6000/100836 queries. users per second: 5609.11</pre>"
            ],
            "text/plain": [
              "recommendations finished on 6000/100836 queries. users per second: 5609.11"
            ]
          },
          "metadata": {
            "tags": []
          }
        },
        {
          "output_type": "display_data",
          "data": {
            "text/html": [
              "<pre>recommendations finished on 7000/100836 queries. users per second: 5225.78</pre>"
            ],
            "text/plain": [
              "recommendations finished on 7000/100836 queries. users per second: 5225.78"
            ]
          },
          "metadata": {
            "tags": []
          }
        },
        {
          "output_type": "display_data",
          "data": {
            "text/html": [
              "<pre>recommendations finished on 8000/100836 queries. users per second: 5299.99</pre>"
            ],
            "text/plain": [
              "recommendations finished on 8000/100836 queries. users per second: 5299.99"
            ]
          },
          "metadata": {
            "tags": []
          }
        },
        {
          "output_type": "display_data",
          "data": {
            "text/html": [
              "<pre>recommendations finished on 9000/100836 queries. users per second: 5284.31</pre>"
            ],
            "text/plain": [
              "recommendations finished on 9000/100836 queries. users per second: 5284.31"
            ]
          },
          "metadata": {
            "tags": []
          }
        },
        {
          "output_type": "display_data",
          "data": {
            "text/html": [
              "<pre>recommendations finished on 10000/100836 queries. users per second: 5185.7</pre>"
            ],
            "text/plain": [
              "recommendations finished on 10000/100836 queries. users per second: 5185.7"
            ]
          },
          "metadata": {
            "tags": []
          }
        },
        {
          "output_type": "display_data",
          "data": {
            "text/html": [
              "<pre>recommendations finished on 11000/100836 queries. users per second: 5208.1</pre>"
            ],
            "text/plain": [
              "recommendations finished on 11000/100836 queries. users per second: 5208.1"
            ]
          },
          "metadata": {
            "tags": []
          }
        },
        {
          "output_type": "display_data",
          "data": {
            "text/html": [
              "<pre>recommendations finished on 12000/100836 queries. users per second: 5228.07</pre>"
            ],
            "text/plain": [
              "recommendations finished on 12000/100836 queries. users per second: 5228.07"
            ]
          },
          "metadata": {
            "tags": []
          }
        },
        {
          "output_type": "display_data",
          "data": {
            "text/html": [
              "<pre>recommendations finished on 13000/100836 queries. users per second: 4909.93</pre>"
            ],
            "text/plain": [
              "recommendations finished on 13000/100836 queries. users per second: 4909.93"
            ]
          },
          "metadata": {
            "tags": []
          }
        },
        {
          "output_type": "display_data",
          "data": {
            "text/html": [
              "<pre>recommendations finished on 14000/100836 queries. users per second: 4617.27</pre>"
            ],
            "text/plain": [
              "recommendations finished on 14000/100836 queries. users per second: 4617.27"
            ]
          },
          "metadata": {
            "tags": []
          }
        },
        {
          "output_type": "display_data",
          "data": {
            "text/html": [
              "<pre>recommendations finished on 15000/100836 queries. users per second: 4516.1</pre>"
            ],
            "text/plain": [
              "recommendations finished on 15000/100836 queries. users per second: 4516.1"
            ]
          },
          "metadata": {
            "tags": []
          }
        },
        {
          "output_type": "display_data",
          "data": {
            "text/html": [
              "<pre>recommendations finished on 16000/100836 queries. users per second: 4424.83</pre>"
            ],
            "text/plain": [
              "recommendations finished on 16000/100836 queries. users per second: 4424.83"
            ]
          },
          "metadata": {
            "tags": []
          }
        },
        {
          "output_type": "display_data",
          "data": {
            "text/html": [
              "<pre>recommendations finished on 17000/100836 queries. users per second: 4406.49</pre>"
            ],
            "text/plain": [
              "recommendations finished on 17000/100836 queries. users per second: 4406.49"
            ]
          },
          "metadata": {
            "tags": []
          }
        },
        {
          "output_type": "display_data",
          "data": {
            "text/html": [
              "<pre>recommendations finished on 18000/100836 queries. users per second: 4448.32</pre>"
            ],
            "text/plain": [
              "recommendations finished on 18000/100836 queries. users per second: 4448.32"
            ]
          },
          "metadata": {
            "tags": []
          }
        },
        {
          "output_type": "display_data",
          "data": {
            "text/html": [
              "<pre>recommendations finished on 19000/100836 queries. users per second: 4316.93</pre>"
            ],
            "text/plain": [
              "recommendations finished on 19000/100836 queries. users per second: 4316.93"
            ]
          },
          "metadata": {
            "tags": []
          }
        },
        {
          "output_type": "display_data",
          "data": {
            "text/html": [
              "<pre>recommendations finished on 20000/100836 queries. users per second: 4182.01</pre>"
            ],
            "text/plain": [
              "recommendations finished on 20000/100836 queries. users per second: 4182.01"
            ]
          },
          "metadata": {
            "tags": []
          }
        },
        {
          "output_type": "display_data",
          "data": {
            "text/html": [
              "<pre>recommendations finished on 21000/100836 queries. users per second: 4008.74</pre>"
            ],
            "text/plain": [
              "recommendations finished on 21000/100836 queries. users per second: 4008.74"
            ]
          },
          "metadata": {
            "tags": []
          }
        },
        {
          "output_type": "display_data",
          "data": {
            "text/html": [
              "<pre>recommendations finished on 22000/100836 queries. users per second: 4004.03</pre>"
            ],
            "text/plain": [
              "recommendations finished on 22000/100836 queries. users per second: 4004.03"
            ]
          },
          "metadata": {
            "tags": []
          }
        },
        {
          "output_type": "display_data",
          "data": {
            "text/html": [
              "<pre>recommendations finished on 23000/100836 queries. users per second: 4030.21</pre>"
            ],
            "text/plain": [
              "recommendations finished on 23000/100836 queries. users per second: 4030.21"
            ]
          },
          "metadata": {
            "tags": []
          }
        },
        {
          "output_type": "display_data",
          "data": {
            "text/html": [
              "<pre>recommendations finished on 24000/100836 queries. users per second: 3765.44</pre>"
            ],
            "text/plain": [
              "recommendations finished on 24000/100836 queries. users per second: 3765.44"
            ]
          },
          "metadata": {
            "tags": []
          }
        },
        {
          "output_type": "display_data",
          "data": {
            "text/html": [
              "<pre>recommendations finished on 25000/100836 queries. users per second: 3771.35</pre>"
            ],
            "text/plain": [
              "recommendations finished on 25000/100836 queries. users per second: 3771.35"
            ]
          },
          "metadata": {
            "tags": []
          }
        },
        {
          "output_type": "display_data",
          "data": {
            "text/html": [
              "<pre>recommendations finished on 26000/100836 queries. users per second: 3748.54</pre>"
            ],
            "text/plain": [
              "recommendations finished on 26000/100836 queries. users per second: 3748.54"
            ]
          },
          "metadata": {
            "tags": []
          }
        },
        {
          "output_type": "display_data",
          "data": {
            "text/html": [
              "<pre>recommendations finished on 27000/100836 queries. users per second: 3666.11</pre>"
            ],
            "text/plain": [
              "recommendations finished on 27000/100836 queries. users per second: 3666.11"
            ]
          },
          "metadata": {
            "tags": []
          }
        },
        {
          "output_type": "display_data",
          "data": {
            "text/html": [
              "<pre>recommendations finished on 28000/100836 queries. users per second: 3652.41</pre>"
            ],
            "text/plain": [
              "recommendations finished on 28000/100836 queries. users per second: 3652.41"
            ]
          },
          "metadata": {
            "tags": []
          }
        },
        {
          "output_type": "display_data",
          "data": {
            "text/html": [
              "<pre>recommendations finished on 29000/100836 queries. users per second: 3621.53</pre>"
            ],
            "text/plain": [
              "recommendations finished on 29000/100836 queries. users per second: 3621.53"
            ]
          },
          "metadata": {
            "tags": []
          }
        },
        {
          "output_type": "display_data",
          "data": {
            "text/html": [
              "<pre>recommendations finished on 30000/100836 queries. users per second: 3522.12</pre>"
            ],
            "text/plain": [
              "recommendations finished on 30000/100836 queries. users per second: 3522.12"
            ]
          },
          "metadata": {
            "tags": []
          }
        },
        {
          "output_type": "display_data",
          "data": {
            "text/html": [
              "<pre>recommendations finished on 31000/100836 queries. users per second: 3453.62</pre>"
            ],
            "text/plain": [
              "recommendations finished on 31000/100836 queries. users per second: 3453.62"
            ]
          },
          "metadata": {
            "tags": []
          }
        },
        {
          "output_type": "display_data",
          "data": {
            "text/html": [
              "<pre>recommendations finished on 32000/100836 queries. users per second: 3462.89</pre>"
            ],
            "text/plain": [
              "recommendations finished on 32000/100836 queries. users per second: 3462.89"
            ]
          },
          "metadata": {
            "tags": []
          }
        },
        {
          "output_type": "display_data",
          "data": {
            "text/html": [
              "<pre>recommendations finished on 33000/100836 queries. users per second: 3449.54</pre>"
            ],
            "text/plain": [
              "recommendations finished on 33000/100836 queries. users per second: 3449.54"
            ]
          },
          "metadata": {
            "tags": []
          }
        },
        {
          "output_type": "display_data",
          "data": {
            "text/html": [
              "<pre>recommendations finished on 34000/100836 queries. users per second: 3448.4</pre>"
            ],
            "text/plain": [
              "recommendations finished on 34000/100836 queries. users per second: 3448.4"
            ]
          },
          "metadata": {
            "tags": []
          }
        },
        {
          "output_type": "display_data",
          "data": {
            "text/html": [
              "<pre>recommendations finished on 35000/100836 queries. users per second: 3425.61</pre>"
            ],
            "text/plain": [
              "recommendations finished on 35000/100836 queries. users per second: 3425.61"
            ]
          },
          "metadata": {
            "tags": []
          }
        },
        {
          "output_type": "display_data",
          "data": {
            "text/html": [
              "<pre>recommendations finished on 36000/100836 queries. users per second: 3411.76</pre>"
            ],
            "text/plain": [
              "recommendations finished on 36000/100836 queries. users per second: 3411.76"
            ]
          },
          "metadata": {
            "tags": []
          }
        },
        {
          "output_type": "display_data",
          "data": {
            "text/html": [
              "<pre>recommendations finished on 37000/100836 queries. users per second: 3404.14</pre>"
            ],
            "text/plain": [
              "recommendations finished on 37000/100836 queries. users per second: 3404.14"
            ]
          },
          "metadata": {
            "tags": []
          }
        },
        {
          "output_type": "display_data",
          "data": {
            "text/html": [
              "<pre>recommendations finished on 38000/100836 queries. users per second: 3386.92</pre>"
            ],
            "text/plain": [
              "recommendations finished on 38000/100836 queries. users per second: 3386.92"
            ]
          },
          "metadata": {
            "tags": []
          }
        },
        {
          "output_type": "display_data",
          "data": {
            "text/html": [
              "<pre>recommendations finished on 39000/100836 queries. users per second: 3391.65</pre>"
            ],
            "text/plain": [
              "recommendations finished on 39000/100836 queries. users per second: 3391.65"
            ]
          },
          "metadata": {
            "tags": []
          }
        },
        {
          "output_type": "display_data",
          "data": {
            "text/html": [
              "<pre>recommendations finished on 40000/100836 queries. users per second: 3275.92</pre>"
            ],
            "text/plain": [
              "recommendations finished on 40000/100836 queries. users per second: 3275.92"
            ]
          },
          "metadata": {
            "tags": []
          }
        },
        {
          "output_type": "display_data",
          "data": {
            "text/html": [
              "<pre>recommendations finished on 41000/100836 queries. users per second: 3226.11</pre>"
            ],
            "text/plain": [
              "recommendations finished on 41000/100836 queries. users per second: 3226.11"
            ]
          },
          "metadata": {
            "tags": []
          }
        },
        {
          "output_type": "display_data",
          "data": {
            "text/html": [
              "<pre>recommendations finished on 42000/100836 queries. users per second: 3254.84</pre>"
            ],
            "text/plain": [
              "recommendations finished on 42000/100836 queries. users per second: 3254.84"
            ]
          },
          "metadata": {
            "tags": []
          }
        },
        {
          "output_type": "display_data",
          "data": {
            "text/html": [
              "<pre>recommendations finished on 43000/100836 queries. users per second: 3263.12</pre>"
            ],
            "text/plain": [
              "recommendations finished on 43000/100836 queries. users per second: 3263.12"
            ]
          },
          "metadata": {
            "tags": []
          }
        },
        {
          "output_type": "display_data",
          "data": {
            "text/html": [
              "<pre>recommendations finished on 44000/100836 queries. users per second: 3279.89</pre>"
            ],
            "text/plain": [
              "recommendations finished on 44000/100836 queries. users per second: 3279.89"
            ]
          },
          "metadata": {
            "tags": []
          }
        },
        {
          "output_type": "display_data",
          "data": {
            "text/html": [
              "<pre>recommendations finished on 45000/100836 queries. users per second: 3304.83</pre>"
            ],
            "text/plain": [
              "recommendations finished on 45000/100836 queries. users per second: 3304.83"
            ]
          },
          "metadata": {
            "tags": []
          }
        },
        {
          "output_type": "display_data",
          "data": {
            "text/html": [
              "<pre>recommendations finished on 46000/100836 queries. users per second: 3329</pre>"
            ],
            "text/plain": [
              "recommendations finished on 46000/100836 queries. users per second: 3329"
            ]
          },
          "metadata": {
            "tags": []
          }
        },
        {
          "output_type": "display_data",
          "data": {
            "text/html": [
              "<pre>recommendations finished on 47000/100836 queries. users per second: 3356</pre>"
            ],
            "text/plain": [
              "recommendations finished on 47000/100836 queries. users per second: 3356"
            ]
          },
          "metadata": {
            "tags": []
          }
        },
        {
          "output_type": "display_data",
          "data": {
            "text/html": [
              "<pre>recommendations finished on 48000/100836 queries. users per second: 3346.4</pre>"
            ],
            "text/plain": [
              "recommendations finished on 48000/100836 queries. users per second: 3346.4"
            ]
          },
          "metadata": {
            "tags": []
          }
        },
        {
          "output_type": "display_data",
          "data": {
            "text/html": [
              "<pre>recommendations finished on 49000/100836 queries. users per second: 3356.24</pre>"
            ],
            "text/plain": [
              "recommendations finished on 49000/100836 queries. users per second: 3356.24"
            ]
          },
          "metadata": {
            "tags": []
          }
        },
        {
          "output_type": "display_data",
          "data": {
            "text/html": [
              "<pre>recommendations finished on 50000/100836 queries. users per second: 3342.48</pre>"
            ],
            "text/plain": [
              "recommendations finished on 50000/100836 queries. users per second: 3342.48"
            ]
          },
          "metadata": {
            "tags": []
          }
        },
        {
          "output_type": "display_data",
          "data": {
            "text/html": [
              "<pre>recommendations finished on 51000/100836 queries. users per second: 3309.22</pre>"
            ],
            "text/plain": [
              "recommendations finished on 51000/100836 queries. users per second: 3309.22"
            ]
          },
          "metadata": {
            "tags": []
          }
        },
        {
          "output_type": "display_data",
          "data": {
            "text/html": [
              "<pre>recommendations finished on 52000/100836 queries. users per second: 3301.23</pre>"
            ],
            "text/plain": [
              "recommendations finished on 52000/100836 queries. users per second: 3301.23"
            ]
          },
          "metadata": {
            "tags": []
          }
        },
        {
          "output_type": "display_data",
          "data": {
            "text/html": [
              "<pre>recommendations finished on 53000/100836 queries. users per second: 3284.76</pre>"
            ],
            "text/plain": [
              "recommendations finished on 53000/100836 queries. users per second: 3284.76"
            ]
          },
          "metadata": {
            "tags": []
          }
        },
        {
          "output_type": "display_data",
          "data": {
            "text/html": [
              "<pre>recommendations finished on 54000/100836 queries. users per second: 3247.39</pre>"
            ],
            "text/plain": [
              "recommendations finished on 54000/100836 queries. users per second: 3247.39"
            ]
          },
          "metadata": {
            "tags": []
          }
        },
        {
          "output_type": "display_data",
          "data": {
            "text/html": [
              "<pre>recommendations finished on 55000/100836 queries. users per second: 3207.73</pre>"
            ],
            "text/plain": [
              "recommendations finished on 55000/100836 queries. users per second: 3207.73"
            ]
          },
          "metadata": {
            "tags": []
          }
        },
        {
          "output_type": "display_data",
          "data": {
            "text/html": [
              "<pre>recommendations finished on 56000/100836 queries. users per second: 3215.68</pre>"
            ],
            "text/plain": [
              "recommendations finished on 56000/100836 queries. users per second: 3215.68"
            ]
          },
          "metadata": {
            "tags": []
          }
        },
        {
          "output_type": "display_data",
          "data": {
            "text/html": [
              "<pre>recommendations finished on 57000/100836 queries. users per second: 3235.72</pre>"
            ],
            "text/plain": [
              "recommendations finished on 57000/100836 queries. users per second: 3235.72"
            ]
          },
          "metadata": {
            "tags": []
          }
        },
        {
          "output_type": "display_data",
          "data": {
            "text/html": [
              "<pre>recommendations finished on 58000/100836 queries. users per second: 3260.99</pre>"
            ],
            "text/plain": [
              "recommendations finished on 58000/100836 queries. users per second: 3260.99"
            ]
          },
          "metadata": {
            "tags": []
          }
        },
        {
          "output_type": "display_data",
          "data": {
            "text/html": [
              "<pre>recommendations finished on 59000/100836 queries. users per second: 3285.63</pre>"
            ],
            "text/plain": [
              "recommendations finished on 59000/100836 queries. users per second: 3285.63"
            ]
          },
          "metadata": {
            "tags": []
          }
        },
        {
          "output_type": "display_data",
          "data": {
            "text/html": [
              "<pre>recommendations finished on 60000/100836 queries. users per second: 3226.04</pre>"
            ],
            "text/plain": [
              "recommendations finished on 60000/100836 queries. users per second: 3226.04"
            ]
          },
          "metadata": {
            "tags": []
          }
        },
        {
          "output_type": "display_data",
          "data": {
            "text/html": [
              "<pre>recommendations finished on 61000/100836 queries. users per second: 3191.75</pre>"
            ],
            "text/plain": [
              "recommendations finished on 61000/100836 queries. users per second: 3191.75"
            ]
          },
          "metadata": {
            "tags": []
          }
        },
        {
          "output_type": "display_data",
          "data": {
            "text/html": [
              "<pre>recommendations finished on 62000/100836 queries. users per second: 3199.01</pre>"
            ],
            "text/plain": [
              "recommendations finished on 62000/100836 queries. users per second: 3199.01"
            ]
          },
          "metadata": {
            "tags": []
          }
        },
        {
          "output_type": "display_data",
          "data": {
            "text/html": [
              "<pre>recommendations finished on 63000/100836 queries. users per second: 3188.01</pre>"
            ],
            "text/plain": [
              "recommendations finished on 63000/100836 queries. users per second: 3188.01"
            ]
          },
          "metadata": {
            "tags": []
          }
        },
        {
          "output_type": "display_data",
          "data": {
            "text/html": [
              "<pre>recommendations finished on 64000/100836 queries. users per second: 3117.23</pre>"
            ],
            "text/plain": [
              "recommendations finished on 64000/100836 queries. users per second: 3117.23"
            ]
          },
          "metadata": {
            "tags": []
          }
        },
        {
          "output_type": "display_data",
          "data": {
            "text/html": [
              "<pre>recommendations finished on 65000/100836 queries. users per second: 3054</pre>"
            ],
            "text/plain": [
              "recommendations finished on 65000/100836 queries. users per second: 3054"
            ]
          },
          "metadata": {
            "tags": []
          }
        },
        {
          "output_type": "display_data",
          "data": {
            "text/html": [
              "<pre>recommendations finished on 66000/100836 queries. users per second: 3045.84</pre>"
            ],
            "text/plain": [
              "recommendations finished on 66000/100836 queries. users per second: 3045.84"
            ]
          },
          "metadata": {
            "tags": []
          }
        },
        {
          "output_type": "display_data",
          "data": {
            "text/html": [
              "<pre>recommendations finished on 67000/100836 queries. users per second: 3060.7</pre>"
            ],
            "text/plain": [
              "recommendations finished on 67000/100836 queries. users per second: 3060.7"
            ]
          },
          "metadata": {
            "tags": []
          }
        },
        {
          "output_type": "display_data",
          "data": {
            "text/html": [
              "<pre>recommendations finished on 68000/100836 queries. users per second: 3058.55</pre>"
            ],
            "text/plain": [
              "recommendations finished on 68000/100836 queries. users per second: 3058.55"
            ]
          },
          "metadata": {
            "tags": []
          }
        },
        {
          "output_type": "display_data",
          "data": {
            "text/html": [
              "<pre>recommendations finished on 69000/100836 queries. users per second: 3045.52</pre>"
            ],
            "text/plain": [
              "recommendations finished on 69000/100836 queries. users per second: 3045.52"
            ]
          },
          "metadata": {
            "tags": []
          }
        },
        {
          "output_type": "display_data",
          "data": {
            "text/html": [
              "<pre>recommendations finished on 70000/100836 queries. users per second: 3030.22</pre>"
            ],
            "text/plain": [
              "recommendations finished on 70000/100836 queries. users per second: 3030.22"
            ]
          },
          "metadata": {
            "tags": []
          }
        },
        {
          "output_type": "display_data",
          "data": {
            "text/html": [
              "<pre>recommendations finished on 71000/100836 queries. users per second: 3036.87</pre>"
            ],
            "text/plain": [
              "recommendations finished on 71000/100836 queries. users per second: 3036.87"
            ]
          },
          "metadata": {
            "tags": []
          }
        },
        {
          "output_type": "display_data",
          "data": {
            "text/html": [
              "<pre>recommendations finished on 72000/100836 queries. users per second: 3042.25</pre>"
            ],
            "text/plain": [
              "recommendations finished on 72000/100836 queries. users per second: 3042.25"
            ]
          },
          "metadata": {
            "tags": []
          }
        },
        {
          "output_type": "display_data",
          "data": {
            "text/html": [
              "<pre>recommendations finished on 73000/100836 queries. users per second: 3043.29</pre>"
            ],
            "text/plain": [
              "recommendations finished on 73000/100836 queries. users per second: 3043.29"
            ]
          },
          "metadata": {
            "tags": []
          }
        },
        {
          "output_type": "display_data",
          "data": {
            "text/html": [
              "<pre>recommendations finished on 74000/100836 queries. users per second: 3034.07</pre>"
            ],
            "text/plain": [
              "recommendations finished on 74000/100836 queries. users per second: 3034.07"
            ]
          },
          "metadata": {
            "tags": []
          }
        },
        {
          "output_type": "display_data",
          "data": {
            "text/html": [
              "<pre>recommendations finished on 75000/100836 queries. users per second: 3050.12</pre>"
            ],
            "text/plain": [
              "recommendations finished on 75000/100836 queries. users per second: 3050.12"
            ]
          },
          "metadata": {
            "tags": []
          }
        },
        {
          "output_type": "display_data",
          "data": {
            "text/html": [
              "<pre>recommendations finished on 76000/100836 queries. users per second: 3073.58</pre>"
            ],
            "text/plain": [
              "recommendations finished on 76000/100836 queries. users per second: 3073.58"
            ]
          },
          "metadata": {
            "tags": []
          }
        },
        {
          "output_type": "display_data",
          "data": {
            "text/html": [
              "<pre>recommendations finished on 77000/100836 queries. users per second: 3078.97</pre>"
            ],
            "text/plain": [
              "recommendations finished on 77000/100836 queries. users per second: 3078.97"
            ]
          },
          "metadata": {
            "tags": []
          }
        },
        {
          "output_type": "display_data",
          "data": {
            "text/html": [
              "<pre>recommendations finished on 78000/100836 queries. users per second: 3076.43</pre>"
            ],
            "text/plain": [
              "recommendations finished on 78000/100836 queries. users per second: 3076.43"
            ]
          },
          "metadata": {
            "tags": []
          }
        },
        {
          "output_type": "display_data",
          "data": {
            "text/html": [
              "<pre>recommendations finished on 79000/100836 queries. users per second: 3081.27</pre>"
            ],
            "text/plain": [
              "recommendations finished on 79000/100836 queries. users per second: 3081.27"
            ]
          },
          "metadata": {
            "tags": []
          }
        },
        {
          "output_type": "display_data",
          "data": {
            "text/html": [
              "<pre>recommendations finished on 80000/100836 queries. users per second: 3084.12</pre>"
            ],
            "text/plain": [
              "recommendations finished on 80000/100836 queries. users per second: 3084.12"
            ]
          },
          "metadata": {
            "tags": []
          }
        },
        {
          "output_type": "display_data",
          "data": {
            "text/html": [
              "<pre>recommendations finished on 81000/100836 queries. users per second: 3091.39</pre>"
            ],
            "text/plain": [
              "recommendations finished on 81000/100836 queries. users per second: 3091.39"
            ]
          },
          "metadata": {
            "tags": []
          }
        },
        {
          "output_type": "display_data",
          "data": {
            "text/html": [
              "<pre>recommendations finished on 82000/100836 queries. users per second: 3104.35</pre>"
            ],
            "text/plain": [
              "recommendations finished on 82000/100836 queries. users per second: 3104.35"
            ]
          },
          "metadata": {
            "tags": []
          }
        },
        {
          "output_type": "display_data",
          "data": {
            "text/html": [
              "<pre>recommendations finished on 83000/100836 queries. users per second: 3120.74</pre>"
            ],
            "text/plain": [
              "recommendations finished on 83000/100836 queries. users per second: 3120.74"
            ]
          },
          "metadata": {
            "tags": []
          }
        },
        {
          "output_type": "display_data",
          "data": {
            "text/html": [
              "<pre>recommendations finished on 84000/100836 queries. users per second: 3136.84</pre>"
            ],
            "text/plain": [
              "recommendations finished on 84000/100836 queries. users per second: 3136.84"
            ]
          },
          "metadata": {
            "tags": []
          }
        },
        {
          "output_type": "display_data",
          "data": {
            "text/html": [
              "<pre>recommendations finished on 85000/100836 queries. users per second: 3132.95</pre>"
            ],
            "text/plain": [
              "recommendations finished on 85000/100836 queries. users per second: 3132.95"
            ]
          },
          "metadata": {
            "tags": []
          }
        },
        {
          "output_type": "display_data",
          "data": {
            "text/html": [
              "<pre>recommendations finished on 86000/100836 queries. users per second: 3140.43</pre>"
            ],
            "text/plain": [
              "recommendations finished on 86000/100836 queries. users per second: 3140.43"
            ]
          },
          "metadata": {
            "tags": []
          }
        },
        {
          "output_type": "display_data",
          "data": {
            "text/html": [
              "<pre>recommendations finished on 87000/100836 queries. users per second: 3142.86</pre>"
            ],
            "text/plain": [
              "recommendations finished on 87000/100836 queries. users per second: 3142.86"
            ]
          },
          "metadata": {
            "tags": []
          }
        },
        {
          "output_type": "display_data",
          "data": {
            "text/html": [
              "<pre>recommendations finished on 88000/100836 queries. users per second: 3151.14</pre>"
            ],
            "text/plain": [
              "recommendations finished on 88000/100836 queries. users per second: 3151.14"
            ]
          },
          "metadata": {
            "tags": []
          }
        },
        {
          "output_type": "display_data",
          "data": {
            "text/html": [
              "<pre>recommendations finished on 89000/100836 queries. users per second: 3159.47</pre>"
            ],
            "text/plain": [
              "recommendations finished on 89000/100836 queries. users per second: 3159.47"
            ]
          },
          "metadata": {
            "tags": []
          }
        },
        {
          "output_type": "display_data",
          "data": {
            "text/html": [
              "<pre>recommendations finished on 90000/100836 queries. users per second: 3166.89</pre>"
            ],
            "text/plain": [
              "recommendations finished on 90000/100836 queries. users per second: 3166.89"
            ]
          },
          "metadata": {
            "tags": []
          }
        },
        {
          "output_type": "display_data",
          "data": {
            "text/html": [
              "<pre>recommendations finished on 91000/100836 queries. users per second: 3158.89</pre>"
            ],
            "text/plain": [
              "recommendations finished on 91000/100836 queries. users per second: 3158.89"
            ]
          },
          "metadata": {
            "tags": []
          }
        },
        {
          "output_type": "display_data",
          "data": {
            "text/html": [
              "<pre>recommendations finished on 92000/100836 queries. users per second: 3158.03</pre>"
            ],
            "text/plain": [
              "recommendations finished on 92000/100836 queries. users per second: 3158.03"
            ]
          },
          "metadata": {
            "tags": []
          }
        },
        {
          "output_type": "display_data",
          "data": {
            "text/html": [
              "<pre>recommendations finished on 93000/100836 queries. users per second: 3100.05</pre>"
            ],
            "text/plain": [
              "recommendations finished on 93000/100836 queries. users per second: 3100.05"
            ]
          },
          "metadata": {
            "tags": []
          }
        },
        {
          "output_type": "display_data",
          "data": {
            "text/html": [
              "<pre>recommendations finished on 94000/100836 queries. users per second: 2970.41</pre>"
            ],
            "text/plain": [
              "recommendations finished on 94000/100836 queries. users per second: 2970.41"
            ]
          },
          "metadata": {
            "tags": []
          }
        },
        {
          "output_type": "display_data",
          "data": {
            "text/html": [
              "<pre>recommendations finished on 95000/100836 queries. users per second: 2854</pre>"
            ],
            "text/plain": [
              "recommendations finished on 95000/100836 queries. users per second: 2854"
            ]
          },
          "metadata": {
            "tags": []
          }
        },
        {
          "output_type": "display_data",
          "data": {
            "text/html": [
              "<pre>recommendations finished on 96000/100836 queries. users per second: 2827.75</pre>"
            ],
            "text/plain": [
              "recommendations finished on 96000/100836 queries. users per second: 2827.75"
            ]
          },
          "metadata": {
            "tags": []
          }
        },
        {
          "output_type": "display_data",
          "data": {
            "text/html": [
              "<pre>recommendations finished on 97000/100836 queries. users per second: 2776.06</pre>"
            ],
            "text/plain": [
              "recommendations finished on 97000/100836 queries. users per second: 2776.06"
            ]
          },
          "metadata": {
            "tags": []
          }
        },
        {
          "output_type": "display_data",
          "data": {
            "text/html": [
              "<pre>recommendations finished on 98000/100836 queries. users per second: 2756.89</pre>"
            ],
            "text/plain": [
              "recommendations finished on 98000/100836 queries. users per second: 2756.89"
            ]
          },
          "metadata": {
            "tags": []
          }
        },
        {
          "output_type": "display_data",
          "data": {
            "text/html": [
              "<pre>recommendations finished on 99000/100836 queries. users per second: 2736.21</pre>"
            ],
            "text/plain": [
              "recommendations finished on 99000/100836 queries. users per second: 2736.21"
            ]
          },
          "metadata": {
            "tags": []
          }
        },
        {
          "output_type": "display_data",
          "data": {
            "text/html": [
              "<pre>recommendations finished on 100000/100836 queries. users per second: 2706.87</pre>"
            ],
            "text/plain": [
              "recommendations finished on 100000/100836 queries. users per second: 2706.87"
            ]
          },
          "metadata": {
            "tags": []
          }
        },
        {
          "output_type": "stream",
          "text": [
            "+---------+----------------+-------+------+\n",
            "| user_id | product_number | score | rank |\n",
            "+---------+----------------+-------+------+\n",
            "|    1    |      1105      |  1.0  |  1   |\n",
            "|    1    |     115122     |  1.0  |  2   |\n",
            "|    1    |      6970      |  1.0  |  3   |\n",
            "|    1    |     64249      |  1.0  |  4   |\n",
            "|    1    |      3728      |  1.0  |  5   |\n",
            "|    1    |      4141      |  1.0  |  6   |\n",
            "|    1    |     86548      |  1.0  |  7   |\n",
            "|    1    |     117109     |  1.0  |  8   |\n",
            "|    1    |      8012      |  1.0  |  9   |\n",
            "|    1    |      697       |  1.0  |  10  |\n",
            "+---------+----------------+-------+------+\n",
            "[1008360 rows x 4 columns]\n",
            "\n"
          ],
          "name": "stdout"
        }
      ]
    },
    {
      "cell_type": "code",
      "metadata": {
        "id": "_mMJNck4pF0T"
      },
      "source": [
        "models_w_counts = [popularity, cos, pear]\r\n",
        "models_w_dummy = [pop_dummy, cos_dummy, pear_dummy]\r\n",
        "models_w_norm = [pop_norm, cos_norm, pear_norm]\r\n",
        "names_w_counts = ['Popularity Model on  ratings', 'Cosine Similarity on ratings', 'Pearson Similarity on ratings']\r\n",
        "names_w_dummy = ['Popularity Model on Purchase Dummy', 'Cosine Similarity on Purchase Dummy', 'Pearson Similarity on Purchase Dummy']\r\n",
        "names_w_norm = ['Popularity Model on Scaled ratings', 'Cosine Similarity on Scaled ratings', 'Pearson Similarity on Scaled ratings']"
      ],
      "execution_count": 104,
      "outputs": []
    },
    {
      "cell_type": "code",
      "metadata": {
        "id": "p7FgCUf2pIQt",
        "colab": {
          "base_uri": "https://localhost:8080/"
        },
        "outputId": "5c2d287d-23a4-425a-b902-6ec16f45ad57"
      },
      "source": [
        "eval_counts = tc.recommender.util.compare_models(test_data, models_w_counts, model_names=names_w_counts)\r\n",
        "eval_dummy = tc.recommender.util.compare_models(test_data_dummy, models_w_dummy, model_names=names_w_dummy)\r\n",
        "eval_norm = tc.recommender.util.compare_models(test_data_norm, models_w_norm, model_names=names_w_norm)"
      ],
      "execution_count": 105,
      "outputs": [
        {
          "output_type": "stream",
          "text": [
            "PROGRESS: Evaluate model Popularity Model on  ratings\n",
            "\n",
            "Precision and recall summary statistics by cutoff\n",
            "+--------+------------------------+------------------------+\n",
            "| cutoff |     mean_precision     |      mean_recall       |\n",
            "+--------+------------------------+------------------------+\n",
            "|   1    |          0.0           |          0.0           |\n",
            "|   2    |          0.0           |          0.0           |\n",
            "|   3    |          0.0           |          0.0           |\n",
            "|   4    |          0.0           |          0.0           |\n",
            "|   5    |          0.0           |          0.0           |\n",
            "|   6    |          0.0           |          0.0           |\n",
            "|   7    |          0.0           |          0.0           |\n",
            "|   8    | 0.00020525451559934323 | 0.0002736726874657909  |\n",
            "|   9    | 0.0001824484583105272  | 0.0002736726874657909  |\n",
            "|   10   | 0.0001642036124794745  | 0.00027367268746579087 |\n",
            "+--------+------------------------+------------------------+\n",
            "[10 rows x 3 columns]\n",
            "\n",
            "\n",
            "Overall RMSE: 0.9793024732043657\n",
            "\n",
            "Per User RMSE (best)\n",
            "+---------+--------------------+-------+\n",
            "| user_id |        rmse        | count |\n",
            "+---------+--------------------+-------+\n",
            "|    49   | 0.3030847709548654 |   6   |\n",
            "+---------+--------------------+-------+\n",
            "[1 rows x 3 columns]\n",
            "\n",
            "\n",
            "Per User RMSE (worst)\n",
            "+---------+-------------------+-------+\n",
            "| user_id |        rmse       | count |\n",
            "+---------+-------------------+-------+\n",
            "|   324   | 2.761845367226619 |   2   |\n",
            "+---------+-------------------+-------+\n",
            "[1 rows x 3 columns]\n",
            "\n",
            "\n",
            "Per Item RMSE (best)\n",
            "+----------------+------+-------+\n",
            "| product_number | rmse | count |\n",
            "+----------------+------+-------+\n",
            "|      2747      | 0.0  |   2   |\n",
            "+----------------+------+-------+\n",
            "[1 rows x 3 columns]\n",
            "\n",
            "\n",
            "Per Item RMSE (worst)\n",
            "+----------------+------+-------+\n",
            "| product_number | rmse | count |\n",
            "+----------------+------+-------+\n",
            "|      2068      | 4.5  |   1   |\n",
            "+----------------+------+-------+\n",
            "[1 rows x 3 columns]\n",
            "\n",
            "PROGRESS: Evaluate model Cosine Similarity on ratings\n",
            "\n",
            "Precision and recall summary statistics by cutoff\n",
            "+--------+---------------------+----------------------+\n",
            "| cutoff |    mean_precision   |     mean_recall      |\n",
            "+--------+---------------------+----------------------+\n",
            "|   1    |  0.3661740558292282 | 0.025418672097745357 |\n",
            "|   2    | 0.34482758620689646 | 0.04471787928256291  |\n",
            "|   3    | 0.32129173508483816 | 0.06028367575244761  |\n",
            "|   4    |  0.3009031198686371 | 0.07326444215805893  |\n",
            "|   5    |  0.2860426929392447 | 0.08535321946883756  |\n",
            "|   6    |  0.2720306513409961 | 0.09472566661414648  |\n",
            "|   7    | 0.26084916725310814 | 0.10217663110530444  |\n",
            "|   8    | 0.25389983579638753 | 0.11268577799805503  |\n",
            "|   9    |  0.2466703156358329 | 0.12247890995651334  |\n",
            "|   10   |  0.2412151067323479 | 0.13243482647371257  |\n",
            "+--------+---------------------+----------------------+\n",
            "[10 rows x 3 columns]\n",
            "\n",
            "\n",
            "Overall RMSE: 3.5586395336215504\n",
            "\n",
            "Per User RMSE (best)\n",
            "+---------+--------------------+-------+\n",
            "| user_id |        rmse        | count |\n",
            "+---------+--------------------+-------+\n",
            "|   324   | 0.9660956949845201 |   2   |\n",
            "+---------+--------------------+-------+\n",
            "[1 rows x 3 columns]\n",
            "\n",
            "\n",
            "Per User RMSE (worst)\n",
            "+---------+------+-------+\n",
            "| user_id | rmse | count |\n",
            "+---------+------+-------+\n",
            "|    53   | 5.0  |   4   |\n",
            "+---------+------+-------+\n",
            "[1 rows x 3 columns]\n",
            "\n",
            "\n",
            "Per Item RMSE (best)\n",
            "+----------------+--------------------+-------+\n",
            "| product_number |        rmse        | count |\n",
            "+----------------+--------------------+-------+\n",
            "|     111743     | 0.4694134413175118 |   1   |\n",
            "+----------------+--------------------+-------+\n",
            "[1 rows x 3 columns]\n",
            "\n",
            "\n",
            "Per Item RMSE (worst)\n",
            "+----------------+------+-------+\n",
            "| product_number | rmse | count |\n",
            "+----------------+------+-------+\n",
            "|     179135     | 5.0  |   1   |\n",
            "+----------------+------+-------+\n",
            "[1 rows x 3 columns]\n",
            "\n",
            "PROGRESS: Evaluate model Pearson Similarity on ratings\n",
            "\n",
            "Precision and recall summary statistics by cutoff\n",
            "+--------+------------------------+-----------------------+\n",
            "| cutoff |     mean_precision     |      mean_recall      |\n",
            "+--------+------------------------+-----------------------+\n",
            "|   1    |          0.0           |          0.0          |\n",
            "|   2    |          0.0           |          0.0          |\n",
            "|   3    |          0.0           |          0.0          |\n",
            "|   4    |          0.0           |          0.0          |\n",
            "|   5    |          0.0           |          0.0          |\n",
            "|   6    |          0.0           |          0.0          |\n",
            "|   7    | 0.0002345765892563922  | 6.841817186644772e-05 |\n",
            "|   8    | 0.00020525451559934323 | 6.841817186644773e-05 |\n",
            "|   9    | 0.0001824484583105273  | 6.841817186644772e-05 |\n",
            "|   10   | 0.00016420361247947455 | 6.841817186644773e-05 |\n",
            "+--------+------------------------+-----------------------+\n",
            "[10 rows x 3 columns]\n",
            "\n",
            "\n",
            "Overall RMSE: 1.1700097935191682\n",
            "\n",
            "Per User RMSE (best)\n",
            "+---------+--------------------+-------+\n",
            "| user_id |        rmse        | count |\n",
            "+---------+--------------------+-------+\n",
            "|    49   | 0.2981474897315604 |   6   |\n",
            "+---------+--------------------+-------+\n",
            "[1 rows x 3 columns]\n",
            "\n",
            "\n",
            "Per User RMSE (worst)\n",
            "+---------+--------------------+-------+\n",
            "| user_id |        rmse        | count |\n",
            "+---------+--------------------+-------+\n",
            "|   289   | 3.0771334062727926 |   4   |\n",
            "+---------+--------------------+-------+\n",
            "[1 rows x 3 columns]\n",
            "\n",
            "\n",
            "Per Item RMSE (best)\n",
            "+----------------+------+-------+\n",
            "| product_number | rmse | count |\n",
            "+----------------+------+-------+\n",
            "|     69604      | 0.0  |   1   |\n",
            "+----------------+------+-------+\n",
            "[1 rows x 3 columns]\n",
            "\n",
            "\n",
            "Per Item RMSE (worst)\n",
            "+----------------+------+-------+\n",
            "| product_number | rmse | count |\n",
            "+----------------+------+-------+\n",
            "|     179135     | 5.0  |   1   |\n",
            "+----------------+------+-------+\n",
            "[1 rows x 3 columns]\n",
            "\n",
            "PROGRESS: Evaluate model Popularity Model on Purchase Dummy\n",
            "\n",
            "Precision and recall summary statistics by cutoff\n",
            "+--------+-----------------------+------------------------+\n",
            "| cutoff |     mean_precision    |      mean_recall       |\n",
            "+--------+-----------------------+------------------------+\n",
            "|   1    | 0.0016393442622950824 | 1.6728002676480422e-05 |\n",
            "|   2    | 0.0008196721311475412 | 1.6728002676480422e-05 |\n",
            "|   3    | 0.0005464480874316938 | 1.6728002676480422e-05 |\n",
            "|   4    | 0.0004098360655737706 | 1.6728002676480422e-05 |\n",
            "|   5    | 0.0009836065573770494 | 9.548943040636122e-05  |\n",
            "|   6    | 0.0008196721311475405 | 9.548943040636122e-05  |\n",
            "|   7    | 0.0007025761124121782 | 9.548943040636129e-05  |\n",
            "|   8    | 0.0010245901639344265 | 0.0001600541105332671  |\n",
            "|   9    | 0.0009107468123861565 | 0.00016005411053326716 |\n",
            "|   10   | 0.0008196721311475405 | 0.00016005411053326716 |\n",
            "+--------+-----------------------+------------------------+\n",
            "[10 rows x 3 columns]\n",
            "\n",
            "\n",
            "Overall RMSE: 0.0\n",
            "\n",
            "Per User RMSE (best)\n",
            "+---------+------+-------+\n",
            "| user_id | rmse | count |\n",
            "+---------+------+-------+\n",
            "|   149   | 0.0  |   7   |\n",
            "+---------+------+-------+\n",
            "[1 rows x 3 columns]\n",
            "\n",
            "\n",
            "Per User RMSE (worst)\n",
            "+---------+------+-------+\n",
            "| user_id | rmse | count |\n",
            "+---------+------+-------+\n",
            "|   118   | 0.0  |   2   |\n",
            "+---------+------+-------+\n",
            "[1 rows x 3 columns]\n",
            "\n",
            "\n",
            "Per Item RMSE (best)\n",
            "+----------------+------+-------+\n",
            "| product_number | rmse | count |\n",
            "+----------------+------+-------+\n",
            "|      918       | 0.0  |   4   |\n",
            "+----------------+------+-------+\n",
            "[1 rows x 3 columns]\n",
            "\n",
            "\n",
            "Per Item RMSE (worst)\n",
            "+----------------+------+-------+\n",
            "| product_number | rmse | count |\n",
            "+----------------+------+-------+\n",
            "|      5288      | 0.0  |   1   |\n",
            "+----------------+------+-------+\n",
            "[1 rows x 3 columns]\n",
            "\n",
            "PROGRESS: Evaluate model Cosine Similarity on Purchase Dummy\n",
            "\n",
            "Precision and recall summary statistics by cutoff\n",
            "+--------+---------------------+----------------------+\n",
            "| cutoff |    mean_precision   |     mean_recall      |\n",
            "+--------+---------------------+----------------------+\n",
            "|   1    | 0.34754098360655744 | 0.02107942655623249  |\n",
            "|   2    |  0.3163934426229508 | 0.037376810562214514 |\n",
            "|   3    |  0.3005464480874317 |  0.0525217748025781  |\n",
            "|   4    | 0.28524590163934427 | 0.06702192761165064  |\n",
            "|   5    | 0.27934426229508197 | 0.08014288627522811  |\n",
            "|   6    |  0.2718579234972677 | 0.09382421902931347  |\n",
            "|   7    |  0.2599531615925058 | 0.10509319031903461  |\n",
            "|   8    | 0.25245901639344265 | 0.11445019436035744  |\n",
            "|   9    | 0.24644808743169377 | 0.12443478344883675  |\n",
            "|   10   | 0.23819672131147535 | 0.13405352141384086  |\n",
            "+--------+---------------------+----------------------+\n",
            "[10 rows x 3 columns]\n",
            "\n",
            "\n",
            "Overall RMSE: 0.9734463127755424\n",
            "\n",
            "Per User RMSE (best)\n",
            "+---------+--------------------+-------+\n",
            "| user_id |        rmse        | count |\n",
            "+---------+--------------------+-------+\n",
            "|   569   | 0.5746427007729918 |   4   |\n",
            "+---------+--------------------+-------+\n",
            "[1 rows x 3 columns]\n",
            "\n",
            "\n",
            "Per User RMSE (worst)\n",
            "+---------+------+-------+\n",
            "| user_id | rmse | count |\n",
            "+---------+------+-------+\n",
            "|   383   | 1.0  |   3   |\n",
            "+---------+------+-------+\n",
            "[1 rows x 3 columns]\n",
            "\n",
            "\n",
            "Per Item RMSE (best)\n",
            "+----------------+--------------------+-------+\n",
            "| product_number |        rmse        | count |\n",
            "+----------------+--------------------+-------+\n",
            "|      153       | 0.8237310717141527 |   25  |\n",
            "+----------------+--------------------+-------+\n",
            "[1 rows x 3 columns]\n",
            "\n",
            "\n",
            "Per Item RMSE (worst)\n",
            "+----------------+------+-------+\n",
            "| product_number | rmse | count |\n",
            "+----------------+------+-------+\n",
            "|      5288      | 1.0  |   1   |\n",
            "+----------------+------+-------+\n",
            "[1 rows x 3 columns]\n",
            "\n",
            "PROGRESS: Evaluate model Pearson Similarity on Purchase Dummy\n",
            "\n",
            "Precision and recall summary statistics by cutoff\n",
            "+--------+-----------------------+------------------------+\n",
            "| cutoff |     mean_precision    |      mean_recall       |\n",
            "+--------+-----------------------+------------------------+\n",
            "|   1    | 0.0016393442622950824 | 1.6728002676480433e-05 |\n",
            "|   2    | 0.0008196721311475412 | 1.6728002676480422e-05 |\n",
            "|   3    | 0.0005464480874316937 | 1.6728002676480422e-05 |\n",
            "|   4    | 0.0004098360655737706 | 1.6728002676480422e-05 |\n",
            "|   5    | 0.0009836065573770492 | 9.548943040636127e-05  |\n",
            "|   6    | 0.0008196721311475405 | 9.548943040636127e-05  |\n",
            "|   7    |  0.000702576112412178 | 9.548943040636136e-05  |\n",
            "|   8    | 0.0010245901639344263 | 0.00016005411053326713 |\n",
            "|   9    | 0.0009107468123861566 | 0.0001600541105332672  |\n",
            "|   10   | 0.0008196721311475412 | 0.0001600541105332672  |\n",
            "+--------+-----------------------+------------------------+\n",
            "[10 rows x 3 columns]\n",
            "\n",
            "\n",
            "Overall RMSE: 1.0\n",
            "\n",
            "Per User RMSE (best)\n",
            "+---------+------+-------+\n",
            "| user_id | rmse | count |\n",
            "+---------+------+-------+\n",
            "|   149   | 1.0  |   7   |\n",
            "+---------+------+-------+\n",
            "[1 rows x 3 columns]\n",
            "\n",
            "\n",
            "Per User RMSE (worst)\n",
            "+---------+------+-------+\n",
            "| user_id | rmse | count |\n",
            "+---------+------+-------+\n",
            "|   118   | 1.0  |   2   |\n",
            "+---------+------+-------+\n",
            "[1 rows x 3 columns]\n",
            "\n",
            "\n",
            "Per Item RMSE (best)\n",
            "+----------------+------+-------+\n",
            "| product_number | rmse | count |\n",
            "+----------------+------+-------+\n",
            "|      918       | 1.0  |   4   |\n",
            "+----------------+------+-------+\n",
            "[1 rows x 3 columns]\n",
            "\n",
            "\n",
            "Per Item RMSE (worst)\n",
            "+----------------+------+-------+\n",
            "| product_number | rmse | count |\n",
            "+----------------+------+-------+\n",
            "|      5288      | 1.0  |   1   |\n",
            "+----------------+------+-------+\n",
            "[1 rows x 3 columns]\n",
            "\n",
            "PROGRESS: Evaluate model Popularity Model on Scaled ratings\n",
            "\n",
            "Precision and recall summary statistics by cutoff\n",
            "+--------+------------------------+------------------------+\n",
            "| cutoff |     mean_precision     |      mean_recall       |\n",
            "+--------+------------------------+------------------------+\n",
            "|   1    |          0.0           |          0.0           |\n",
            "|   2    |          0.0           |          0.0           |\n",
            "|   3    |          0.0           |          0.0           |\n",
            "|   4    | 0.00041050903119868625 | 6.291326148638874e-06  |\n",
            "|   5    | 0.0013136288998357964  |  8.14616128219978e-05  |\n",
            "|   6    | 0.0013683634373289546  | 8.699035398292283e-05  |\n",
            "|   7    | 0.0011728829462819609  | 8.699035398292283e-05  |\n",
            "|   8    |  0.001026272577996716  | 8.699035398292284e-05  |\n",
            "|   9    | 0.0014595876664842188  | 0.00011030704455238934 |\n",
            "|   10   | 0.0013136288998357969  | 0.00011030704455238934 |\n",
            "+--------+------------------------+------------------------+\n",
            "[10 rows x 3 columns]\n",
            "\n",
            "\n",
            "Overall RMSE: 0.328030054196807\n",
            "\n",
            "Per User RMSE (best)\n",
            "+---------+---------------------+-------+\n",
            "| user_id |         rmse        | count |\n",
            "+---------+---------------------+-------+\n",
            "|   194   | 0.05910622926805945 |   3   |\n",
            "+---------+---------------------+-------+\n",
            "[1 rows x 3 columns]\n",
            "\n",
            "\n",
            "Per User RMSE (worst)\n",
            "+---------+--------------------+-------+\n",
            "| user_id |        rmse        | count |\n",
            "+---------+--------------------+-------+\n",
            "|   175   | 0.7389207737058063 |   3   |\n",
            "+---------+--------------------+-------+\n",
            "[1 rows x 3 columns]\n",
            "\n",
            "\n",
            "Per Item RMSE (best)\n",
            "+----------------+------+-------+\n",
            "| product_number | rmse | count |\n",
            "+----------------+------+-------+\n",
            "|     94953      | 0.0  |   1   |\n",
            "+----------------+------+-------+\n",
            "[1 rows x 3 columns]\n",
            "\n",
            "\n",
            "Per Item RMSE (worst)\n",
            "+----------------+------+-------+\n",
            "| product_number | rmse | count |\n",
            "+----------------+------+-------+\n",
            "|      4690      | 1.0  |   1   |\n",
            "+----------------+------+-------+\n",
            "[1 rows x 3 columns]\n",
            "\n",
            "PROGRESS: Evaluate model Cosine Similarity on Scaled ratings\n",
            "\n",
            "Precision and recall summary statistics by cutoff\n",
            "+--------+---------------------+----------------------+\n",
            "| cutoff |    mean_precision   |     mean_recall      |\n",
            "+--------+---------------------+----------------------+\n",
            "|   1    |  0.3513957307060755 | 0.023173324498810533 |\n",
            "|   2    | 0.32922824302134646 | 0.04305925461636004  |\n",
            "|   3    |   0.31143951833607  | 0.05873826330810049  |\n",
            "|   4    |  0.2963875205254516 | 0.07332181463466766  |\n",
            "|   5    | 0.28702791461412147 | 0.08772157988609232  |\n",
            "|   6    | 0.27832512315270935 |  0.0994954710905422  |\n",
            "|   7    | 0.26741731175228706 | 0.11037405261733452  |\n",
            "|   8    |  0.2610837438423645 | 0.12068390102586077  |\n",
            "|   9    |  0.2532384601350117 | 0.13119748142620774  |\n",
            "|   10   | 0.24614121510673237 |  0.1392068132904126  |\n",
            "+--------+---------------------+----------------------+\n",
            "[10 rows x 3 columns]\n",
            "\n",
            "\n",
            "Overall RMSE: 0.6662150486487851\n",
            "\n",
            "Per User RMSE (best)\n",
            "+---------+------+-------+\n",
            "| user_id | rmse | count |\n",
            "+---------+------+-------+\n",
            "|   442   | 0.0  |   2   |\n",
            "+---------+------+-------+\n",
            "[1 rows x 3 columns]\n",
            "\n",
            "\n",
            "Per User RMSE (worst)\n",
            "+---------+--------------------+-------+\n",
            "| user_id |        rmse        | count |\n",
            "+---------+--------------------+-------+\n",
            "|    53   | 0.9955221844414487 |   4   |\n",
            "+---------+--------------------+-------+\n",
            "[1 rows x 3 columns]\n",
            "\n",
            "\n",
            "Per Item RMSE (best)\n",
            "+----------------+------+-------+\n",
            "| product_number | rmse | count |\n",
            "+----------------+------+-------+\n",
            "|      5446      | 0.0  |   1   |\n",
            "+----------------+------+-------+\n",
            "[1 rows x 3 columns]\n",
            "\n",
            "\n",
            "Per Item RMSE (worst)\n",
            "+----------------+------+-------+\n",
            "| product_number | rmse | count |\n",
            "+----------------+------+-------+\n",
            "|      4690      | 1.0  |   1   |\n",
            "+----------------+------+-------+\n",
            "[1 rows x 3 columns]\n",
            "\n",
            "PROGRESS: Evaluate model Pearson Similarity on Scaled ratings\n",
            "\n",
            "Precision and recall summary statistics by cutoff\n",
            "+--------+-----------------------+------------------------+\n",
            "| cutoff |     mean_precision    |      mean_recall       |\n",
            "+--------+-----------------------+------------------------+\n",
            "|   1    | 0.0032840722495894896 | 4.129487723042034e-05  |\n",
            "|   2    | 0.0032840722495894917 |  6.42312548466009e-05  |\n",
            "|   3    |  0.002736726874657909 | 6.975999600752599e-05  |\n",
            "|   4    |  0.002052545155993431 | 6.975999600752599e-05  |\n",
            "|   5    | 0.0019704433497536944 | 0.00012107362490736176 |\n",
            "|   6    | 0.0024630541871921174 | 0.00014022854744933887 |\n",
            "|   7    |  0.002580342481820314 | 0.0001679469659723551  |\n",
            "|   8    |  0.002873563218390806 | 0.00018309051714494786 |\n",
            "|   9    |  0.003101623791278967 | 0.00022272828780926036 |\n",
            "|   10   |  0.002791461412151069 | 0.00022272828780926026 |\n",
            "+--------+-----------------------+------------------------+\n",
            "[10 rows x 3 columns]\n",
            "\n",
            "\n",
            "Overall RMSE: 0.3299830368803817\n",
            "\n",
            "Per User RMSE (best)\n",
            "+---------+----------------------+-------+\n",
            "| user_id |         rmse         | count |\n",
            "+---------+----------------------+-------+\n",
            "|   550   | 0.055967053609426366 |   3   |\n",
            "+---------+----------------------+-------+\n",
            "[1 rows x 3 columns]\n",
            "\n",
            "\n",
            "Per User RMSE (worst)\n",
            "+---------+--------------------+-------+\n",
            "| user_id |        rmse        | count |\n",
            "+---------+--------------------+-------+\n",
            "|   175   | 0.9120194460310752 |   3   |\n",
            "+---------+--------------------+-------+\n",
            "[1 rows x 3 columns]\n",
            "\n",
            "\n",
            "Per Item RMSE (best)\n",
            "+----------------+------+-------+\n",
            "| product_number | rmse | count |\n",
            "+----------------+------+-------+\n",
            "|      3598      | 0.0  |   1   |\n",
            "+----------------+------+-------+\n",
            "[1 rows x 3 columns]\n",
            "\n",
            "\n",
            "Per Item RMSE (worst)\n",
            "+----------------+------+-------+\n",
            "| product_number | rmse | count |\n",
            "+----------------+------+-------+\n",
            "|      4690      | 1.0  |   1   |\n",
            "+----------------+------+-------+\n",
            "[1 rows x 3 columns]\n",
            "\n"
          ],
          "name": "stdout"
        }
      ]
    },
    {
      "cell_type": "code",
      "metadata": {
        "colab": {
          "base_uri": "https://localhost:8080/",
          "height": 35
        },
        "id": "oSAY5msyw4n7",
        "outputId": "64703a03-6b75-4757-a8ec-f7094ba1bb83"
      },
      "source": [
        "'''metrics = models_w_norm.evaluate(test_data_norm)\r\n",
        "print(\"Accuracy: \", metrics[\"accuracy\"])\r\n",
        "print(\"Precision: \", metrics[\"precision\"])\r\n",
        "print(\"Recall: \", metrics[\"recall\"])\r\n",
        "'''"
      ],
      "execution_count": 106,
      "outputs": [
        {
          "output_type": "execute_result",
          "data": {
            "application/vnd.google.colaboratory.intrinsic+json": {
              "type": "string"
            },
            "text/plain": [
              "'metrics = models_w_norm.evaluate(test_data_norm)\\nprint(\"Accuracy: \", metrics[\"accuracy\"])\\nprint(\"Precision: \", metrics[\"precision\"])\\nprint(\"Recall: \", metrics[\"recall\"])\\n'"
            ]
          },
          "metadata": {
            "tags": []
          },
          "execution_count": 106
        }
      ]
    },
    {
      "cell_type": "code",
      "metadata": {
        "id": "N1uGG8gEpMLx",
        "colab": {
          "base_uri": "https://localhost:8080/",
          "height": 1000
        },
        "outputId": "1af36f2e-14dd-4df9-a3b7-ec5ce27e337d"
      },
      "source": [
        "final_model = tc.item_similarity_recommender.create(tc.SFrame(data_norm), \r\n",
        "                                            user_id=user_id, \r\n",
        "                                            item_id=item_id, \r\n",
        "                                            target='scaled_purchase_freq', similarity_type='pearson')\r\n",
        "recom = final_model.recommend(users=users_to_recommend, k=n_rec)\r\n",
        "recom.print_rows(n_display)"
      ],
      "execution_count": 107,
      "outputs": [
        {
          "output_type": "display_data",
          "data": {
            "text/html": [
              "<pre>Preparing data set.</pre>"
            ],
            "text/plain": [
              "Preparing data set."
            ]
          },
          "metadata": {
            "tags": []
          }
        },
        {
          "output_type": "display_data",
          "data": {
            "text/html": [
              "<pre>    Data has 96716 observations with 610 users and 5980 items.</pre>"
            ],
            "text/plain": [
              "    Data has 96716 observations with 610 users and 5980 items."
            ]
          },
          "metadata": {
            "tags": []
          }
        },
        {
          "output_type": "display_data",
          "data": {
            "text/html": [
              "<pre>    Data prepared in: 0.119691s</pre>"
            ],
            "text/plain": [
              "    Data prepared in: 0.119691s"
            ]
          },
          "metadata": {
            "tags": []
          }
        },
        {
          "output_type": "display_data",
          "data": {
            "text/html": [
              "<pre>Training model from provided data.</pre>"
            ],
            "text/plain": [
              "Training model from provided data."
            ]
          },
          "metadata": {
            "tags": []
          }
        },
        {
          "output_type": "display_data",
          "data": {
            "text/html": [
              "<pre>Gathering per-item and per-user statistics.</pre>"
            ],
            "text/plain": [
              "Gathering per-item and per-user statistics."
            ]
          },
          "metadata": {
            "tags": []
          }
        },
        {
          "output_type": "display_data",
          "data": {
            "text/html": [
              "<pre>+--------------------------------+------------+</pre>"
            ],
            "text/plain": [
              "+--------------------------------+------------+"
            ]
          },
          "metadata": {
            "tags": []
          }
        },
        {
          "output_type": "display_data",
          "data": {
            "text/html": [
              "<pre>| Elapsed Time (Item Statistics) | % Complete |</pre>"
            ],
            "text/plain": [
              "| Elapsed Time (Item Statistics) | % Complete |"
            ]
          },
          "metadata": {
            "tags": []
          }
        },
        {
          "output_type": "display_data",
          "data": {
            "text/html": [
              "<pre>+--------------------------------+------------+</pre>"
            ],
            "text/plain": [
              "+--------------------------------+------------+"
            ]
          },
          "metadata": {
            "tags": []
          }
        },
        {
          "output_type": "display_data",
          "data": {
            "text/html": [
              "<pre>| 21.137ms                       | 100        |</pre>"
            ],
            "text/plain": [
              "| 21.137ms                       | 100        |"
            ]
          },
          "metadata": {
            "tags": []
          }
        },
        {
          "output_type": "display_data",
          "data": {
            "text/html": [
              "<pre>+--------------------------------+------------+</pre>"
            ],
            "text/plain": [
              "+--------------------------------+------------+"
            ]
          },
          "metadata": {
            "tags": []
          }
        },
        {
          "output_type": "display_data",
          "data": {
            "text/html": [
              "<pre>Setting up lookup tables.</pre>"
            ],
            "text/plain": [
              "Setting up lookup tables."
            ]
          },
          "metadata": {
            "tags": []
          }
        },
        {
          "output_type": "display_data",
          "data": {
            "text/html": [
              "<pre>Processing data in one pass using dense lookup tables.</pre>"
            ],
            "text/plain": [
              "Processing data in one pass using dense lookup tables."
            ]
          },
          "metadata": {
            "tags": []
          }
        },
        {
          "output_type": "display_data",
          "data": {
            "text/html": [
              "<pre>+-------------------------------------+------------------+-----------------+</pre>"
            ],
            "text/plain": [
              "+-------------------------------------+------------------+-----------------+"
            ]
          },
          "metadata": {
            "tags": []
          }
        },
        {
          "output_type": "display_data",
          "data": {
            "text/html": [
              "<pre>| Elapsed Time (Constructing Lookups) | Total % Complete | Items Processed |</pre>"
            ],
            "text/plain": [
              "| Elapsed Time (Constructing Lookups) | Total % Complete | Items Processed |"
            ]
          },
          "metadata": {
            "tags": []
          }
        },
        {
          "output_type": "display_data",
          "data": {
            "text/html": [
              "<pre>+-------------------------------------+------------------+-----------------+</pre>"
            ],
            "text/plain": [
              "+-------------------------------------+------------------+-----------------+"
            ]
          },
          "metadata": {
            "tags": []
          }
        },
        {
          "output_type": "display_data",
          "data": {
            "text/html": [
              "<pre>| 67.259ms                            | 0                | 6               |</pre>"
            ],
            "text/plain": [
              "| 67.259ms                            | 0                | 6               |"
            ]
          },
          "metadata": {
            "tags": []
          }
        },
        {
          "output_type": "display_data",
          "data": {
            "text/html": [
              "<pre>| 1.51s                               | 100              | 5980            |</pre>"
            ],
            "text/plain": [
              "| 1.51s                               | 100              | 5980            |"
            ]
          },
          "metadata": {
            "tags": []
          }
        },
        {
          "output_type": "display_data",
          "data": {
            "text/html": [
              "<pre>+-------------------------------------+------------------+-----------------+</pre>"
            ],
            "text/plain": [
              "+-------------------------------------+------------------+-----------------+"
            ]
          },
          "metadata": {
            "tags": []
          }
        },
        {
          "output_type": "display_data",
          "data": {
            "text/html": [
              "<pre>Finalizing lookup tables.</pre>"
            ],
            "text/plain": [
              "Finalizing lookup tables."
            ]
          },
          "metadata": {
            "tags": []
          }
        },
        {
          "output_type": "display_data",
          "data": {
            "text/html": [
              "<pre>Generating candidate set for working with new users.</pre>"
            ],
            "text/plain": [
              "Generating candidate set for working with new users."
            ]
          },
          "metadata": {
            "tags": []
          }
        },
        {
          "output_type": "display_data",
          "data": {
            "text/html": [
              "<pre>Finished training in 1.54647s</pre>"
            ],
            "text/plain": [
              "Finished training in 1.54647s"
            ]
          },
          "metadata": {
            "tags": []
          }
        },
        {
          "output_type": "display_data",
          "data": {
            "text/html": [
              "<pre>recommendations finished on 1000/100836 queries. users per second: 4735.59</pre>"
            ],
            "text/plain": [
              "recommendations finished on 1000/100836 queries. users per second: 4735.59"
            ]
          },
          "metadata": {
            "tags": []
          }
        },
        {
          "output_type": "display_data",
          "data": {
            "text/html": [
              "<pre>recommendations finished on 2000/100836 queries. users per second: 4962.1</pre>"
            ],
            "text/plain": [
              "recommendations finished on 2000/100836 queries. users per second: 4962.1"
            ]
          },
          "metadata": {
            "tags": []
          }
        },
        {
          "output_type": "display_data",
          "data": {
            "text/html": [
              "<pre>recommendations finished on 3000/100836 queries. users per second: 5326.13</pre>"
            ],
            "text/plain": [
              "recommendations finished on 3000/100836 queries. users per second: 5326.13"
            ]
          },
          "metadata": {
            "tags": []
          }
        },
        {
          "output_type": "display_data",
          "data": {
            "text/html": [
              "<pre>recommendations finished on 4000/100836 queries. users per second: 4973.3</pre>"
            ],
            "text/plain": [
              "recommendations finished on 4000/100836 queries. users per second: 4973.3"
            ]
          },
          "metadata": {
            "tags": []
          }
        },
        {
          "output_type": "display_data",
          "data": {
            "text/html": [
              "<pre>recommendations finished on 5000/100836 queries. users per second: 5017.81</pre>"
            ],
            "text/plain": [
              "recommendations finished on 5000/100836 queries. users per second: 5017.81"
            ]
          },
          "metadata": {
            "tags": []
          }
        },
        {
          "output_type": "display_data",
          "data": {
            "text/html": [
              "<pre>recommendations finished on 6000/100836 queries. users per second: 4703.71</pre>"
            ],
            "text/plain": [
              "recommendations finished on 6000/100836 queries. users per second: 4703.71"
            ]
          },
          "metadata": {
            "tags": []
          }
        },
        {
          "output_type": "display_data",
          "data": {
            "text/html": [
              "<pre>recommendations finished on 7000/100836 queries. users per second: 4377.35</pre>"
            ],
            "text/plain": [
              "recommendations finished on 7000/100836 queries. users per second: 4377.35"
            ]
          },
          "metadata": {
            "tags": []
          }
        },
        {
          "output_type": "display_data",
          "data": {
            "text/html": [
              "<pre>recommendations finished on 8000/100836 queries. users per second: 4443.15</pre>"
            ],
            "text/plain": [
              "recommendations finished on 8000/100836 queries. users per second: 4443.15"
            ]
          },
          "metadata": {
            "tags": []
          }
        },
        {
          "output_type": "display_data",
          "data": {
            "text/html": [
              "<pre>recommendations finished on 9000/100836 queries. users per second: 4462.34</pre>"
            ],
            "text/plain": [
              "recommendations finished on 9000/100836 queries. users per second: 4462.34"
            ]
          },
          "metadata": {
            "tags": []
          }
        },
        {
          "output_type": "display_data",
          "data": {
            "text/html": [
              "<pre>recommendations finished on 10000/100836 queries. users per second: 4379.95</pre>"
            ],
            "text/plain": [
              "recommendations finished on 10000/100836 queries. users per second: 4379.95"
            ]
          },
          "metadata": {
            "tags": []
          }
        },
        {
          "output_type": "display_data",
          "data": {
            "text/html": [
              "<pre>recommendations finished on 11000/100836 queries. users per second: 4395.9</pre>"
            ],
            "text/plain": [
              "recommendations finished on 11000/100836 queries. users per second: 4395.9"
            ]
          },
          "metadata": {
            "tags": []
          }
        },
        {
          "output_type": "display_data",
          "data": {
            "text/html": [
              "<pre>recommendations finished on 12000/100836 queries. users per second: 4455.48</pre>"
            ],
            "text/plain": [
              "recommendations finished on 12000/100836 queries. users per second: 4455.48"
            ]
          },
          "metadata": {
            "tags": []
          }
        },
        {
          "output_type": "display_data",
          "data": {
            "text/html": [
              "<pre>recommendations finished on 13000/100836 queries. users per second: 4276.45</pre>"
            ],
            "text/plain": [
              "recommendations finished on 13000/100836 queries. users per second: 4276.45"
            ]
          },
          "metadata": {
            "tags": []
          }
        },
        {
          "output_type": "display_data",
          "data": {
            "text/html": [
              "<pre>recommendations finished on 14000/100836 queries. users per second: 4090.08</pre>"
            ],
            "text/plain": [
              "recommendations finished on 14000/100836 queries. users per second: 4090.08"
            ]
          },
          "metadata": {
            "tags": []
          }
        },
        {
          "output_type": "display_data",
          "data": {
            "text/html": [
              "<pre>recommendations finished on 15000/100836 queries. users per second: 3967.71</pre>"
            ],
            "text/plain": [
              "recommendations finished on 15000/100836 queries. users per second: 3967.71"
            ]
          },
          "metadata": {
            "tags": []
          }
        },
        {
          "output_type": "display_data",
          "data": {
            "text/html": [
              "<pre>recommendations finished on 16000/100836 queries. users per second: 3852.28</pre>"
            ],
            "text/plain": [
              "recommendations finished on 16000/100836 queries. users per second: 3852.28"
            ]
          },
          "metadata": {
            "tags": []
          }
        },
        {
          "output_type": "display_data",
          "data": {
            "text/html": [
              "<pre>recommendations finished on 17000/100836 queries. users per second: 3807.5</pre>"
            ],
            "text/plain": [
              "recommendations finished on 17000/100836 queries. users per second: 3807.5"
            ]
          },
          "metadata": {
            "tags": []
          }
        },
        {
          "output_type": "display_data",
          "data": {
            "text/html": [
              "<pre>recommendations finished on 18000/100836 queries. users per second: 3777.59</pre>"
            ],
            "text/plain": [
              "recommendations finished on 18000/100836 queries. users per second: 3777.59"
            ]
          },
          "metadata": {
            "tags": []
          }
        },
        {
          "output_type": "display_data",
          "data": {
            "text/html": [
              "<pre>recommendations finished on 19000/100836 queries. users per second: 3776.4</pre>"
            ],
            "text/plain": [
              "recommendations finished on 19000/100836 queries. users per second: 3776.4"
            ]
          },
          "metadata": {
            "tags": []
          }
        },
        {
          "output_type": "display_data",
          "data": {
            "text/html": [
              "<pre>recommendations finished on 20000/100836 queries. users per second: 3581.91</pre>"
            ],
            "text/plain": [
              "recommendations finished on 20000/100836 queries. users per second: 3581.91"
            ]
          },
          "metadata": {
            "tags": []
          }
        },
        {
          "output_type": "display_data",
          "data": {
            "text/html": [
              "<pre>recommendations finished on 21000/100836 queries. users per second: 3398.08</pre>"
            ],
            "text/plain": [
              "recommendations finished on 21000/100836 queries. users per second: 3398.08"
            ]
          },
          "metadata": {
            "tags": []
          }
        },
        {
          "output_type": "display_data",
          "data": {
            "text/html": [
              "<pre>recommendations finished on 22000/100836 queries. users per second: 3395.97</pre>"
            ],
            "text/plain": [
              "recommendations finished on 22000/100836 queries. users per second: 3395.97"
            ]
          },
          "metadata": {
            "tags": []
          }
        },
        {
          "output_type": "display_data",
          "data": {
            "text/html": [
              "<pre>recommendations finished on 23000/100836 queries. users per second: 3425.41</pre>"
            ],
            "text/plain": [
              "recommendations finished on 23000/100836 queries. users per second: 3425.41"
            ]
          },
          "metadata": {
            "tags": []
          }
        },
        {
          "output_type": "display_data",
          "data": {
            "text/html": [
              "<pre>recommendations finished on 24000/100836 queries. users per second: 3338.16</pre>"
            ],
            "text/plain": [
              "recommendations finished on 24000/100836 queries. users per second: 3338.16"
            ]
          },
          "metadata": {
            "tags": []
          }
        },
        {
          "output_type": "display_data",
          "data": {
            "text/html": [
              "<pre>recommendations finished on 25000/100836 queries. users per second: 3343.31</pre>"
            ],
            "text/plain": [
              "recommendations finished on 25000/100836 queries. users per second: 3343.31"
            ]
          },
          "metadata": {
            "tags": []
          }
        },
        {
          "output_type": "display_data",
          "data": {
            "text/html": [
              "<pre>recommendations finished on 26000/100836 queries. users per second: 3321.98</pre>"
            ],
            "text/plain": [
              "recommendations finished on 26000/100836 queries. users per second: 3321.98"
            ]
          },
          "metadata": {
            "tags": []
          }
        },
        {
          "output_type": "display_data",
          "data": {
            "text/html": [
              "<pre>recommendations finished on 27000/100836 queries. users per second: 3232.68</pre>"
            ],
            "text/plain": [
              "recommendations finished on 27000/100836 queries. users per second: 3232.68"
            ]
          },
          "metadata": {
            "tags": []
          }
        },
        {
          "output_type": "display_data",
          "data": {
            "text/html": [
              "<pre>recommendations finished on 28000/100836 queries. users per second: 3234.3</pre>"
            ],
            "text/plain": [
              "recommendations finished on 28000/100836 queries. users per second: 3234.3"
            ]
          },
          "metadata": {
            "tags": []
          }
        },
        {
          "output_type": "display_data",
          "data": {
            "text/html": [
              "<pre>recommendations finished on 29000/100836 queries. users per second: 3178.51</pre>"
            ],
            "text/plain": [
              "recommendations finished on 29000/100836 queries. users per second: 3178.51"
            ]
          },
          "metadata": {
            "tags": []
          }
        },
        {
          "output_type": "display_data",
          "data": {
            "text/html": [
              "<pre>recommendations finished on 30000/100836 queries. users per second: 3096.95</pre>"
            ],
            "text/plain": [
              "recommendations finished on 30000/100836 queries. users per second: 3096.95"
            ]
          },
          "metadata": {
            "tags": []
          }
        },
        {
          "output_type": "display_data",
          "data": {
            "text/html": [
              "<pre>recommendations finished on 31000/100836 queries. users per second: 3023.18</pre>"
            ],
            "text/plain": [
              "recommendations finished on 31000/100836 queries. users per second: 3023.18"
            ]
          },
          "metadata": {
            "tags": []
          }
        },
        {
          "output_type": "display_data",
          "data": {
            "text/html": [
              "<pre>recommendations finished on 32000/100836 queries. users per second: 3039.48</pre>"
            ],
            "text/plain": [
              "recommendations finished on 32000/100836 queries. users per second: 3039.48"
            ]
          },
          "metadata": {
            "tags": []
          }
        },
        {
          "output_type": "display_data",
          "data": {
            "text/html": [
              "<pre>recommendations finished on 33000/100836 queries. users per second: 3025.41</pre>"
            ],
            "text/plain": [
              "recommendations finished on 33000/100836 queries. users per second: 3025.41"
            ]
          },
          "metadata": {
            "tags": []
          }
        },
        {
          "output_type": "display_data",
          "data": {
            "text/html": [
              "<pre>recommendations finished on 34000/100836 queries. users per second: 3015.26</pre>"
            ],
            "text/plain": [
              "recommendations finished on 34000/100836 queries. users per second: 3015.26"
            ]
          },
          "metadata": {
            "tags": []
          }
        },
        {
          "output_type": "display_data",
          "data": {
            "text/html": [
              "<pre>recommendations finished on 35000/100836 queries. users per second: 2981.43</pre>"
            ],
            "text/plain": [
              "recommendations finished on 35000/100836 queries. users per second: 2981.43"
            ]
          },
          "metadata": {
            "tags": []
          }
        },
        {
          "output_type": "display_data",
          "data": {
            "text/html": [
              "<pre>recommendations finished on 36000/100836 queries. users per second: 2979.55</pre>"
            ],
            "text/plain": [
              "recommendations finished on 36000/100836 queries. users per second: 2979.55"
            ]
          },
          "metadata": {
            "tags": []
          }
        },
        {
          "output_type": "display_data",
          "data": {
            "text/html": [
              "<pre>recommendations finished on 37000/100836 queries. users per second: 2971.97</pre>"
            ],
            "text/plain": [
              "recommendations finished on 37000/100836 queries. users per second: 2971.97"
            ]
          },
          "metadata": {
            "tags": []
          }
        },
        {
          "output_type": "display_data",
          "data": {
            "text/html": [
              "<pre>recommendations finished on 38000/100836 queries. users per second: 2954.72</pre>"
            ],
            "text/plain": [
              "recommendations finished on 38000/100836 queries. users per second: 2954.72"
            ]
          },
          "metadata": {
            "tags": []
          }
        },
        {
          "output_type": "display_data",
          "data": {
            "text/html": [
              "<pre>recommendations finished on 39000/100836 queries. users per second: 2943.5</pre>"
            ],
            "text/plain": [
              "recommendations finished on 39000/100836 queries. users per second: 2943.5"
            ]
          },
          "metadata": {
            "tags": []
          }
        },
        {
          "output_type": "display_data",
          "data": {
            "text/html": [
              "<pre>recommendations finished on 40000/100836 queries. users per second: 2841.88</pre>"
            ],
            "text/plain": [
              "recommendations finished on 40000/100836 queries. users per second: 2841.88"
            ]
          },
          "metadata": {
            "tags": []
          }
        },
        {
          "output_type": "display_data",
          "data": {
            "text/html": [
              "<pre>recommendations finished on 41000/100836 queries. users per second: 2784.46</pre>"
            ],
            "text/plain": [
              "recommendations finished on 41000/100836 queries. users per second: 2784.46"
            ]
          },
          "metadata": {
            "tags": []
          }
        },
        {
          "output_type": "display_data",
          "data": {
            "text/html": [
              "<pre>recommendations finished on 42000/100836 queries. users per second: 2785.78</pre>"
            ],
            "text/plain": [
              "recommendations finished on 42000/100836 queries. users per second: 2785.78"
            ]
          },
          "metadata": {
            "tags": []
          }
        },
        {
          "output_type": "display_data",
          "data": {
            "text/html": [
              "<pre>recommendations finished on 43000/100836 queries. users per second: 2800.03</pre>"
            ],
            "text/plain": [
              "recommendations finished on 43000/100836 queries. users per second: 2800.03"
            ]
          },
          "metadata": {
            "tags": []
          }
        },
        {
          "output_type": "display_data",
          "data": {
            "text/html": [
              "<pre>recommendations finished on 44000/100836 queries. users per second: 2827.89</pre>"
            ],
            "text/plain": [
              "recommendations finished on 44000/100836 queries. users per second: 2827.89"
            ]
          },
          "metadata": {
            "tags": []
          }
        },
        {
          "output_type": "display_data",
          "data": {
            "text/html": [
              "<pre>recommendations finished on 45000/100836 queries. users per second: 2860.09</pre>"
            ],
            "text/plain": [
              "recommendations finished on 45000/100836 queries. users per second: 2860.09"
            ]
          },
          "metadata": {
            "tags": []
          }
        },
        {
          "output_type": "display_data",
          "data": {
            "text/html": [
              "<pre>recommendations finished on 46000/100836 queries. users per second: 2881.13</pre>"
            ],
            "text/plain": [
              "recommendations finished on 46000/100836 queries. users per second: 2881.13"
            ]
          },
          "metadata": {
            "tags": []
          }
        },
        {
          "output_type": "display_data",
          "data": {
            "text/html": [
              "<pre>recommendations finished on 47000/100836 queries. users per second: 2884.47</pre>"
            ],
            "text/plain": [
              "recommendations finished on 47000/100836 queries. users per second: 2884.47"
            ]
          },
          "metadata": {
            "tags": []
          }
        },
        {
          "output_type": "display_data",
          "data": {
            "text/html": [
              "<pre>recommendations finished on 48000/100836 queries. users per second: 2902.51</pre>"
            ],
            "text/plain": [
              "recommendations finished on 48000/100836 queries. users per second: 2902.51"
            ]
          },
          "metadata": {
            "tags": []
          }
        },
        {
          "output_type": "display_data",
          "data": {
            "text/html": [
              "<pre>recommendations finished on 49000/100836 queries. users per second: 2914.7</pre>"
            ],
            "text/plain": [
              "recommendations finished on 49000/100836 queries. users per second: 2914.7"
            ]
          },
          "metadata": {
            "tags": []
          }
        },
        {
          "output_type": "display_data",
          "data": {
            "text/html": [
              "<pre>recommendations finished on 50000/100836 queries. users per second: 2893.83</pre>"
            ],
            "text/plain": [
              "recommendations finished on 50000/100836 queries. users per second: 2893.83"
            ]
          },
          "metadata": {
            "tags": []
          }
        },
        {
          "output_type": "display_data",
          "data": {
            "text/html": [
              "<pre>recommendations finished on 51000/100836 queries. users per second: 2865.24</pre>"
            ],
            "text/plain": [
              "recommendations finished on 51000/100836 queries. users per second: 2865.24"
            ]
          },
          "metadata": {
            "tags": []
          }
        },
        {
          "output_type": "display_data",
          "data": {
            "text/html": [
              "<pre>recommendations finished on 52000/100836 queries. users per second: 2862.77</pre>"
            ],
            "text/plain": [
              "recommendations finished on 52000/100836 queries. users per second: 2862.77"
            ]
          },
          "metadata": {
            "tags": []
          }
        },
        {
          "output_type": "display_data",
          "data": {
            "text/html": [
              "<pre>recommendations finished on 53000/100836 queries. users per second: 2850.32</pre>"
            ],
            "text/plain": [
              "recommendations finished on 53000/100836 queries. users per second: 2850.32"
            ]
          },
          "metadata": {
            "tags": []
          }
        },
        {
          "output_type": "display_data",
          "data": {
            "text/html": [
              "<pre>recommendations finished on 54000/100836 queries. users per second: 2820.71</pre>"
            ],
            "text/plain": [
              "recommendations finished on 54000/100836 queries. users per second: 2820.71"
            ]
          },
          "metadata": {
            "tags": []
          }
        },
        {
          "output_type": "display_data",
          "data": {
            "text/html": [
              "<pre>recommendations finished on 55000/100836 queries. users per second: 2791.24</pre>"
            ],
            "text/plain": [
              "recommendations finished on 55000/100836 queries. users per second: 2791.24"
            ]
          },
          "metadata": {
            "tags": []
          }
        },
        {
          "output_type": "display_data",
          "data": {
            "text/html": [
              "<pre>recommendations finished on 56000/100836 queries. users per second: 2803.87</pre>"
            ],
            "text/plain": [
              "recommendations finished on 56000/100836 queries. users per second: 2803.87"
            ]
          },
          "metadata": {
            "tags": []
          }
        },
        {
          "output_type": "display_data",
          "data": {
            "text/html": [
              "<pre>recommendations finished on 57000/100836 queries. users per second: 2829.59</pre>"
            ],
            "text/plain": [
              "recommendations finished on 57000/100836 queries. users per second: 2829.59"
            ]
          },
          "metadata": {
            "tags": []
          }
        },
        {
          "output_type": "display_data",
          "data": {
            "text/html": [
              "<pre>recommendations finished on 58000/100836 queries. users per second: 2838.41</pre>"
            ],
            "text/plain": [
              "recommendations finished on 58000/100836 queries. users per second: 2838.41"
            ]
          },
          "metadata": {
            "tags": []
          }
        },
        {
          "output_type": "display_data",
          "data": {
            "text/html": [
              "<pre>recommendations finished on 59000/100836 queries. users per second: 2845</pre>"
            ],
            "text/plain": [
              "recommendations finished on 59000/100836 queries. users per second: 2845"
            ]
          },
          "metadata": {
            "tags": []
          }
        },
        {
          "output_type": "display_data",
          "data": {
            "text/html": [
              "<pre>recommendations finished on 60000/100836 queries. users per second: 2823.84</pre>"
            ],
            "text/plain": [
              "recommendations finished on 60000/100836 queries. users per second: 2823.84"
            ]
          },
          "metadata": {
            "tags": []
          }
        },
        {
          "output_type": "display_data",
          "data": {
            "text/html": [
              "<pre>recommendations finished on 61000/100836 queries. users per second: 2813.32</pre>"
            ],
            "text/plain": [
              "recommendations finished on 61000/100836 queries. users per second: 2813.32"
            ]
          },
          "metadata": {
            "tags": []
          }
        },
        {
          "output_type": "display_data",
          "data": {
            "text/html": [
              "<pre>recommendations finished on 62000/100836 queries. users per second: 2823.75</pre>"
            ],
            "text/plain": [
              "recommendations finished on 62000/100836 queries. users per second: 2823.75"
            ]
          },
          "metadata": {
            "tags": []
          }
        },
        {
          "output_type": "display_data",
          "data": {
            "text/html": [
              "<pre>recommendations finished on 63000/100836 queries. users per second: 2785.85</pre>"
            ],
            "text/plain": [
              "recommendations finished on 63000/100836 queries. users per second: 2785.85"
            ]
          },
          "metadata": {
            "tags": []
          }
        },
        {
          "output_type": "display_data",
          "data": {
            "text/html": [
              "<pre>recommendations finished on 64000/100836 queries. users per second: 2719.44</pre>"
            ],
            "text/plain": [
              "recommendations finished on 64000/100836 queries. users per second: 2719.44"
            ]
          },
          "metadata": {
            "tags": []
          }
        },
        {
          "output_type": "display_data",
          "data": {
            "text/html": [
              "<pre>recommendations finished on 65000/100836 queries. users per second: 2670.21</pre>"
            ],
            "text/plain": [
              "recommendations finished on 65000/100836 queries. users per second: 2670.21"
            ]
          },
          "metadata": {
            "tags": []
          }
        },
        {
          "output_type": "display_data",
          "data": {
            "text/html": [
              "<pre>recommendations finished on 66000/100836 queries. users per second: 2674.34</pre>"
            ],
            "text/plain": [
              "recommendations finished on 66000/100836 queries. users per second: 2674.34"
            ]
          },
          "metadata": {
            "tags": []
          }
        },
        {
          "output_type": "display_data",
          "data": {
            "text/html": [
              "<pre>recommendations finished on 67000/100836 queries. users per second: 2660.91</pre>"
            ],
            "text/plain": [
              "recommendations finished on 67000/100836 queries. users per second: 2660.91"
            ]
          },
          "metadata": {
            "tags": []
          }
        },
        {
          "output_type": "display_data",
          "data": {
            "text/html": [
              "<pre>recommendations finished on 68000/100836 queries. users per second: 2638.8</pre>"
            ],
            "text/plain": [
              "recommendations finished on 68000/100836 queries. users per second: 2638.8"
            ]
          },
          "metadata": {
            "tags": []
          }
        },
        {
          "output_type": "display_data",
          "data": {
            "text/html": [
              "<pre>recommendations finished on 69000/100836 queries. users per second: 2634.16</pre>"
            ],
            "text/plain": [
              "recommendations finished on 69000/100836 queries. users per second: 2634.16"
            ]
          },
          "metadata": {
            "tags": []
          }
        },
        {
          "output_type": "display_data",
          "data": {
            "text/html": [
              "<pre>recommendations finished on 70000/100836 queries. users per second: 2625.7</pre>"
            ],
            "text/plain": [
              "recommendations finished on 70000/100836 queries. users per second: 2625.7"
            ]
          },
          "metadata": {
            "tags": []
          }
        },
        {
          "output_type": "display_data",
          "data": {
            "text/html": [
              "<pre>recommendations finished on 71000/100836 queries. users per second: 2617.44</pre>"
            ],
            "text/plain": [
              "recommendations finished on 71000/100836 queries. users per second: 2617.44"
            ]
          },
          "metadata": {
            "tags": []
          }
        },
        {
          "output_type": "display_data",
          "data": {
            "text/html": [
              "<pre>recommendations finished on 72000/100836 queries. users per second: 2615.29</pre>"
            ],
            "text/plain": [
              "recommendations finished on 72000/100836 queries. users per second: 2615.29"
            ]
          },
          "metadata": {
            "tags": []
          }
        },
        {
          "output_type": "display_data",
          "data": {
            "text/html": [
              "<pre>recommendations finished on 73000/100836 queries. users per second: 2607.91</pre>"
            ],
            "text/plain": [
              "recommendations finished on 73000/100836 queries. users per second: 2607.91"
            ]
          },
          "metadata": {
            "tags": []
          }
        },
        {
          "output_type": "display_data",
          "data": {
            "text/html": [
              "<pre>recommendations finished on 74000/100836 queries. users per second: 2611.64</pre>"
            ],
            "text/plain": [
              "recommendations finished on 74000/100836 queries. users per second: 2611.64"
            ]
          },
          "metadata": {
            "tags": []
          }
        },
        {
          "output_type": "display_data",
          "data": {
            "text/html": [
              "<pre>recommendations finished on 75000/100836 queries. users per second: 2617.44</pre>"
            ],
            "text/plain": [
              "recommendations finished on 75000/100836 queries. users per second: 2617.44"
            ]
          },
          "metadata": {
            "tags": []
          }
        },
        {
          "output_type": "display_data",
          "data": {
            "text/html": [
              "<pre>recommendations finished on 76000/100836 queries. users per second: 2630.21</pre>"
            ],
            "text/plain": [
              "recommendations finished on 76000/100836 queries. users per second: 2630.21"
            ]
          },
          "metadata": {
            "tags": []
          }
        },
        {
          "output_type": "display_data",
          "data": {
            "text/html": [
              "<pre>recommendations finished on 77000/100836 queries. users per second: 2640.82</pre>"
            ],
            "text/plain": [
              "recommendations finished on 77000/100836 queries. users per second: 2640.82"
            ]
          },
          "metadata": {
            "tags": []
          }
        },
        {
          "output_type": "display_data",
          "data": {
            "text/html": [
              "<pre>recommendations finished on 78000/100836 queries. users per second: 2644.04</pre>"
            ],
            "text/plain": [
              "recommendations finished on 78000/100836 queries. users per second: 2644.04"
            ]
          },
          "metadata": {
            "tags": []
          }
        },
        {
          "output_type": "display_data",
          "data": {
            "text/html": [
              "<pre>recommendations finished on 79000/100836 queries. users per second: 2647.55</pre>"
            ],
            "text/plain": [
              "recommendations finished on 79000/100836 queries. users per second: 2647.55"
            ]
          },
          "metadata": {
            "tags": []
          }
        },
        {
          "output_type": "display_data",
          "data": {
            "text/html": [
              "<pre>recommendations finished on 80000/100836 queries. users per second: 2652.36</pre>"
            ],
            "text/plain": [
              "recommendations finished on 80000/100836 queries. users per second: 2652.36"
            ]
          },
          "metadata": {
            "tags": []
          }
        },
        {
          "output_type": "display_data",
          "data": {
            "text/html": [
              "<pre>recommendations finished on 81000/100836 queries. users per second: 2662.37</pre>"
            ],
            "text/plain": [
              "recommendations finished on 81000/100836 queries. users per second: 2662.37"
            ]
          },
          "metadata": {
            "tags": []
          }
        },
        {
          "output_type": "display_data",
          "data": {
            "text/html": [
              "<pre>recommendations finished on 82000/100836 queries. users per second: 2674.52</pre>"
            ],
            "text/plain": [
              "recommendations finished on 82000/100836 queries. users per second: 2674.52"
            ]
          },
          "metadata": {
            "tags": []
          }
        },
        {
          "output_type": "display_data",
          "data": {
            "text/html": [
              "<pre>recommendations finished on 83000/100836 queries. users per second: 2687.78</pre>"
            ],
            "text/plain": [
              "recommendations finished on 83000/100836 queries. users per second: 2687.78"
            ]
          },
          "metadata": {
            "tags": []
          }
        },
        {
          "output_type": "display_data",
          "data": {
            "text/html": [
              "<pre>recommendations finished on 84000/100836 queries. users per second: 2700.72</pre>"
            ],
            "text/plain": [
              "recommendations finished on 84000/100836 queries. users per second: 2700.72"
            ]
          },
          "metadata": {
            "tags": []
          }
        },
        {
          "output_type": "display_data",
          "data": {
            "text/html": [
              "<pre>recommendations finished on 85000/100836 queries. users per second: 2698.8</pre>"
            ],
            "text/plain": [
              "recommendations finished on 85000/100836 queries. users per second: 2698.8"
            ]
          },
          "metadata": {
            "tags": []
          }
        },
        {
          "output_type": "display_data",
          "data": {
            "text/html": [
              "<pre>recommendations finished on 86000/100836 queries. users per second: 2708.49</pre>"
            ],
            "text/plain": [
              "recommendations finished on 86000/100836 queries. users per second: 2708.49"
            ]
          },
          "metadata": {
            "tags": []
          }
        },
        {
          "output_type": "display_data",
          "data": {
            "text/html": [
              "<pre>recommendations finished on 87000/100836 queries. users per second: 2703.59</pre>"
            ],
            "text/plain": [
              "recommendations finished on 87000/100836 queries. users per second: 2703.59"
            ]
          },
          "metadata": {
            "tags": []
          }
        },
        {
          "output_type": "display_data",
          "data": {
            "text/html": [
              "<pre>recommendations finished on 88000/100836 queries. users per second: 2709.14</pre>"
            ],
            "text/plain": [
              "recommendations finished on 88000/100836 queries. users per second: 2709.14"
            ]
          },
          "metadata": {
            "tags": []
          }
        },
        {
          "output_type": "display_data",
          "data": {
            "text/html": [
              "<pre>recommendations finished on 89000/100836 queries. users per second: 2715.66</pre>"
            ],
            "text/plain": [
              "recommendations finished on 89000/100836 queries. users per second: 2715.66"
            ]
          },
          "metadata": {
            "tags": []
          }
        },
        {
          "output_type": "display_data",
          "data": {
            "text/html": [
              "<pre>recommendations finished on 90000/100836 queries. users per second: 2721.98</pre>"
            ],
            "text/plain": [
              "recommendations finished on 90000/100836 queries. users per second: 2721.98"
            ]
          },
          "metadata": {
            "tags": []
          }
        },
        {
          "output_type": "display_data",
          "data": {
            "text/html": [
              "<pre>recommendations finished on 91000/100836 queries. users per second: 2712.14</pre>"
            ],
            "text/plain": [
              "recommendations finished on 91000/100836 queries. users per second: 2712.14"
            ]
          },
          "metadata": {
            "tags": []
          }
        },
        {
          "output_type": "display_data",
          "data": {
            "text/html": [
              "<pre>recommendations finished on 92000/100836 queries. users per second: 2700.76</pre>"
            ],
            "text/plain": [
              "recommendations finished on 92000/100836 queries. users per second: 2700.76"
            ]
          },
          "metadata": {
            "tags": []
          }
        },
        {
          "output_type": "display_data",
          "data": {
            "text/html": [
              "<pre>recommendations finished on 93000/100836 queries. users per second: 2636.18</pre>"
            ],
            "text/plain": [
              "recommendations finished on 93000/100836 queries. users per second: 2636.18"
            ]
          },
          "metadata": {
            "tags": []
          }
        },
        {
          "output_type": "display_data",
          "data": {
            "text/html": [
              "<pre>recommendations finished on 94000/100836 queries. users per second: 2508.1</pre>"
            ],
            "text/plain": [
              "recommendations finished on 94000/100836 queries. users per second: 2508.1"
            ]
          },
          "metadata": {
            "tags": []
          }
        },
        {
          "output_type": "display_data",
          "data": {
            "text/html": [
              "<pre>recommendations finished on 95000/100836 queries. users per second: 2396.68</pre>"
            ],
            "text/plain": [
              "recommendations finished on 95000/100836 queries. users per second: 2396.68"
            ]
          },
          "metadata": {
            "tags": []
          }
        },
        {
          "output_type": "display_data",
          "data": {
            "text/html": [
              "<pre>recommendations finished on 96000/100836 queries. users per second: 2372.38</pre>"
            ],
            "text/plain": [
              "recommendations finished on 96000/100836 queries. users per second: 2372.38"
            ]
          },
          "metadata": {
            "tags": []
          }
        },
        {
          "output_type": "display_data",
          "data": {
            "text/html": [
              "<pre>recommendations finished on 97000/100836 queries. users per second: 2349.96</pre>"
            ],
            "text/plain": [
              "recommendations finished on 97000/100836 queries. users per second: 2349.96"
            ]
          },
          "metadata": {
            "tags": []
          }
        },
        {
          "output_type": "display_data",
          "data": {
            "text/html": [
              "<pre>recommendations finished on 98000/100836 queries. users per second: 2333.12</pre>"
            ],
            "text/plain": [
              "recommendations finished on 98000/100836 queries. users per second: 2333.12"
            ]
          },
          "metadata": {
            "tags": []
          }
        },
        {
          "output_type": "display_data",
          "data": {
            "text/html": [
              "<pre>recommendations finished on 99000/100836 queries. users per second: 2313.36</pre>"
            ],
            "text/plain": [
              "recommendations finished on 99000/100836 queries. users per second: 2313.36"
            ]
          },
          "metadata": {
            "tags": []
          }
        },
        {
          "output_type": "display_data",
          "data": {
            "text/html": [
              "<pre>recommendations finished on 100000/100836 queries. users per second: 2285.12</pre>"
            ],
            "text/plain": [
              "recommendations finished on 100000/100836 queries. users per second: 2285.12"
            ]
          },
          "metadata": {
            "tags": []
          }
        },
        {
          "output_type": "stream",
          "text": [
            "+---------+----------------+--------------------+------+\n",
            "| user_id | product_number |       score        | rank |\n",
            "+---------+----------------+--------------------+------+\n",
            "|    1    |      489       | 0.8643112846513983 |  1   |\n",
            "|    1    |      318       | 0.8580062866161888 |  2   |\n",
            "|    1    |      360       | 0.848631918689479  |  3   |\n",
            "|    1    |     107141     | 0.8438651725001955 |  4   |\n",
            "|    1    |      3915      | 0.8394236996553947 |  5   |\n",
            "|    1    |      949       | 0.8374290377333544 |  6   |\n",
            "|    1    |      6639      | 0.8367346938775511 |  7   |\n",
            "|    1    |      4754      | 0.8333333333333334 |  8   |\n",
            "|    1    |      2548      | 0.8333333333333334 |  9   |\n",
            "|    1    |      912       | 0.8315482767135052 |  10  |\n",
            "+---------+----------------+--------------------+------+\n",
            "[1008360 rows x 4 columns]\n",
            "\n"
          ],
          "name": "stdout"
        }
      ]
    },
    {
      "cell_type": "code",
      "metadata": {
        "id": "PwPwHdCCpOMR",
        "colab": {
          "base_uri": "https://localhost:8080/",
          "height": 221
        },
        "outputId": "6c21e4ad-c8b9-4998-9afd-455a72ea74e6"
      },
      "source": [
        "df_rec = recom.to_dataframe()\r\n",
        "print(df_rec.shape)\r\n",
        "df_rec.head()"
      ],
      "execution_count": 108,
      "outputs": [
        {
          "output_type": "stream",
          "text": [
            "(1008360, 4)\n"
          ],
          "name": "stdout"
        },
        {
          "output_type": "execute_result",
          "data": {
            "text/html": [
              "<div>\n",
              "<style scoped>\n",
              "    .dataframe tbody tr th:only-of-type {\n",
              "        vertical-align: middle;\n",
              "    }\n",
              "\n",
              "    .dataframe tbody tr th {\n",
              "        vertical-align: top;\n",
              "    }\n",
              "\n",
              "    .dataframe thead th {\n",
              "        text-align: right;\n",
              "    }\n",
              "</style>\n",
              "<table border=\"1\" class=\"dataframe\">\n",
              "  <thead>\n",
              "    <tr style=\"text-align: right;\">\n",
              "      <th></th>\n",
              "      <th>user_id</th>\n",
              "      <th>product_number</th>\n",
              "      <th>score</th>\n",
              "      <th>rank</th>\n",
              "    </tr>\n",
              "  </thead>\n",
              "  <tbody>\n",
              "    <tr>\n",
              "      <th>0</th>\n",
              "      <td>1</td>\n",
              "      <td>489</td>\n",
              "      <td>0.864311</td>\n",
              "      <td>1</td>\n",
              "    </tr>\n",
              "    <tr>\n",
              "      <th>1</th>\n",
              "      <td>1</td>\n",
              "      <td>318</td>\n",
              "      <td>0.858006</td>\n",
              "      <td>2</td>\n",
              "    </tr>\n",
              "    <tr>\n",
              "      <th>2</th>\n",
              "      <td>1</td>\n",
              "      <td>360</td>\n",
              "      <td>0.848632</td>\n",
              "      <td>3</td>\n",
              "    </tr>\n",
              "    <tr>\n",
              "      <th>3</th>\n",
              "      <td>1</td>\n",
              "      <td>107141</td>\n",
              "      <td>0.843865</td>\n",
              "      <td>4</td>\n",
              "    </tr>\n",
              "    <tr>\n",
              "      <th>4</th>\n",
              "      <td>1</td>\n",
              "      <td>3915</td>\n",
              "      <td>0.839424</td>\n",
              "      <td>5</td>\n",
              "    </tr>\n",
              "  </tbody>\n",
              "</table>\n",
              "</div>"
            ],
            "text/plain": [
              "   user_id  product_number     score  rank\n",
              "0        1             489  0.864311     1\n",
              "1        1             318  0.858006     2\n",
              "2        1             360  0.848632     3\n",
              "3        1          107141  0.843865     4\n",
              "4        1            3915  0.839424     5"
            ]
          },
          "metadata": {
            "tags": []
          },
          "execution_count": 108
        }
      ]
    },
    {
      "cell_type": "code",
      "metadata": {
        "id": "IkuaylXSpQbJ"
      },
      "source": [
        "def create_output(model, users_to_recommend, n_rec, print_csv=True):\r\n",
        "    recomendation = model.recommend(users=users_to_recommend, k=n_rec)\r\n",
        "    df_rec = recomendation.to_dataframe()\r\n",
        "    df_rec['recommendedmovies'] = df_rec.groupby([user_id])[item_id] \\\r\n",
        "        .transform(lambda x: '|'.join(x.astype(str)))\r\n",
        "    df_output = df_rec[['user_id', 'recommendedmovies']].drop_duplicates() \\\r\n",
        "        .sort_values('user_id').set_index('user_id')\r\n",
        "    if print_csv:\r\n",
        "        df_output.to_csv('/content/option1_recommendation.csv')\r\n",
        "        print(\"An output file can be found in 'output' folder with name 'option1_recommendation.csv'\")\r\n",
        "    return df_output"
      ],
      "execution_count": 109,
      "outputs": []
    },
    {
      "cell_type": "code",
      "metadata": {
        "id": "UfpSlQsIpStJ",
        "colab": {
          "base_uri": "https://localhost:8080/",
          "height": 1000
        },
        "outputId": "c0e9a1d8-9114-496c-96cb-361f7ddc170c"
      },
      "source": [
        "df_output = create_output(pear_norm, users_to_recommend, n_rec, print_csv=True)\r\n",
        "print(df_output.shape)\r\n",
        "df_output.head()"
      ],
      "execution_count": 110,
      "outputs": [
        {
          "output_type": "display_data",
          "data": {
            "text/html": [
              "<pre>recommendations finished on 1000/100836 queries. users per second: 6387.21</pre>"
            ],
            "text/plain": [
              "recommendations finished on 1000/100836 queries. users per second: 6387.21"
            ]
          },
          "metadata": {
            "tags": []
          }
        },
        {
          "output_type": "display_data",
          "data": {
            "text/html": [
              "<pre>recommendations finished on 2000/100836 queries. users per second: 5822.25</pre>"
            ],
            "text/plain": [
              "recommendations finished on 2000/100836 queries. users per second: 5822.25"
            ]
          },
          "metadata": {
            "tags": []
          }
        },
        {
          "output_type": "display_data",
          "data": {
            "text/html": [
              "<pre>recommendations finished on 3000/100836 queries. users per second: 6326.43</pre>"
            ],
            "text/plain": [
              "recommendations finished on 3000/100836 queries. users per second: 6326.43"
            ]
          },
          "metadata": {
            "tags": []
          }
        },
        {
          "output_type": "display_data",
          "data": {
            "text/html": [
              "<pre>recommendations finished on 4000/100836 queries. users per second: 5884.34</pre>"
            ],
            "text/plain": [
              "recommendations finished on 4000/100836 queries. users per second: 5884.34"
            ]
          },
          "metadata": {
            "tags": []
          }
        },
        {
          "output_type": "display_data",
          "data": {
            "text/html": [
              "<pre>recommendations finished on 5000/100836 queries. users per second: 5946.15</pre>"
            ],
            "text/plain": [
              "recommendations finished on 5000/100836 queries. users per second: 5946.15"
            ]
          },
          "metadata": {
            "tags": []
          }
        },
        {
          "output_type": "display_data",
          "data": {
            "text/html": [
              "<pre>recommendations finished on 6000/100836 queries. users per second: 5529.06</pre>"
            ],
            "text/plain": [
              "recommendations finished on 6000/100836 queries. users per second: 5529.06"
            ]
          },
          "metadata": {
            "tags": []
          }
        },
        {
          "output_type": "display_data",
          "data": {
            "text/html": [
              "<pre>recommendations finished on 7000/100836 queries. users per second: 5107.3</pre>"
            ],
            "text/plain": [
              "recommendations finished on 7000/100836 queries. users per second: 5107.3"
            ]
          },
          "metadata": {
            "tags": []
          }
        },
        {
          "output_type": "display_data",
          "data": {
            "text/html": [
              "<pre>recommendations finished on 8000/100836 queries. users per second: 5186.77</pre>"
            ],
            "text/plain": [
              "recommendations finished on 8000/100836 queries. users per second: 5186.77"
            ]
          },
          "metadata": {
            "tags": []
          }
        },
        {
          "output_type": "display_data",
          "data": {
            "text/html": [
              "<pre>recommendations finished on 9000/100836 queries. users per second: 5093.69</pre>"
            ],
            "text/plain": [
              "recommendations finished on 9000/100836 queries. users per second: 5093.69"
            ]
          },
          "metadata": {
            "tags": []
          }
        },
        {
          "output_type": "display_data",
          "data": {
            "text/html": [
              "<pre>recommendations finished on 10000/100836 queries. users per second: 5125.23</pre>"
            ],
            "text/plain": [
              "recommendations finished on 10000/100836 queries. users per second: 5125.23"
            ]
          },
          "metadata": {
            "tags": []
          }
        },
        {
          "output_type": "display_data",
          "data": {
            "text/html": [
              "<pre>recommendations finished on 11000/100836 queries. users per second: 5141.1</pre>"
            ],
            "text/plain": [
              "recommendations finished on 11000/100836 queries. users per second: 5141.1"
            ]
          },
          "metadata": {
            "tags": []
          }
        },
        {
          "output_type": "display_data",
          "data": {
            "text/html": [
              "<pre>recommendations finished on 12000/100836 queries. users per second: 5085.85</pre>"
            ],
            "text/plain": [
              "recommendations finished on 12000/100836 queries. users per second: 5085.85"
            ]
          },
          "metadata": {
            "tags": []
          }
        },
        {
          "output_type": "display_data",
          "data": {
            "text/html": [
              "<pre>recommendations finished on 13000/100836 queries. users per second: 4820.91</pre>"
            ],
            "text/plain": [
              "recommendations finished on 13000/100836 queries. users per second: 4820.91"
            ]
          },
          "metadata": {
            "tags": []
          }
        },
        {
          "output_type": "display_data",
          "data": {
            "text/html": [
              "<pre>recommendations finished on 14000/100836 queries. users per second: 4550.65</pre>"
            ],
            "text/plain": [
              "recommendations finished on 14000/100836 queries. users per second: 4550.65"
            ]
          },
          "metadata": {
            "tags": []
          }
        },
        {
          "output_type": "display_data",
          "data": {
            "text/html": [
              "<pre>recommendations finished on 15000/100836 queries. users per second: 4472.73</pre>"
            ],
            "text/plain": [
              "recommendations finished on 15000/100836 queries. users per second: 4472.73"
            ]
          },
          "metadata": {
            "tags": []
          }
        },
        {
          "output_type": "display_data",
          "data": {
            "text/html": [
              "<pre>recommendations finished on 16000/100836 queries. users per second: 4381.19</pre>"
            ],
            "text/plain": [
              "recommendations finished on 16000/100836 queries. users per second: 4381.19"
            ]
          },
          "metadata": {
            "tags": []
          }
        },
        {
          "output_type": "display_data",
          "data": {
            "text/html": [
              "<pre>recommendations finished on 17000/100836 queries. users per second: 4373.61</pre>"
            ],
            "text/plain": [
              "recommendations finished on 17000/100836 queries. users per second: 4373.61"
            ]
          },
          "metadata": {
            "tags": []
          }
        },
        {
          "output_type": "display_data",
          "data": {
            "text/html": [
              "<pre>recommendations finished on 18000/100836 queries. users per second: 4407.47</pre>"
            ],
            "text/plain": [
              "recommendations finished on 18000/100836 queries. users per second: 4407.47"
            ]
          },
          "metadata": {
            "tags": []
          }
        },
        {
          "output_type": "display_data",
          "data": {
            "text/html": [
              "<pre>recommendations finished on 19000/100836 queries. users per second: 4308.35</pre>"
            ],
            "text/plain": [
              "recommendations finished on 19000/100836 queries. users per second: 4308.35"
            ]
          },
          "metadata": {
            "tags": []
          }
        },
        {
          "output_type": "display_data",
          "data": {
            "text/html": [
              "<pre>recommendations finished on 20000/100836 queries. users per second: 4153</pre>"
            ],
            "text/plain": [
              "recommendations finished on 20000/100836 queries. users per second: 4153"
            ]
          },
          "metadata": {
            "tags": []
          }
        },
        {
          "output_type": "display_data",
          "data": {
            "text/html": [
              "<pre>recommendations finished on 21000/100836 queries. users per second: 3971.77</pre>"
            ],
            "text/plain": [
              "recommendations finished on 21000/100836 queries. users per second: 3971.77"
            ]
          },
          "metadata": {
            "tags": []
          }
        },
        {
          "output_type": "display_data",
          "data": {
            "text/html": [
              "<pre>recommendations finished on 22000/100836 queries. users per second: 3960.65</pre>"
            ],
            "text/plain": [
              "recommendations finished on 22000/100836 queries. users per second: 3960.65"
            ]
          },
          "metadata": {
            "tags": []
          }
        },
        {
          "output_type": "display_data",
          "data": {
            "text/html": [
              "<pre>recommendations finished on 23000/100836 queries. users per second: 3986.26</pre>"
            ],
            "text/plain": [
              "recommendations finished on 23000/100836 queries. users per second: 3986.26"
            ]
          },
          "metadata": {
            "tags": []
          }
        },
        {
          "output_type": "display_data",
          "data": {
            "text/html": [
              "<pre>recommendations finished on 24000/100836 queries. users per second: 3823.5</pre>"
            ],
            "text/plain": [
              "recommendations finished on 24000/100836 queries. users per second: 3823.5"
            ]
          },
          "metadata": {
            "tags": []
          }
        },
        {
          "output_type": "display_data",
          "data": {
            "text/html": [
              "<pre>recommendations finished on 25000/100836 queries. users per second: 3827.83</pre>"
            ],
            "text/plain": [
              "recommendations finished on 25000/100836 queries. users per second: 3827.83"
            ]
          },
          "metadata": {
            "tags": []
          }
        },
        {
          "output_type": "display_data",
          "data": {
            "text/html": [
              "<pre>recommendations finished on 26000/100836 queries. users per second: 3803.51</pre>"
            ],
            "text/plain": [
              "recommendations finished on 26000/100836 queries. users per second: 3803.51"
            ]
          },
          "metadata": {
            "tags": []
          }
        },
        {
          "output_type": "display_data",
          "data": {
            "text/html": [
              "<pre>recommendations finished on 27000/100836 queries. users per second: 3706.24</pre>"
            ],
            "text/plain": [
              "recommendations finished on 27000/100836 queries. users per second: 3706.24"
            ]
          },
          "metadata": {
            "tags": []
          }
        },
        {
          "output_type": "display_data",
          "data": {
            "text/html": [
              "<pre>recommendations finished on 28000/100836 queries. users per second: 3702.88</pre>"
            ],
            "text/plain": [
              "recommendations finished on 28000/100836 queries. users per second: 3702.88"
            ]
          },
          "metadata": {
            "tags": []
          }
        },
        {
          "output_type": "display_data",
          "data": {
            "text/html": [
              "<pre>recommendations finished on 29000/100836 queries. users per second: 3656.81</pre>"
            ],
            "text/plain": [
              "recommendations finished on 29000/100836 queries. users per second: 3656.81"
            ]
          },
          "metadata": {
            "tags": []
          }
        },
        {
          "output_type": "display_data",
          "data": {
            "text/html": [
              "<pre>recommendations finished on 30000/100836 queries. users per second: 3564.15</pre>"
            ],
            "text/plain": [
              "recommendations finished on 30000/100836 queries. users per second: 3564.15"
            ]
          },
          "metadata": {
            "tags": []
          }
        },
        {
          "output_type": "display_data",
          "data": {
            "text/html": [
              "<pre>recommendations finished on 31000/100836 queries. users per second: 3485.89</pre>"
            ],
            "text/plain": [
              "recommendations finished on 31000/100836 queries. users per second: 3485.89"
            ]
          },
          "metadata": {
            "tags": []
          }
        },
        {
          "output_type": "display_data",
          "data": {
            "text/html": [
              "<pre>recommendations finished on 32000/100836 queries. users per second: 3502.44</pre>"
            ],
            "text/plain": [
              "recommendations finished on 32000/100836 queries. users per second: 3502.44"
            ]
          },
          "metadata": {
            "tags": []
          }
        },
        {
          "output_type": "display_data",
          "data": {
            "text/html": [
              "<pre>recommendations finished on 33000/100836 queries. users per second: 3482.69</pre>"
            ],
            "text/plain": [
              "recommendations finished on 33000/100836 queries. users per second: 3482.69"
            ]
          },
          "metadata": {
            "tags": []
          }
        },
        {
          "output_type": "display_data",
          "data": {
            "text/html": [
              "<pre>recommendations finished on 34000/100836 queries. users per second: 3462.61</pre>"
            ],
            "text/plain": [
              "recommendations finished on 34000/100836 queries. users per second: 3462.61"
            ]
          },
          "metadata": {
            "tags": []
          }
        },
        {
          "output_type": "display_data",
          "data": {
            "text/html": [
              "<pre>recommendations finished on 35000/100836 queries. users per second: 3429.01</pre>"
            ],
            "text/plain": [
              "recommendations finished on 35000/100836 queries. users per second: 3429.01"
            ]
          },
          "metadata": {
            "tags": []
          }
        },
        {
          "output_type": "display_data",
          "data": {
            "text/html": [
              "<pre>recommendations finished on 36000/100836 queries. users per second: 3418.3</pre>"
            ],
            "text/plain": [
              "recommendations finished on 36000/100836 queries. users per second: 3418.3"
            ]
          },
          "metadata": {
            "tags": []
          }
        },
        {
          "output_type": "display_data",
          "data": {
            "text/html": [
              "<pre>recommendations finished on 37000/100836 queries. users per second: 3414.01</pre>"
            ],
            "text/plain": [
              "recommendations finished on 37000/100836 queries. users per second: 3414.01"
            ]
          },
          "metadata": {
            "tags": []
          }
        },
        {
          "output_type": "display_data",
          "data": {
            "text/html": [
              "<pre>recommendations finished on 38000/100836 queries. users per second: 3397.84</pre>"
            ],
            "text/plain": [
              "recommendations finished on 38000/100836 queries. users per second: 3397.84"
            ]
          },
          "metadata": {
            "tags": []
          }
        },
        {
          "output_type": "display_data",
          "data": {
            "text/html": [
              "<pre>recommendations finished on 39000/100836 queries. users per second: 3402.75</pre>"
            ],
            "text/plain": [
              "recommendations finished on 39000/100836 queries. users per second: 3402.75"
            ]
          },
          "metadata": {
            "tags": []
          }
        },
        {
          "output_type": "display_data",
          "data": {
            "text/html": [
              "<pre>recommendations finished on 40000/100836 queries. users per second: 3292.02</pre>"
            ],
            "text/plain": [
              "recommendations finished on 40000/100836 queries. users per second: 3292.02"
            ]
          },
          "metadata": {
            "tags": []
          }
        },
        {
          "output_type": "display_data",
          "data": {
            "text/html": [
              "<pre>recommendations finished on 41000/100836 queries. users per second: 3231.51</pre>"
            ],
            "text/plain": [
              "recommendations finished on 41000/100836 queries. users per second: 3231.51"
            ]
          },
          "metadata": {
            "tags": []
          }
        },
        {
          "output_type": "display_data",
          "data": {
            "text/html": [
              "<pre>recommendations finished on 42000/100836 queries. users per second: 3258.96</pre>"
            ],
            "text/plain": [
              "recommendations finished on 42000/100836 queries. users per second: 3258.96"
            ]
          },
          "metadata": {
            "tags": []
          }
        },
        {
          "output_type": "display_data",
          "data": {
            "text/html": [
              "<pre>recommendations finished on 43000/100836 queries. users per second: 3268.79</pre>"
            ],
            "text/plain": [
              "recommendations finished on 43000/100836 queries. users per second: 3268.79"
            ]
          },
          "metadata": {
            "tags": []
          }
        },
        {
          "output_type": "display_data",
          "data": {
            "text/html": [
              "<pre>recommendations finished on 44000/100836 queries. users per second: 3291.99</pre>"
            ],
            "text/plain": [
              "recommendations finished on 44000/100836 queries. users per second: 3291.99"
            ]
          },
          "metadata": {
            "tags": []
          }
        },
        {
          "output_type": "display_data",
          "data": {
            "text/html": [
              "<pre>recommendations finished on 45000/100836 queries. users per second: 3325.66</pre>"
            ],
            "text/plain": [
              "recommendations finished on 45000/100836 queries. users per second: 3325.66"
            ]
          },
          "metadata": {
            "tags": []
          }
        },
        {
          "output_type": "display_data",
          "data": {
            "text/html": [
              "<pre>recommendations finished on 46000/100836 queries. users per second: 3351.27</pre>"
            ],
            "text/plain": [
              "recommendations finished on 46000/100836 queries. users per second: 3351.27"
            ]
          },
          "metadata": {
            "tags": []
          }
        },
        {
          "output_type": "display_data",
          "data": {
            "text/html": [
              "<pre>recommendations finished on 47000/100836 queries. users per second: 3356.06</pre>"
            ],
            "text/plain": [
              "recommendations finished on 47000/100836 queries. users per second: 3356.06"
            ]
          },
          "metadata": {
            "tags": []
          }
        },
        {
          "output_type": "display_data",
          "data": {
            "text/html": [
              "<pre>recommendations finished on 48000/100836 queries. users per second: 3369.26</pre>"
            ],
            "text/plain": [
              "recommendations finished on 48000/100836 queries. users per second: 3369.26"
            ]
          },
          "metadata": {
            "tags": []
          }
        },
        {
          "output_type": "display_data",
          "data": {
            "text/html": [
              "<pre>recommendations finished on 49000/100836 queries. users per second: 3381.77</pre>"
            ],
            "text/plain": [
              "recommendations finished on 49000/100836 queries. users per second: 3381.77"
            ]
          },
          "metadata": {
            "tags": []
          }
        },
        {
          "output_type": "display_data",
          "data": {
            "text/html": [
              "<pre>recommendations finished on 50000/100836 queries. users per second: 3361.83</pre>"
            ],
            "text/plain": [
              "recommendations finished on 50000/100836 queries. users per second: 3361.83"
            ]
          },
          "metadata": {
            "tags": []
          }
        },
        {
          "output_type": "display_data",
          "data": {
            "text/html": [
              "<pre>recommendations finished on 51000/100836 queries. users per second: 3326.78</pre>"
            ],
            "text/plain": [
              "recommendations finished on 51000/100836 queries. users per second: 3326.78"
            ]
          },
          "metadata": {
            "tags": []
          }
        },
        {
          "output_type": "display_data",
          "data": {
            "text/html": [
              "<pre>recommendations finished on 52000/100836 queries. users per second: 3323.92</pre>"
            ],
            "text/plain": [
              "recommendations finished on 52000/100836 queries. users per second: 3323.92"
            ]
          },
          "metadata": {
            "tags": []
          }
        },
        {
          "output_type": "display_data",
          "data": {
            "text/html": [
              "<pre>recommendations finished on 53000/100836 queries. users per second: 3311.9</pre>"
            ],
            "text/plain": [
              "recommendations finished on 53000/100836 queries. users per second: 3311.9"
            ]
          },
          "metadata": {
            "tags": []
          }
        },
        {
          "output_type": "display_data",
          "data": {
            "text/html": [
              "<pre>recommendations finished on 54000/100836 queries. users per second: 3252.24</pre>"
            ],
            "text/plain": [
              "recommendations finished on 54000/100836 queries. users per second: 3252.24"
            ]
          },
          "metadata": {
            "tags": []
          }
        },
        {
          "output_type": "display_data",
          "data": {
            "text/html": [
              "<pre>recommendations finished on 55000/100836 queries. users per second: 3187.98</pre>"
            ],
            "text/plain": [
              "recommendations finished on 55000/100836 queries. users per second: 3187.98"
            ]
          },
          "metadata": {
            "tags": []
          }
        },
        {
          "output_type": "display_data",
          "data": {
            "text/html": [
              "<pre>recommendations finished on 56000/100836 queries. users per second: 3211.64</pre>"
            ],
            "text/plain": [
              "recommendations finished on 56000/100836 queries. users per second: 3211.64"
            ]
          },
          "metadata": {
            "tags": []
          }
        },
        {
          "output_type": "display_data",
          "data": {
            "text/html": [
              "<pre>recommendations finished on 57000/100836 queries. users per second: 3240</pre>"
            ],
            "text/plain": [
              "recommendations finished on 57000/100836 queries. users per second: 3240"
            ]
          },
          "metadata": {
            "tags": []
          }
        },
        {
          "output_type": "display_data",
          "data": {
            "text/html": [
              "<pre>recommendations finished on 58000/100836 queries. users per second: 3266.25</pre>"
            ],
            "text/plain": [
              "recommendations finished on 58000/100836 queries. users per second: 3266.25"
            ]
          },
          "metadata": {
            "tags": []
          }
        },
        {
          "output_type": "display_data",
          "data": {
            "text/html": [
              "<pre>recommendations finished on 59000/100836 queries. users per second: 3270.02</pre>"
            ],
            "text/plain": [
              "recommendations finished on 59000/100836 queries. users per second: 3270.02"
            ]
          },
          "metadata": {
            "tags": []
          }
        },
        {
          "output_type": "display_data",
          "data": {
            "text/html": [
              "<pre>recommendations finished on 60000/100836 queries. users per second: 3236.09</pre>"
            ],
            "text/plain": [
              "recommendations finished on 60000/100836 queries. users per second: 3236.09"
            ]
          },
          "metadata": {
            "tags": []
          }
        },
        {
          "output_type": "display_data",
          "data": {
            "text/html": [
              "<pre>recommendations finished on 61000/100836 queries. users per second: 3215.22</pre>"
            ],
            "text/plain": [
              "recommendations finished on 61000/100836 queries. users per second: 3215.22"
            ]
          },
          "metadata": {
            "tags": []
          }
        },
        {
          "output_type": "display_data",
          "data": {
            "text/html": [
              "<pre>recommendations finished on 62000/100836 queries. users per second: 3211.73</pre>"
            ],
            "text/plain": [
              "recommendations finished on 62000/100836 queries. users per second: 3211.73"
            ]
          },
          "metadata": {
            "tags": []
          }
        },
        {
          "output_type": "display_data",
          "data": {
            "text/html": [
              "<pre>recommendations finished on 63000/100836 queries. users per second: 3192.63</pre>"
            ],
            "text/plain": [
              "recommendations finished on 63000/100836 queries. users per second: 3192.63"
            ]
          },
          "metadata": {
            "tags": []
          }
        },
        {
          "output_type": "display_data",
          "data": {
            "text/html": [
              "<pre>recommendations finished on 64000/100836 queries. users per second: 3115.96</pre>"
            ],
            "text/plain": [
              "recommendations finished on 64000/100836 queries. users per second: 3115.96"
            ]
          },
          "metadata": {
            "tags": []
          }
        },
        {
          "output_type": "display_data",
          "data": {
            "text/html": [
              "<pre>recommendations finished on 65000/100836 queries. users per second: 3055.52</pre>"
            ],
            "text/plain": [
              "recommendations finished on 65000/100836 queries. users per second: 3055.52"
            ]
          },
          "metadata": {
            "tags": []
          }
        },
        {
          "output_type": "display_data",
          "data": {
            "text/html": [
              "<pre>recommendations finished on 66000/100836 queries. users per second: 3053.97</pre>"
            ],
            "text/plain": [
              "recommendations finished on 66000/100836 queries. users per second: 3053.97"
            ]
          },
          "metadata": {
            "tags": []
          }
        },
        {
          "output_type": "display_data",
          "data": {
            "text/html": [
              "<pre>recommendations finished on 67000/100836 queries. users per second: 3051.69</pre>"
            ],
            "text/plain": [
              "recommendations finished on 67000/100836 queries. users per second: 3051.69"
            ]
          },
          "metadata": {
            "tags": []
          }
        },
        {
          "output_type": "display_data",
          "data": {
            "text/html": [
              "<pre>recommendations finished on 68000/100836 queries. users per second: 3044.85</pre>"
            ],
            "text/plain": [
              "recommendations finished on 68000/100836 queries. users per second: 3044.85"
            ]
          },
          "metadata": {
            "tags": []
          }
        },
        {
          "output_type": "display_data",
          "data": {
            "text/html": [
              "<pre>recommendations finished on 69000/100836 queries. users per second: 3035.32</pre>"
            ],
            "text/plain": [
              "recommendations finished on 69000/100836 queries. users per second: 3035.32"
            ]
          },
          "metadata": {
            "tags": []
          }
        },
        {
          "output_type": "display_data",
          "data": {
            "text/html": [
              "<pre>recommendations finished on 70000/100836 queries. users per second: 3028.16</pre>"
            ],
            "text/plain": [
              "recommendations finished on 70000/100836 queries. users per second: 3028.16"
            ]
          },
          "metadata": {
            "tags": []
          }
        },
        {
          "output_type": "display_data",
          "data": {
            "text/html": [
              "<pre>recommendations finished on 71000/100836 queries. users per second: 3031.98</pre>"
            ],
            "text/plain": [
              "recommendations finished on 71000/100836 queries. users per second: 3031.98"
            ]
          },
          "metadata": {
            "tags": []
          }
        },
        {
          "output_type": "display_data",
          "data": {
            "text/html": [
              "<pre>recommendations finished on 72000/100836 queries. users per second: 3032.34</pre>"
            ],
            "text/plain": [
              "recommendations finished on 72000/100836 queries. users per second: 3032.34"
            ]
          },
          "metadata": {
            "tags": []
          }
        },
        {
          "output_type": "display_data",
          "data": {
            "text/html": [
              "<pre>recommendations finished on 73000/100836 queries. users per second: 3033.85</pre>"
            ],
            "text/plain": [
              "recommendations finished on 73000/100836 queries. users per second: 3033.85"
            ]
          },
          "metadata": {
            "tags": []
          }
        },
        {
          "output_type": "display_data",
          "data": {
            "text/html": [
              "<pre>recommendations finished on 74000/100836 queries. users per second: 3023.98</pre>"
            ],
            "text/plain": [
              "recommendations finished on 74000/100836 queries. users per second: 3023.98"
            ]
          },
          "metadata": {
            "tags": []
          }
        },
        {
          "output_type": "display_data",
          "data": {
            "text/html": [
              "<pre>recommendations finished on 75000/100836 queries. users per second: 3042.4</pre>"
            ],
            "text/plain": [
              "recommendations finished on 75000/100836 queries. users per second: 3042.4"
            ]
          },
          "metadata": {
            "tags": []
          }
        },
        {
          "output_type": "display_data",
          "data": {
            "text/html": [
              "<pre>recommendations finished on 76000/100836 queries. users per second: 3061.7</pre>"
            ],
            "text/plain": [
              "recommendations finished on 76000/100836 queries. users per second: 3061.7"
            ]
          },
          "metadata": {
            "tags": []
          }
        },
        {
          "output_type": "display_data",
          "data": {
            "text/html": [
              "<pre>recommendations finished on 77000/100836 queries. users per second: 3066.28</pre>"
            ],
            "text/plain": [
              "recommendations finished on 77000/100836 queries. users per second: 3066.28"
            ]
          },
          "metadata": {
            "tags": []
          }
        },
        {
          "output_type": "display_data",
          "data": {
            "text/html": [
              "<pre>recommendations finished on 78000/100836 queries. users per second: 3063.28</pre>"
            ],
            "text/plain": [
              "recommendations finished on 78000/100836 queries. users per second: 3063.28"
            ]
          },
          "metadata": {
            "tags": []
          }
        },
        {
          "output_type": "display_data",
          "data": {
            "text/html": [
              "<pre>recommendations finished on 79000/100836 queries. users per second: 3068.6</pre>"
            ],
            "text/plain": [
              "recommendations finished on 79000/100836 queries. users per second: 3068.6"
            ]
          },
          "metadata": {
            "tags": []
          }
        },
        {
          "output_type": "display_data",
          "data": {
            "text/html": [
              "<pre>recommendations finished on 80000/100836 queries. users per second: 3073.24</pre>"
            ],
            "text/plain": [
              "recommendations finished on 80000/100836 queries. users per second: 3073.24"
            ]
          },
          "metadata": {
            "tags": []
          }
        },
        {
          "output_type": "display_data",
          "data": {
            "text/html": [
              "<pre>recommendations finished on 81000/100836 queries. users per second: 3082.29</pre>"
            ],
            "text/plain": [
              "recommendations finished on 81000/100836 queries. users per second: 3082.29"
            ]
          },
          "metadata": {
            "tags": []
          }
        },
        {
          "output_type": "display_data",
          "data": {
            "text/html": [
              "<pre>recommendations finished on 82000/100836 queries. users per second: 3095.36</pre>"
            ],
            "text/plain": [
              "recommendations finished on 82000/100836 queries. users per second: 3095.36"
            ]
          },
          "metadata": {
            "tags": []
          }
        },
        {
          "output_type": "display_data",
          "data": {
            "text/html": [
              "<pre>recommendations finished on 83000/100836 queries. users per second: 3113.41</pre>"
            ],
            "text/plain": [
              "recommendations finished on 83000/100836 queries. users per second: 3113.41"
            ]
          },
          "metadata": {
            "tags": []
          }
        },
        {
          "output_type": "display_data",
          "data": {
            "text/html": [
              "<pre>recommendations finished on 84000/100836 queries. users per second: 3129.58</pre>"
            ],
            "text/plain": [
              "recommendations finished on 84000/100836 queries. users per second: 3129.58"
            ]
          },
          "metadata": {
            "tags": []
          }
        },
        {
          "output_type": "display_data",
          "data": {
            "text/html": [
              "<pre>recommendations finished on 85000/100836 queries. users per second: 3124.23</pre>"
            ],
            "text/plain": [
              "recommendations finished on 85000/100836 queries. users per second: 3124.23"
            ]
          },
          "metadata": {
            "tags": []
          }
        },
        {
          "output_type": "display_data",
          "data": {
            "text/html": [
              "<pre>recommendations finished on 86000/100836 queries. users per second: 3131.67</pre>"
            ],
            "text/plain": [
              "recommendations finished on 86000/100836 queries. users per second: 3131.67"
            ]
          },
          "metadata": {
            "tags": []
          }
        },
        {
          "output_type": "display_data",
          "data": {
            "text/html": [
              "<pre>recommendations finished on 87000/100836 queries. users per second: 3135.2</pre>"
            ],
            "text/plain": [
              "recommendations finished on 87000/100836 queries. users per second: 3135.2"
            ]
          },
          "metadata": {
            "tags": []
          }
        },
        {
          "output_type": "display_data",
          "data": {
            "text/html": [
              "<pre>recommendations finished on 88000/100836 queries. users per second: 3143.73</pre>"
            ],
            "text/plain": [
              "recommendations finished on 88000/100836 queries. users per second: 3143.73"
            ]
          },
          "metadata": {
            "tags": []
          }
        },
        {
          "output_type": "display_data",
          "data": {
            "text/html": [
              "<pre>recommendations finished on 89000/100836 queries. users per second: 3151.98</pre>"
            ],
            "text/plain": [
              "recommendations finished on 89000/100836 queries. users per second: 3151.98"
            ]
          },
          "metadata": {
            "tags": []
          }
        },
        {
          "output_type": "display_data",
          "data": {
            "text/html": [
              "<pre>recommendations finished on 90000/100836 queries. users per second: 3159.33</pre>"
            ],
            "text/plain": [
              "recommendations finished on 90000/100836 queries. users per second: 3159.33"
            ]
          },
          "metadata": {
            "tags": []
          }
        },
        {
          "output_type": "display_data",
          "data": {
            "text/html": [
              "<pre>recommendations finished on 91000/100836 queries. users per second: 3151.34</pre>"
            ],
            "text/plain": [
              "recommendations finished on 91000/100836 queries. users per second: 3151.34"
            ]
          },
          "metadata": {
            "tags": []
          }
        },
        {
          "output_type": "display_data",
          "data": {
            "text/html": [
              "<pre>recommendations finished on 92000/100836 queries. users per second: 3150.96</pre>"
            ],
            "text/plain": [
              "recommendations finished on 92000/100836 queries. users per second: 3150.96"
            ]
          },
          "metadata": {
            "tags": []
          }
        },
        {
          "output_type": "display_data",
          "data": {
            "text/html": [
              "<pre>recommendations finished on 93000/100836 queries. users per second: 3090.85</pre>"
            ],
            "text/plain": [
              "recommendations finished on 93000/100836 queries. users per second: 3090.85"
            ]
          },
          "metadata": {
            "tags": []
          }
        },
        {
          "output_type": "display_data",
          "data": {
            "text/html": [
              "<pre>recommendations finished on 94000/100836 queries. users per second: 2952.4</pre>"
            ],
            "text/plain": [
              "recommendations finished on 94000/100836 queries. users per second: 2952.4"
            ]
          },
          "metadata": {
            "tags": []
          }
        },
        {
          "output_type": "display_data",
          "data": {
            "text/html": [
              "<pre>recommendations finished on 95000/100836 queries. users per second: 2829.82</pre>"
            ],
            "text/plain": [
              "recommendations finished on 95000/100836 queries. users per second: 2829.82"
            ]
          },
          "metadata": {
            "tags": []
          }
        },
        {
          "output_type": "display_data",
          "data": {
            "text/html": [
              "<pre>recommendations finished on 96000/100836 queries. users per second: 2803.42</pre>"
            ],
            "text/plain": [
              "recommendations finished on 96000/100836 queries. users per second: 2803.42"
            ]
          },
          "metadata": {
            "tags": []
          }
        },
        {
          "output_type": "display_data",
          "data": {
            "text/html": [
              "<pre>recommendations finished on 97000/100836 queries. users per second: 2751.95</pre>"
            ],
            "text/plain": [
              "recommendations finished on 97000/100836 queries. users per second: 2751.95"
            ]
          },
          "metadata": {
            "tags": []
          }
        },
        {
          "output_type": "display_data",
          "data": {
            "text/html": [
              "<pre>recommendations finished on 98000/100836 queries. users per second: 2731.57</pre>"
            ],
            "text/plain": [
              "recommendations finished on 98000/100836 queries. users per second: 2731.57"
            ]
          },
          "metadata": {
            "tags": []
          }
        },
        {
          "output_type": "display_data",
          "data": {
            "text/html": [
              "<pre>recommendations finished on 99000/100836 queries. users per second: 2710.4</pre>"
            ],
            "text/plain": [
              "recommendations finished on 99000/100836 queries. users per second: 2710.4"
            ]
          },
          "metadata": {
            "tags": []
          }
        },
        {
          "output_type": "display_data",
          "data": {
            "text/html": [
              "<pre>recommendations finished on 100000/100836 queries. users per second: 2682.3</pre>"
            ],
            "text/plain": [
              "recommendations finished on 100000/100836 queries. users per second: 2682.3"
            ]
          },
          "metadata": {
            "tags": []
          }
        },
        {
          "output_type": "stream",
          "text": [
            "An output file can be found in 'output' folder with name 'option1_recommendation.csv'\n",
            "(610, 1)\n"
          ],
          "name": "stdout"
        },
        {
          "output_type": "execute_result",
          "data": {
            "text/html": [
              "<div>\n",
              "<style scoped>\n",
              "    .dataframe tbody tr th:only-of-type {\n",
              "        vertical-align: middle;\n",
              "    }\n",
              "\n",
              "    .dataframe tbody tr th {\n",
              "        vertical-align: top;\n",
              "    }\n",
              "\n",
              "    .dataframe thead th {\n",
              "        text-align: right;\n",
              "    }\n",
              "</style>\n",
              "<table border=\"1\" class=\"dataframe\">\n",
              "  <thead>\n",
              "    <tr style=\"text-align: right;\">\n",
              "      <th></th>\n",
              "      <th>recommendedmovies</th>\n",
              "    </tr>\n",
              "    <tr>\n",
              "      <th>user_id</th>\n",
              "      <th></th>\n",
              "    </tr>\n",
              "  </thead>\n",
              "  <tbody>\n",
              "    <tr>\n",
              "      <th>1</th>\n",
              "      <td>1105|115122|6970|64249|3728|4141|86548|117109|...</td>\n",
              "    </tr>\n",
              "    <tr>\n",
              "      <th>2</th>\n",
              "      <td>1105|115122|6970|64249|3728|4141|86548|117109|...</td>\n",
              "    </tr>\n",
              "    <tr>\n",
              "      <th>3</th>\n",
              "      <td>1105|115122|6970|64249|3728|4141|86548|117109|...</td>\n",
              "    </tr>\n",
              "    <tr>\n",
              "      <th>4</th>\n",
              "      <td>1105|115122|6970|64249|3728|4141|86548|117109|...</td>\n",
              "    </tr>\n",
              "    <tr>\n",
              "      <th>5</th>\n",
              "      <td>1105|115122|6970|64249|3728|4141|86548|117109|...</td>\n",
              "    </tr>\n",
              "  </tbody>\n",
              "</table>\n",
              "</div>"
            ],
            "text/plain": [
              "                                         recommendedmovies\n",
              "user_id                                                   \n",
              "1        1105|115122|6970|64249|3728|4141|86548|117109|...\n",
              "2        1105|115122|6970|64249|3728|4141|86548|117109|...\n",
              "3        1105|115122|6970|64249|3728|4141|86548|117109|...\n",
              "4        1105|115122|6970|64249|3728|4141|86548|117109|...\n",
              "5        1105|115122|6970|64249|3728|4141|86548|117109|..."
            ]
          },
          "metadata": {
            "tags": []
          },
          "execution_count": 110
        }
      ]
    },
    {
      "cell_type": "code",
      "metadata": {
        "id": "kunjWSxxpUwZ"
      },
      "source": [
        "def customer_recomendation(customer_id):\r\n",
        "    if customer_id not in df_output.index:\r\n",
        "        print('Customer not found.')\r\n",
        "        return customer_id\r\n",
        "    return df_output.loc[customer_id]"
      ],
      "execution_count": 111,
      "outputs": []
    }
  ]
}